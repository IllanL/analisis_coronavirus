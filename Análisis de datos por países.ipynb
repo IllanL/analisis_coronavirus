{
 "cells": [
  {
   "cell_type": "markdown",
   "metadata": {},
   "source": [
    "# Análisis de datos por países"
   ]
  },
  {
   "cell_type": "markdown",
   "metadata": {},
   "source": [
    "Pretendemos estudiar ahora comparativamente los datos que han ido arrojando los distintos países y hacer una comparativa de sus curvas de contagios y fallecimientos.\n",
    "\n",
    "Para ello haremos uso de un dataset encontrado en:\n",
    "    \n",
    "https://www.ecdc.europa.eu/en/publications-data/download-todays-data-geographic-distribution-covid-19-cases-worldwide\n",
    "\n",
    "Cargamos librerías y el archivo, sacamos unos cuantos datos para ver la forma de lo que contiene y hacemos algunas pequeñas modificaciones:"
   ]
  },
  {
   "cell_type": "code",
   "execution_count": 44,
   "metadata": {},
   "outputs": [],
   "source": [
    "import pandas as pd\n",
    "import numpy as np\n",
    "import datetime\n",
    "import matplotlib.pyplot as plt\n",
    "import seaborn as sns\n",
    "\n",
    "%matplotlib inline"
   ]
  },
  {
   "cell_type": "code",
   "execution_count": 45,
   "metadata": {},
   "outputs": [],
   "source": [
    "import matplotlib.pyplot as plt\n",
    "\n",
    "plt.rcParams[\"figure.figsize\"] = (15,8)"
   ]
  },
  {
   "cell_type": "code",
   "execution_count": 46,
   "metadata": {},
   "outputs": [
    {
     "name": "stdout",
     "output_type": "stream",
     "text": [
      "               day        month         year         cases       deaths  \\\n",
      "count  8502.000000  8502.000000  8502.000000   8502.000000  8502.000000   \n",
      "mean     16.683369     2.424371  2019.992120    117.648671     6.059163   \n",
      "std       9.332136     1.258350     0.088427    907.104400    52.331438   \n",
      "min       1.000000     1.000000  2019.000000     -9.000000     0.000000   \n",
      "25%       9.000000     2.000000  2020.000000      0.000000     0.000000   \n",
      "50%      18.000000     3.000000  2020.000000      0.000000     0.000000   \n",
      "75%      25.000000     3.000000  2020.000000      9.000000     0.000000   \n",
      "max      31.000000    12.000000  2020.000000  28819.000000  1059.000000   \n",
      "\n",
      "        popData2018  \n",
      "count  8.478000e+03  \n",
      "mean   6.677817e+07  \n",
      "std    2.061102e+08  \n",
      "min    1.000000e+03  \n",
      "25%    4.089400e+06  \n",
      "50%    1.062716e+07  \n",
      "75%    4.672375e+07  \n",
      "max    1.392730e+09  \n",
      "Index(['day', 'month', 'year', 'cases', 'deaths', 'countriesAndTerritories',\n",
      "       'geoId', 'countryterritoryCode', 'popData2018'],\n",
      "      dtype='object')\n"
     ]
    },
    {
     "data": {
      "text/html": [
       "<div>\n",
       "<style scoped>\n",
       "    .dataframe tbody tr th:only-of-type {\n",
       "        vertical-align: middle;\n",
       "    }\n",
       "\n",
       "    .dataframe tbody tr th {\n",
       "        vertical-align: top;\n",
       "    }\n",
       "\n",
       "    .dataframe thead th {\n",
       "        text-align: right;\n",
       "    }\n",
       "</style>\n",
       "<table border=\"1\" class=\"dataframe\">\n",
       "  <thead>\n",
       "    <tr style=\"text-align: right;\">\n",
       "      <th></th>\n",
       "      <th>day</th>\n",
       "      <th>month</th>\n",
       "      <th>year</th>\n",
       "      <th>cases</th>\n",
       "      <th>deaths</th>\n",
       "      <th>countriesAndTerritories</th>\n",
       "      <th>geoId</th>\n",
       "      <th>countryterritoryCode</th>\n",
       "      <th>popData2018</th>\n",
       "    </tr>\n",
       "    <tr>\n",
       "      <th>dateRep</th>\n",
       "      <th></th>\n",
       "      <th></th>\n",
       "      <th></th>\n",
       "      <th></th>\n",
       "      <th></th>\n",
       "      <th></th>\n",
       "      <th></th>\n",
       "      <th></th>\n",
       "      <th></th>\n",
       "    </tr>\n",
       "  </thead>\n",
       "  <tbody>\n",
       "    <tr>\n",
       "      <th>2020-04-03</th>\n",
       "      <td>3</td>\n",
       "      <td>4</td>\n",
       "      <td>2020</td>\n",
       "      <td>43</td>\n",
       "      <td>0</td>\n",
       "      <td>Afghanistan</td>\n",
       "      <td>AF</td>\n",
       "      <td>AFG</td>\n",
       "      <td>37172386.0</td>\n",
       "    </tr>\n",
       "    <tr>\n",
       "      <th>2020-04-02</th>\n",
       "      <td>2</td>\n",
       "      <td>4</td>\n",
       "      <td>2020</td>\n",
       "      <td>26</td>\n",
       "      <td>0</td>\n",
       "      <td>Afghanistan</td>\n",
       "      <td>AF</td>\n",
       "      <td>AFG</td>\n",
       "      <td>37172386.0</td>\n",
       "    </tr>\n",
       "    <tr>\n",
       "      <th>2020-04-01</th>\n",
       "      <td>1</td>\n",
       "      <td>4</td>\n",
       "      <td>2020</td>\n",
       "      <td>25</td>\n",
       "      <td>0</td>\n",
       "      <td>Afghanistan</td>\n",
       "      <td>AF</td>\n",
       "      <td>AFG</td>\n",
       "      <td>37172386.0</td>\n",
       "    </tr>\n",
       "    <tr>\n",
       "      <th>2020-03-31</th>\n",
       "      <td>31</td>\n",
       "      <td>3</td>\n",
       "      <td>2020</td>\n",
       "      <td>27</td>\n",
       "      <td>0</td>\n",
       "      <td>Afghanistan</td>\n",
       "      <td>AF</td>\n",
       "      <td>AFG</td>\n",
       "      <td>37172386.0</td>\n",
       "    </tr>\n",
       "    <tr>\n",
       "      <th>2020-03-30</th>\n",
       "      <td>30</td>\n",
       "      <td>3</td>\n",
       "      <td>2020</td>\n",
       "      <td>8</td>\n",
       "      <td>1</td>\n",
       "      <td>Afghanistan</td>\n",
       "      <td>AF</td>\n",
       "      <td>AFG</td>\n",
       "      <td>37172386.0</td>\n",
       "    </tr>\n",
       "  </tbody>\n",
       "</table>\n",
       "</div>"
      ],
      "text/plain": [
       "            day  month  year  cases  deaths countriesAndTerritories geoId  \\\n",
       "dateRep                                                                     \n",
       "2020-04-03    3      4  2020     43       0             Afghanistan    AF   \n",
       "2020-04-02    2      4  2020     26       0             Afghanistan    AF   \n",
       "2020-04-01    1      4  2020     25       0             Afghanistan    AF   \n",
       "2020-03-31   31      3  2020     27       0             Afghanistan    AF   \n",
       "2020-03-30   30      3  2020      8       1             Afghanistan    AF   \n",
       "\n",
       "           countryterritoryCode  popData2018  \n",
       "dateRep                                       \n",
       "2020-04-03                  AFG   37172386.0  \n",
       "2020-04-02                  AFG   37172386.0  \n",
       "2020-04-01                  AFG   37172386.0  \n",
       "2020-03-31                  AFG   37172386.0  \n",
       "2020-03-30                  AFG   37172386.0  "
      ]
     },
     "execution_count": 46,
     "metadata": {},
     "output_type": "execute_result"
    }
   ],
   "source": [
    "ruta = 'Datos/Coronavirus_data.csv'\n",
    "sep = ';'\n",
    "\n",
    "date_parser = lambda x: pd.datetime.strptime(x, '%d/%m/%Y')\n",
    "\n",
    "datos = pd.read_csv(ruta, sep = sep, index_col = 'dateRep', parse_dates = ['dateRep'], date_parser = date_parser)\n",
    "\n",
    "print(datos.describe())\n",
    "print(datos.columns)\n",
    "datos.head()"
   ]
  },
  {
   "cell_type": "code",
   "execution_count": 47,
   "metadata": {},
   "outputs": [],
   "source": [
    "datos.rename({'countriesAndTerritories':'countries'}, axis = 1, inplace = True)"
   ]
  },
  {
   "cell_type": "code",
   "execution_count": 48,
   "metadata": {},
   "outputs": [
    {
     "data": {
      "text/plain": [
       "203"
      ]
     },
     "execution_count": 48,
     "metadata": {},
     "output_type": "execute_result"
    }
   ],
   "source": [
    "len(datos['countries'].unique())"
   ]
  },
  {
   "cell_type": "code",
   "execution_count": 49,
   "metadata": {},
   "outputs": [],
   "source": [
    "datos.sort_values(by = ['countries', 'dateRep'], ascending = [True, True], inplace = True)"
   ]
  },
  {
   "cell_type": "markdown",
   "metadata": {},
   "source": [
    "Examinamos la serie para España:"
   ]
  },
  {
   "cell_type": "code",
   "execution_count": 50,
   "metadata": {},
   "outputs": [
    {
     "data": {
      "text/plain": [
       "<matplotlib.axes._subplots.AxesSubplot at 0x18587e666d8>"
      ]
     },
     "execution_count": 50,
     "metadata": {},
     "output_type": "execute_result"
    },
    {
     "data": {
      "image/png": "[encoded data removed]",
      "text/plain": [
       "<Figure size 1080x576 with 1 Axes>"
      ]
     },
     "metadata": {
      "needs_background": "light"
     },
     "output_type": "display_data"
    }
   ],
   "source": [
    "datos.loc[datos['countries'] == 'Spain', 'cases'].plot()\n",
    "datos.loc[datos['countries'] == 'Spain', 'deaths'].plot()"
   ]
  },
  {
   "cell_type": "markdown",
   "metadata": {},
   "source": [
    "Examinamos la serie para Italia:"
   ]
  },
  {
   "cell_type": "code",
   "execution_count": 51,
   "metadata": {},
   "outputs": [
    {
     "data": {
      "text/plain": [
       "<matplotlib.axes._subplots.AxesSubplot at 0x18587f314e0>"
      ]
     },
     "execution_count": 51,
     "metadata": {},
     "output_type": "execute_result"
    },
    {
     "data": {
      "image/png": "[encoded data removed]",
      "text/plain": [
       "<Figure size 1080x576 with 1 Axes>"
      ]
     },
     "metadata": {
      "needs_background": "light"
     },
     "output_type": "display_data"
    }
   ],
   "source": [
    "datos.loc[datos['countries'] == 'Italy', 'cases'].plot()\n",
    "datos.loc[datos['countries'] == 'Italy', 'deaths'].plot()"
   ]
  },
  {
   "cell_type": "markdown",
   "metadata": {},
   "source": [
    "Hemos encontrado un comportamiento extraño. Claramente no se reportaron bien los contarios un día, y los casos se acumularon para el siguiente.\n",
    "\n",
    "Esto podemos verlo también viendo la variación relativa de cada día sobre el anterior en la serie:"
   ]
  },
  {
   "cell_type": "code",
   "execution_count": 52,
   "metadata": {},
   "outputs": [
    {
     "data": {
      "text/plain": [
       "<matplotlib.axes._subplots.AxesSubplot at 0x18587fae320>"
      ]
     },
     "execution_count": 52,
     "metadata": {},
     "output_type": "execute_result"
    },
    {
     "data": {
      "image/png": "[encoded data removed]",
      "text/plain": [
       "<Figure size 1080x576 with 1 Axes>"
      ]
     },
     "metadata": {
      "needs_background": "light"
     },
     "output_type": "display_data"
    }
   ],
   "source": [
    "datos.loc[(datos['countries'] == 'Italy') & \n",
    "          (datos['month'] == 3), 'cases'].pct_change().plot()"
   ]
  },
  {
   "cell_type": "markdown",
   "metadata": {},
   "source": [
    "Donde vemos claramente la aparición de un pico de valor x70 de un día al siguiente en serie de variaciones diarias en el número de casos.\n",
    "\n",
    "Vamos a corregir este dato asignando a cada día la mitad de los contagios de ambos:"
   ]
  },
  {
   "cell_type": "code",
   "execution_count": 53,
   "metadata": {},
   "outputs": [],
   "source": [
    "first_val = datos.loc[(datos['countries'] == 'Italy') & (datos.index == '2020-03-15'), 'cases'][0]\n",
    "second_val = datos.loc[(datos['countries'] == 'Italy') & (datos.index == '2020-03-16'), 'cases'][0]\n",
    "\n",
    "median_for_correction = (first_val + second_val)/2\n",
    "\n",
    "datos.loc[(datos['countries'] == 'Italy') & \n",
    "          (datos.index == '2020-03-15'), 'cases'] = median_for_correction\n",
    "\n",
    "datos.loc[(datos['countries'] == 'Italy') & \n",
    "          (datos.index == '2020-03-16'), 'cases'] = median_for_correction"
   ]
  },
  {
   "cell_type": "markdown",
   "metadata": {},
   "source": [
    "Podemos comprobar que el resultado es lo suficientemente bueno: ahora el lugar donde se producía la anomalía es inapreciable:"
   ]
  },
  {
   "cell_type": "code",
   "execution_count": 54,
   "metadata": {
    "scrolled": false
   },
   "outputs": [
    {
     "data": {
      "text/plain": [
       "<matplotlib.axes._subplots.AxesSubplot at 0x1858815b8d0>"
      ]
     },
     "execution_count": 54,
     "metadata": {},
     "output_type": "execute_result"
    },
    {
     "data": {
      "image/png": "[encoded data removed]",
      "text/plain": [
       "<Figure size 1080x576 with 1 Axes>"
      ]
     },
     "metadata": {
      "needs_background": "light"
     },
     "output_type": "display_data"
    }
   ],
   "source": [
    "datos.loc[datos['countries'] == 'Italy', 'cases'].plot()\n",
    "datos.loc[datos['countries'] == 'Italy', 'deaths'].plot()"
   ]
  },
  {
   "cell_type": "markdown",
   "metadata": {},
   "source": [
    "Examinamos la serie para China, donde podemos ver la aparición de otro extraño pico en la serie de contagios:"
   ]
  },
  {
   "cell_type": "code",
   "execution_count": 55,
   "metadata": {
    "scrolled": false
   },
   "outputs": [
    {
     "data": {
      "text/plain": [
       "<matplotlib.axes._subplots.AxesSubplot at 0x1858875a7f0>"
      ]
     },
     "execution_count": 55,
     "metadata": {},
     "output_type": "execute_result"
    },
    {
     "data": {
      "image/png": "[encoded data removed]",
      "text/plain": [
       "<Figure size 1080x576 with 1 Axes>"
      ]
     },
     "metadata": {
      "needs_background": "light"
     },
     "output_type": "display_data"
    }
   ],
   "source": [
    "datos.loc[datos['countries'] == 'China', 'cases'].plot()\n",
    "datos.loc[datos['countries'] == 'China', 'deaths'].plot()"
   ]
  },
  {
   "cell_type": "code",
   "execution_count": 56,
   "metadata": {},
   "outputs": [
    {
     "data": {
      "text/plain": [
       "<matplotlib.axes._subplots.AxesSubplot at 0x18587f703c8>"
      ]
     },
     "execution_count": 56,
     "metadata": {},
     "output_type": "execute_result"
    },
    {
     "data": {
      "image/png": "[encoded data removed]",
      "text/plain": [
       "<Figure size 1080x576 with 1 Axes>"
      ]
     },
     "metadata": {
      "needs_background": "light"
     },
     "output_type": "display_data"
    }
   ],
   "source": [
    "datos.loc[(datos['countries'] == 'China'), 'cases'].pct_change().plot()"
   ]
  },
  {
   "cell_type": "markdown",
   "metadata": {},
   "source": [
    "Como podemos ver, no tenemos solamente un valor extremo, sino 3. Sin embargo, el que resalta es de febrero, del que pasamos a buscar la fecha, e información sobre este comportamiento anómalo en los medios de comunicación:"
   ]
  },
  {
   "cell_type": "code",
   "execution_count": 57,
   "metadata": {},
   "outputs": [
    {
     "data": {
      "text/plain": [
       "dateRep\n",
       "2020-02-01     2095.0\n",
       "2020-02-02     2590.0\n",
       "2020-02-03     2812.0\n",
       "2020-02-04     3237.0\n",
       "2020-02-05     3872.0\n",
       "2020-02-06     3727.0\n",
       "2020-02-07     3160.0\n",
       "2020-02-08     3418.0\n",
       "2020-02-09     2607.0\n",
       "2020-02-10     2974.0\n",
       "2020-02-11     2490.0\n",
       "2020-02-12     2028.0\n",
       "2020-02-13    15141.0\n",
       "2020-02-14     4156.0\n",
       "2020-02-15     2538.0\n",
       "2020-02-16     2007.0\n",
       "2020-02-17     2052.0\n",
       "2020-02-18     1890.0\n",
       "2020-02-19     1750.0\n",
       "2020-02-20      394.0\n",
       "Name: cases, dtype: float64"
      ]
     },
     "execution_count": 57,
     "metadata": {},
     "output_type": "execute_result"
    }
   ],
   "source": [
    "datos.loc[(datos['countries'] == 'China') & \n",
    "          (datos['month'] == 2), 'cases'].head(20)"
   ]
  },
  {
   "cell_type": "markdown",
   "metadata": {},
   "source": [
    "En este caso, el pico no viene precedido de días de infravaloración de los casos, como el extremal encontrado para Italia.\n",
    "\n",
    "Este evento fue ampliamente reportado en los medios de comunicación en su momento:\n",
    "    \n",
    "https://edition.cnn.com/2020/02/13/asia/china-numbers-novel-coronavirus-intl/index.html\n",
    "\n",
    "https://www.businessinsider.com/china-hubei-province-nearly-15000-new-coronavirus-cases-2020-2?IR=T\n",
    "\n",
    "https://www.cnbc.com/2020/02/13/coronavirus-latest-updates-china-hubei.html\n",
    "\n",
    "https://time.com/5783401/covid19-hubei-cases-classification/\n",
    "\n",
    "*\"he jump in new cases—more than 14,800 in the province at the epicenter of the outbreak—is due to a change in the criteria for counting diagnoses of the virus. Observers say this could be a step in the right direction and lead to a better picture of the situation in the province at the epicenter of the outbreak. However, concerns remain about the transparency of the data from Chinese authorities.\"*\n",
    "\n",
    "*\"Previously, only patients that had received positive results from a laboratory test were included in the publicly reported case count. Confirmed cases will now be based on clinical diagnosis, including the use of CT scans. These were previously only counted as “probable” infections. That means that doctors will have more discretion to give patients an immediate diagnosis, instead of waiting for the results of a laboratory test.*\"\n",
    "\n",
    "https://www.bloomberg.com/news/articles/2020-02-13/china-coronavirus-cases-jump-after-counting-method-revision\n",
    "\n",
    "*\"The change will raise the number of those infected globally by a third to almost 60,000, dashing hope that the epidemic was showing signs of easing.\"*\n",
    "\n",
    "*\"In a statement on Thursday morning, the Hubei national health commission said it would now start including cases confirmed by “clinical diagnosis,” which refers to using CT imaging scans to diagnose patients, alongside those confirmed by the previous method of nucleic acid testing kits.\"*\n",
    "\n",
    "*\"Previously, many patients with pneumonia-like symptoms found via CT scans could not be diagnosed as positive without an additional nucleic acid test.*\"\n",
    "\n",
    "Lo lógico sería repartir todos estos nuevos casos entre, al menos, los 10 días anteriores, proporcionalmente al valor que tuviesen esos días.\n",
    "\n",
    "Sin embargo, no parece ser la práctica común de las curvas trazadas en los distintos medios, y una modificación tan grande nos alejaría de otros análisis que no hayan hecho dichas modificaciones, por lo que mantendremos el valor, a diferencia de lo hecho en el caso de Italia."
   ]
  },
  {
   "cell_type": "markdown",
   "metadata": {},
   "source": [
    "Finalmente, como podemos ver, el pct_change sería un buen método para encontrar valores extremos:"
   ]
  },
  {
   "cell_type": "code",
   "execution_count": 58,
   "metadata": {},
   "outputs": [
    {
     "data": {
      "text/plain": [
       "<matplotlib.axes._subplots.AxesSubplot at 0x18588bd0128>"
      ]
     },
     "execution_count": 58,
     "metadata": {},
     "output_type": "execute_result"
    },
    {
     "data": {
      "image/png": "[encoded data removed]",
      "text/plain": [
       "<Figure size 1080x576 with 1 Axes>"
      ]
     },
     "metadata": {
      "needs_background": "light"
     },
     "output_type": "display_data"
    }
   ],
   "source": [
    "datos.loc[:, 'cases'].pct_change().fillna(0).plot()"
   ]
  },
  {
   "cell_type": "markdown",
   "metadata": {},
   "source": [
    "Y... aquí tenemos los outliers:"
   ]
  },
  {
   "cell_type": "code",
   "execution_count": 59,
   "metadata": {},
   "outputs": [
    {
     "data": {
      "text/html": [
       "<div>\n",
       "<style scoped>\n",
       "    .dataframe tbody tr th:only-of-type {\n",
       "        vertical-align: middle;\n",
       "    }\n",
       "\n",
       "    .dataframe tbody tr th {\n",
       "        vertical-align: top;\n",
       "    }\n",
       "\n",
       "    .dataframe thead th {\n",
       "        text-align: right;\n",
       "    }\n",
       "</style>\n",
       "<table border=\"1\" class=\"dataframe\">\n",
       "  <thead>\n",
       "    <tr style=\"text-align: right;\">\n",
       "      <th></th>\n",
       "      <th>day</th>\n",
       "      <th>month</th>\n",
       "      <th>year</th>\n",
       "      <th>cases</th>\n",
       "      <th>deaths</th>\n",
       "      <th>countries</th>\n",
       "      <th>geoId</th>\n",
       "      <th>countryterritoryCode</th>\n",
       "      <th>popData2018</th>\n",
       "      <th>%ch_c</th>\n",
       "      <th>cases_yest</th>\n",
       "    </tr>\n",
       "    <tr>\n",
       "      <th>dateRep</th>\n",
       "      <th></th>\n",
       "      <th></th>\n",
       "      <th></th>\n",
       "      <th></th>\n",
       "      <th></th>\n",
       "      <th></th>\n",
       "      <th></th>\n",
       "      <th></th>\n",
       "      <th></th>\n",
       "      <th></th>\n",
       "      <th></th>\n",
       "    </tr>\n",
       "  </thead>\n",
       "  <tbody>\n",
       "    <tr>\n",
       "      <th>2020-03-25</th>\n",
       "      <td>25</td>\n",
       "      <td>3</td>\n",
       "      <td>2020</td>\n",
       "      <td>600.0</td>\n",
       "      <td>1</td>\n",
       "      <td>Australia</td>\n",
       "      <td>AU</td>\n",
       "      <td>AUS</td>\n",
       "      <td>2.499237e+07</td>\n",
       "      <td>4.263158</td>\n",
       "      <td>114.0</td>\n",
       "    </tr>\n",
       "    <tr>\n",
       "      <th>2020-03-26</th>\n",
       "      <td>26</td>\n",
       "      <td>3</td>\n",
       "      <td>2020</td>\n",
       "      <td>1426.0</td>\n",
       "      <td>8</td>\n",
       "      <td>Canada</td>\n",
       "      <td>CA</td>\n",
       "      <td>CAN</td>\n",
       "      <td>3.705886e+07</td>\n",
       "      <td>3.555911</td>\n",
       "      <td>313.0</td>\n",
       "    </tr>\n",
       "    <tr>\n",
       "      <th>2020-01-19</th>\n",
       "      <td>19</td>\n",
       "      <td>1</td>\n",
       "      <td>2020</td>\n",
       "      <td>136.0</td>\n",
       "      <td>1</td>\n",
       "      <td>China</td>\n",
       "      <td>CN</td>\n",
       "      <td>CHN</td>\n",
       "      <td>1.392730e+09</td>\n",
       "      <td>7.000000</td>\n",
       "      <td>17.0</td>\n",
       "    </tr>\n",
       "    <tr>\n",
       "      <th>2020-01-21</th>\n",
       "      <td>21</td>\n",
       "      <td>1</td>\n",
       "      <td>2020</td>\n",
       "      <td>151.0</td>\n",
       "      <td>3</td>\n",
       "      <td>China</td>\n",
       "      <td>CN</td>\n",
       "      <td>CHN</td>\n",
       "      <td>1.392730e+09</td>\n",
       "      <td>6.947368</td>\n",
       "      <td>19.0</td>\n",
       "    </tr>\n",
       "    <tr>\n",
       "      <th>2020-02-13</th>\n",
       "      <td>13</td>\n",
       "      <td>2</td>\n",
       "      <td>2020</td>\n",
       "      <td>15141.0</td>\n",
       "      <td>254</td>\n",
       "      <td>China</td>\n",
       "      <td>CN</td>\n",
       "      <td>CHN</td>\n",
       "      <td>1.392730e+09</td>\n",
       "      <td>6.465976</td>\n",
       "      <td>2028.0</td>\n",
       "    </tr>\n",
       "    <tr>\n",
       "      <th>2020-04-01</th>\n",
       "      <td>1</td>\n",
       "      <td>4</td>\n",
       "      <td>2020</td>\n",
       "      <td>208.0</td>\n",
       "      <td>9</td>\n",
       "      <td>Dominican_Republic</td>\n",
       "      <td>DO</td>\n",
       "      <td>DOM</td>\n",
       "      <td>1.062716e+07</td>\n",
       "      <td>3.952381</td>\n",
       "      <td>42.0</td>\n",
       "    </tr>\n",
       "    <tr>\n",
       "      <th>2020-03-21</th>\n",
       "      <td>21</td>\n",
       "      <td>3</td>\n",
       "      <td>2020</td>\n",
       "      <td>227.0</td>\n",
       "      <td>4</td>\n",
       "      <td>Ecuador</td>\n",
       "      <td>EC</td>\n",
       "      <td>ECU</td>\n",
       "      <td>1.708436e+07</td>\n",
       "      <td>6.322581</td>\n",
       "      <td>31.0</td>\n",
       "    </tr>\n",
       "    <tr>\n",
       "      <th>2020-04-01</th>\n",
       "      <td>1</td>\n",
       "      <td>4</td>\n",
       "      <td>2020</td>\n",
       "      <td>336.0</td>\n",
       "      <td>17</td>\n",
       "      <td>Ecuador</td>\n",
       "      <td>EC</td>\n",
       "      <td>ECU</td>\n",
       "      <td>1.708436e+07</td>\n",
       "      <td>3.421053</td>\n",
       "      <td>76.0</td>\n",
       "    </tr>\n",
       "    <tr>\n",
       "      <th>2020-03-10</th>\n",
       "      <td>10</td>\n",
       "      <td>3</td>\n",
       "      <td>2020</td>\n",
       "      <td>237.0</td>\n",
       "      <td>2</td>\n",
       "      <td>Germany</td>\n",
       "      <td>DE</td>\n",
       "      <td>DEU</td>\n",
       "      <td>8.292792e+07</td>\n",
       "      <td>3.309091</td>\n",
       "      <td>55.0</td>\n",
       "    </tr>\n",
       "    <tr>\n",
       "      <th>2020-03-20</th>\n",
       "      <td>20</td>\n",
       "      <td>3</td>\n",
       "      <td>2020</td>\n",
       "      <td>5940.0</td>\n",
       "      <td>30</td>\n",
       "      <td>Germany</td>\n",
       "      <td>DE</td>\n",
       "      <td>DEU</td>\n",
       "      <td>8.292792e+07</td>\n",
       "      <td>4.700576</td>\n",
       "      <td>1042.0</td>\n",
       "    </tr>\n",
       "    <tr>\n",
       "      <th>2020-03-18</th>\n",
       "      <td>18</td>\n",
       "      <td>3</td>\n",
       "      <td>2020</td>\n",
       "      <td>167.0</td>\n",
       "      <td>0</td>\n",
       "      <td>Israel</td>\n",
       "      <td>IL</td>\n",
       "      <td>ISR</td>\n",
       "      <td>8.883800e+06</td>\n",
       "      <td>15.700000</td>\n",
       "      <td>10.0</td>\n",
       "    </tr>\n",
       "    <tr>\n",
       "      <th>2020-03-20</th>\n",
       "      <td>20</td>\n",
       "      <td>3</td>\n",
       "      <td>2020</td>\n",
       "      <td>244.0</td>\n",
       "      <td>0</td>\n",
       "      <td>Israel</td>\n",
       "      <td>IL</td>\n",
       "      <td>ISR</td>\n",
       "      <td>8.883800e+06</td>\n",
       "      <td>39.666667</td>\n",
       "      <td>6.0</td>\n",
       "    </tr>\n",
       "    <tr>\n",
       "      <th>2020-03-22</th>\n",
       "      <td>22</td>\n",
       "      <td>3</td>\n",
       "      <td>2020</td>\n",
       "      <td>171.0</td>\n",
       "      <td>0</td>\n",
       "      <td>Israel</td>\n",
       "      <td>IL</td>\n",
       "      <td>ISR</td>\n",
       "      <td>8.883800e+06</td>\n",
       "      <td>3.885714</td>\n",
       "      <td>35.0</td>\n",
       "    </tr>\n",
       "    <tr>\n",
       "      <th>2020-03-04</th>\n",
       "      <td>4</td>\n",
       "      <td>3</td>\n",
       "      <td>2020</td>\n",
       "      <td>667.0</td>\n",
       "      <td>28</td>\n",
       "      <td>Italy</td>\n",
       "      <td>IT</td>\n",
       "      <td>ITA</td>\n",
       "      <td>6.043128e+07</td>\n",
       "      <td>3.568493</td>\n",
       "      <td>146.0</td>\n",
       "    </tr>\n",
       "    <tr>\n",
       "      <th>2020-04-01</th>\n",
       "      <td>1</td>\n",
       "      <td>4</td>\n",
       "      <td>2020</td>\n",
       "      <td>190.0</td>\n",
       "      <td>1</td>\n",
       "      <td>Luxembourg</td>\n",
       "      <td>LU</td>\n",
       "      <td>LUX</td>\n",
       "      <td>6.077280e+05</td>\n",
       "      <td>4.000000</td>\n",
       "      <td>38.0</td>\n",
       "    </tr>\n",
       "    <tr>\n",
       "      <th>2020-03-16</th>\n",
       "      <td>16</td>\n",
       "      <td>3</td>\n",
       "      <td>2020</td>\n",
       "      <td>190.0</td>\n",
       "      <td>0</td>\n",
       "      <td>Malaysia</td>\n",
       "      <td>MY</td>\n",
       "      <td>MYS</td>\n",
       "      <td>3.152858e+07</td>\n",
       "      <td>3.634146</td>\n",
       "      <td>41.0</td>\n",
       "    </tr>\n",
       "    <tr>\n",
       "      <th>2020-03-30</th>\n",
       "      <td>30</td>\n",
       "      <td>3</td>\n",
       "      <td>2020</td>\n",
       "      <td>121.0</td>\n",
       "      <td>3</td>\n",
       "      <td>Morocco</td>\n",
       "      <td>MA</td>\n",
       "      <td>MAR</td>\n",
       "      <td>3.602914e+07</td>\n",
       "      <td>8.307692</td>\n",
       "      <td>13.0</td>\n",
       "    </tr>\n",
       "    <tr>\n",
       "      <th>2020-03-17</th>\n",
       "      <td>17</td>\n",
       "      <td>3</td>\n",
       "      <td>2020</td>\n",
       "      <td>156.0</td>\n",
       "      <td>0</td>\n",
       "      <td>Pakistan</td>\n",
       "      <td>PK</td>\n",
       "      <td>PAK</td>\n",
       "      <td>2.122150e+08</td>\n",
       "      <td>155.000000</td>\n",
       "      <td>1.0</td>\n",
       "    </tr>\n",
       "    <tr>\n",
       "      <th>2020-03-22</th>\n",
       "      <td>22</td>\n",
       "      <td>3</td>\n",
       "      <td>2020</td>\n",
       "      <td>151.0</td>\n",
       "      <td>0</td>\n",
       "      <td>Pakistan</td>\n",
       "      <td>PK</td>\n",
       "      <td>PAK</td>\n",
       "      <td>2.122150e+08</td>\n",
       "      <td>7.882353</td>\n",
       "      <td>17.0</td>\n",
       "    </tr>\n",
       "    <tr>\n",
       "      <th>2020-04-01</th>\n",
       "      <td>1</td>\n",
       "      <td>4</td>\n",
       "      <td>2020</td>\n",
       "      <td>414.0</td>\n",
       "      <td>8</td>\n",
       "      <td>Pakistan</td>\n",
       "      <td>PK</td>\n",
       "      <td>PAK</td>\n",
       "      <td>2.122150e+08</td>\n",
       "      <td>3.181818</td>\n",
       "      <td>99.0</td>\n",
       "    </tr>\n",
       "    <tr>\n",
       "      <th>2020-03-26</th>\n",
       "      <td>26</td>\n",
       "      <td>3</td>\n",
       "      <td>2020</td>\n",
       "      <td>142.0</td>\n",
       "      <td>1</td>\n",
       "      <td>Peru</td>\n",
       "      <td>PE</td>\n",
       "      <td>PER</td>\n",
       "      <td>3.198926e+07</td>\n",
       "      <td>5.761905</td>\n",
       "      <td>21.0</td>\n",
       "    </tr>\n",
       "    <tr>\n",
       "      <th>2020-03-30</th>\n",
       "      <td>30</td>\n",
       "      <td>3</td>\n",
       "      <td>2020</td>\n",
       "      <td>181.0</td>\n",
       "      <td>2</td>\n",
       "      <td>Peru</td>\n",
       "      <td>PE</td>\n",
       "      <td>PER</td>\n",
       "      <td>3.198926e+07</td>\n",
       "      <td>4.027778</td>\n",
       "      <td>36.0</td>\n",
       "    </tr>\n",
       "    <tr>\n",
       "      <th>2020-03-12</th>\n",
       "      <td>12</td>\n",
       "      <td>3</td>\n",
       "      <td>2020</td>\n",
       "      <td>238.0</td>\n",
       "      <td>0</td>\n",
       "      <td>Qatar</td>\n",
       "      <td>QA</td>\n",
       "      <td>QAT</td>\n",
       "      <td>2.781677e+06</td>\n",
       "      <td>38.666667</td>\n",
       "      <td>6.0</td>\n",
       "    </tr>\n",
       "    <tr>\n",
       "      <th>2020-03-25</th>\n",
       "      <td>25</td>\n",
       "      <td>3</td>\n",
       "      <td>2020</td>\n",
       "      <td>205.0</td>\n",
       "      <td>1</td>\n",
       "      <td>Saudi_Arabia</td>\n",
       "      <td>SA</td>\n",
       "      <td>SAU</td>\n",
       "      <td>3.369995e+07</td>\n",
       "      <td>3.019608</td>\n",
       "      <td>51.0</td>\n",
       "    </tr>\n",
       "    <tr>\n",
       "      <th>2020-03-31</th>\n",
       "      <td>31</td>\n",
       "      <td>3</td>\n",
       "      <td>2020</td>\n",
       "      <td>224.0</td>\n",
       "      <td>0</td>\n",
       "      <td>Saudi_Arabia</td>\n",
       "      <td>SA</td>\n",
       "      <td>SAU</td>\n",
       "      <td>3.369995e+07</td>\n",
       "      <td>7.615385</td>\n",
       "      <td>26.0</td>\n",
       "    </tr>\n",
       "    <tr>\n",
       "      <th>2020-03-28</th>\n",
       "      <td>28</td>\n",
       "      <td>3</td>\n",
       "      <td>2020</td>\n",
       "      <td>138.0</td>\n",
       "      <td>0</td>\n",
       "      <td>Singapore</td>\n",
       "      <td>SG</td>\n",
       "      <td>SGP</td>\n",
       "      <td>5.638676e+06</td>\n",
       "      <td>4.307692</td>\n",
       "      <td>26.0</td>\n",
       "    </tr>\n",
       "    <tr>\n",
       "      <th>2020-03-07</th>\n",
       "      <td>7</td>\n",
       "      <td>3</td>\n",
       "      <td>2020</td>\n",
       "      <td>122.0</td>\n",
       "      <td>0</td>\n",
       "      <td>Switzerland</td>\n",
       "      <td>CH</td>\n",
       "      <td>CHE</td>\n",
       "      <td>8.516543e+06</td>\n",
       "      <td>3.066667</td>\n",
       "      <td>30.0</td>\n",
       "    </tr>\n",
       "    <tr>\n",
       "      <th>2020-03-21</th>\n",
       "      <td>21</td>\n",
       "      <td>3</td>\n",
       "      <td>2020</td>\n",
       "      <td>154.0</td>\n",
       "      <td>0</td>\n",
       "      <td>Thailand</td>\n",
       "      <td>TH</td>\n",
       "      <td>THA</td>\n",
       "      <td>6.942852e+07</td>\n",
       "      <td>3.400000</td>\n",
       "      <td>35.0</td>\n",
       "    </tr>\n",
       "  </tbody>\n",
       "</table>\n",
       "</div>"
      ],
      "text/plain": [
       "            day  month  year    cases  deaths           countries geoId  \\\n",
       "dateRep                                                                   \n",
       "2020-03-25   25      3  2020    600.0       1           Australia    AU   \n",
       "2020-03-26   26      3  2020   1426.0       8              Canada    CA   \n",
       "2020-01-19   19      1  2020    136.0       1               China    CN   \n",
       "2020-01-21   21      1  2020    151.0       3               China    CN   \n",
       "2020-02-13   13      2  2020  15141.0     254               China    CN   \n",
       "2020-04-01    1      4  2020    208.0       9  Dominican_Republic    DO   \n",
       "2020-03-21   21      3  2020    227.0       4             Ecuador    EC   \n",
       "2020-04-01    1      4  2020    336.0      17             Ecuador    EC   \n",
       "2020-03-10   10      3  2020    237.0       2             Germany    DE   \n",
       "2020-03-20   20      3  2020   5940.0      30             Germany    DE   \n",
       "2020-03-18   18      3  2020    167.0       0              Israel    IL   \n",
       "2020-03-20   20      3  2020    244.0       0              Israel    IL   \n",
       "2020-03-22   22      3  2020    171.0       0              Israel    IL   \n",
       "2020-03-04    4      3  2020    667.0      28               Italy    IT   \n",
       "2020-04-01    1      4  2020    190.0       1          Luxembourg    LU   \n",
       "2020-03-16   16      3  2020    190.0       0            Malaysia    MY   \n",
       "2020-03-30   30      3  2020    121.0       3             Morocco    MA   \n",
       "2020-03-17   17      3  2020    156.0       0            Pakistan    PK   \n",
       "2020-03-22   22      3  2020    151.0       0            Pakistan    PK   \n",
       "2020-04-01    1      4  2020    414.0       8            Pakistan    PK   \n",
       "2020-03-26   26      3  2020    142.0       1                Peru    PE   \n",
       "2020-03-30   30      3  2020    181.0       2                Peru    PE   \n",
       "2020-03-12   12      3  2020    238.0       0               Qatar    QA   \n",
       "2020-03-25   25      3  2020    205.0       1        Saudi_Arabia    SA   \n",
       "2020-03-31   31      3  2020    224.0       0        Saudi_Arabia    SA   \n",
       "2020-03-28   28      3  2020    138.0       0           Singapore    SG   \n",
       "2020-03-07    7      3  2020    122.0       0         Switzerland    CH   \n",
       "2020-03-21   21      3  2020    154.0       0            Thailand    TH   \n",
       "\n",
       "           countryterritoryCode   popData2018       %ch_c  cases_yest  \n",
       "dateRep                                                                \n",
       "2020-03-25                  AUS  2.499237e+07    4.263158       114.0  \n",
       "2020-03-26                  CAN  3.705886e+07    3.555911       313.0  \n",
       "2020-01-19                  CHN  1.392730e+09    7.000000        17.0  \n",
       "2020-01-21                  CHN  1.392730e+09    6.947368        19.0  \n",
       "2020-02-13                  CHN  1.392730e+09    6.465976      2028.0  \n",
       "2020-04-01                  DOM  1.062716e+07    3.952381        42.0  \n",
       "2020-03-21                  ECU  1.708436e+07    6.322581        31.0  \n",
       "2020-04-01                  ECU  1.708436e+07    3.421053        76.0  \n",
       "2020-03-10                  DEU  8.292792e+07    3.309091        55.0  \n",
       "2020-03-20                  DEU  8.292792e+07    4.700576      1042.0  \n",
       "2020-03-18                  ISR  8.883800e+06   15.700000        10.0  \n",
       "2020-03-20                  ISR  8.883800e+06   39.666667         6.0  \n",
       "2020-03-22                  ISR  8.883800e+06    3.885714        35.0  \n",
       "2020-03-04                  ITA  6.043128e+07    3.568493       146.0  \n",
       "2020-04-01                  LUX  6.077280e+05    4.000000        38.0  \n",
       "2020-03-16                  MYS  3.152858e+07    3.634146        41.0  \n",
       "2020-03-30                  MAR  3.602914e+07    8.307692        13.0  \n",
       "2020-03-17                  PAK  2.122150e+08  155.000000         1.0  \n",
       "2020-03-22                  PAK  2.122150e+08    7.882353        17.0  \n",
       "2020-04-01                  PAK  2.122150e+08    3.181818        99.0  \n",
       "2020-03-26                  PER  3.198926e+07    5.761905        21.0  \n",
       "2020-03-30                  PER  3.198926e+07    4.027778        36.0  \n",
       "2020-03-12                  QAT  2.781677e+06   38.666667         6.0  \n",
       "2020-03-25                  SAU  3.369995e+07    3.019608        51.0  \n",
       "2020-03-31                  SAU  3.369995e+07    7.615385        26.0  \n",
       "2020-03-28                  SGP  5.638676e+06    4.307692        26.0  \n",
       "2020-03-07                  CHE  8.516543e+06    3.066667        30.0  \n",
       "2020-03-21                  THA  6.942852e+07    3.400000        35.0  "
      ]
     },
     "execution_count": 59,
     "metadata": {},
     "output_type": "execute_result"
    }
   ],
   "source": [
    "datos['%ch_c'] = datos.loc[:, 'cases'].pct_change().fillna(0)\n",
    "datos['%ch_c'].replace(np.inf, 0, inplace = True)\n",
    "\n",
    "datos['cases_yest'] = datos['cases'].shift().fillna(0)\n",
    "\n",
    "outliers = datos[(datos['cases'] > 100) & (datos['%ch_c'] > 3)]\n",
    "outliers"
   ]
  },
  {
   "cell_type": "markdown",
   "metadata": {},
   "source": [
    "Podemos hacer ahora lo mismo con las muertes:"
   ]
  },
  {
   "cell_type": "code",
   "execution_count": 60,
   "metadata": {},
   "outputs": [
    {
     "data": {
      "text/plain": [
       "<matplotlib.axes._subplots.AxesSubplot at 0x18588184828>"
      ]
     },
     "execution_count": 60,
     "metadata": {},
     "output_type": "execute_result"
    },
    {
     "data": {
      "image/png": "[encoded data removed]",
      "text/plain": [
       "<Figure size 1080x576 with 1 Axes>"
      ]
     },
     "metadata": {
      "needs_background": "light"
     },
     "output_type": "display_data"
    }
   ],
   "source": [
    "datos.loc[:, 'deaths'].pct_change().fillna(0).plot()"
   ]
  },
  {
   "cell_type": "code",
   "execution_count": 61,
   "metadata": {},
   "outputs": [],
   "source": [
    "datos['%ch_d'] = datos.loc[:, 'deaths'].pct_change().fillna(0)\n",
    "datos['%ch_d'].replace(np.inf, 0, inplace = True)"
   ]
  },
  {
   "cell_type": "code",
   "execution_count": 62,
   "metadata": {},
   "outputs": [
    {
     "name": "stderr",
     "output_type": "stream",
     "text": [
      "C:\\ProgramData\\Anaconda3\\lib\\site-packages\\pandas\\core\\frame.py:6692: FutureWarning: Sorting because non-concatenation axis is not aligned. A future version\n",
      "of pandas will change to not sort by default.\n",
      "\n",
      "To accept the future behavior, pass 'sort=False'.\n",
      "\n",
      "To retain the current behavior and silence the warning, pass 'sort=True'.\n",
      "\n",
      "  sort=sort)\n"
     ]
    },
    {
     "data": {
      "text/html": [
       "<div>\n",
       "<style scoped>\n",
       "    .dataframe tbody tr th:only-of-type {\n",
       "        vertical-align: middle;\n",
       "    }\n",
       "\n",
       "    .dataframe tbody tr th {\n",
       "        vertical-align: top;\n",
       "    }\n",
       "\n",
       "    .dataframe thead th {\n",
       "        text-align: right;\n",
       "    }\n",
       "</style>\n",
       "<table border=\"1\" class=\"dataframe\">\n",
       "  <thead>\n",
       "    <tr style=\"text-align: right;\">\n",
       "      <th></th>\n",
       "      <th>day</th>\n",
       "      <th>month</th>\n",
       "      <th>year</th>\n",
       "      <th>cases</th>\n",
       "      <th>deaths</th>\n",
       "      <th>countries</th>\n",
       "      <th>geoId</th>\n",
       "      <th>countryterritoryCode</th>\n",
       "      <th>popData2018</th>\n",
       "      <th>%ch_c</th>\n",
       "      <th>cases_yest</th>\n",
       "    </tr>\n",
       "    <tr>\n",
       "      <th>dateRep</th>\n",
       "      <th></th>\n",
       "      <th></th>\n",
       "      <th></th>\n",
       "      <th></th>\n",
       "      <th></th>\n",
       "      <th></th>\n",
       "      <th></th>\n",
       "      <th></th>\n",
       "      <th></th>\n",
       "      <th></th>\n",
       "      <th></th>\n",
       "    </tr>\n",
       "  </thead>\n",
       "  <tbody>\n",
       "    <tr>\n",
       "      <th>2020-03-25</th>\n",
       "      <td>25</td>\n",
       "      <td>3</td>\n",
       "      <td>2020</td>\n",
       "      <td>600.0</td>\n",
       "      <td>1</td>\n",
       "      <td>Australia</td>\n",
       "      <td>AU</td>\n",
       "      <td>AUS</td>\n",
       "      <td>2.499237e+07</td>\n",
       "      <td>4.263158</td>\n",
       "      <td>114.0</td>\n",
       "    </tr>\n",
       "    <tr>\n",
       "      <th>2020-03-26</th>\n",
       "      <td>26</td>\n",
       "      <td>3</td>\n",
       "      <td>2020</td>\n",
       "      <td>1426.0</td>\n",
       "      <td>8</td>\n",
       "      <td>Canada</td>\n",
       "      <td>CA</td>\n",
       "      <td>CAN</td>\n",
       "      <td>3.705886e+07</td>\n",
       "      <td>3.555911</td>\n",
       "      <td>313.0</td>\n",
       "    </tr>\n",
       "    <tr>\n",
       "      <th>2020-01-19</th>\n",
       "      <td>19</td>\n",
       "      <td>1</td>\n",
       "      <td>2020</td>\n",
       "      <td>136.0</td>\n",
       "      <td>1</td>\n",
       "      <td>China</td>\n",
       "      <td>CN</td>\n",
       "      <td>CHN</td>\n",
       "      <td>1.392730e+09</td>\n",
       "      <td>7.000000</td>\n",
       "      <td>17.0</td>\n",
       "    </tr>\n",
       "    <tr>\n",
       "      <th>2020-01-21</th>\n",
       "      <td>21</td>\n",
       "      <td>1</td>\n",
       "      <td>2020</td>\n",
       "      <td>151.0</td>\n",
       "      <td>3</td>\n",
       "      <td>China</td>\n",
       "      <td>CN</td>\n",
       "      <td>CHN</td>\n",
       "      <td>1.392730e+09</td>\n",
       "      <td>6.947368</td>\n",
       "      <td>19.0</td>\n",
       "    </tr>\n",
       "    <tr>\n",
       "      <th>2020-02-13</th>\n",
       "      <td>13</td>\n",
       "      <td>2</td>\n",
       "      <td>2020</td>\n",
       "      <td>15141.0</td>\n",
       "      <td>254</td>\n",
       "      <td>China</td>\n",
       "      <td>CN</td>\n",
       "      <td>CHN</td>\n",
       "      <td>1.392730e+09</td>\n",
       "      <td>6.465976</td>\n",
       "      <td>2028.0</td>\n",
       "    </tr>\n",
       "    <tr>\n",
       "      <th>2020-04-01</th>\n",
       "      <td>1</td>\n",
       "      <td>4</td>\n",
       "      <td>2020</td>\n",
       "      <td>208.0</td>\n",
       "      <td>9</td>\n",
       "      <td>Dominican_Republic</td>\n",
       "      <td>DO</td>\n",
       "      <td>DOM</td>\n",
       "      <td>1.062716e+07</td>\n",
       "      <td>3.952381</td>\n",
       "      <td>42.0</td>\n",
       "    </tr>\n",
       "    <tr>\n",
       "      <th>2020-03-21</th>\n",
       "      <td>21</td>\n",
       "      <td>3</td>\n",
       "      <td>2020</td>\n",
       "      <td>227.0</td>\n",
       "      <td>4</td>\n",
       "      <td>Ecuador</td>\n",
       "      <td>EC</td>\n",
       "      <td>ECU</td>\n",
       "      <td>1.708436e+07</td>\n",
       "      <td>6.322581</td>\n",
       "      <td>31.0</td>\n",
       "    </tr>\n",
       "    <tr>\n",
       "      <th>2020-04-01</th>\n",
       "      <td>1</td>\n",
       "      <td>4</td>\n",
       "      <td>2020</td>\n",
       "      <td>336.0</td>\n",
       "      <td>17</td>\n",
       "      <td>Ecuador</td>\n",
       "      <td>EC</td>\n",
       "      <td>ECU</td>\n",
       "      <td>1.708436e+07</td>\n",
       "      <td>3.421053</td>\n",
       "      <td>76.0</td>\n",
       "    </tr>\n",
       "    <tr>\n",
       "      <th>2020-03-10</th>\n",
       "      <td>10</td>\n",
       "      <td>3</td>\n",
       "      <td>2020</td>\n",
       "      <td>237.0</td>\n",
       "      <td>2</td>\n",
       "      <td>Germany</td>\n",
       "      <td>DE</td>\n",
       "      <td>DEU</td>\n",
       "      <td>8.292792e+07</td>\n",
       "      <td>3.309091</td>\n",
       "      <td>55.0</td>\n",
       "    </tr>\n",
       "    <tr>\n",
       "      <th>2020-03-20</th>\n",
       "      <td>20</td>\n",
       "      <td>3</td>\n",
       "      <td>2020</td>\n",
       "      <td>5940.0</td>\n",
       "      <td>30</td>\n",
       "      <td>Germany</td>\n",
       "      <td>DE</td>\n",
       "      <td>DEU</td>\n",
       "      <td>8.292792e+07</td>\n",
       "      <td>4.700576</td>\n",
       "      <td>1042.0</td>\n",
       "    </tr>\n",
       "    <tr>\n",
       "      <th>2020-03-18</th>\n",
       "      <td>18</td>\n",
       "      <td>3</td>\n",
       "      <td>2020</td>\n",
       "      <td>167.0</td>\n",
       "      <td>0</td>\n",
       "      <td>Israel</td>\n",
       "      <td>IL</td>\n",
       "      <td>ISR</td>\n",
       "      <td>8.883800e+06</td>\n",
       "      <td>15.700000</td>\n",
       "      <td>10.0</td>\n",
       "    </tr>\n",
       "    <tr>\n",
       "      <th>2020-03-20</th>\n",
       "      <td>20</td>\n",
       "      <td>3</td>\n",
       "      <td>2020</td>\n",
       "      <td>244.0</td>\n",
       "      <td>0</td>\n",
       "      <td>Israel</td>\n",
       "      <td>IL</td>\n",
       "      <td>ISR</td>\n",
       "      <td>8.883800e+06</td>\n",
       "      <td>39.666667</td>\n",
       "      <td>6.0</td>\n",
       "    </tr>\n",
       "    <tr>\n",
       "      <th>2020-03-22</th>\n",
       "      <td>22</td>\n",
       "      <td>3</td>\n",
       "      <td>2020</td>\n",
       "      <td>171.0</td>\n",
       "      <td>0</td>\n",
       "      <td>Israel</td>\n",
       "      <td>IL</td>\n",
       "      <td>ISR</td>\n",
       "      <td>8.883800e+06</td>\n",
       "      <td>3.885714</td>\n",
       "      <td>35.0</td>\n",
       "    </tr>\n",
       "    <tr>\n",
       "      <th>2020-03-04</th>\n",
       "      <td>4</td>\n",
       "      <td>3</td>\n",
       "      <td>2020</td>\n",
       "      <td>667.0</td>\n",
       "      <td>28</td>\n",
       "      <td>Italy</td>\n",
       "      <td>IT</td>\n",
       "      <td>ITA</td>\n",
       "      <td>6.043128e+07</td>\n",
       "      <td>3.568493</td>\n",
       "      <td>146.0</td>\n",
       "    </tr>\n",
       "    <tr>\n",
       "      <th>2020-04-01</th>\n",
       "      <td>1</td>\n",
       "      <td>4</td>\n",
       "      <td>2020</td>\n",
       "      <td>190.0</td>\n",
       "      <td>1</td>\n",
       "      <td>Luxembourg</td>\n",
       "      <td>LU</td>\n",
       "      <td>LUX</td>\n",
       "      <td>6.077280e+05</td>\n",
       "      <td>4.000000</td>\n",
       "      <td>38.0</td>\n",
       "    </tr>\n",
       "    <tr>\n",
       "      <th>2020-03-16</th>\n",
       "      <td>16</td>\n",
       "      <td>3</td>\n",
       "      <td>2020</td>\n",
       "      <td>190.0</td>\n",
       "      <td>0</td>\n",
       "      <td>Malaysia</td>\n",
       "      <td>MY</td>\n",
       "      <td>MYS</td>\n",
       "      <td>3.152858e+07</td>\n",
       "      <td>3.634146</td>\n",
       "      <td>41.0</td>\n",
       "    </tr>\n",
       "    <tr>\n",
       "      <th>2020-03-30</th>\n",
       "      <td>30</td>\n",
       "      <td>3</td>\n",
       "      <td>2020</td>\n",
       "      <td>121.0</td>\n",
       "      <td>3</td>\n",
       "      <td>Morocco</td>\n",
       "      <td>MA</td>\n",
       "      <td>MAR</td>\n",
       "      <td>3.602914e+07</td>\n",
       "      <td>8.307692</td>\n",
       "      <td>13.0</td>\n",
       "    </tr>\n",
       "    <tr>\n",
       "      <th>2020-03-17</th>\n",
       "      <td>17</td>\n",
       "      <td>3</td>\n",
       "      <td>2020</td>\n",
       "      <td>156.0</td>\n",
       "      <td>0</td>\n",
       "      <td>Pakistan</td>\n",
       "      <td>PK</td>\n",
       "      <td>PAK</td>\n",
       "      <td>2.122150e+08</td>\n",
       "      <td>155.000000</td>\n",
       "      <td>1.0</td>\n",
       "    </tr>\n",
       "    <tr>\n",
       "      <th>2020-03-22</th>\n",
       "      <td>22</td>\n",
       "      <td>3</td>\n",
       "      <td>2020</td>\n",
       "      <td>151.0</td>\n",
       "      <td>0</td>\n",
       "      <td>Pakistan</td>\n",
       "      <td>PK</td>\n",
       "      <td>PAK</td>\n",
       "      <td>2.122150e+08</td>\n",
       "      <td>7.882353</td>\n",
       "      <td>17.0</td>\n",
       "    </tr>\n",
       "    <tr>\n",
       "      <th>2020-04-01</th>\n",
       "      <td>1</td>\n",
       "      <td>4</td>\n",
       "      <td>2020</td>\n",
       "      <td>414.0</td>\n",
       "      <td>8</td>\n",
       "      <td>Pakistan</td>\n",
       "      <td>PK</td>\n",
       "      <td>PAK</td>\n",
       "      <td>2.122150e+08</td>\n",
       "      <td>3.181818</td>\n",
       "      <td>99.0</td>\n",
       "    </tr>\n",
       "    <tr>\n",
       "      <th>2020-03-26</th>\n",
       "      <td>26</td>\n",
       "      <td>3</td>\n",
       "      <td>2020</td>\n",
       "      <td>142.0</td>\n",
       "      <td>1</td>\n",
       "      <td>Peru</td>\n",
       "      <td>PE</td>\n",
       "      <td>PER</td>\n",
       "      <td>3.198926e+07</td>\n",
       "      <td>5.761905</td>\n",
       "      <td>21.0</td>\n",
       "    </tr>\n",
       "    <tr>\n",
       "      <th>2020-03-30</th>\n",
       "      <td>30</td>\n",
       "      <td>3</td>\n",
       "      <td>2020</td>\n",
       "      <td>181.0</td>\n",
       "      <td>2</td>\n",
       "      <td>Peru</td>\n",
       "      <td>PE</td>\n",
       "      <td>PER</td>\n",
       "      <td>3.198926e+07</td>\n",
       "      <td>4.027778</td>\n",
       "      <td>36.0</td>\n",
       "    </tr>\n",
       "    <tr>\n",
       "      <th>2020-03-12</th>\n",
       "      <td>12</td>\n",
       "      <td>3</td>\n",
       "      <td>2020</td>\n",
       "      <td>238.0</td>\n",
       "      <td>0</td>\n",
       "      <td>Qatar</td>\n",
       "      <td>QA</td>\n",
       "      <td>QAT</td>\n",
       "      <td>2.781677e+06</td>\n",
       "      <td>38.666667</td>\n",
       "      <td>6.0</td>\n",
       "    </tr>\n",
       "    <tr>\n",
       "      <th>2020-03-25</th>\n",
       "      <td>25</td>\n",
       "      <td>3</td>\n",
       "      <td>2020</td>\n",
       "      <td>205.0</td>\n",
       "      <td>1</td>\n",
       "      <td>Saudi_Arabia</td>\n",
       "      <td>SA</td>\n",
       "      <td>SAU</td>\n",
       "      <td>3.369995e+07</td>\n",
       "      <td>3.019608</td>\n",
       "      <td>51.0</td>\n",
       "    </tr>\n",
       "    <tr>\n",
       "      <th>2020-03-31</th>\n",
       "      <td>31</td>\n",
       "      <td>3</td>\n",
       "      <td>2020</td>\n",
       "      <td>224.0</td>\n",
       "      <td>0</td>\n",
       "      <td>Saudi_Arabia</td>\n",
       "      <td>SA</td>\n",
       "      <td>SAU</td>\n",
       "      <td>3.369995e+07</td>\n",
       "      <td>7.615385</td>\n",
       "      <td>26.0</td>\n",
       "    </tr>\n",
       "    <tr>\n",
       "      <th>2020-03-28</th>\n",
       "      <td>28</td>\n",
       "      <td>3</td>\n",
       "      <td>2020</td>\n",
       "      <td>138.0</td>\n",
       "      <td>0</td>\n",
       "      <td>Singapore</td>\n",
       "      <td>SG</td>\n",
       "      <td>SGP</td>\n",
       "      <td>5.638676e+06</td>\n",
       "      <td>4.307692</td>\n",
       "      <td>26.0</td>\n",
       "    </tr>\n",
       "    <tr>\n",
       "      <th>2020-03-07</th>\n",
       "      <td>7</td>\n",
       "      <td>3</td>\n",
       "      <td>2020</td>\n",
       "      <td>122.0</td>\n",
       "      <td>0</td>\n",
       "      <td>Switzerland</td>\n",
       "      <td>CH</td>\n",
       "      <td>CHE</td>\n",
       "      <td>8.516543e+06</td>\n",
       "      <td>3.066667</td>\n",
       "      <td>30.0</td>\n",
       "    </tr>\n",
       "    <tr>\n",
       "      <th>2020-03-21</th>\n",
       "      <td>21</td>\n",
       "      <td>3</td>\n",
       "      <td>2020</td>\n",
       "      <td>154.0</td>\n",
       "      <td>0</td>\n",
       "      <td>Thailand</td>\n",
       "      <td>TH</td>\n",
       "      <td>THA</td>\n",
       "      <td>6.942852e+07</td>\n",
       "      <td>3.400000</td>\n",
       "      <td>35.0</td>\n",
       "    </tr>\n",
       "  </tbody>\n",
       "</table>\n",
       "</div>"
      ],
      "text/plain": [
       "            day  month  year    cases  deaths           countries geoId  \\\n",
       "dateRep                                                                   \n",
       "2020-03-25   25      3  2020    600.0       1           Australia    AU   \n",
       "2020-03-26   26      3  2020   1426.0       8              Canada    CA   \n",
       "2020-01-19   19      1  2020    136.0       1               China    CN   \n",
       "2020-01-21   21      1  2020    151.0       3               China    CN   \n",
       "2020-02-13   13      2  2020  15141.0     254               China    CN   \n",
       "2020-04-01    1      4  2020    208.0       9  Dominican_Republic    DO   \n",
       "2020-03-21   21      3  2020    227.0       4             Ecuador    EC   \n",
       "2020-04-01    1      4  2020    336.0      17             Ecuador    EC   \n",
       "2020-03-10   10      3  2020    237.0       2             Germany    DE   \n",
       "2020-03-20   20      3  2020   5940.0      30             Germany    DE   \n",
       "2020-03-18   18      3  2020    167.0       0              Israel    IL   \n",
       "2020-03-20   20      3  2020    244.0       0              Israel    IL   \n",
       "2020-03-22   22      3  2020    171.0       0              Israel    IL   \n",
       "2020-03-04    4      3  2020    667.0      28               Italy    IT   \n",
       "2020-04-01    1      4  2020    190.0       1          Luxembourg    LU   \n",
       "2020-03-16   16      3  2020    190.0       0            Malaysia    MY   \n",
       "2020-03-30   30      3  2020    121.0       3             Morocco    MA   \n",
       "2020-03-17   17      3  2020    156.0       0            Pakistan    PK   \n",
       "2020-03-22   22      3  2020    151.0       0            Pakistan    PK   \n",
       "2020-04-01    1      4  2020    414.0       8            Pakistan    PK   \n",
       "2020-03-26   26      3  2020    142.0       1                Peru    PE   \n",
       "2020-03-30   30      3  2020    181.0       2                Peru    PE   \n",
       "2020-03-12   12      3  2020    238.0       0               Qatar    QA   \n",
       "2020-03-25   25      3  2020    205.0       1        Saudi_Arabia    SA   \n",
       "2020-03-31   31      3  2020    224.0       0        Saudi_Arabia    SA   \n",
       "2020-03-28   28      3  2020    138.0       0           Singapore    SG   \n",
       "2020-03-07    7      3  2020    122.0       0         Switzerland    CH   \n",
       "2020-03-21   21      3  2020    154.0       0            Thailand    TH   \n",
       "\n",
       "           countryterritoryCode   popData2018       %ch_c  cases_yest  \n",
       "dateRep                                                                \n",
       "2020-03-25                  AUS  2.499237e+07    4.263158       114.0  \n",
       "2020-03-26                  CAN  3.705886e+07    3.555911       313.0  \n",
       "2020-01-19                  CHN  1.392730e+09    7.000000        17.0  \n",
       "2020-01-21                  CHN  1.392730e+09    6.947368        19.0  \n",
       "2020-02-13                  CHN  1.392730e+09    6.465976      2028.0  \n",
       "2020-04-01                  DOM  1.062716e+07    3.952381        42.0  \n",
       "2020-03-21                  ECU  1.708436e+07    6.322581        31.0  \n",
       "2020-04-01                  ECU  1.708436e+07    3.421053        76.0  \n",
       "2020-03-10                  DEU  8.292792e+07    3.309091        55.0  \n",
       "2020-03-20                  DEU  8.292792e+07    4.700576      1042.0  \n",
       "2020-03-18                  ISR  8.883800e+06   15.700000        10.0  \n",
       "2020-03-20                  ISR  8.883800e+06   39.666667         6.0  \n",
       "2020-03-22                  ISR  8.883800e+06    3.885714        35.0  \n",
       "2020-03-04                  ITA  6.043128e+07    3.568493       146.0  \n",
       "2020-04-01                  LUX  6.077280e+05    4.000000        38.0  \n",
       "2020-03-16                  MYS  3.152858e+07    3.634146        41.0  \n",
       "2020-03-30                  MAR  3.602914e+07    8.307692        13.0  \n",
       "2020-03-17                  PAK  2.122150e+08  155.000000         1.0  \n",
       "2020-03-22                  PAK  2.122150e+08    7.882353        17.0  \n",
       "2020-04-01                  PAK  2.122150e+08    3.181818        99.0  \n",
       "2020-03-26                  PER  3.198926e+07    5.761905        21.0  \n",
       "2020-03-30                  PER  3.198926e+07    4.027778        36.0  \n",
       "2020-03-12                  QAT  2.781677e+06   38.666667         6.0  \n",
       "2020-03-25                  SAU  3.369995e+07    3.019608        51.0  \n",
       "2020-03-31                  SAU  3.369995e+07    7.615385        26.0  \n",
       "2020-03-28                  SGP  5.638676e+06    4.307692        26.0  \n",
       "2020-03-07                  CHE  8.516543e+06    3.066667        30.0  \n",
       "2020-03-21                  THA  6.942852e+07    3.400000        35.0  "
      ]
     },
     "execution_count": 62,
     "metadata": {},
     "output_type": "execute_result"
    }
   ],
   "source": [
    "datos['deaths_yest'] = datos['deaths'].shift().fillna(0)\n",
    "\n",
    "outliers.append(datos[(datos['deaths'] > 100) & (datos['%ch_d'] > 3)]) \n",
    "outliers"
   ]
  },
  {
   "cell_type": "markdown",
   "metadata": {},
   "source": [
    "Vamos ahora a calculas los casos totales y representarlos:"
   ]
  },
  {
   "cell_type": "code",
   "execution_count": 63,
   "metadata": {},
   "outputs": [],
   "source": [
    "datos[['tot_cases','tot_deaths']] = datos.groupby('countries')[['cases','deaths']].cumsum()"
   ]
  },
  {
   "cell_type": "code",
   "execution_count": 64,
   "metadata": {},
   "outputs": [],
   "source": [
    "datos['deaths/cases'] = datos['tot_deaths']/datos['tot_cases'].fillna(0)"
   ]
  },
  {
   "cell_type": "code",
   "execution_count": 65,
   "metadata": {},
   "outputs": [
    {
     "data": {
      "text/plain": [
       "<matplotlib.axes._subplots.AxesSubplot at 0x18588bd0780>"
      ]
     },
     "execution_count": 65,
     "metadata": {},
     "output_type": "execute_result"
    },
    {
     "data": {
      "image/png": "[encoded data removed]",
      "text/plain": [
       "<Figure size 1080x576 with 1 Axes>"
      ]
     },
     "metadata": {
      "needs_background": "light"
     },
     "output_type": "display_data"
    }
   ],
   "source": [
    "datos.loc[(datos['countries'] == 'Spain') & (datos['cases']>0), 'tot_cases'].plot()\n",
    "datos.loc[(datos['countries'] == 'Spain') & (datos['cases']>0), 'tot_deaths'].plot()"
   ]
  },
  {
   "cell_type": "markdown",
   "metadata": {},
   "source": [
    "Y calculamos también los logartimos de las series de los casos y muertes diarias, y los casos y muertes totales:"
   ]
  },
  {
   "cell_type": "code",
   "execution_count": 66,
   "metadata": {
    "scrolled": false
   },
   "outputs": [],
   "source": [
    "datos[['ln_cases', 'ln_deaths', 'ln_tot_cases','ln_tot_deaths']] = datos[['cases','deaths', 'tot_cases', 'tot_deaths']].applymap(lambda x: np.log(x) if x > 0 else 0)"
   ]
  },
  {
   "cell_type": "markdown",
   "metadata": {},
   "source": [
    "También de los % de variación de las distintas series:"
   ]
  },
  {
   "cell_type": "code",
   "execution_count": 67,
   "metadata": {},
   "outputs": [
    {
     "name": "stderr",
     "output_type": "stream",
     "text": [
      "C:\\ProgramData\\Anaconda3\\lib\\site-packages\\pandas\\core\\frame.py:4042: SettingWithCopyWarning: \n",
      "A value is trying to be set on a copy of a slice from a DataFrame\n",
      "\n",
      "See the caveats in the documentation: http://pandas.pydata.org/pandas-docs/stable/indexing.html#indexing-view-versus-copy\n",
      "  method=method)\n"
     ]
    }
   ],
   "source": [
    "datos[['%_chg_cases', '%_chg_deaths', '%_chg_tot_cases','%_chg_tot_deaths']] = datos[['cases','deaths', 'tot_cases', 'tot_deaths']].pct_change().fillna(0)\n",
    "datos[['%_chg_cases', '%_chg_deaths', '%_chg_tot_cases','%_chg_tot_deaths']].replace(np.inf, 0, inplace = True)"
   ]
  },
  {
   "cell_type": "code",
   "execution_count": 68,
   "metadata": {
    "scrolled": true
   },
   "outputs": [],
   "source": [
    "days_into_sickness = datos.index.max() - datos[datos['cases'] > 20].reset_index().groupby('countries')[['dateRep']].min()\n",
    "days_into_sickness.reset_index(inplace = True)\n",
    "days_into_sickness.columns = ['countries', 'days_into_sickness']\n",
    "days_into_sickness['days_into_sickness'] = days_into_sickness['days_into_sickness'].apply(lambda x: x.days)\n",
    "\n",
    "for_index = datos[datos['cases'] > 20].reset_index().groupby('countries')[['dateRep']].min()\n",
    "\n",
    "days_into_sickness.index = list(for_index['dateRep'])"
   ]
  },
  {
   "cell_type": "code",
   "execution_count": 69,
   "metadata": {},
   "outputs": [],
   "source": [
    "for_days_into_sickness = pd.merge(datos, days_into_sickness, how = 'left', on='countries')['days_into_sickness']\n",
    "for_days_into_sickness.index = datos.index\n",
    "datos['days_into_sickness'] = for_days_into_sickness"
   ]
  },
  {
   "cell_type": "code",
   "execution_count": 81,
   "metadata": {},
   "outputs": [],
   "source": [
    "datos['cases'] = datos['cases'].astype('int')\n",
    "datos['tot_cases'] = datos['tot_cases'].astype('int')\n",
    "datos['tot_deaths'] = datos['tot_deaths'].astype('int')\n",
    "datos['deaths/cases'] = datos['deaths/cases'].fillna(0)"
   ]
  },
  {
   "cell_type": "code",
   "execution_count": 80,
   "metadata": {},
   "outputs": [],
   "source": [
    "datos.replace(np.inf, 0, inplace = True)"
   ]
  },
  {
   "cell_type": "code",
   "execution_count": 82,
   "metadata": {},
   "outputs": [
    {
     "data": {
      "text/plain": [
       "Index(['day', 'month', 'year', 'cases', 'deaths', 'countries', 'geoId',\n",
       "       'countryterritoryCode', 'popData2018', '%ch_c', 'cases_yest', '%ch_d',\n",
       "       'deaths_yest', 'tot_cases', 'tot_deaths', 'deaths/cases', 'ln_cases',\n",
       "       'ln_deaths', 'ln_tot_cases', 'ln_tot_deaths', '%_chg_cases',\n",
       "       '%_chg_deaths', '%_chg_tot_cases', '%_chg_tot_deaths',\n",
       "       'days_into_sickness'],\n",
       "      dtype='object')"
      ]
     },
     "execution_count": 82,
     "metadata": {},
     "output_type": "execute_result"
    }
   ],
   "source": [
    "datos.columns"
   ]
  },
  {
   "cell_type": "code",
   "execution_count": 88,
   "metadata": {
    "collapsed": true
   },
   "outputs": [
    {
     "data": {
      "text/plain": [
       "dateRep\n",
       "2020-04-03    10.268790\n",
       "2020-04-02    10.207400\n",
       "2020-04-01    10.126551\n",
       "2020-03-31     9.980217\n",
       "2020-03-29     9.902437\n",
       "2020-03-28     9.836011\n",
       "2020-03-30     9.817930\n",
       "2020-03-27     9.728956\n",
       "2020-02-13     9.625162\n",
       "2020-03-26     9.544166\n",
       "2020-03-24     9.326878\n",
       "2020-04-01     9.129347\n",
       "2020-03-25     9.081256\n",
       "2020-03-27     9.056956\n",
       "2020-03-23     9.042986\n",
       "2020-03-29     9.010547\n",
       "2020-04-03     8.999866\n",
       "2020-03-26     8.979291\n",
       "2020-03-28     8.970940\n",
       "2020-04-02     8.951440\n",
       "2020-04-01     8.933005\n",
       "2020-03-22     8.871084\n",
       "2020-03-25     8.792398\n",
       "2020-03-22     8.788288\n",
       "2020-03-30     8.787068\n",
       "2020-03-31     8.763741\n",
       "2020-03-28     8.747352\n",
       "2020-04-02     8.725182\n",
       "2020-03-27     8.724695\n",
       "2020-03-21     8.697179\n",
       "                ...    \n",
       "2020-03-23     0.000000\n",
       "2020-03-24     0.000000\n",
       "2020-03-25     0.000000\n",
       "2020-03-26     0.000000\n",
       "2020-03-27     0.000000\n",
       "2020-03-30     0.000000\n",
       "2020-03-28     0.000000\n",
       "2020-03-27     0.000000\n",
       "2020-03-14     0.000000\n",
       "2020-02-23     0.000000\n",
       "2020-02-24     0.000000\n",
       "2020-02-25     0.000000\n",
       "2020-02-26     0.000000\n",
       "2020-02-27     0.000000\n",
       "2020-02-28     0.000000\n",
       "2020-03-01     0.000000\n",
       "2020-03-06     0.000000\n",
       "2020-04-01     0.000000\n",
       "2020-03-15     0.000000\n",
       "2020-03-26     0.000000\n",
       "2020-03-17     0.000000\n",
       "2020-03-18     0.000000\n",
       "2020-03-19     0.000000\n",
       "2020-03-20     0.000000\n",
       "2020-03-21     0.000000\n",
       "2020-03-22     0.000000\n",
       "2020-03-23     0.000000\n",
       "2020-03-24     0.000000\n",
       "2020-03-25     0.000000\n",
       "2019-12-31     0.000000\n",
       "Name: ln_cases, Length: 8502, dtype: float64"
      ]
     },
     "execution_count": 88,
     "metadata": {},
     "output_type": "execute_result"
    }
   ],
   "source": [
    "datos['ln_cases'].sort_values(ascending = False)"
   ]
  },
  {
   "cell_type": "code",
   "execution_count": 89,
   "metadata": {},
   "outputs": [],
   "source": [
    "datos.to_csv('Datos/coronavirus_tratado.csv', sep = sep, encoding = 'UTF-8')"
   ]
  }
 ],
 "metadata": {
  "kernelspec": {
   "display_name": "Python 3",
   "language": "python",
   "name": "python3"
  },
  "language_info": {
   "codemirror_mode": {
    "name": "ipython",
    "version": 3
   },
   "file_extension": ".py",
   "mimetype": "text/x-python",
   "name": "python",
   "nbconvert_exporter": "python",
   "pygments_lexer": "ipython3",
   "version": "3.7.3"
  }
 },
 "nbformat": 4,
 "nbformat_minor": 2
}
