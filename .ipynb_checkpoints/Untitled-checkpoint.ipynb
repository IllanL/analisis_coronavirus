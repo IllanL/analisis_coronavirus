{
 "cells": [
  {
   "cell_type": "markdown",
   "metadata": {},
   "source": [
    "# DIFUSIÓN DEL CORONAVIRUS EN ESPAÑA:\n",
    "\n",
    "## (5ª predicción)"
   ]
  },
  {
   "cell_type": "code",
   "execution_count": 1,
   "metadata": {},
   "outputs": [],
   "source": [
    "import pandas as pd\n",
    "import numpy as np\n",
    "import datetime\n",
    "import matplotlib.pyplot as plt\n",
    "import seaborn as sns\n",
    "\n",
    "from scipy.optimize import leastsq\n",
    "\n",
    "%matplotlib inline\n",
    "\n",
    "plt.rcParams['figure.figsize'] = [18, 6]"
   ]
  },
  {
   "cell_type": "code",
   "execution_count": 2,
   "metadata": {},
   "outputs": [],
   "source": [
    "ruta = 'Datos/Contagios medios coronavirus RTVE.csv'\n",
    "sep = ';'\n",
    "\n",
    "date_parser = lambda x: pd.datetime.strptime(x, '%d/%m/%Y')\n",
    "\n",
    "datos = pd.read_csv(ruta, sep = sep, index_col = 'FECHA', parse_dates = ['FECHA'], date_parser = date_parser)\n",
    "datos['DIFER_DIAS'] = datos.index.to_series().diff().fillna(pd.Timedelta(seconds = 8660000)).apply(lambda x: x.days)\n",
    "\n",
    "contagios = pd.DataFrame(datos[['CONTAGIOS', 'DIFER_DIAS']])\n",
    "muertos = pd.DataFrame(datos[['MUERTOS', 'DIFER_DIAS']])"
   ]
  },
  {
   "cell_type": "code",
   "execution_count": 3,
   "metadata": {},
   "outputs": [
    {
     "data": {
      "text/html": [
       "<div>\n",
       "<style scoped>\n",
       "    .dataframe tbody tr th:only-of-type {\n",
       "        vertical-align: middle;\n",
       "    }\n",
       "\n",
       "    .dataframe tbody tr th {\n",
       "        vertical-align: top;\n",
       "    }\n",
       "\n",
       "    .dataframe thead th {\n",
       "        text-align: right;\n",
       "    }\n",
       "</style>\n",
       "<table border=\"1\" class=\"dataframe\">\n",
       "  <thead>\n",
       "    <tr style=\"text-align: right;\">\n",
       "      <th></th>\n",
       "      <th>CONTAGIOS</th>\n",
       "      <th>DIFER_DIAS</th>\n",
       "      <th>DIFER</th>\n",
       "      <th>LN_CONTAGIOS</th>\n",
       "      <th>LN_DIFER</th>\n",
       "      <th>LN_CONTAGIOS_DIFER</th>\n",
       "      <th>DIA</th>\n",
       "    </tr>\n",
       "    <tr>\n",
       "      <th>FECHA</th>\n",
       "      <th></th>\n",
       "      <th></th>\n",
       "      <th></th>\n",
       "      <th></th>\n",
       "      <th></th>\n",
       "      <th></th>\n",
       "      <th></th>\n",
       "    </tr>\n",
       "  </thead>\n",
       "  <tbody>\n",
       "    <tr>\n",
       "      <th>2020-03-03</th>\n",
       "      <td>114</td>\n",
       "      <td>4</td>\n",
       "      <td>20.750000</td>\n",
       "      <td>4.736198</td>\n",
       "      <td>3.079614</td>\n",
       "      <td>0.325553</td>\n",
       "      <td>20</td>\n",
       "    </tr>\n",
       "    <tr>\n",
       "      <th>2020-03-04</th>\n",
       "      <td>197</td>\n",
       "      <td>1</td>\n",
       "      <td>83.000000</td>\n",
       "      <td>5.283204</td>\n",
       "      <td>4.430817</td>\n",
       "      <td>0.547005</td>\n",
       "      <td>21</td>\n",
       "    </tr>\n",
       "    <tr>\n",
       "      <th>2020-03-05</th>\n",
       "      <td>237</td>\n",
       "      <td>1</td>\n",
       "      <td>40.000000</td>\n",
       "      <td>5.468060</td>\n",
       "      <td>3.713572</td>\n",
       "      <td>0.184856</td>\n",
       "      <td>22</td>\n",
       "    </tr>\n",
       "    <tr>\n",
       "      <th>2020-03-06</th>\n",
       "      <td>365</td>\n",
       "      <td>1</td>\n",
       "      <td>128.000000</td>\n",
       "      <td>5.899897</td>\n",
       "      <td>4.859812</td>\n",
       "      <td>0.431837</td>\n",
       "      <td>23</td>\n",
       "    </tr>\n",
       "    <tr>\n",
       "      <th>2020-03-09</th>\n",
       "      <td>1204</td>\n",
       "      <td>3</td>\n",
       "      <td>279.666667</td>\n",
       "      <td>7.093405</td>\n",
       "      <td>5.637168</td>\n",
       "      <td>0.397836</td>\n",
       "      <td>26</td>\n",
       "    </tr>\n",
       "    <tr>\n",
       "      <th>2020-03-10</th>\n",
       "      <td>1695</td>\n",
       "      <td>1</td>\n",
       "      <td>491.000000</td>\n",
       "      <td>7.435438</td>\n",
       "      <td>6.198479</td>\n",
       "      <td>0.342033</td>\n",
       "      <td>27</td>\n",
       "    </tr>\n",
       "    <tr>\n",
       "      <th>2020-03-11</th>\n",
       "      <td>2140</td>\n",
       "      <td>1</td>\n",
       "      <td>445.000000</td>\n",
       "      <td>7.668561</td>\n",
       "      <td>6.100319</td>\n",
       "      <td>0.233123</td>\n",
       "      <td>28</td>\n",
       "    </tr>\n",
       "    <tr>\n",
       "      <th>2020-03-12</th>\n",
       "      <td>2965</td>\n",
       "      <td>1</td>\n",
       "      <td>825.000000</td>\n",
       "      <td>7.994632</td>\n",
       "      <td>6.716595</td>\n",
       "      <td>0.326071</td>\n",
       "      <td>29</td>\n",
       "    </tr>\n",
       "    <tr>\n",
       "      <th>2020-03-13</th>\n",
       "      <td>4231</td>\n",
       "      <td>1</td>\n",
       "      <td>1266.000000</td>\n",
       "      <td>8.350194</td>\n",
       "      <td>7.144407</td>\n",
       "      <td>0.355561</td>\n",
       "      <td>30</td>\n",
       "    </tr>\n",
       "    <tr>\n",
       "      <th>2020-03-14</th>\n",
       "      <td>5733</td>\n",
       "      <td>1</td>\n",
       "      <td>1502.000000</td>\n",
       "      <td>8.653994</td>\n",
       "      <td>7.315218</td>\n",
       "      <td>0.303801</td>\n",
       "      <td>31</td>\n",
       "    </tr>\n",
       "    <tr>\n",
       "      <th>2020-03-15</th>\n",
       "      <td>7753</td>\n",
       "      <td>1</td>\n",
       "      <td>2020.000000</td>\n",
       "      <td>8.955835</td>\n",
       "      <td>7.611348</td>\n",
       "      <td>0.301841</td>\n",
       "      <td>32</td>\n",
       "    </tr>\n",
       "    <tr>\n",
       "      <th>2020-03-16</th>\n",
       "      <td>9191</td>\n",
       "      <td>1</td>\n",
       "      <td>1438.000000</td>\n",
       "      <td>9.125980</td>\n",
       "      <td>7.271704</td>\n",
       "      <td>0.170145</td>\n",
       "      <td>33</td>\n",
       "    </tr>\n",
       "    <tr>\n",
       "      <th>2020-03-17</th>\n",
       "      <td>11178</td>\n",
       "      <td>1</td>\n",
       "      <td>1987.000000</td>\n",
       "      <td>9.321703</td>\n",
       "      <td>7.594884</td>\n",
       "      <td>0.195723</td>\n",
       "      <td>34</td>\n",
       "    </tr>\n",
       "    <tr>\n",
       "      <th>2020-03-18</th>\n",
       "      <td>13716</td>\n",
       "      <td>1</td>\n",
       "      <td>2538.000000</td>\n",
       "      <td>9.526318</td>\n",
       "      <td>7.839526</td>\n",
       "      <td>0.204615</td>\n",
       "      <td>35</td>\n",
       "    </tr>\n",
       "    <tr>\n",
       "      <th>2020-03-19</th>\n",
       "      <td>17147</td>\n",
       "      <td>1</td>\n",
       "      <td>3431.000000</td>\n",
       "      <td>9.749579</td>\n",
       "      <td>8.140898</td>\n",
       "      <td>0.223260</td>\n",
       "      <td>36</td>\n",
       "    </tr>\n",
       "    <tr>\n",
       "      <th>2020-03-20</th>\n",
       "      <td>19980</td>\n",
       "      <td>1</td>\n",
       "      <td>2833.000000</td>\n",
       "      <td>9.902487</td>\n",
       "      <td>7.949444</td>\n",
       "      <td>0.152909</td>\n",
       "      <td>37</td>\n",
       "    </tr>\n",
       "    <tr>\n",
       "      <th>2020-03-21</th>\n",
       "      <td>24926</td>\n",
       "      <td>1</td>\n",
       "      <td>4946.000000</td>\n",
       "      <td>10.123667</td>\n",
       "      <td>8.506537</td>\n",
       "      <td>0.221180</td>\n",
       "      <td>38</td>\n",
       "    </tr>\n",
       "    <tr>\n",
       "      <th>2020-03-22</th>\n",
       "      <td>28572</td>\n",
       "      <td>1</td>\n",
       "      <td>3646.000000</td>\n",
       "      <td>10.260182</td>\n",
       "      <td>8.201660</td>\n",
       "      <td>0.136516</td>\n",
       "      <td>39</td>\n",
       "    </tr>\n",
       "    <tr>\n",
       "      <th>2020-03-23</th>\n",
       "      <td>33089</td>\n",
       "      <td>1</td>\n",
       "      <td>4517.000000</td>\n",
       "      <td>10.406956</td>\n",
       "      <td>8.415825</td>\n",
       "      <td>0.146774</td>\n",
       "      <td>40</td>\n",
       "    </tr>\n",
       "    <tr>\n",
       "      <th>2020-03-24</th>\n",
       "      <td>39673</td>\n",
       "      <td>1</td>\n",
       "      <td>6584.000000</td>\n",
       "      <td>10.588426</td>\n",
       "      <td>8.792550</td>\n",
       "      <td>0.181470</td>\n",
       "      <td>41</td>\n",
       "    </tr>\n",
       "    <tr>\n",
       "      <th>2020-03-25</th>\n",
       "      <td>47610</td>\n",
       "      <td>1</td>\n",
       "      <td>7937.000000</td>\n",
       "      <td>10.770798</td>\n",
       "      <td>8.979417</td>\n",
       "      <td>0.182372</td>\n",
       "      <td>42</td>\n",
       "    </tr>\n",
       "    <tr>\n",
       "      <th>2020-03-26</th>\n",
       "      <td>56188</td>\n",
       "      <td>1</td>\n",
       "      <td>8578.000000</td>\n",
       "      <td>10.936458</td>\n",
       "      <td>9.057073</td>\n",
       "      <td>0.165660</td>\n",
       "      <td>43</td>\n",
       "    </tr>\n",
       "    <tr>\n",
       "      <th>2020-03-27</th>\n",
       "      <td>64059</td>\n",
       "      <td>1</td>\n",
       "      <td>7871.000000</td>\n",
       "      <td>11.067560</td>\n",
       "      <td>8.971067</td>\n",
       "      <td>0.131101</td>\n",
       "      <td>44</td>\n",
       "    </tr>\n",
       "    <tr>\n",
       "      <th>2020-03-28</th>\n",
       "      <td>72248</td>\n",
       "      <td>1</td>\n",
       "      <td>8189.000000</td>\n",
       "      <td>11.187860</td>\n",
       "      <td>9.010669</td>\n",
       "      <td>0.120300</td>\n",
       "      <td>45</td>\n",
       "    </tr>\n",
       "    <tr>\n",
       "      <th>2020-03-29</th>\n",
       "      <td>78797</td>\n",
       "      <td>1</td>\n",
       "      <td>6549.000000</td>\n",
       "      <td>11.274630</td>\n",
       "      <td>8.787220</td>\n",
       "      <td>0.086770</td>\n",
       "      <td>46</td>\n",
       "    </tr>\n",
       "    <tr>\n",
       "      <th>2020-03-30</th>\n",
       "      <td>85195</td>\n",
       "      <td>1</td>\n",
       "      <td>6398.000000</td>\n",
       "      <td>11.352698</td>\n",
       "      <td>8.763897</td>\n",
       "      <td>0.078068</td>\n",
       "      <td>47</td>\n",
       "    </tr>\n",
       "    <tr>\n",
       "      <th>2020-03-31</th>\n",
       "      <td>94417</td>\n",
       "      <td>1</td>\n",
       "      <td>9222.000000</td>\n",
       "      <td>11.455476</td>\n",
       "      <td>9.129456</td>\n",
       "      <td>0.102778</td>\n",
       "      <td>48</td>\n",
       "    </tr>\n",
       "    <tr>\n",
       "      <th>2020-04-01</th>\n",
       "      <td>102136</td>\n",
       "      <td>1</td>\n",
       "      <td>7719.000000</td>\n",
       "      <td>11.534061</td>\n",
       "      <td>8.951570</td>\n",
       "      <td>0.078584</td>\n",
       "      <td>49</td>\n",
       "    </tr>\n",
       "    <tr>\n",
       "      <th>2020-04-02</th>\n",
       "      <td>110238</td>\n",
       "      <td>1</td>\n",
       "      <td>8102.000000</td>\n",
       "      <td>11.610397</td>\n",
       "      <td>8.999990</td>\n",
       "      <td>0.076336</td>\n",
       "      <td>50</td>\n",
       "    </tr>\n",
       "    <tr>\n",
       "      <th>2020-04-03</th>\n",
       "      <td>117710</td>\n",
       "      <td>1</td>\n",
       "      <td>7472.000000</td>\n",
       "      <td>11.675979</td>\n",
       "      <td>8.919052</td>\n",
       "      <td>0.065582</td>\n",
       "      <td>51</td>\n",
       "    </tr>\n",
       "    <tr>\n",
       "      <th>2020-04-04</th>\n",
       "      <td>124736</td>\n",
       "      <td>1</td>\n",
       "      <td>7026.000000</td>\n",
       "      <td>11.733955</td>\n",
       "      <td>8.857515</td>\n",
       "      <td>0.057976</td>\n",
       "      <td>52</td>\n",
       "    </tr>\n",
       "    <tr>\n",
       "      <th>2020-04-05</th>\n",
       "      <td>130759</td>\n",
       "      <td>1</td>\n",
       "      <td>6023.000000</td>\n",
       "      <td>11.781111</td>\n",
       "      <td>8.703507</td>\n",
       "      <td>0.047156</td>\n",
       "      <td>53</td>\n",
       "    </tr>\n",
       "    <tr>\n",
       "      <th>2020-04-06</th>\n",
       "      <td>135032</td>\n",
       "      <td>1</td>\n",
       "      <td>4273.000000</td>\n",
       "      <td>11.813267</td>\n",
       "      <td>8.360305</td>\n",
       "      <td>0.032156</td>\n",
       "      <td>54</td>\n",
       "    </tr>\n",
       "    <tr>\n",
       "      <th>2020-04-07</th>\n",
       "      <td>140510</td>\n",
       "      <td>1</td>\n",
       "      <td>5478.000000</td>\n",
       "      <td>11.853034</td>\n",
       "      <td>8.608678</td>\n",
       "      <td>0.039767</td>\n",
       "      <td>55</td>\n",
       "    </tr>\n",
       "  </tbody>\n",
       "</table>\n",
       "</div>"
      ],
      "text/plain": [
       "            CONTAGIOS  DIFER_DIAS        DIFER  LN_CONTAGIOS  LN_DIFER  \\\n",
       "FECHA                                                                    \n",
       "2020-03-03        114           4    20.750000      4.736198  3.079614   \n",
       "2020-03-04        197           1    83.000000      5.283204  4.430817   \n",
       "2020-03-05        237           1    40.000000      5.468060  3.713572   \n",
       "2020-03-06        365           1   128.000000      5.899897  4.859812   \n",
       "2020-03-09       1204           3   279.666667      7.093405  5.637168   \n",
       "2020-03-10       1695           1   491.000000      7.435438  6.198479   \n",
       "2020-03-11       2140           1   445.000000      7.668561  6.100319   \n",
       "2020-03-12       2965           1   825.000000      7.994632  6.716595   \n",
       "2020-03-13       4231           1  1266.000000      8.350194  7.144407   \n",
       "2020-03-14       5733           1  1502.000000      8.653994  7.315218   \n",
       "2020-03-15       7753           1  2020.000000      8.955835  7.611348   \n",
       "2020-03-16       9191           1  1438.000000      9.125980  7.271704   \n",
       "2020-03-17      11178           1  1987.000000      9.321703  7.594884   \n",
       "2020-03-18      13716           1  2538.000000      9.526318  7.839526   \n",
       "2020-03-19      17147           1  3431.000000      9.749579  8.140898   \n",
       "2020-03-20      19980           1  2833.000000      9.902487  7.949444   \n",
       "2020-03-21      24926           1  4946.000000     10.123667  8.506537   \n",
       "2020-03-22      28572           1  3646.000000     10.260182  8.201660   \n",
       "2020-03-23      33089           1  4517.000000     10.406956  8.415825   \n",
       "2020-03-24      39673           1  6584.000000     10.588426  8.792550   \n",
       "2020-03-25      47610           1  7937.000000     10.770798  8.979417   \n",
       "2020-03-26      56188           1  8578.000000     10.936458  9.057073   \n",
       "2020-03-27      64059           1  7871.000000     11.067560  8.971067   \n",
       "2020-03-28      72248           1  8189.000000     11.187860  9.010669   \n",
       "2020-03-29      78797           1  6549.000000     11.274630  8.787220   \n",
       "2020-03-30      85195           1  6398.000000     11.352698  8.763897   \n",
       "2020-03-31      94417           1  9222.000000     11.455476  9.129456   \n",
       "2020-04-01     102136           1  7719.000000     11.534061  8.951570   \n",
       "2020-04-02     110238           1  8102.000000     11.610397  8.999990   \n",
       "2020-04-03     117710           1  7472.000000     11.675979  8.919052   \n",
       "2020-04-04     124736           1  7026.000000     11.733955  8.857515   \n",
       "2020-04-05     130759           1  6023.000000     11.781111  8.703507   \n",
       "2020-04-06     135032           1  4273.000000     11.813267  8.360305   \n",
       "2020-04-07     140510           1  5478.000000     11.853034  8.608678   \n",
       "\n",
       "            LN_CONTAGIOS_DIFER  DIA  \n",
       "FECHA                                \n",
       "2020-03-03            0.325553   20  \n",
       "2020-03-04            0.547005   21  \n",
       "2020-03-05            0.184856   22  \n",
       "2020-03-06            0.431837   23  \n",
       "2020-03-09            0.397836   26  \n",
       "2020-03-10            0.342033   27  \n",
       "2020-03-11            0.233123   28  \n",
       "2020-03-12            0.326071   29  \n",
       "2020-03-13            0.355561   30  \n",
       "2020-03-14            0.303801   31  \n",
       "2020-03-15            0.301841   32  \n",
       "2020-03-16            0.170145   33  \n",
       "2020-03-17            0.195723   34  \n",
       "2020-03-18            0.204615   35  \n",
       "2020-03-19            0.223260   36  \n",
       "2020-03-20            0.152909   37  \n",
       "2020-03-21            0.221180   38  \n",
       "2020-03-22            0.136516   39  \n",
       "2020-03-23            0.146774   40  \n",
       "2020-03-24            0.181470   41  \n",
       "2020-03-25            0.182372   42  \n",
       "2020-03-26            0.165660   43  \n",
       "2020-03-27            0.131101   44  \n",
       "2020-03-28            0.120300   45  \n",
       "2020-03-29            0.086770   46  \n",
       "2020-03-30            0.078068   47  \n",
       "2020-03-31            0.102778   48  \n",
       "2020-04-01            0.078584   49  \n",
       "2020-04-02            0.076336   50  \n",
       "2020-04-03            0.065582   51  \n",
       "2020-04-04            0.057976   52  \n",
       "2020-04-05            0.047156   53  \n",
       "2020-04-06            0.032156   54  \n",
       "2020-04-07            0.039767   55  "
      ]
     },
     "execution_count": 3,
     "metadata": {},
     "output_type": "execute_result"
    }
   ],
   "source": [
    "# Sumamos 1 por cuestiones de estabilidad numérica a la hora de tomar logaritmos posteriormente:\n",
    "contagios['DIFER'] = contagios['CONTAGIOS'].diff(1).fillna(2)/contagios['DIFER_DIAS']\n",
    "\n",
    "contagios['LN_CONTAGIOS'] = contagios['CONTAGIOS'].apply(lambda x: np.log(x) if x>0 else 0)\n",
    "\n",
    "# Añadimos +1 por criterios de estabilidad con el logaritmo:\n",
    "contagios['LN_DIFER'] = contagios['DIFER'].apply(lambda x: np.log(x+1) if x>0 else 0)\n",
    "\n",
    "contagios['LN_CONTAGIOS_DIFER'] = contagios['LN_CONTAGIOS'].diff(1).fillna(0)/contagios['DIFER_DIAS']\n",
    "\n",
    "contagios['DIA'] = contagios['DIFER_DIAS'].cumsum()- contagios.loc[contagios.index[0], 'DIFER_DIAS']\n",
    "\n",
    "contagios.drop(contagios.index[range(0,5)], inplace = True)\n",
    "contagios"
   ]
  },
  {
   "cell_type": "code",
   "execution_count": 4,
   "metadata": {},
   "outputs": [
    {
     "data": {
      "text/plain": [
       "<matplotlib.axes._subplots.AxesSubplot at 0x2235d9f5278>"
      ]
     },
     "execution_count": 4,
     "metadata": {},
     "output_type": "execute_result"
    },
    {
     "data": {
      "image/png": "[encoded data removed]",
      "text/plain": [
       "<Figure size 432x288 with 1 Axes>"
      ]
     },
     "metadata": {
      "needs_background": "light"
     },
     "output_type": "display_data"
    }
   ],
   "source": [
    "contagios['LN_DIFER'].plot()"
   ]
  },
  {
   "cell_type": "code",
   "execution_count": 5,
   "metadata": {},
   "outputs": [],
   "source": [
    "def error_mi_func(variab, x, y, weights):\n",
    "    \n",
    "    B, A0, alpha0, A1, alpha1 = variab\n",
    "    \n",
    "    y_est = B + A0 * x ** alpha0 + A1 * x **alpha1\n",
    "    \n",
    "    return weights * (y - y_est)"
   ]
  },
  {
   "cell_type": "code",
   "execution_count": 6,
   "metadata": {},
   "outputs": [],
   "source": [
    "def error_mi_func_2(variab, x, y, weights):\n",
    "    \n",
    "    A0, beta0, K = variab\n",
    "    \n",
    "    y_est = 1/(A0 * np.exp(-beta0 * x) + K)\n",
    "    \n",
    "    return weights * (y - y_est)"
   ]
  },
  {
   "cell_type": "code",
   "execution_count": 7,
   "metadata": {},
   "outputs": [],
   "source": [
    "weights = np.array(range(1, contagios.shape[0] + 1))"
   ]
  },
  {
   "cell_type": "code",
   "execution_count": 8,
   "metadata": {},
   "outputs": [],
   "source": [
    "weights = np.ones(contagios.shape[0])"
   ]
  },
  {
   "cell_type": "code",
   "execution_count": 9,
   "metadata": {},
   "outputs": [],
   "source": [
    "from scipy.optimize import leastsq\n",
    "\n",
    "vas = [1, 1, 1]\n",
    "sal = leastsq(error_mi_func_2, vas, args=(contagios['DIA'], contagios['CONTAGIOS'], weights))"
   ]
  },
  {
   "cell_type": "code",
   "execution_count": 10,
   "metadata": {
    "scrolled": true
   },
   "outputs": [
    {
     "data": {
      "text/plain": [
       "(array([1.04098737e-01, 2.10423336e-01, 6.19215136e-06]), 1)"
      ]
     },
     "execution_count": 10,
     "metadata": {},
     "output_type": "execute_result"
    }
   ],
   "source": [
    "sal"
   ]
  },
  {
   "cell_type": "code",
   "execution_count": 11,
   "metadata": {},
   "outputs": [],
   "source": [
    "x = contagios['DIA']\n",
    "\n",
    "A0, beta0, K = sal[0]\n",
    "\n",
    "y_est = 1/(A0 * np.exp(-beta0 * x) + K)"
   ]
  },
  {
   "cell_type": "code",
   "execution_count": 12,
   "metadata": {},
   "outputs": [
    {
     "data": {
      "text/plain": [
       "[<matplotlib.lines.Line2D at 0x2235d853518>]"
      ]
     },
     "execution_count": 12,
     "metadata": {},
     "output_type": "execute_result"
    },
    {
     "data": {
      "image/png": "[encoded data removed]",
      "text/plain": [
       "<Figure size 432x288 with 1 Axes>"
      ]
     },
     "metadata": {
      "needs_background": "light"
     },
     "output_type": "display_data"
    }
   ],
   "source": [
    "plt. plot(x, y_est)\n",
    "plt.plot(x, contagios['CONTAGIOS'])"
   ]
  },
  {
   "cell_type": "code",
   "execution_count": 13,
   "metadata": {},
   "outputs": [],
   "source": [
    "contagios['PRED'] = y_est"
   ]
  },
  {
   "cell_type": "code",
   "execution_count": 14,
   "metadata": {},
   "outputs": [
    {
     "data": {
      "text/html": [
       "<div>\n",
       "<style scoped>\n",
       "    .dataframe tbody tr th:only-of-type {\n",
       "        vertical-align: middle;\n",
       "    }\n",
       "\n",
       "    .dataframe tbody tr th {\n",
       "        vertical-align: top;\n",
       "    }\n",
       "\n",
       "    .dataframe thead th {\n",
       "        text-align: right;\n",
       "    }\n",
       "</style>\n",
       "<table border=\"1\" class=\"dataframe\">\n",
       "  <thead>\n",
       "    <tr style=\"text-align: right;\">\n",
       "      <th></th>\n",
       "      <th>CONTAGIOS</th>\n",
       "      <th>PRED</th>\n",
       "    </tr>\n",
       "  </thead>\n",
       "  <tbody>\n",
       "    <tr>\n",
       "      <th>CONTAGIOS</th>\n",
       "      <td>1.000000</td>\n",
       "      <td>0.999807</td>\n",
       "    </tr>\n",
       "    <tr>\n",
       "      <th>PRED</th>\n",
       "      <td>0.999807</td>\n",
       "      <td>1.000000</td>\n",
       "    </tr>\n",
       "  </tbody>\n",
       "</table>\n",
       "</div>"
      ],
      "text/plain": [
       "           CONTAGIOS      PRED\n",
       "CONTAGIOS   1.000000  0.999807\n",
       "PRED        0.999807  1.000000"
      ]
     },
     "execution_count": 14,
     "metadata": {},
     "output_type": "execute_result"
    }
   ],
   "source": [
    "contagios[['CONTAGIOS','PRED']].corr()"
   ]
  },
  {
   "cell_type": "code",
   "execution_count": 16,
   "metadata": {},
   "outputs": [],
   "source": [
    "dia_fin = contagios['DIA'][-1]\n",
    "dias_for_pred = np.array(range(dia_fin + 1, dia_fin + 6))"
   ]
  },
  {
   "cell_type": "code",
   "execution_count": 17,
   "metadata": {},
   "outputs": [
    {
     "data": {
      "text/plain": [
       "array([56, 57, 58, 59, 60])"
      ]
     },
     "execution_count": 17,
     "metadata": {},
     "output_type": "execute_result"
    }
   ],
   "source": [
    "dias_for_pred"
   ]
  },
  {
   "cell_type": "code",
   "execution_count": 18,
   "metadata": {},
   "outputs": [],
   "source": [
    "y_est = (A0 * beta0 * np.exp (-beta0 * x))/(A0 * np.exp(-beta0 * x) + K) ** 2"
   ]
  },
  {
   "cell_type": "code",
   "execution_count": 19,
   "metadata": {},
   "outputs": [
    {
     "data": {
      "text/plain": [
       "array([3423., 2897., 2434., 2031., 1687.])"
      ]
     },
     "execution_count": 19,
     "metadata": {},
     "output_type": "execute_result"
    }
   ],
   "source": [
    "pred = np.round((A0 * beta0 * np.exp (-beta0 * dias_for_pred))/(A0 * np.exp(-beta0 * dias_for_pred) + K) ** 2)\n",
    "pred"
   ]
  },
  {
   "cell_type": "code",
   "execution_count": 20,
   "metadata": {},
   "outputs": [
    {
     "data": {
      "text/plain": [
       "[<matplotlib.lines.Line2D at 0x2235db57be0>]"
      ]
     },
     "execution_count": 20,
     "metadata": {},
     "output_type": "execute_result"
    },
    {
     "data": {
      "image/png": "[encoded data removed]",
      "text/plain": [
       "<Figure size 432x288 with 1 Axes>"
      ]
     },
     "metadata": {
      "needs_background": "light"
     },
     "output_type": "display_data"
    }
   ],
   "source": [
    "plt. plot(x, y_est)\n",
    "plt.plot(x, contagios['DIFER'])"
   ]
  },
  {
   "cell_type": "code",
   "execution_count": 57,
   "metadata": {},
   "outputs": [],
   "source": [
    "contagios['PRED_DIARIA'] = y_est"
   ]
  },
  {
   "cell_type": "code",
   "execution_count": 58,
   "metadata": {},
   "outputs": [
    {
     "data": {
      "text/html": [
       "<div>\n",
       "<style scoped>\n",
       "    .dataframe tbody tr th:only-of-type {\n",
       "        vertical-align: middle;\n",
       "    }\n",
       "\n",
       "    .dataframe tbody tr th {\n",
       "        vertical-align: top;\n",
       "    }\n",
       "\n",
       "    .dataframe thead th {\n",
       "        text-align: right;\n",
       "    }\n",
       "</style>\n",
       "<table border=\"1\" class=\"dataframe\">\n",
       "  <thead>\n",
       "    <tr style=\"text-align: right;\">\n",
       "      <th></th>\n",
       "      <th>DIFER</th>\n",
       "      <th>PRED_DIARIA</th>\n",
       "    </tr>\n",
       "  </thead>\n",
       "  <tbody>\n",
       "    <tr>\n",
       "      <th>DIFER</th>\n",
       "      <td>1.000000</td>\n",
       "      <td>0.965967</td>\n",
       "    </tr>\n",
       "    <tr>\n",
       "      <th>PRED_DIARIA</th>\n",
       "      <td>0.965967</td>\n",
       "      <td>1.000000</td>\n",
       "    </tr>\n",
       "  </tbody>\n",
       "</table>\n",
       "</div>"
      ],
      "text/plain": [
       "                DIFER  PRED_DIARIA\n",
       "DIFER        1.000000     0.965967\n",
       "PRED_DIARIA  0.965967     1.000000"
      ]
     },
     "execution_count": 58,
     "metadata": {},
     "output_type": "execute_result"
    }
   ],
   "source": [
    "contagios[['DIFER', 'PRED_DIARIA']].corr()"
   ]
  },
  {
   "cell_type": "code",
   "execution_count": 60,
   "metadata": {},
   "outputs": [
    {
     "data": {
      "text/html": [
       "<div>\n",
       "<style scoped>\n",
       "    .dataframe tbody tr th:only-of-type {\n",
       "        vertical-align: middle;\n",
       "    }\n",
       "\n",
       "    .dataframe tbody tr th {\n",
       "        vertical-align: top;\n",
       "    }\n",
       "\n",
       "    .dataframe thead th {\n",
       "        text-align: right;\n",
       "    }\n",
       "</style>\n",
       "<table border=\"1\" class=\"dataframe\">\n",
       "  <thead>\n",
       "    <tr style=\"text-align: right;\">\n",
       "      <th></th>\n",
       "      <th>CONTAGIOS</th>\n",
       "      <th>DIFER_DIAS</th>\n",
       "      <th>DIFER</th>\n",
       "      <th>LN_CONTAGIOS</th>\n",
       "      <th>LN_DIFER</th>\n",
       "      <th>LN_CONTAGIOS_DIFER</th>\n",
       "      <th>DIA</th>\n",
       "      <th>PRED</th>\n",
       "      <th>PRED_DIARIA</th>\n",
       "    </tr>\n",
       "    <tr>\n",
       "      <th>FECHA</th>\n",
       "      <th></th>\n",
       "      <th></th>\n",
       "      <th></th>\n",
       "      <th></th>\n",
       "      <th></th>\n",
       "      <th></th>\n",
       "      <th></th>\n",
       "      <th></th>\n",
       "      <th></th>\n",
       "    </tr>\n",
       "  </thead>\n",
       "  <tbody>\n",
       "    <tr>\n",
       "      <th>2020-04-03</th>\n",
       "      <td>117710</td>\n",
       "      <td>1</td>\n",
       "      <td>7472.0</td>\n",
       "      <td>11.675979</td>\n",
       "      <td>8.919052</td>\n",
       "      <td>0.065582</td>\n",
       "      <td>51</td>\n",
       "      <td>118118.549240</td>\n",
       "      <td>6675.828690</td>\n",
       "    </tr>\n",
       "    <tr>\n",
       "      <th>2020-04-04</th>\n",
       "      <td>124736</td>\n",
       "      <td>1</td>\n",
       "      <td>7026.0</td>\n",
       "      <td>11.733955</td>\n",
       "      <td>8.857515</td>\n",
       "      <td>0.057976</td>\n",
       "      <td>52</td>\n",
       "      <td>124462.098135</td>\n",
       "      <td>6005.615408</td>\n",
       "    </tr>\n",
       "    <tr>\n",
       "      <th>2020-04-05</th>\n",
       "      <td>130759</td>\n",
       "      <td>1</td>\n",
       "      <td>6023.0</td>\n",
       "      <td>11.781111</td>\n",
       "      <td>8.703507</td>\n",
       "      <td>0.047156</td>\n",
       "      <td>53</td>\n",
       "      <td>130124.321147</td>\n",
       "      <td>5318.810790</td>\n",
       "    </tr>\n",
       "    <tr>\n",
       "      <th>2020-04-06</th>\n",
       "      <td>135032</td>\n",
       "      <td>1</td>\n",
       "      <td>4273.0</td>\n",
       "      <td>11.813267</td>\n",
       "      <td>8.360305</td>\n",
       "      <td>0.032156</td>\n",
       "      <td>54</td>\n",
       "      <td>135104.369432</td>\n",
       "      <td>4645.694885</td>\n",
       "    </tr>\n",
       "    <tr>\n",
       "      <th>2020-04-07</th>\n",
       "      <td>140510</td>\n",
       "      <td>1</td>\n",
       "      <td>5478.0</td>\n",
       "      <td>11.853034</td>\n",
       "      <td>8.608678</td>\n",
       "      <td>0.039767</td>\n",
       "      <td>55</td>\n",
       "      <td>139427.905500</td>\n",
       "      <td>4008.903540</td>\n",
       "    </tr>\n",
       "  </tbody>\n",
       "</table>\n",
       "</div>"
      ],
      "text/plain": [
       "            CONTAGIOS  DIFER_DIAS   DIFER  LN_CONTAGIOS  LN_DIFER  \\\n",
       "FECHA                                                               \n",
       "2020-04-03     117710           1  7472.0     11.675979  8.919052   \n",
       "2020-04-04     124736           1  7026.0     11.733955  8.857515   \n",
       "2020-04-05     130759           1  6023.0     11.781111  8.703507   \n",
       "2020-04-06     135032           1  4273.0     11.813267  8.360305   \n",
       "2020-04-07     140510           1  5478.0     11.853034  8.608678   \n",
       "\n",
       "            LN_CONTAGIOS_DIFER  DIA           PRED  PRED_DIARIA  \n",
       "FECHA                                                            \n",
       "2020-04-03            0.065582   51  118118.549240  6675.828690  \n",
       "2020-04-04            0.057976   52  124462.098135  6005.615408  \n",
       "2020-04-05            0.047156   53  130124.321147  5318.810790  \n",
       "2020-04-06            0.032156   54  135104.369432  4645.694885  \n",
       "2020-04-07            0.039767   55  139427.905500  4008.903540  "
      ]
     },
     "execution_count": 60,
     "metadata": {},
     "output_type": "execute_result"
    }
   ],
   "source": [
    "contagios.tail()"
   ]
  },
  {
   "cell_type": "code",
   "execution_count": 61,
   "metadata": {},
   "outputs": [],
   "source": [
    "weights = np.array(range(1, contagios.shape[0] + 1))"
   ]
  },
  {
   "cell_type": "code",
   "execution_count": 62,
   "metadata": {},
   "outputs": [],
   "source": [
    "def error_mi_func_3(variab, x, y, weights):\n",
    "    \n",
    "    A0, beta0, K = variab\n",
    "    \n",
    "    y_est = (A0 * beta0 * np.exp (-beta0 * x))/(A0 * np.exp(-beta0 * x) + K) ** 2\n",
    "    \n",
    "    return weights * (y - y_est)"
   ]
  },
  {
   "cell_type": "code",
   "execution_count": 68,
   "metadata": {},
   "outputs": [
    {
     "data": {
      "text/plain": [
       "(array([1.04098737e-01, 2.10423336e-01, 6.19215136e-06]), 1)"
      ]
     },
     "execution_count": 68,
     "metadata": {},
     "output_type": "execute_result"
    }
   ],
   "source": [
    "sal"
   ]
  },
  {
   "cell_type": "code",
   "execution_count": 74,
   "metadata": {},
   "outputs": [],
   "source": [
    "vas2 = [0.1, 0.1, 0.1]\n",
    "sal2 = leastsq(error_mi_func_3, vas2, args=(contagios['DIA'], contagios['DIFER'], weights))"
   ]
  },
  {
   "cell_type": "code",
   "execution_count": 75,
   "metadata": {
    "scrolled": true
   },
   "outputs": [
    {
     "data": {
      "text/plain": [
       "(array([4.27137582e-02, 1.89569714e-01, 5.76978263e-06]), 1)"
      ]
     },
     "execution_count": 75,
     "metadata": {},
     "output_type": "execute_result"
    }
   ],
   "source": [
    "sal2"
   ]
  },
  {
   "cell_type": "code",
   "execution_count": 76,
   "metadata": {},
   "outputs": [],
   "source": [
    "x2 = contagios['DIA']\n",
    "\n",
    "A0, beta0, K = sal2[0]\n",
    "\n",
    "y_est2 = (A0 * beta0 * np.exp (-beta0 * x))/(A0 * np.exp(-beta0 * x) + K) ** 2"
   ]
  },
  {
   "cell_type": "code",
   "execution_count": 77,
   "metadata": {},
   "outputs": [
    {
     "data": {
      "text/plain": [
       "FECHA\n",
       "2020-03-03     59.492711\n",
       "2020-03-04     68.203167\n",
       "2020-03-05     77.830926\n",
       "2020-03-06     88.348300\n",
       "2020-03-09    123.962768\n",
       "2020-03-10    136.249235\n",
       "2020-03-11    147.901144\n",
       "2020-03-12    158.108638\n",
       "2020-03-13    165.803592\n",
       "2020-03-14    169.630202\n",
       "2020-03-15    167.937875\n",
       "2020-03-16    158.815056\n",
       "2020-03-17    140.188813\n",
       "2020-03-18    110.019432\n",
       "2020-03-19     66.618161\n",
       "2020-03-20      9.103701\n",
       "2020-03-21    -62.017706\n",
       "2020-03-22   -144.217535\n",
       "2020-03-23   -232.398365\n",
       "2020-03-24   -318.653116\n",
       "2020-03-25   -392.584475\n",
       "2020-03-26   -442.384238\n",
       "2020-03-27   -456.687302\n",
       "2020-03-28   -426.917430\n",
       "2020-03-29   -349.536794\n",
       "2020-03-30   -227.467439\n",
       "2020-03-31    -70.107709\n",
       "2020-04-01    108.188213\n",
       "2020-04-02    290.753397\n",
       "2020-04-03    461.581484\n",
       "2020-04-04    607.803197\n",
       "2020-04-05    721.124120\n",
       "2020-04-06    798.104256\n",
       "2020-04-07    839.513981\n",
       "Name: DIA, dtype: float64"
      ]
     },
     "execution_count": 77,
     "metadata": {},
     "output_type": "execute_result"
    }
   ],
   "source": [
    "y_est2 - y_est"
   ]
  },
  {
   "cell_type": "code",
   "execution_count": 80,
   "metadata": {},
   "outputs": [
    {
     "data": {
      "text/plain": [
       "[<matplotlib.lines.Line2D at 0x2235ef795c0>]"
      ]
     },
     "execution_count": 80,
     "metadata": {},
     "output_type": "execute_result"
    },
    {
     "data": {
      "image/png": "[encoded data removed]",
      "text/plain": [
       "<Figure size 432x288 with 1 Axes>"
      ]
     },
     "metadata": {
      "needs_background": "light"
     },
     "output_type": "display_data"
    }
   ],
   "source": [
    "plt. plot(x, y_est2)\n",
    "plt.plot(x, contagios['DIFER'])\n",
    "plt. plot(x, y_est)"
   ]
  }
 ],
 "metadata": {
  "kernelspec": {
   "display_name": "Python 3",
   "language": "python",
   "name": "python3"
  },
  "language_info": {
   "codemirror_mode": {
    "name": "ipython",
    "version": 3
   },
   "file_extension": ".py",
   "mimetype": "text/x-python",
   "name": "python",
   "nbconvert_exporter": "python",
   "pygments_lexer": "ipython3",
   "version": "3.7.3"
  }
 },
 "nbformat": 4,
 "nbformat_minor": 2
}
