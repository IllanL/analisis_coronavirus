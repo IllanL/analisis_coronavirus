{
 "cells": [
  {
   "cell_type": "markdown",
   "metadata": {},
   "source": [
    "# DIFUSIÓN DEL CORONAVIRUS EN ESPAÑA:\n",
    "\n",
    "## (2ª predicción)"
   ]
  },
  {
   "cell_type": "markdown",
   "metadata": {},
   "source": [
    "## 0. INTRODUCCIÓN"
   ]
  },
  {
   "cell_type": "markdown",
   "metadata": {},
   "source": [
    "Si se quieren ver directamente los resultados de los cálculos, y el pronóstico para los próximos 5 días, pinchar <a href='#a1'>**--> aquí**</a>."
   ]
  },
  {
   "cell_type": "markdown",
   "metadata": {},
   "source": [
    "Este es un pequeño ejercicio de extrapolación para la curva de contagios del coronavirus en España.\n",
    "\n",
    "Como fuente de los datos, a falta de una mejor, se toman los volcados en la siguiente página:\n",
    "\n",
    "https://www.rtve.es/noticias/20200316/mapa-del-coronavirus-espana/2004681.shtml\n",
    "\n",
    "Que recoge los datos que vuelca el Ministerio de Sanidad español. La hora de los contagios en el día de dicho informe puede variar, por lo que la diferencia entre un día y otro puede ser mayor o menor de 24 horas, pero a priori se asumirá que la hora del informe de todos los días es la misma, por falta de referencias.\n",
    "\n",
    "En este script intentaremos predecir un intervalo para el final del crecimiento del número de contagios:"
   ]
  },
  {
   "cell_type": "code",
   "execution_count": 1,
   "metadata": {},
   "outputs": [],
   "source": [
    "import pandas as pd\n",
    "import numpy as np\n",
    "import datetime\n",
    "import matplotlib.pyplot as plt\n",
    "import seaborn as sns\n",
    "\n",
    "from sklearn.linear_model import LinearRegression\n",
    "\n",
    "%matplotlib inline"
   ]
  },
  {
   "cell_type": "code",
   "execution_count": 2,
   "metadata": {},
   "outputs": [
    {
     "data": {
      "image/png": "[encoded data removed]",
      "text/plain": [
       "<Figure size 1080x360 with 1 Axes>"
      ]
     },
     "metadata": {
      "needs_background": "light"
     },
     "output_type": "display_data"
    }
   ],
   "source": [
    "ruta = 'Datos/Contagios medios coronavirus RTVE.csv'\n",
    "sep = ';'\n",
    "\n",
    "date_parser = lambda x: pd.datetime.strptime(x, '%d/%m/%Y')\n",
    "\n",
    "datos = pd.read_csv(ruta, sep = sep, index_col = 'FECHA', parse_dates = ['FECHA'], date_parser = date_parser)\n",
    "\n",
    "datos['DIFER_DIAS'] = datos.index.to_series().diff().fillna(pd.Timedelta(seconds = 8660000)).apply(lambda x: x.days)\n",
    "\n",
    "datos['ratio'] = datos['MUERTOS']/datos['CONTAGIOS']\n",
    "datos['ratio'].plot(figsize=(15,5));"
   ]
  },
  {
   "cell_type": "code",
   "execution_count": 3,
   "metadata": {},
   "outputs": [],
   "source": [
    "contagios = datos[['DIFER_DIAS', 'CONTAGIOS']]\n",
    "muertos = datos[['DIFER_DIAS', 'MUERTOS']]"
   ]
  },
  {
   "cell_type": "markdown",
   "metadata": {},
   "source": [
    "## 1. CONTAGIOS"
   ]
  },
  {
   "cell_type": "markdown",
   "metadata": {},
   "source": [
    "**Paso 1:**\n",
    "\n",
    "**Comprobaciones sobre la serie:**\n",
    "\n",
    "Examinamos primero los datos de los contagios:"
   ]
  },
  {
   "cell_type": "code",
   "execution_count": 4,
   "metadata": {},
   "outputs": [
    {
     "name": "stderr",
     "output_type": "stream",
     "text": [
      "C:\\ProgramData\\Anaconda3\\lib\\site-packages\\ipykernel_launcher.py:2: SettingWithCopyWarning: \n",
      "A value is trying to be set on a copy of a slice from a DataFrame.\n",
      "Try using .loc[row_indexer,col_indexer] = value instead\n",
      "\n",
      "See the caveats in the documentation: http://pandas.pydata.org/pandas-docs/stable/indexing.html#indexing-view-versus-copy\n",
      "  \n"
     ]
    }
   ],
   "source": [
    "# Sumamos 1 por cuestiones de estabilidad numérica a la hora de tomar logaritmos posteriormente:\n",
    "contagios['DIFER'] = contagios['CONTAGIOS'].diff(1).fillna(2)/contagios['DIFER_DIAS']"
   ]
  },
  {
   "cell_type": "code",
   "execution_count": 5,
   "metadata": {},
   "outputs": [],
   "source": [
    "contagios['LN_CONTAGIOS'] = contagios['CONTAGIOS'].apply(lambda x: np.log(x) if x>0 else 0)\n",
    "# Añadimos +1 por criterios de estabilidad con el logaritmo:\n",
    "contagios['LN_DIFER'] = contagios['DIFER'].apply(lambda x: np.log(x+1) if x>0 else 0)\n",
    "contagios['LN_DIFER_2']  = contagios['LN_DIFER'].diff(1).fillna(0)/contagios['DIFER_DIAS']"
   ]
  },
  {
   "cell_type": "code",
   "execution_count": 6,
   "metadata": {},
   "outputs": [],
   "source": [
    "contagios.drop(contagios.index[0], inplace = True)"
   ]
  },
  {
   "cell_type": "markdown",
   "metadata": {},
   "source": [
    "Vamos ahora a aplicar de nuevo un modelo de regresión lineal para nuestra serie, primero calculando la recta que realmente siguen los logartimos, para luego deshacer los cambios.\n",
    "\n",
    "Una vez tengamos nuestro modelo calcularemos el error que nos devuelve nuestro ajuste y haremos predicciones:"
   ]
  },
  {
   "cell_type": "code",
   "execution_count": 7,
   "metadata": {},
   "outputs": [],
   "source": [
    "def cols_para_calculos(df: 'DataFrame', columna_or: 'string', dates_in_index = True):\n",
    "    \n",
    "    if dates_in_index:\n",
    "        day_range = (df.index - df.index[0]).days\n",
    "        df.loc[:,'FECHA'] = day_range\n",
    "    else:\n",
    "        df['FECHA'] =(df.index - df.index[0])\n",
    "\n",
    "    df['PARA_CALCULOS'] = (df[columna_or]).apply(lambda x: -10 if x == 0 else np.log(x))\n",
    "    df['LOG_FECHA_0'] = np.array(np.log(df['FECHA']))\n",
    "    df['LOG_FECHA_1'] = np.array(df['FECHA'].shift(1).apply(lambda x: 0 if (x == 0) else np.log(x)))\n",
    "\n",
    "    df['DIF_FECHA'] = df['LOG_FECHA_0'] - df['LOG_FECHA_1']\n",
    "    df['RATIO'] = df['PARA_CALCULOS'].diff()/df['DIF_FECHA']\n",
    "\n",
    "    factor = df.loc[df.index[2]:,'RATIO'].mean()\n",
    "    \n",
    "    df['RECTA'] = df[columna_or]**(1/factor)\n",
    "    \n",
    "    return df, factor"
   ]
  },
  {
   "cell_type": "code",
   "execution_count": 8,
   "metadata": {},
   "outputs": [
    {
     "name": "stderr",
     "output_type": "stream",
     "text": [
      "C:\\ProgramData\\Anaconda3\\lib\\site-packages\\ipykernel_launcher.py:10: RuntimeWarning: divide by zero encountered in log\n",
      "  # Remove the CWD from sys.path while we load stuff.\n"
     ]
    },
    {
     "data": {
      "text/plain": [
       "0.4882135758626684"
      ]
     },
     "execution_count": 8,
     "metadata": {},
     "output_type": "execute_result"
    }
   ],
   "source": [
    "df_contagios_pred = contagios[['CONTAGIOS', 'DIFER_DIAS', 'LN_CONTAGIOS']].copy()\n",
    "\n",
    "df_contagios_pred, factor = cols_para_calculos(df_contagios_pred, 'LN_CONTAGIOS')\n",
    "factor"
   ]
  },
  {
   "cell_type": "code",
   "execution_count": 9,
   "metadata": {},
   "outputs": [],
   "source": [
    "def ajuste_min_cuadrados(serie_x: 'Series', serie_y: 'Series', factor: 'float', col: 'string'):\n",
    "    \n",
    "    \n",
    "    # Añadimos en el polyfit unos pesos exponenciales sobre el factor de corrección, \n",
    "    # para que el modelo ajuste el peso de los errores según los que tendrían con la distribución original \n",
    "    # del valor en y, y no la propia recta:\n",
    "    \n",
    "    x_range = serie_x\n",
    "    coefs = np.polyfit(np.array(x_range), np.array(serie_y) , deg = 2, w=np.exp(serie_y**factor))\n",
    "\n",
    "    arr_pred = x_range**2 * coefs[0] + x_range * coefs[1] + coefs[2]\n",
    "\n",
    "    df_pred = pd.DataFrame(arr_pred)\n",
    "    df_pred.rename({'FECHA':'PRED'}, axis=1, inplace = True)\n",
    "    df_pred['RECTA'] = serie_y\n",
    "    \n",
    "    \n",
    "    df_pred.plot(figsize=(18,5))\n",
    "    print(df_pred.corr())\n",
    "    \n",
    "    df_pred[col] = np.round(np.exp(df_pred['PRED']**factor).fillna(1))\n",
    "\n",
    "    return df_pred, coefs"
   ]
  },
  {
   "cell_type": "code",
   "execution_count": 10,
   "metadata": {},
   "outputs": [
    {
     "name": "stdout",
     "output_type": "stream",
     "text": [
      "           PRED     RECTA\n",
      "PRED   1.000000  0.998374\n",
      "RECTA  0.998374  1.000000\n"
     ]
    },
    {
     "data": {
      "image/png": "[encoded data removed]",
      "text/plain": [
       "<Figure size 1296x360 with 1 Axes>"
      ]
     },
     "metadata": {
      "needs_background": "light"
     },
     "output_type": "display_data"
    }
   ],
   "source": [
    "new_contagios_prediction, coefs = ajuste_min_cuadrados(df_contagios_pred['FECHA'], df_contagios_pred['LN_CONTAGIOS'], 1, 'PRED_CONTAGIOS')"
   ]
  },
  {
   "cell_type": "code",
   "execution_count": 11,
   "metadata": {},
   "outputs": [
    {
     "data": {
      "text/plain": [
       "0.12251758300597576"
      ]
     },
     "execution_count": 11,
     "metadata": {},
     "output_type": "execute_result"
    }
   ],
   "source": [
    "df_contagios_pred['PRED_CONTAGIOS'] = new_contagios_prediction['PRED_CONTAGIOS']\n",
    "df_contagios_pred['ERROR_ABS'] = abs(df_contagios_pred['PRED_CONTAGIOS'] - df_contagios_pred['CONTAGIOS'])\n",
    "df_contagios_pred['ERROR_REL'] = (abs(df_contagios_pred['PRED_CONTAGIOS'] - df_contagios_pred['CONTAGIOS'])/df_contagios_pred['CONTAGIOS']).fillna(0)\n",
    "df_contagios_pred.loc[df_contagios_pred.index[1]:,'ERROR_REL'].mean()"
   ]
  },
  {
   "cell_type": "code",
   "execution_count": 12,
   "metadata": {},
   "outputs": [
    {
     "data": {
      "text/html": [
       "<div>\n",
       "<style scoped>\n",
       "    .dataframe tbody tr th:only-of-type {\n",
       "        vertical-align: middle;\n",
       "    }\n",
       "\n",
       "    .dataframe tbody tr th {\n",
       "        vertical-align: top;\n",
       "    }\n",
       "\n",
       "    .dataframe thead th {\n",
       "        text-align: right;\n",
       "    }\n",
       "</style>\n",
       "<table border=\"1\" class=\"dataframe\">\n",
       "  <thead>\n",
       "    <tr style=\"text-align: right;\">\n",
       "      <th></th>\n",
       "      <th>CONTAGIOS</th>\n",
       "      <th>DIFER_DIAS</th>\n",
       "      <th>LN_CONTAGIOS</th>\n",
       "      <th>FECHA</th>\n",
       "      <th>PARA_CALCULOS</th>\n",
       "      <th>LOG_FECHA_0</th>\n",
       "      <th>LOG_FECHA_1</th>\n",
       "      <th>DIF_FECHA</th>\n",
       "      <th>RATIO</th>\n",
       "      <th>RECTA</th>\n",
       "      <th>PRED_CONTAGIOS</th>\n",
       "      <th>ERROR_ABS</th>\n",
       "      <th>ERROR_REL</th>\n",
       "    </tr>\n",
       "    <tr>\n",
       "      <th>FECHA</th>\n",
       "      <th></th>\n",
       "      <th></th>\n",
       "      <th></th>\n",
       "      <th></th>\n",
       "      <th></th>\n",
       "      <th></th>\n",
       "      <th></th>\n",
       "      <th></th>\n",
       "      <th></th>\n",
       "      <th></th>\n",
       "      <th></th>\n",
       "      <th></th>\n",
       "      <th></th>\n",
       "    </tr>\n",
       "  </thead>\n",
       "  <tbody>\n",
       "    <tr>\n",
       "      <th>2020-02-25</th>\n",
       "      <td>3</td>\n",
       "      <td>13</td>\n",
       "      <td>1.098612</td>\n",
       "      <td>0</td>\n",
       "      <td>0.094048</td>\n",
       "      <td>-inf</td>\n",
       "      <td>NaN</td>\n",
       "      <td>NaN</td>\n",
       "      <td>NaN</td>\n",
       "      <td>1.212442</td>\n",
       "      <td>9.0</td>\n",
       "      <td>6.0</td>\n",
       "      <td>2.000000</td>\n",
       "    </tr>\n",
       "    <tr>\n",
       "      <th>2020-02-26</th>\n",
       "      <td>7</td>\n",
       "      <td>1</td>\n",
       "      <td>1.945910</td>\n",
       "      <td>1</td>\n",
       "      <td>0.665730</td>\n",
       "      <td>0.000000</td>\n",
       "      <td>0.000000</td>\n",
       "      <td>0.000000</td>\n",
       "      <td>inf</td>\n",
       "      <td>3.910259</td>\n",
       "      <td>14.0</td>\n",
       "      <td>7.0</td>\n",
       "      <td>1.000000</td>\n",
       "    </tr>\n",
       "    <tr>\n",
       "      <th>2020-02-27</th>\n",
       "      <td>16</td>\n",
       "      <td>1</td>\n",
       "      <td>2.772589</td>\n",
       "      <td>2</td>\n",
       "      <td>1.019781</td>\n",
       "      <td>0.693147</td>\n",
       "      <td>0.000000</td>\n",
       "      <td>0.693147</td>\n",
       "      <td>0.510789</td>\n",
       "      <td>8.075234</td>\n",
       "      <td>22.0</td>\n",
       "      <td>6.0</td>\n",
       "      <td>0.375000</td>\n",
       "    </tr>\n",
       "    <tr>\n",
       "      <th>2020-02-28</th>\n",
       "      <td>31</td>\n",
       "      <td>1</td>\n",
       "      <td>3.433987</td>\n",
       "      <td>3</td>\n",
       "      <td>1.233722</td>\n",
       "      <td>1.098612</td>\n",
       "      <td>0.693147</td>\n",
       "      <td>0.405465</td>\n",
       "      <td>0.527642</td>\n",
       "      <td>12.516064</td>\n",
       "      <td>33.0</td>\n",
       "      <td>2.0</td>\n",
       "      <td>0.064516</td>\n",
       "    </tr>\n",
       "    <tr>\n",
       "      <th>2020-03-03</th>\n",
       "      <td>114</td>\n",
       "      <td>4</td>\n",
       "      <td>4.736198</td>\n",
       "      <td>7</td>\n",
       "      <td>1.555235</td>\n",
       "      <td>1.945910</td>\n",
       "      <td>1.098612</td>\n",
       "      <td>0.847298</td>\n",
       "      <td>0.379457</td>\n",
       "      <td>24.180883</td>\n",
       "      <td>161.0</td>\n",
       "      <td>47.0</td>\n",
       "      <td>0.412281</td>\n",
       "    </tr>\n",
       "  </tbody>\n",
       "</table>\n",
       "</div>"
      ],
      "text/plain": [
       "            CONTAGIOS  DIFER_DIAS  LN_CONTAGIOS  FECHA  PARA_CALCULOS  \\\n",
       "FECHA                                                                   \n",
       "2020-02-25          3          13      1.098612      0       0.094048   \n",
       "2020-02-26          7           1      1.945910      1       0.665730   \n",
       "2020-02-27         16           1      2.772589      2       1.019781   \n",
       "2020-02-28         31           1      3.433987      3       1.233722   \n",
       "2020-03-03        114           4      4.736198      7       1.555235   \n",
       "\n",
       "            LOG_FECHA_0  LOG_FECHA_1  DIF_FECHA     RATIO      RECTA  \\\n",
       "FECHA                                                                  \n",
       "2020-02-25         -inf          NaN        NaN       NaN   1.212442   \n",
       "2020-02-26     0.000000     0.000000   0.000000       inf   3.910259   \n",
       "2020-02-27     0.693147     0.000000   0.693147  0.510789   8.075234   \n",
       "2020-02-28     1.098612     0.693147   0.405465  0.527642  12.516064   \n",
       "2020-03-03     1.945910     1.098612   0.847298  0.379457  24.180883   \n",
       "\n",
       "            PRED_CONTAGIOS  ERROR_ABS  ERROR_REL  \n",
       "FECHA                                             \n",
       "2020-02-25             9.0        6.0   2.000000  \n",
       "2020-02-26            14.0        7.0   1.000000  \n",
       "2020-02-27            22.0        6.0   0.375000  \n",
       "2020-02-28            33.0        2.0   0.064516  \n",
       "2020-03-03           161.0       47.0   0.412281  "
      ]
     },
     "execution_count": 12,
     "metadata": {},
     "output_type": "execute_result"
    }
   ],
   "source": [
    "df_contagios_pred.head()"
   ]
  },
  {
   "cell_type": "markdown",
   "metadata": {},
   "source": [
    "Como se puede observar, el ajuste es malo para las fechas iniciales, pero mejor según nos acercamos a las actuales, presentando un error medio demasiado elevado.\n",
    "\n",
    "Sin embargo, esa distribución del error no es uniforme.\n",
    "\n",
    "Podemos ver que el error cometido del 15 de marzo en adelante es:"
   ]
  },
  {
   "cell_type": "code",
   "execution_count": 13,
   "metadata": {},
   "outputs": [
    {
     "data": {
      "text/plain": [
       "0.03358470585450067"
      ]
     },
     "execution_count": 13,
     "metadata": {},
     "output_type": "execute_result"
    }
   ],
   "source": [
    "df_contagios_pred.loc[pd.to_datetime('2020-03-15'):,'ERROR_REL'].mean()"
   ]
  },
  {
   "cell_type": "markdown",
   "metadata": {},
   "source": [
    "... un 3,3%, lo cual es muy buen valor."
   ]
  },
  {
   "cell_type": "code",
   "execution_count": 14,
   "metadata": {},
   "outputs": [],
   "source": [
    "def prediccion(day_num_of_reference, date_of_reference, coeficientes, factor):    \n",
    "\n",
    "    x_range_ext = np.array(range(day_num_of_reference + 1, day_num_of_reference + 6))\n",
    "    index = [date_of_reference + datetime.timedelta(int(x)) for x in x_range_ext]\n",
    "    arr_pred = x_range_ext**2 * coeficientes[0] +x_range_ext * coeficientes[1] + coeficientes[2]\n",
    "\n",
    "    arr_pred = np.round(np.exp(arr_pred**factor))\n",
    "    arr_pred = pd.DataFrame(arr_pred, columns = ['PRED'], index = index)\n",
    "    return arr_pred"
   ]
  },
  {
   "cell_type": "code",
   "execution_count": 15,
   "metadata": {},
   "outputs": [
    {
     "data": {
      "text/html": [
       "<div>\n",
       "<style scoped>\n",
       "    .dataframe tbody tr th:only-of-type {\n",
       "        vertical-align: middle;\n",
       "    }\n",
       "\n",
       "    .dataframe tbody tr th {\n",
       "        vertical-align: top;\n",
       "    }\n",
       "\n",
       "    .dataframe thead th {\n",
       "        text-align: right;\n",
       "    }\n",
       "</style>\n",
       "<table border=\"1\" class=\"dataframe\">\n",
       "  <thead>\n",
       "    <tr style=\"text-align: right;\">\n",
       "      <th></th>\n",
       "      <th>PRED</th>\n",
       "    </tr>\n",
       "  </thead>\n",
       "  <tbody>\n",
       "    <tr>\n",
       "      <th>2020-03-31</th>\n",
       "      <td>94708.0</td>\n",
       "    </tr>\n",
       "    <tr>\n",
       "      <th>2020-04-01</th>\n",
       "      <td>102301.0</td>\n",
       "    </tr>\n",
       "    <tr>\n",
       "      <th>2020-04-02</th>\n",
       "      <td>109362.0</td>\n",
       "    </tr>\n",
       "    <tr>\n",
       "      <th>2020-04-03</th>\n",
       "      <td>115702.0</td>\n",
       "    </tr>\n",
       "    <tr>\n",
       "      <th>2020-04-04</th>\n",
       "      <td>121144.0</td>\n",
       "    </tr>\n",
       "  </tbody>\n",
       "</table>\n",
       "</div>"
      ],
      "text/plain": [
       "                PRED\n",
       "2020-03-31   94708.0\n",
       "2020-04-01  102301.0\n",
       "2020-04-02  109362.0\n",
       "2020-04-03  115702.0\n",
       "2020-04-04  121144.0"
      ]
     },
     "execution_count": 15,
     "metadata": {},
     "output_type": "execute_result"
    }
   ],
   "source": [
    "day_num_of_reference = df_contagios_pred['FECHA'][-1]\n",
    "date_of_reference = df_contagios_pred.index[0]\n",
    "arr_contagios_pred = prediccion(day_num_of_reference, date_of_reference, coefs, 1)\n",
    "arr_contagios_pred"
   ]
  },
  {
   "cell_type": "markdown",
   "metadata": {},
   "source": [
    "Provisionalmente aceptaremos estos datos como resultantes de una primera iteración.\n",
    "\n",
    "Sin embargo, podemos observar que extrapolar con los datos de contagios es complicado, en parte, debido a los cambios de criterio mencionados anteriormente."
   ]
  },
  {
   "cell_type": "markdown",
   "metadata": {},
   "source": [
    "## 2. MUERTOS"
   ]
  },
  {
   "cell_type": "markdown",
   "metadata": {},
   "source": [
    "Pasamos ahora a comprobar los de los muertos:"
   ]
  },
  {
   "cell_type": "code",
   "execution_count": 16,
   "metadata": {},
   "outputs": [
    {
     "name": "stderr",
     "output_type": "stream",
     "text": [
      "C:\\ProgramData\\Anaconda3\\lib\\site-packages\\ipykernel_launcher.py:1: SettingWithCopyWarning: \n",
      "A value is trying to be set on a copy of a slice from a DataFrame.\n",
      "Try using .loc[row_indexer,col_indexer] = value instead\n",
      "\n",
      "See the caveats in the documentation: http://pandas.pydata.org/pandas-docs/stable/indexing.html#indexing-view-versus-copy\n",
      "  \"\"\"Entry point for launching an IPython kernel.\n"
     ]
    }
   ],
   "source": [
    "muertos['MUERTOS_DIARIOS'] = muertos['MUERTOS'].diff().fillna(0)/muertos['DIFER_DIAS']\n",
    "muertos['LN_MUERTOS'] = muertos['MUERTOS'].apply(lambda x: 0 if x == 0 else np.log(x))"
   ]
  },
  {
   "cell_type": "code",
   "execution_count": 17,
   "metadata": {},
   "outputs": [],
   "source": [
    "date_list = [muertos.index[-1] + datetime.timedelta(days=x+1) for x in range(10)]"
   ]
  },
  {
   "cell_type": "code",
   "execution_count": 18,
   "metadata": {
    "scrolled": false
   },
   "outputs": [
    {
     "data": {
      "text/html": [
       "<div>\n",
       "<style scoped>\n",
       "    .dataframe tbody tr th:only-of-type {\n",
       "        vertical-align: middle;\n",
       "    }\n",
       "\n",
       "    .dataframe tbody tr th {\n",
       "        vertical-align: top;\n",
       "    }\n",
       "\n",
       "    .dataframe thead th {\n",
       "        text-align: right;\n",
       "    }\n",
       "</style>\n",
       "<table border=\"1\" class=\"dataframe\">\n",
       "  <thead>\n",
       "    <tr style=\"text-align: right;\">\n",
       "      <th></th>\n",
       "      <th>PRED</th>\n",
       "      <th>REAL</th>\n",
       "    </tr>\n",
       "  </thead>\n",
       "  <tbody>\n",
       "    <tr>\n",
       "      <th>PRED</th>\n",
       "      <td>1.00000</td>\n",
       "      <td>0.99804</td>\n",
       "    </tr>\n",
       "    <tr>\n",
       "      <th>REAL</th>\n",
       "      <td>0.99804</td>\n",
       "      <td>1.00000</td>\n",
       "    </tr>\n",
       "  </tbody>\n",
       "</table>\n",
       "</div>"
      ],
      "text/plain": [
       "         PRED     REAL\n",
       "PRED  1.00000  0.99804\n",
       "REAL  0.99804  1.00000"
      ]
     },
     "execution_count": 18,
     "metadata": {},
     "output_type": "execute_result"
    },
    {
     "data": {
      "image/png": "[encoded data removed]",
      "text/plain": [
       "<Figure size 1296x360 with 1 Axes>"
      ]
     },
     "metadata": {
      "needs_background": "light"
     },
     "output_type": "display_data"
    }
   ],
   "source": [
    "muertos_pol = muertos[muertos['MUERTOS'] != 0]\n",
    "day_range = (muertos_pol.index - muertos[muertos['MUERTOS']>0].index[0]).days\n",
    "\n",
    "coefs = np.polyfit(day_range, np.array(muertos_pol['LN_MUERTOS']) , 2, w=np.exp(np.array(muertos_pol['LN_MUERTOS'])))\n",
    "\n",
    "arr_muertos_pred = day_range**2 * coefs[0] + day_range * coefs[1] + coefs[2]\n",
    "    \n",
    "df_muertos_pred = pd.DataFrame(arr_muertos_pred, index = day_range)\n",
    "df_muertos_pred.rename({'FECHA':'PRED'}, axis=1, inplace = True)\n",
    "df_muertos_pred['REAL'] = muertos_pol.set_index(day_range)['LN_MUERTOS']\n",
    "df_muertos_pred.plot(figsize=(18,5));\n",
    "df_muertos_pred.corr()"
   ]
  },
  {
   "cell_type": "code",
   "execution_count": 19,
   "metadata": {},
   "outputs": [],
   "source": [
    "df_muertos_pred.drop('PRED', axis = 1, inplace = True)"
   ]
  },
  {
   "cell_type": "code",
   "execution_count": 20,
   "metadata": {},
   "outputs": [
    {
     "name": "stderr",
     "output_type": "stream",
     "text": [
      "C:\\ProgramData\\Anaconda3\\lib\\site-packages\\ipykernel_launcher.py:10: RuntimeWarning: divide by zero encountered in log\n",
      "  # Remove the CWD from sys.path while we load stuff.\n"
     ]
    }
   ],
   "source": [
    "df_muertos_pred, factor = cols_para_calculos(df_muertos_pred, 'REAL', dates_in_index = False)"
   ]
  },
  {
   "cell_type": "code",
   "execution_count": 21,
   "metadata": {},
   "outputs": [
    {
     "name": "stdout",
     "output_type": "stream",
     "text": [
      "          PRED    RECTA\n",
      "PRED   1.00000  0.99804\n",
      "RECTA  0.99804  1.00000\n"
     ]
    },
    {
     "data": {
      "image/png": "[encoded data removed]",
      "text/plain": [
       "<Figure size 1296x360 with 1 Axes>"
      ]
     },
     "metadata": {
      "needs_background": "light"
     },
     "output_type": "display_data"
    }
   ],
   "source": [
    "muertos_pol = muertos[muertos['MUERTOS'] != 0]\n",
    "\n",
    "other_prediction, coefs = ajuste_min_cuadrados(df_muertos_pred['FECHA'], df_muertos_pred['REAL'], 1, 'PRED_MUERTES')"
   ]
  },
  {
   "cell_type": "markdown",
   "metadata": {},
   "source": [
    "Ahora que ya tenemos las predicciones, deshacemos:"
   ]
  },
  {
   "cell_type": "code",
   "execution_count": 22,
   "metadata": {},
   "outputs": [],
   "source": [
    "other_prediction['FECHA'] = muertos[muertos['MUERTOS'] != 0].index\n",
    "other_prediction.set_index('FECHA', inplace = True)"
   ]
  },
  {
   "cell_type": "markdown",
   "metadata": {},
   "source": [
    "Y, finalmente, tendremos ya el método ajustado y podemos insertarlo en nuestro DataFrame y calcular errores:"
   ]
  },
  {
   "cell_type": "code",
   "execution_count": 23,
   "metadata": {},
   "outputs": [
    {
     "data": {
      "text/html": [
       "<div>\n",
       "<style scoped>\n",
       "    .dataframe tbody tr th:only-of-type {\n",
       "        vertical-align: middle;\n",
       "    }\n",
       "\n",
       "    .dataframe tbody tr th {\n",
       "        vertical-align: top;\n",
       "    }\n",
       "\n",
       "    .dataframe thead th {\n",
       "        text-align: right;\n",
       "    }\n",
       "</style>\n",
       "<table border=\"1\" class=\"dataframe\">\n",
       "  <thead>\n",
       "    <tr style=\"text-align: right;\">\n",
       "      <th></th>\n",
       "      <th>DIFER_DIAS</th>\n",
       "      <th>MUERTOS</th>\n",
       "      <th>MUERTOS_DIARIOS</th>\n",
       "      <th>LN_MUERTOS</th>\n",
       "      <th>PRED</th>\n",
       "      <th>ERROR_ABS</th>\n",
       "      <th>ERROR_REL</th>\n",
       "    </tr>\n",
       "    <tr>\n",
       "      <th>FECHA</th>\n",
       "      <th></th>\n",
       "      <th></th>\n",
       "      <th></th>\n",
       "      <th></th>\n",
       "      <th></th>\n",
       "      <th></th>\n",
       "      <th></th>\n",
       "    </tr>\n",
       "  </thead>\n",
       "  <tbody>\n",
       "    <tr>\n",
       "      <th>2020-03-21</th>\n",
       "      <td>1</td>\n",
       "      <td>1326</td>\n",
       "      <td>324.0</td>\n",
       "      <td>7.189922</td>\n",
       "      <td>1359.0</td>\n",
       "      <td>33.0</td>\n",
       "      <td>0.024887</td>\n",
       "    </tr>\n",
       "    <tr>\n",
       "      <th>2020-03-22</th>\n",
       "      <td>1</td>\n",
       "      <td>1720</td>\n",
       "      <td>394.0</td>\n",
       "      <td>7.450080</td>\n",
       "      <td>1748.0</td>\n",
       "      <td>28.0</td>\n",
       "      <td>0.016279</td>\n",
       "    </tr>\n",
       "    <tr>\n",
       "      <th>2020-03-23</th>\n",
       "      <td>1</td>\n",
       "      <td>2182</td>\n",
       "      <td>462.0</td>\n",
       "      <td>7.687997</td>\n",
       "      <td>2213.0</td>\n",
       "      <td>31.0</td>\n",
       "      <td>0.014207</td>\n",
       "    </tr>\n",
       "    <tr>\n",
       "      <th>2020-03-24</th>\n",
       "      <td>1</td>\n",
       "      <td>2696</td>\n",
       "      <td>514.0</td>\n",
       "      <td>7.899524</td>\n",
       "      <td>2757.0</td>\n",
       "      <td>61.0</td>\n",
       "      <td>0.022626</td>\n",
       "    </tr>\n",
       "    <tr>\n",
       "      <th>2020-03-25</th>\n",
       "      <td>1</td>\n",
       "      <td>3434</td>\n",
       "      <td>738.0</td>\n",
       "      <td>8.141481</td>\n",
       "      <td>3380.0</td>\n",
       "      <td>54.0</td>\n",
       "      <td>0.015725</td>\n",
       "    </tr>\n",
       "    <tr>\n",
       "      <th>2020-03-26</th>\n",
       "      <td>1</td>\n",
       "      <td>4089</td>\n",
       "      <td>655.0</td>\n",
       "      <td>8.316056</td>\n",
       "      <td>4079.0</td>\n",
       "      <td>10.0</td>\n",
       "      <td>0.002446</td>\n",
       "    </tr>\n",
       "    <tr>\n",
       "      <th>2020-03-27</th>\n",
       "      <td>1</td>\n",
       "      <td>4858</td>\n",
       "      <td>769.0</td>\n",
       "      <td>8.488382</td>\n",
       "      <td>4844.0</td>\n",
       "      <td>14.0</td>\n",
       "      <td>0.002882</td>\n",
       "    </tr>\n",
       "    <tr>\n",
       "      <th>2020-03-28</th>\n",
       "      <td>1</td>\n",
       "      <td>5690</td>\n",
       "      <td>832.0</td>\n",
       "      <td>8.646466</td>\n",
       "      <td>5662.0</td>\n",
       "      <td>28.0</td>\n",
       "      <td>0.004921</td>\n",
       "    </tr>\n",
       "    <tr>\n",
       "      <th>2020-03-29</th>\n",
       "      <td>1</td>\n",
       "      <td>6528</td>\n",
       "      <td>838.0</td>\n",
       "      <td>8.783856</td>\n",
       "      <td>6513.0</td>\n",
       "      <td>15.0</td>\n",
       "      <td>0.002298</td>\n",
       "    </tr>\n",
       "    <tr>\n",
       "      <th>2020-03-30</th>\n",
       "      <td>1</td>\n",
       "      <td>7340</td>\n",
       "      <td>812.0</td>\n",
       "      <td>8.901094</td>\n",
       "      <td>7374.0</td>\n",
       "      <td>34.0</td>\n",
       "      <td>0.004632</td>\n",
       "    </tr>\n",
       "  </tbody>\n",
       "</table>\n",
       "</div>"
      ],
      "text/plain": [
       "            DIFER_DIAS  MUERTOS  MUERTOS_DIARIOS  LN_MUERTOS    PRED  \\\n",
       "FECHA                                                                  \n",
       "2020-03-21           1     1326            324.0    7.189922  1359.0   \n",
       "2020-03-22           1     1720            394.0    7.450080  1748.0   \n",
       "2020-03-23           1     2182            462.0    7.687997  2213.0   \n",
       "2020-03-24           1     2696            514.0    7.899524  2757.0   \n",
       "2020-03-25           1     3434            738.0    8.141481  3380.0   \n",
       "2020-03-26           1     4089            655.0    8.316056  4079.0   \n",
       "2020-03-27           1     4858            769.0    8.488382  4844.0   \n",
       "2020-03-28           1     5690            832.0    8.646466  5662.0   \n",
       "2020-03-29           1     6528            838.0    8.783856  6513.0   \n",
       "2020-03-30           1     7340            812.0    8.901094  7374.0   \n",
       "\n",
       "            ERROR_ABS  ERROR_REL  \n",
       "FECHA                             \n",
       "2020-03-21       33.0   0.024887  \n",
       "2020-03-22       28.0   0.016279  \n",
       "2020-03-23       31.0   0.014207  \n",
       "2020-03-24       61.0   0.022626  \n",
       "2020-03-25       54.0   0.015725  \n",
       "2020-03-26       10.0   0.002446  \n",
       "2020-03-27       14.0   0.002882  \n",
       "2020-03-28       28.0   0.004921  \n",
       "2020-03-29       15.0   0.002298  \n",
       "2020-03-30       34.0   0.004632  "
      ]
     },
     "execution_count": 23,
     "metadata": {},
     "output_type": "execute_result"
    }
   ],
   "source": [
    "muertos['PRED'] = other_prediction['PRED_MUERTES']\n",
    "muertos['PRED'].fillna(0, inplace = True)\n",
    "muertos['ERROR_ABS'] = abs(muertos['PRED'] - muertos['MUERTOS'])\n",
    "muertos['ERROR_REL'] = (abs(muertos['PRED'] - muertos['MUERTOS'])/muertos['MUERTOS']).fillna(0)\n",
    "muertos.tail(10)"
   ]
  },
  {
   "cell_type": "markdown",
   "metadata": {},
   "source": [
    "Como podemos ver, en este caso el ajuste es muy bueno. Vamos a extrapolar hacia el futuro, para predecir el total de muertos a lo largo de los próximos 5 días:"
   ]
  },
  {
   "cell_type": "code",
   "execution_count": 24,
   "metadata": {},
   "outputs": [
    {
     "data": {
      "text/html": [
       "<div>\n",
       "<style scoped>\n",
       "    .dataframe tbody tr th:only-of-type {\n",
       "        vertical-align: middle;\n",
       "    }\n",
       "\n",
       "    .dataframe tbody tr th {\n",
       "        vertical-align: top;\n",
       "    }\n",
       "\n",
       "    .dataframe thead th {\n",
       "        text-align: right;\n",
       "    }\n",
       "</style>\n",
       "<table border=\"1\" class=\"dataframe\">\n",
       "  <thead>\n",
       "    <tr style=\"text-align: right;\">\n",
       "      <th></th>\n",
       "      <th>PRED</th>\n",
       "    </tr>\n",
       "  </thead>\n",
       "  <tbody>\n",
       "    <tr>\n",
       "      <th>2020-03-31</th>\n",
       "      <td>8216.0</td>\n",
       "    </tr>\n",
       "    <tr>\n",
       "      <th>2020-04-01</th>\n",
       "      <td>9010.0</td>\n",
       "    </tr>\n",
       "    <tr>\n",
       "      <th>2020-04-02</th>\n",
       "      <td>9723.0</td>\n",
       "    </tr>\n",
       "    <tr>\n",
       "      <th>2020-04-03</th>\n",
       "      <td>10327.0</td>\n",
       "    </tr>\n",
       "    <tr>\n",
       "      <th>2020-04-04</th>\n",
       "      <td>10795.0</td>\n",
       "    </tr>\n",
       "  </tbody>\n",
       "</table>\n",
       "</div>"
      ],
      "text/plain": [
       "               PRED\n",
       "2020-03-31   8216.0\n",
       "2020-04-01   9010.0\n",
       "2020-04-02   9723.0\n",
       "2020-04-03  10327.0\n",
       "2020-04-04  10795.0"
      ]
     },
     "execution_count": 24,
     "metadata": {},
     "output_type": "execute_result"
    }
   ],
   "source": [
    "day_num_of_reference = df_muertos_pred.index[-1]\n",
    "date_of_reference = muertos[muertos['MUERTOS'] != 0].index[0]\n",
    "\n",
    "arr_muertos_pred = prediccion(day_num_of_reference, date_of_reference, coefs, 1)\n",
    "arr_muertos_pred"
   ]
  },
  {
   "cell_type": "markdown",
   "metadata": {},
   "source": [
    "Y, una vez teniendo ya la predicción de los muertos totales, podemos añadir al DataFrame y calcular también la diferencia diaria:\n",
    "\n",
    "Resaltar que, para el primer valor predicho de muertos diarios, el número puede estar ligeramente sobreestimado por la diferencia de 65 personas existente entre la predicción y el número real de muertos para la fecha del día de hoy (22/03/2020).\n",
    "\n",
    "El resto de valores sí deberían estar en la línea del comportamiento futuro.\n",
    "\n",
    "Como se puede ver, la evolución es ciertamente preocupante:"
   ]
  },
  {
   "cell_type": "code",
   "execution_count": 25,
   "metadata": {},
   "outputs": [
    {
     "data": {
      "text/html": [
       "<div>\n",
       "<style scoped>\n",
       "    .dataframe tbody tr th:only-of-type {\n",
       "        vertical-align: middle;\n",
       "    }\n",
       "\n",
       "    .dataframe tbody tr th {\n",
       "        vertical-align: top;\n",
       "    }\n",
       "\n",
       "    .dataframe thead th {\n",
       "        text-align: right;\n",
       "    }\n",
       "</style>\n",
       "<table border=\"1\" class=\"dataframe\">\n",
       "  <thead>\n",
       "    <tr style=\"text-align: right;\">\n",
       "      <th></th>\n",
       "      <th>DIFER_DIAS</th>\n",
       "      <th>MUERTOS</th>\n",
       "      <th>MUERTOS_DIARIOS</th>\n",
       "      <th>LN_MUERTOS</th>\n",
       "      <th>PRED</th>\n",
       "      <th>ERROR_ABS</th>\n",
       "      <th>ERROR_REL</th>\n",
       "    </tr>\n",
       "  </thead>\n",
       "  <tbody>\n",
       "    <tr>\n",
       "      <th>2020-03-26</th>\n",
       "      <td>1.0</td>\n",
       "      <td>4089.0</td>\n",
       "      <td>655.0</td>\n",
       "      <td>8.316056</td>\n",
       "      <td>4079.0</td>\n",
       "      <td>10.0</td>\n",
       "      <td>0.002446</td>\n",
       "    </tr>\n",
       "    <tr>\n",
       "      <th>2020-03-27</th>\n",
       "      <td>1.0</td>\n",
       "      <td>4858.0</td>\n",
       "      <td>769.0</td>\n",
       "      <td>8.488382</td>\n",
       "      <td>4844.0</td>\n",
       "      <td>14.0</td>\n",
       "      <td>0.002882</td>\n",
       "    </tr>\n",
       "    <tr>\n",
       "      <th>2020-03-28</th>\n",
       "      <td>1.0</td>\n",
       "      <td>5690.0</td>\n",
       "      <td>832.0</td>\n",
       "      <td>8.646466</td>\n",
       "      <td>5662.0</td>\n",
       "      <td>28.0</td>\n",
       "      <td>0.004921</td>\n",
       "    </tr>\n",
       "    <tr>\n",
       "      <th>2020-03-29</th>\n",
       "      <td>1.0</td>\n",
       "      <td>6528.0</td>\n",
       "      <td>838.0</td>\n",
       "      <td>8.783856</td>\n",
       "      <td>6513.0</td>\n",
       "      <td>15.0</td>\n",
       "      <td>0.002298</td>\n",
       "    </tr>\n",
       "    <tr>\n",
       "      <th>2020-03-30</th>\n",
       "      <td>1.0</td>\n",
       "      <td>7340.0</td>\n",
       "      <td>812.0</td>\n",
       "      <td>8.901094</td>\n",
       "      <td>7374.0</td>\n",
       "      <td>34.0</td>\n",
       "      <td>0.004632</td>\n",
       "    </tr>\n",
       "    <tr>\n",
       "      <th>2020-03-31</th>\n",
       "      <td>NaN</td>\n",
       "      <td>NaN</td>\n",
       "      <td>876.0</td>\n",
       "      <td>NaN</td>\n",
       "      <td>8216.0</td>\n",
       "      <td>NaN</td>\n",
       "      <td>NaN</td>\n",
       "    </tr>\n",
       "    <tr>\n",
       "      <th>2020-04-01</th>\n",
       "      <td>NaN</td>\n",
       "      <td>NaN</td>\n",
       "      <td>794.0</td>\n",
       "      <td>NaN</td>\n",
       "      <td>9010.0</td>\n",
       "      <td>NaN</td>\n",
       "      <td>NaN</td>\n",
       "    </tr>\n",
       "    <tr>\n",
       "      <th>2020-04-02</th>\n",
       "      <td>NaN</td>\n",
       "      <td>NaN</td>\n",
       "      <td>713.0</td>\n",
       "      <td>NaN</td>\n",
       "      <td>9723.0</td>\n",
       "      <td>NaN</td>\n",
       "      <td>NaN</td>\n",
       "    </tr>\n",
       "    <tr>\n",
       "      <th>2020-04-03</th>\n",
       "      <td>NaN</td>\n",
       "      <td>NaN</td>\n",
       "      <td>604.0</td>\n",
       "      <td>NaN</td>\n",
       "      <td>10327.0</td>\n",
       "      <td>NaN</td>\n",
       "      <td>NaN</td>\n",
       "    </tr>\n",
       "    <tr>\n",
       "      <th>2020-04-04</th>\n",
       "      <td>NaN</td>\n",
       "      <td>NaN</td>\n",
       "      <td>468.0</td>\n",
       "      <td>NaN</td>\n",
       "      <td>10795.0</td>\n",
       "      <td>NaN</td>\n",
       "      <td>NaN</td>\n",
       "    </tr>\n",
       "  </tbody>\n",
       "</table>\n",
       "</div>"
      ],
      "text/plain": [
       "            DIFER_DIAS  MUERTOS  MUERTOS_DIARIOS  LN_MUERTOS     PRED  \\\n",
       "2020-03-26         1.0   4089.0            655.0    8.316056   4079.0   \n",
       "2020-03-27         1.0   4858.0            769.0    8.488382   4844.0   \n",
       "2020-03-28         1.0   5690.0            832.0    8.646466   5662.0   \n",
       "2020-03-29         1.0   6528.0            838.0    8.783856   6513.0   \n",
       "2020-03-30         1.0   7340.0            812.0    8.901094   7374.0   \n",
       "2020-03-31         NaN      NaN            876.0         NaN   8216.0   \n",
       "2020-04-01         NaN      NaN            794.0         NaN   9010.0   \n",
       "2020-04-02         NaN      NaN            713.0         NaN   9723.0   \n",
       "2020-04-03         NaN      NaN            604.0         NaN  10327.0   \n",
       "2020-04-04         NaN      NaN            468.0         NaN  10795.0   \n",
       "\n",
       "            ERROR_ABS  ERROR_REL  \n",
       "2020-03-26       10.0   0.002446  \n",
       "2020-03-27       14.0   0.002882  \n",
       "2020-03-28       28.0   0.004921  \n",
       "2020-03-29       15.0   0.002298  \n",
       "2020-03-30       34.0   0.004632  \n",
       "2020-03-31        NaN        NaN  \n",
       "2020-04-01        NaN        NaN  \n",
       "2020-04-02        NaN        NaN  \n",
       "2020-04-03        NaN        NaN  \n",
       "2020-04-04        NaN        NaN  "
      ]
     },
     "execution_count": 25,
     "metadata": {},
     "output_type": "execute_result"
    }
   ],
   "source": [
    "muertos = muertos.append(arr_muertos_pred, sort = False)\n",
    "muertos.loc[muertos['MUERTOS_DIARIOS'].isna(), 'MUERTOS_DIARIOS'] = muertos.loc[muertos['MUERTOS_DIARIOS'].isna(), 'PRED'].diff()\n",
    "missing_date = muertos[muertos['MUERTOS_DIARIOS'].isna()].index\n",
    "muertos.loc[muertos['MUERTOS_DIARIOS'].isna(), 'MUERTOS_DIARIOS'] = muertos.loc[missing_date, 'PRED'] - muertos['MUERTOS'].shift(1)[missing_date]\n",
    "muertos.tail(10)"
   ]
  },
  {
   "cell_type": "markdown",
   "metadata": {},
   "source": [
    "Finalmente, dejamos el error relativo medio:"
   ]
  },
  {
   "cell_type": "code",
   "execution_count": 26,
   "metadata": {},
   "outputs": [
    {
     "data": {
      "text/plain": [
       "0.013529704915119355"
      ]
     },
     "execution_count": 26,
     "metadata": {},
     "output_type": "execute_result"
    }
   ],
   "source": [
    "muertos.loc[date_of_reference + datetime.timedelta(int(day_num_of_reference-10)):, 'ERROR_REL'].mean()"
   ]
  },
  {
   "cell_type": "markdown",
   "metadata": {},
   "source": [
    "Como podemos ver, el error relativo cometido en el ajuste en los últimos 10 días con datos es del 6,5%, lo que es un valor aceptable para una primera estimación y da bastante confianza para nuestras estimaciones."
   ]
  },
  {
   "cell_type": "markdown",
   "metadata": {},
   "source": [
    "## 3. PREDICCIONES<a id='a1'></a>"
   ]
  },
  {
   "cell_type": "markdown",
   "metadata": {},
   "source": [
    "Presentamos finalmente las predicciones, de seguir presentando la expansión del virus el comportamiento actual:"
   ]
  },
  {
   "cell_type": "markdown",
   "metadata": {},
   "source": [
    "**CONTAGIOS (total contagiados)**"
   ]
  },
  {
   "cell_type": "code",
   "execution_count": 27,
   "metadata": {
    "scrolled": false
   },
   "outputs": [
    {
     "data": {
      "text/html": [
       "<div>\n",
       "<style scoped>\n",
       "    .dataframe tbody tr th:only-of-type {\n",
       "        vertical-align: middle;\n",
       "    }\n",
       "\n",
       "    .dataframe tbody tr th {\n",
       "        vertical-align: top;\n",
       "    }\n",
       "\n",
       "    .dataframe thead th {\n",
       "        text-align: right;\n",
       "    }\n",
       "</style>\n",
       "<table border=\"1\" class=\"dataframe\">\n",
       "  <thead>\n",
       "    <tr style=\"text-align: right;\">\n",
       "      <th></th>\n",
       "      <th>PRED</th>\n",
       "    </tr>\n",
       "  </thead>\n",
       "  <tbody>\n",
       "    <tr>\n",
       "      <th>2020-03-31</th>\n",
       "      <td>94708.0</td>\n",
       "    </tr>\n",
       "    <tr>\n",
       "      <th>2020-04-01</th>\n",
       "      <td>102301.0</td>\n",
       "    </tr>\n",
       "    <tr>\n",
       "      <th>2020-04-02</th>\n",
       "      <td>109362.0</td>\n",
       "    </tr>\n",
       "    <tr>\n",
       "      <th>2020-04-03</th>\n",
       "      <td>115702.0</td>\n",
       "    </tr>\n",
       "    <tr>\n",
       "      <th>2020-04-04</th>\n",
       "      <td>121144.0</td>\n",
       "    </tr>\n",
       "  </tbody>\n",
       "</table>\n",
       "</div>"
      ],
      "text/plain": [
       "                PRED\n",
       "2020-03-31   94708.0\n",
       "2020-04-01  102301.0\n",
       "2020-04-02  109362.0\n",
       "2020-04-03  115702.0\n",
       "2020-04-04  121144.0"
      ]
     },
     "execution_count": 27,
     "metadata": {},
     "output_type": "execute_result"
    }
   ],
   "source": [
    "arr_contagios_pred"
   ]
  },
  {
   "cell_type": "markdown",
   "metadata": {},
   "source": [
    "**MUERTOS (total muertos)**"
   ]
  },
  {
   "cell_type": "code",
   "execution_count": 28,
   "metadata": {
    "scrolled": true
   },
   "outputs": [
    {
     "data": {
      "text/html": [
       "<div>\n",
       "<style scoped>\n",
       "    .dataframe tbody tr th:only-of-type {\n",
       "        vertical-align: middle;\n",
       "    }\n",
       "\n",
       "    .dataframe tbody tr th {\n",
       "        vertical-align: top;\n",
       "    }\n",
       "\n",
       "    .dataframe thead th {\n",
       "        text-align: right;\n",
       "    }\n",
       "</style>\n",
       "<table border=\"1\" class=\"dataframe\">\n",
       "  <thead>\n",
       "    <tr style=\"text-align: right;\">\n",
       "      <th></th>\n",
       "      <th>PRED</th>\n",
       "    </tr>\n",
       "  </thead>\n",
       "  <tbody>\n",
       "    <tr>\n",
       "      <th>2020-03-31</th>\n",
       "      <td>8216.0</td>\n",
       "    </tr>\n",
       "    <tr>\n",
       "      <th>2020-04-01</th>\n",
       "      <td>9010.0</td>\n",
       "    </tr>\n",
       "    <tr>\n",
       "      <th>2020-04-02</th>\n",
       "      <td>9723.0</td>\n",
       "    </tr>\n",
       "    <tr>\n",
       "      <th>2020-04-03</th>\n",
       "      <td>10327.0</td>\n",
       "    </tr>\n",
       "    <tr>\n",
       "      <th>2020-04-04</th>\n",
       "      <td>10795.0</td>\n",
       "    </tr>\n",
       "  </tbody>\n",
       "</table>\n",
       "</div>"
      ],
      "text/plain": [
       "               PRED\n",
       "2020-03-31   8216.0\n",
       "2020-04-01   9010.0\n",
       "2020-04-02   9723.0\n",
       "2020-04-03  10327.0\n",
       "2020-04-04  10795.0"
      ]
     },
     "execution_count": 28,
     "metadata": {},
     "output_type": "execute_result"
    }
   ],
   "source": [
    "arr_muertos_pred"
   ]
  }
 ],
 "metadata": {
  "kernelspec": {
   "display_name": "Python 3",
   "language": "python",
   "name": "python3"
  },
  "language_info": {
   "codemirror_mode": {
    "name": "ipython",
    "version": 3
   },
   "file_extension": ".py",
   "mimetype": "text/x-python",
   "name": "python",
   "nbconvert_exporter": "python",
   "pygments_lexer": "ipython3",
   "version": "3.7.3"
  }
 },
 "nbformat": 4,
 "nbformat_minor": 2
}
