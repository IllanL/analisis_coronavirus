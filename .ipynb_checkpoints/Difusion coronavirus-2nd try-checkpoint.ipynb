{
 "cells": [
  {
   "cell_type": "markdown",
   "metadata": {},
   "source": [
    "# DIFUSIÓN DEL CORONAVIRUS EN ESPAÑA:"
   ]
  },
  {
   "cell_type": "markdown",
   "metadata": {},
   "source": [
    "## 0. INTRODUCCIÓN"
   ]
  },
  {
   "cell_type": "markdown",
   "metadata": {},
   "source": [
    "Si se quieren ver directamente los resultados de los cálculos, y el pronóstico para los próximos 5 días, pinchar <a href='#a1'>**--> aquí**</a>."
   ]
  },
  {
   "cell_type": "markdown",
   "metadata": {},
   "source": [
    "Este es un pequeño ejercicio de extrapolación para la curva de contagios del coronavirus en España.\n",
    "\n",
    "Como fuente de los datos, a falta de una mejor, se toman los volcados en la siguiente página:\n",
    "\n",
    "https://www.rtve.es/noticias/20200316/mapa-del-coronavirus-espana/2004681.shtml\n",
    "\n",
    "Que recoge los datos que vuelca el Ministerio de Sanidad español. La hora de los contagios en el día de dicho informe puede variar, por lo que la diferencia entre un día y otro puede ser mayor o menor de 24 horas, pero a priori se asumirá que la hora del informe de todos los días es la misma, por falta de referencias.\n",
    "\n",
    "El modelo que emplearemos no será más que una sencilla aproximación por una exponencial, no se empleará el modelo SIR como primera aproximación, aunque este es sólo ligeramente más complejo.\n",
    "\n",
    "Un modelo de contagio (no asumiendo que cada persona ya contagiada no podría volver a ser contagiada, o asumiendo que la fracción de la población contagiada aún es lo suficientemente baja como para despreciar dichos efectos, lo que es válido para el comienzo de la progresión de la pandemia) respondería a una ecuación diferencial del estilo de:\n",
    "\n",
    "$y' = c y$\n",
    "\n",
    "Cuya solución es de la forma:\n",
    "\n",
    "$ y = K e^{c x}$\n",
    "\n",
    "O, lo que es lo mismo:\n",
    "\n",
    "$ y = H A^{b x}$\n",
    "\n",
    "Donde, para que ambas expresiones sean la misma, tendremos que:\n",
    "\n",
    "$b = \\frac{K}{H \\cdot ln(A)} c$\n",
    "\n",
    "Por lo tanto, tomando logaritmos tendremos:\n",
    "\n",
    "$ ln(y) = c x + K = b \\cdot ln(A) x + H$\n",
    "\n",
    "En donde tendremos ya una relación lineal.\n",
    "\n",
    "Nuestro enfoque, por lo tanto, será el de calcular los coeficientes de esta recta."
   ]
  },
  {
   "cell_type": "code",
   "execution_count": 1,
   "metadata": {},
   "outputs": [],
   "source": [
    "import pandas as pd\n",
    "import numpy as np\n",
    "import datetime\n",
    "import matplotlib.pyplot as plt\n",
    "import seaborn as sns\n",
    "\n",
    "from sklearn.linear_model import LinearRegression\n",
    "\n",
    "%matplotlib inline"
   ]
  },
  {
   "cell_type": "code",
   "execution_count": 2,
   "metadata": {},
   "outputs": [
    {
     "data": {
      "text/html": [
       "<div>\n",
       "<style scoped>\n",
       "    .dataframe tbody tr th:only-of-type {\n",
       "        vertical-align: middle;\n",
       "    }\n",
       "\n",
       "    .dataframe tbody tr th {\n",
       "        vertical-align: top;\n",
       "    }\n",
       "\n",
       "    .dataframe thead th {\n",
       "        text-align: right;\n",
       "    }\n",
       "</style>\n",
       "<table border=\"1\" class=\"dataframe\">\n",
       "  <thead>\n",
       "    <tr style=\"text-align: right;\">\n",
       "      <th></th>\n",
       "      <th>CONTAGIOS</th>\n",
       "      <th>MUERTOS</th>\n",
       "    </tr>\n",
       "    <tr>\n",
       "      <th>FECHA</th>\n",
       "      <th></th>\n",
       "      <th></th>\n",
       "    </tr>\n",
       "  </thead>\n",
       "  <tbody>\n",
       "    <tr>\n",
       "      <th>2020-02-12</th>\n",
       "      <td>2</td>\n",
       "      <td>0</td>\n",
       "    </tr>\n",
       "    <tr>\n",
       "      <th>2020-02-25</th>\n",
       "      <td>3</td>\n",
       "      <td>0</td>\n",
       "    </tr>\n",
       "    <tr>\n",
       "      <th>2020-02-26</th>\n",
       "      <td>7</td>\n",
       "      <td>0</td>\n",
       "    </tr>\n",
       "    <tr>\n",
       "      <th>2020-02-27</th>\n",
       "      <td>16</td>\n",
       "      <td>0</td>\n",
       "    </tr>\n",
       "    <tr>\n",
       "      <th>2020-02-28</th>\n",
       "      <td>31</td>\n",
       "      <td>0</td>\n",
       "    </tr>\n",
       "  </tbody>\n",
       "</table>\n",
       "</div>"
      ],
      "text/plain": [
       "            CONTAGIOS  MUERTOS\n",
       "FECHA                         \n",
       "2020-02-12          2        0\n",
       "2020-02-25          3        0\n",
       "2020-02-26          7        0\n",
       "2020-02-27         16        0\n",
       "2020-02-28         31        0"
      ]
     },
     "execution_count": 2,
     "metadata": {},
     "output_type": "execute_result"
    }
   ],
   "source": [
    "ruta = 'Datos/Contagios medios coronavirus RTVE.csv'\n",
    "sep = ';'\n",
    "\n",
    "date_parser = lambda x: pd.datetime.strptime(x, '%d/%m/%Y')\n",
    "\n",
    "datos = pd.read_csv(ruta, sep = sep, index_col = 'FECHA', parse_dates = ['FECHA'], date_parser = date_parser)\n",
    "\n",
    "datos.head()"
   ]
  },
  {
   "cell_type": "code",
   "execution_count": 3,
   "metadata": {},
   "outputs": [],
   "source": [
    "datos['DIFER_DIAS'] = datos.index.to_series().diff().fillna(pd.Timedelta(seconds = 8660000)).apply(lambda x: x.days)"
   ]
  },
  {
   "cell_type": "code",
   "execution_count": 4,
   "metadata": {},
   "outputs": [
    {
     "name": "stderr",
     "output_type": "stream",
     "text": [
      "C:\\ProgramData\\Anaconda3\\lib\\site-packages\\pandas\\plotting\\_converter.py:129: FutureWarning: Using an implicitly registered datetime converter for a matplotlib plotting method. The converter was registered by pandas on import. Future versions of pandas will require you to explicitly register matplotlib converters.\n",
      "\n",
      "To register the converters:\n",
      "\t>>> from pandas.plotting import register_matplotlib_converters\n",
      "\t>>> register_matplotlib_converters()\n",
      "  warnings.warn(msg, FutureWarning)\n"
     ]
    },
    {
     "data": {
      "image/png": "[encoded data removed]",
      "text/plain": [
       "<Figure size 1080x360 with 2 Axes>"
      ]
     },
     "metadata": {
      "needs_background": "light"
     },
     "output_type": "display_data"
    }
   ],
   "source": [
    "contagios = pd.DataFrame(datos[['CONTAGIOS', 'DIFER_DIAS']])\n",
    "muertos = pd.DataFrame(datos[['MUERTOS', 'DIFER_DIAS']])\n",
    "\n",
    "fig, ax1 = plt.subplots(figsize=(15,5))\n",
    "\n",
    "plt.title('Evolución de los contagios y las defunciones en España')\n",
    "\n",
    "ax1.plot(contagios.reset_index()['FECHA'], contagios['CONTAGIOS'], '-');\n",
    "ax1.legend(['Contagios totales'])\n",
    "ax1.set_ylabel(\"Nº de contagios\")\n",
    "ax1.set_xlabel(\"Fecha\")\n",
    "\n",
    "ax2 = ax1.twinx()\n",
    "\n",
    "ax2.plot(muertos.reset_index()['FECHA'], muertos['MUERTOS'], '-', color='r')\n",
    "ax2.legend(['Defunciones totales'], loc = 1)\n",
    "ax2.set_ylabel(\"Nº de defunciones\");"
   ]
  },
  {
   "cell_type": "markdown",
   "metadata": {},
   "source": [
    "Comparación entre la evolución de los contagios y los muertos, donde puede obsservarse el comportamiento comparado de ambas gráficas, y el retardo existente entre la evolución de los muertos por la infección y el número de infectados:\n",
    "\n",
    "Nótese cómo la pendiente de la gráfica de la evolución del número de muertos es mucho más empinada que la del número de contagiados.\n",
    "\n",
    "Queremos analizar ahora el decalaje existente entre ambas series. Para ello emplearemos dos métodos:\n",
    "\n",
    "En el primero haremos lo más evidente, que sería buscar, para cada día de la serie de los contagios, el día con un valor equivalente en la serie de defunciones y calcularemos su diferencia.\n",
    "\n",
    "Para encontrar dicho día equivalente lo que haremos es buscar, por un lado, el primer día de la serie de defunciones cuyo valor es superior al buscado, y por otro, el último día que es inferior, y tomaremos la media de ambos valores (debido que en algunos casos la diferencia entre ambos valores es relativamente elevada):"
   ]
  },
  {
   "cell_type": "code",
   "execution_count": 5,
   "metadata": {},
   "outputs": [
    {
     "data": {
      "text/plain": [
       "11.291666666666666"
      ]
     },
     "execution_count": 5,
     "metadata": {},
     "output_type": "execute_result"
    }
   ],
   "source": [
    "storage = np.array([])\n",
    "\n",
    "for element in contagios.iterrows():\n",
    "\n",
    "    try:\n",
    "        \n",
    "       for_mean = (muertos[muertos['MUERTOS'] > element[1][0]].index[0] - element[0]).days\n",
    "       for_mean += (muertos[muertos['MUERTOS'] < element[1][0]].index[-1] - element[0]).days\n",
    "        \n",
    "       storage = np.append(storage, for_mean/2)\n",
    "        \n",
    "    except IndexError:\n",
    "        continue\n",
    "        \n",
    "storage.mean()"
   ]
  },
  {
   "cell_type": "markdown",
   "metadata": {},
   "source": [
    "Podemos observar que el valor obtenido para el decalaje es de unos 11 días.\n",
    "\n",
    "Vamos a contrastar esto con un segundo método:\n",
    "    \n",
    "En este segundo método lo que haremos será desplazar la serie de contagios 1, 2, 3, ... n días (hasta 16) y comparar la diferencia relativa de ambas curvas, mediante un error absoluto medio.\n",
    "\n",
    "El desplazamiento que obtenga menor diferencia relativa será el que mejor coloque la curva de decesos sobre la de contagios:"
   ]
  },
  {
   "cell_type": "code",
   "execution_count": 6,
   "metadata": {},
   "outputs": [
    {
     "name": "stdout",
     "output_type": "stream",
     "text": [
      "1  días de decalaje, error:  0.9579148214826885\n",
      "2  días de decalaje, error:  0.9434966491168364\n",
      "3  días de decalaje, error:  0.9230558623472788\n",
      "4  días de decalaje, error:  0.89378635176983\n",
      "5  días de decalaje, error:  0.8579081874790245\n",
      "6  días de decalaje, error:  0.8111374894380835\n",
      "7  días de decalaje, error:  0.7370257768576625\n",
      "8  días de decalaje, error:  0.6438181935339283\n",
      "9  días de decalaje, error:  0.5449966280338375\n",
      "10  días de decalaje, error:  0.49390943118462455\n",
      "11  días de decalaje, error:  0.481935995630174\n",
      "12  días de decalaje, error:  0.5268508854434366\n",
      "13  días de decalaje, error:  0.5968669962404862\n",
      "14  días de decalaje, error:  0.6626966913994368\n",
      "15  días de decalaje, error:  0.7154645220700897\n"
     ]
    }
   ],
   "source": [
    "# Creamos un índice completo para nuestras fechas de interés:\n",
    "\n",
    "index_for_merge = pd.DataFrame(index = pd.date_range(pd.to_datetime('2020-02-12', format = '%Y-%m-%d'), pd.to_datetime('2020-03-24', format = '%Y-%m-%d')))\n",
    "\n",
    "# Creamos un dataframe con todas las fechas para ambas series, y rellenamos los NaN con el último dato inmediatamente anterior:\n",
    "\n",
    "contagios_full_index = pd.merge(index_for_merge, contagios, left_index= True, right_index= True, how='left') \n",
    "contagios_full_index.fillna(method = 'ffill', inplace = True)\n",
    "\n",
    "muertos_full_index = pd.merge(index_for_merge, muertos, left_index= True, right_index= True, how='left') \n",
    "muertos_full_index.fillna(method = 'ffill', inplace = True)\n",
    "\n",
    "# Calculamos la diferencia relativa entre ambas curvas:\n",
    "\n",
    "for x in range(1,16):\n",
    "\n",
    "    print(x, \" días de decalaje, error: \", \n",
    "          (abs(contagios_full_index['CONTAGIOS'] - muertos_full_index['MUERTOS'].shift(-x))/\n",
    "              (contagios_full_index['CONTAGIOS'] + muertos_full_index['MUERTOS'].shift(-x))).mean())"
   ]
  },
  {
   "cell_type": "markdown",
   "metadata": {},
   "source": [
    "Como podemos observar que el error relativo medio mínimo se encuentra de nuevo en los 11 días, un fuerte indicador de que el decalaje entre ambas curvas es esta cantidad.\n",
    "\n",
    "Finalmente, si representamos dicho decalaje de 11 días podemos ver cómo la curva de defunciones sigue el comportamiento de la curva de contagios casi a la perfección:"
   ]
  },
  {
   "cell_type": "code",
   "execution_count": 7,
   "metadata": {},
   "outputs": [
    {
     "data": {
      "image/png": "[encoded data removed]",
      "text/plain": [
       "<Figure size 1080x360 with 1 Axes>"
      ]
     },
     "metadata": {
      "needs_background": "light"
     },
     "output_type": "display_data"
    }
   ],
   "source": [
    "fig, ax1 = plt.subplots(figsize=(15,5))\n",
    "\n",
    "plt.title('Evolución de los contagios y las defunciones en España')\n",
    "\n",
    "ax1.set_ylim(ymax = 2400)\n",
    "\n",
    "ax1.plot(contagios.reset_index()['FECHA'], contagios['CONTAGIOS'], '-')\n",
    "ax1.plot(muertos.reset_index()['FECHA'] - datetime.timedelta(days = 11), muertos['MUERTOS'], '-', color='r')\n",
    "\n",
    "ax1.legend(['Contagios totales', 'Defunciones totales'], loc = 2)\n",
    "ax1.set_ylabel(\"Nº de contagios\")\n",
    "ax1.set_xlabel(\"Fecha\");"
   ]
  },
  {
   "cell_type": "markdown",
   "metadata": {},
   "source": [
    "## 1. CONTAGIOS"
   ]
  },
  {
   "cell_type": "markdown",
   "metadata": {},
   "source": [
    "**Paso 1:**\n",
    "\n",
    "**Comprobaciones sobre la serie:**\n",
    "\n",
    "Examinamos primero los datos de los contagios:"
   ]
  },
  {
   "cell_type": "code",
   "execution_count": 8,
   "metadata": {
    "scrolled": false
   },
   "outputs": [
    {
     "data": {
      "image/png": "[encoded data removed]",
      "text/plain": [
       "<Figure size 1080x360 with 1 Axes>"
      ]
     },
     "metadata": {
      "needs_background": "light"
     },
     "output_type": "display_data"
    }
   ],
   "source": [
    "plt.figure(figsize=(15,5))\n",
    "plt.plot(contagios.index, contagios['CONTAGIOS'], '-');"
   ]
  },
  {
   "cell_type": "markdown",
   "metadata": {},
   "source": [
    "Como podemos ver, tenemos una curva monótona creciente que, aparentemente, parece seguir la forma de una exponencial.\n",
    "\n",
    "Examinamos ahora la serie en diferencias. Como se sabe, si la serie original sigue una exponencial, la serie en diferencias debería seguir también una exponencial:"
   ]
  },
  {
   "cell_type": "code",
   "execution_count": 9,
   "metadata": {},
   "outputs": [],
   "source": [
    "contagios['DIFER'] = contagios['CONTAGIOS'].diff(1).fillna(contagios['CONTAGIOS'])"
   ]
  },
  {
   "cell_type": "code",
   "execution_count": 10,
   "metadata": {},
   "outputs": [
    {
     "data": {
      "image/png": "[encoded data removed]",
      "text/plain": [
       "<Figure size 1080x360 with 1 Axes>"
      ]
     },
     "metadata": {
      "needs_background": "light"
     },
     "output_type": "display_data"
    }
   ],
   "source": [
    "plt.figure(figsize=(15,5))\n",
    "plt.plot(contagios['DIFER'], '-');"
   ]
  },
  {
   "cell_type": "markdown",
   "metadata": {},
   "source": [
    "Como podemos observar, esto no sucede, teniendo la serie un pico en el día 9 de marzo. El problema es que la serie tiene huecos de días sin datos, de forma que en algunos casos hay más de un día entre observación y observación.\n",
    "\n",
    "Corregimos:"
   ]
  },
  {
   "cell_type": "code",
   "execution_count": 11,
   "metadata": {},
   "outputs": [],
   "source": [
    "# Sumamos 1 por cuestiones de estabilidad numérica a la hora de tomar logaritmos posteriormente:\n",
    "contagios['DIFER'] = contagios['CONTAGIOS'].diff(1).fillna(2)/contagios['DIFER_DIAS']"
   ]
  },
  {
   "cell_type": "code",
   "execution_count": 12,
   "metadata": {},
   "outputs": [
    {
     "data": {
      "image/png": "[encoded data removed]",
      "text/plain": [
       "<Figure size 1080x360 with 1 Axes>"
      ]
     },
     "metadata": {
      "needs_background": "light"
     },
     "output_type": "display_data"
    }
   ],
   "source": [
    "plt.figure(figsize=(15,5))\n",
    "plt.plot(contagios['DIFER'], '-');"
   ]
  },
  {
   "cell_type": "markdown",
   "metadata": {},
   "source": [
    "En cuanto al segundo pico de contagios (y sucesivos, posiblemente), su aparición puede explicarse por lo siguiente:\n",
    "\n",
    "https://elpais.com/sociedad/2020-03-15/cataluna-y-madrid-dejan-de-hacer-pruebas-a-los-casos-leves.html\n",
    "\n",
    "https://www.redaccionmedica.com/secciones/sanidad-hoy/coronavirus-test-solo-pacientes-hospitalizados-personal-esencial-8816\n",
    "\n",
    "https://www.noticiasdenavarra.com/actualidad/sociedad/2020/03/16/navarra-cambia-protocolo-deteccion-coronavirus/1031165.html\n",
    "\n",
    "https://www.elmundo.es/ciencia-y-salud/salud/2020/03/13/5e6b4230fdddff878c8b4624.html\n",
    "\n",
    "Al cambiar los criterios con los que hacer las pruebas, se están dejando fuera, a partir del día 15, a un gran número de casos que habrían dado positivo según los criterios antiguos, pero que ahora se dejan fuera de los casos confirmados, según los nuevos.\n",
    "\n",
    "Si la decisión se trata de criterios de economía médica, intereses políticos o una mezcla de ambas, sólo puedo dejarlo a juicio del lector.\n",
    "\n",
    "A pesar de ello se puede ver que nada puede hacer ese cambio de criterio frente al contagio exponencial.\n",
    "\n",
    "Para nuestro esutio tomaremos primero solamente la primera parte de la curva, donde no se ha modificado aún el criterio para la realización de las pruebas, para no adulterar la evolución."
   ]
  },
  {
   "cell_type": "code",
   "execution_count": 13,
   "metadata": {},
   "outputs": [],
   "source": [
    "contagios['LN_CONTAGIOS'] = contagios['CONTAGIOS'].apply(lambda x: np.log(x) if x>0 else 0)\n",
    "# Añadimos +1 por criterios de estabilidad con el logaritmo:\n",
    "contagios['LN_DIFER'] = contagios['DIFER'].apply(lambda x: np.log(x+1) if x>0 else 0)"
   ]
  },
  {
   "cell_type": "code",
   "execution_count": 14,
   "metadata": {},
   "outputs": [
    {
     "data": {
      "text/plain": [
       "<matplotlib.axes._subplots.AxesSubplot at 0x23faa0368d0>"
      ]
     },
     "execution_count": 14,
     "metadata": {},
     "output_type": "execute_result"
    },
    {
     "data": {
      "image/png": "[encoded data removed]",
      "text/plain": [
       "<Figure size 1080x360 with 1 Axes>"
      ]
     },
     "metadata": {
      "needs_background": "light"
     },
     "output_type": "display_data"
    }
   ],
   "source": [
    "contagios['LN_CONTAGIOS'].plot(figsize=(15,5), style = 'o')"
   ]
  },
  {
   "cell_type": "code",
   "execution_count": 15,
   "metadata": {},
   "outputs": [
    {
     "data": {
      "text/plain": [
       "<matplotlib.axes._subplots.AxesSubplot at 0x23fa9cae9e8>"
      ]
     },
     "execution_count": 15,
     "metadata": {},
     "output_type": "execute_result"
    },
    {
     "data": {
      "image/png": "[encoded data removed]",
      "text/plain": [
       "<Figure size 1080x360 with 1 Axes>"
      ]
     },
     "metadata": {
      "needs_background": "light"
     },
     "output_type": "display_data"
    }
   ],
   "source": [
    "contagios['LN_DIFER'].plot(figsize=(15,5), style = 'o')"
   ]
  },
  {
   "cell_type": "markdown",
   "metadata": {},
   "source": [
    "Como podemos ver, ante nosotros no tenemos una recta, sino más bien un comportamiento más bien parabólico, característico de funciones como una raíz cuadrada.\n",
    "\n",
    "Esto son buenas noticias, porque nos indica que el virus no se está propagando siguiendo una exponencial, sino más bien una exponencial algo amortiguada.\n",
    "\n",
    "También podemos observar un comportamiento errático en la serie de las diferencias de los logaritmos de los contagios diarios.\n",
    "\n",
    "Vamos a examinar la serie de sus diferencias. Si el proceso fuese exponencial, estas deberían ser constantes:"
   ]
  },
  {
   "cell_type": "code",
   "execution_count": 16,
   "metadata": {},
   "outputs": [
    {
     "data": {
      "text/plain": [
       "0.3165578500756038"
      ]
     },
     "execution_count": 16,
     "metadata": {},
     "output_type": "execute_result"
    },
    {
     "data": {
      "image/png": "[encoded data removed]",
      "text/plain": [
       "<Figure size 1080x360 with 1 Axes>"
      ]
     },
     "metadata": {
      "needs_background": "light"
     },
     "output_type": "display_data"
    }
   ],
   "source": [
    "contagios['LN_DIFER_2']  = contagios['LN_DIFER'].diff(1).fillna(0)/contagios['DIFER_DIAS']\n",
    "contagios['LN_DIFER_2'].plot(figsize=(15,5), style = 'o')\n",
    "contagios['LN_DIFER_2'].mean()"
   ]
  },
  {
   "cell_type": "markdown",
   "metadata": {},
   "source": [
    "Podemos observar un comportamiento claramente errático, con una varianza elevada y valores oscilando alrededor de una zona central, pero con una amplia dispersión.\n",
    "\n",
    "Esto puede deberse a muchos factores relacionados con la toma de datos, con el hecho de que las horas de los informes emitidos por el Ministerio de Sanidad no siempre coincidan y con que la afluencia de la gente a hacerse las pruebas, así como los criterios para hacer las mismas han ido evolucionando según progresaba la enfermedad."
   ]
  },
  {
   "cell_type": "code",
   "execution_count": 17,
   "metadata": {},
   "outputs": [
    {
     "data": {
      "text/plain": [
       "(array([1., 6., 8., 6., 1., 2.]),\n",
       " array([-0.71724473, -0.34181562,  0.03361349,  0.4090426 ,  0.78447172,\n",
       "         1.15990083,  1.53532994]),\n",
       " <a list of 6 Patch objects>)"
      ]
     },
     "execution_count": 17,
     "metadata": {},
     "output_type": "execute_result"
    },
    {
     "data": {
      "image/png": "[encoded data removed]",
      "text/plain": [
       "<Figure size 1080x360 with 1 Axes>"
      ]
     },
     "metadata": {
      "needs_background": "light"
     },
     "output_type": "display_data"
    }
   ],
   "source": [
    "plt.figure(figsize=(15,5))\n",
    "plt.hist(contagios['LN_DIFER_2'], bins = 6)"
   ]
  },
  {
   "cell_type": "markdown",
   "metadata": {},
   "source": [
    "Como vemos, el máximo central se presenta, con 8 valores, para la zona entre 0,04 y 0,784."
   ]
  },
  {
   "cell_type": "code",
   "execution_count": 18,
   "metadata": {},
   "outputs": [],
   "source": [
    "contagios['LN_CONTAGIOS_DIFER'] = contagios['LN_CONTAGIOS'].diff(1).fillna(0)/contagios['DIFER_DIAS']"
   ]
  },
  {
   "cell_type": "markdown",
   "metadata": {},
   "source": [
    "**Paso 2:** \n",
    "\n",
    "**Pruebas preliminares:**\n",
    "    \n",
    "Vamos a ver si, descontando el último día, con un comportamiento que claramente ya no sigue la serie, podemos, tomando la serie hasta el día 10 de marzo, predecir los contagios para el resto de días, hasta el 14, primero manualmente y después empleando funciones de Python:"
   ]
  },
  {
   "cell_type": "code",
   "execution_count": 19,
   "metadata": {},
   "outputs": [],
   "source": [
    "train = contagios[:'03/10/2020']\n",
    "test = contagios['03/11/2020':]"
   ]
  },
  {
   "cell_type": "markdown",
   "metadata": {},
   "source": [
    "Diferencia último - segundo / número de días (dado que hemos visto que el 12 de febrero es un outlier):"
   ]
  },
  {
   "cell_type": "code",
   "execution_count": 20,
   "metadata": {},
   "outputs": [
    {
     "data": {
      "text/plain": [
       "0.4526304093676029"
      ]
     },
     "execution_count": 20,
     "metadata": {},
     "output_type": "execute_result"
    }
   ],
   "source": [
    "val_med_ser_3 = (train.loc['03/10/2020', 'LN_CONTAGIOS'] - train.loc['02/25/2020', 'LN_CONTAGIOS'])/\\\n",
    "(pd.to_datetime('03/10/2020') - pd.to_datetime('02/25/2020')).days\n",
    "val_med_ser_3"
   ]
  },
  {
   "cell_type": "code",
   "execution_count": 21,
   "metadata": {},
   "outputs": [],
   "source": [
    "num_dias = (pd.to_datetime('2020-03-14') - pd.to_datetime('2020-03-10')).days\n",
    "\n",
    "orig_value = train.loc['2020-03-10', 'LN_CONTAGIOS']\n",
    "\n",
    "for_pred = np.full(shape = num_dias, fill_value = val_med_ser_3)\n",
    "for_pred = np.cumsum(for_pred) + orig_value\n",
    "\n",
    "pred = pd.DataFrame(for_pred, columns = ['LN_CONTAGIOS'], index = test.index[:num_dias])"
   ]
  },
  {
   "cell_type": "code",
   "execution_count": 22,
   "metadata": {},
   "outputs": [
    {
     "data": {
      "text/plain": [
       "FECHA\n",
       "2020-03-11     2665.0\n",
       "2020-03-12     4191.0\n",
       "2020-03-13     6590.0\n",
       "2020-03-14    10363.0\n",
       "Name: CONTAGIOS, dtype: float64"
      ]
     },
     "execution_count": 22,
     "metadata": {},
     "output_type": "execute_result"
    }
   ],
   "source": [
    "pred['CONTAGIOS'] = np.round(np.exp(pred['LN_CONTAGIOS']))\n",
    "pred['CONTAGIOS']"
   ]
  },
  {
   "cell_type": "code",
   "execution_count": 23,
   "metadata": {},
   "outputs": [
    {
     "data": {
      "text/plain": [
       "FECHA\n",
       "2020-03-11    0.245327\n",
       "2020-03-12    0.413491\n",
       "2020-03-13    0.557551\n",
       "2020-03-14    0.807605\n",
       "Name: CONTAGIOS, dtype: float64"
      ]
     },
     "execution_count": 23,
     "metadata": {},
     "output_type": "execute_result"
    }
   ],
   "source": [
    "error = abs(pred['CONTAGIOS'] - test.loc[:'2020-03-14','CONTAGIOS'])/test.loc[:'2020-03-14','CONTAGIOS']\n",
    "error"
   ]
  },
  {
   "cell_type": "code",
   "execution_count": 24,
   "metadata": {},
   "outputs": [
    {
     "data": {
      "text/plain": [
       "[<matplotlib.lines.Line2D at 0x23fa997fb00>]"
      ]
     },
     "execution_count": 24,
     "metadata": {},
     "output_type": "execute_result"
    },
    {
     "data": {
      "image/png": "[encoded data removed]",
      "text/plain": [
       "<Figure size 1080x360 with 1 Axes>"
      ]
     },
     "metadata": {
      "needs_background": "light"
     },
     "output_type": "display_data"
    }
   ],
   "source": [
    "plt.figure(figsize = (15,5))\n",
    "plt.plot(contagios.loc['2020-02-25':'2020-03-14','CONTAGIOS'], 'o')\n",
    "plt.plot (pred['CONTAGIOS'], 'o')"
   ]
  },
  {
   "cell_type": "markdown",
   "metadata": {},
   "source": [
    "Como podemos observar, el modelo claramente sobreestima el número de contagios totales, respecto a los datos oficiales, y se desvía progresivamente de dicha curva.\n",
    "\n",
    "Pasamos ahora a calcular el número de contagios empleando una regresión lineal en la serie de los logaritmos de contagios:"
   ]
  },
  {
   "cell_type": "code",
   "execution_count": 25,
   "metadata": {},
   "outputs": [
    {
     "data": {
      "text/plain": [
       "FECHA\n",
       "2020-03-11         NaN\n",
       "2020-03-12    0.135036\n",
       "2020-03-13    0.101918\n",
       "2020-03-14    0.160543\n",
       "Name: CONTAGIOS, dtype: float64"
      ]
     },
     "execution_count": 25,
     "metadata": {},
     "output_type": "execute_result"
    }
   ],
   "source": [
    "(pred['CONTAGIOS'] / test.loc[:'2020-03-14','CONTAGIOS']).pct_change()"
   ]
  },
  {
   "cell_type": "markdown",
   "metadata": {},
   "source": [
    "**Se ve una separación progresiva entre los datos de nuestra predicción y los datos reales que sigue aproximadamente una progresión geométrica de relación de 0,12**"
   ]
  },
  {
   "cell_type": "markdown",
   "metadata": {},
   "source": [
    "Vamos a comparar ahora los resultados obtenidos con nuestro método de ajuste \"a mano\" con los que saldrían de aplicar una regresión lineal para calcular los coeficientes de la recta de regresión sobre los logaritmos de los contagiados totales, día a día.\n",
    "\n",
    "Para ello comenzamos calculando el valor medio de la pendiente de la serie (ponderado por el número de días entre medición y medición, comenzando en el 25 de febrero) arreglando convenientemente nuestro dataframe:"
   ]
  },
  {
   "cell_type": "code",
   "execution_count": 26,
   "metadata": {
    "scrolled": true
   },
   "outputs": [],
   "source": [
    "train = train.drop(pd.to_datetime('2020-02-12'))"
   ]
  },
  {
   "cell_type": "code",
   "execution_count": 27,
   "metadata": {
    "scrolled": true
   },
   "outputs": [
    {
     "name": "stdout",
     "output_type": "stream",
     "text": [
      "valor de modelo:  [[0.4244224]] \n",
      "valor de pendiente media, cálculo manual:  0.4526304093676029\n"
     ]
    }
   ],
   "source": [
    "train.loc[:,'DIFER_DIAS_2'] = (train['DIFER_DIAS'].cumsum()).copy()\n",
    "\n",
    "coefs = np.polyfit(np.array(train['DIFER_DIAS_2']), np.array(train['LN_CONTAGIOS']) , 1)\n",
    "\n",
    "days = np.array(range(28,32))\n",
    "\n",
    "prediction_2 = days * coefs[0] + coefs[1]\n",
    "\n",
    "lr_model = LinearRegression()\n",
    "lr_model = lr_model.fit(np.array(train['DIFER_DIAS_2']).reshape(-1, 1), np.array(train['LN_CONTAGIOS']).reshape(-1,1))\n",
    "\n",
    "print('valor de modelo: ', lr_model.coef_, '\\nvalor de pendiente media, cálculo manual: ', val_med_ser_3)"
   ]
  },
  {
   "cell_type": "markdown",
   "metadata": {},
   "source": [
    "Podemos ver la gran similitud entre este valor y el calculado por nosotros."
   ]
  },
  {
   "cell_type": "markdown",
   "metadata": {},
   "source": [
    "Pasamos a realizar la predicción:"
   ]
  },
  {
   "cell_type": "code",
   "execution_count": 28,
   "metadata": {},
   "outputs": [
    {
     "data": {
      "text/html": [
       "<div>\n",
       "<style scoped>\n",
       "    .dataframe tbody tr th:only-of-type {\n",
       "        vertical-align: middle;\n",
       "    }\n",
       "\n",
       "    .dataframe tbody tr th {\n",
       "        vertical-align: top;\n",
       "    }\n",
       "\n",
       "    .dataframe thead th {\n",
       "        text-align: right;\n",
       "    }\n",
       "</style>\n",
       "<table border=\"1\" class=\"dataframe\">\n",
       "  <thead>\n",
       "    <tr style=\"text-align: right;\">\n",
       "      <th></th>\n",
       "      <th>LN_CONTAGIOS</th>\n",
       "      <th>CONTAGIOS</th>\n",
       "    </tr>\n",
       "    <tr>\n",
       "      <th>FECHA</th>\n",
       "      <th></th>\n",
       "      <th></th>\n",
       "    </tr>\n",
       "  </thead>\n",
       "  <tbody>\n",
       "    <tr>\n",
       "      <th>2020-03-11</th>\n",
       "      <td>8.039436</td>\n",
       "      <td>3101.0</td>\n",
       "    </tr>\n",
       "    <tr>\n",
       "      <th>2020-03-12</th>\n",
       "      <td>8.463858</td>\n",
       "      <td>4740.0</td>\n",
       "    </tr>\n",
       "    <tr>\n",
       "      <th>2020-03-13</th>\n",
       "      <td>8.888281</td>\n",
       "      <td>7247.0</td>\n",
       "    </tr>\n",
       "    <tr>\n",
       "      <th>2020-03-14</th>\n",
       "      <td>9.312703</td>\n",
       "      <td>11078.0</td>\n",
       "    </tr>\n",
       "  </tbody>\n",
       "</table>\n",
       "</div>"
      ],
      "text/plain": [
       "            LN_CONTAGIOS  CONTAGIOS\n",
       "FECHA                              \n",
       "2020-03-11      8.039436     3101.0\n",
       "2020-03-12      8.463858     4740.0\n",
       "2020-03-13      8.888281     7247.0\n",
       "2020-03-14      9.312703    11078.0"
      ]
     },
     "execution_count": 28,
     "metadata": {},
     "output_type": "execute_result"
    }
   ],
   "source": [
    "prediction_3 = lr_model.predict(np.array(range(28,32)).reshape(-1,1))\n",
    "pred_3 = pd.DataFrame(prediction_3, columns = ['LN_CONTAGIOS'], index = test.index[:num_dias])\n",
    "pred_3['CONTAGIOS'] = np.round(np.exp(pred_3['LN_CONTAGIOS']))\n",
    "pred_3"
   ]
  },
  {
   "cell_type": "markdown",
   "metadata": {},
   "source": [
    "Como podemos ver, los dos métodos, tanto polyfit como la regresión lineal de sklearn arrojan el mismo resultado (lo que es normal, teniendo en cuenta que el método que ambos emplean es el mismo). Las diferencias entre ambos son puramente numéricas:"
   ]
  },
  {
   "cell_type": "code",
   "execution_count": 29,
   "metadata": {},
   "outputs": [
    {
     "data": {
      "text/plain": [
       "array([[-4.41910809e-16, -6.29626613e-16, -5.99561447e-16,\n",
       "        -5.72236695e-16]])"
      ]
     },
     "execution_count": 29,
     "metadata": {},
     "output_type": "execute_result"
    }
   ],
   "source": [
    "(prediction_2 - np.transpose(prediction_3))/prediction_2"
   ]
  },
  {
   "cell_type": "markdown",
   "metadata": {},
   "source": [
    "Representando ahora los resultados de la interpolación lineal frente a nuestra primera estimación y los datos reales, tenemos:"
   ]
  },
  {
   "cell_type": "code",
   "execution_count": 30,
   "metadata": {},
   "outputs": [
    {
     "data": {
      "text/plain": [
       "[<matplotlib.lines.Line2D at 0x23fa9d36f98>]"
      ]
     },
     "execution_count": 30,
     "metadata": {},
     "output_type": "execute_result"
    },
    {
     "data": {
      "image/png": "[encoded data removed]",
      "text/plain": [
       "<Figure size 1080x360 with 1 Axes>"
      ]
     },
     "metadata": {
      "needs_background": "light"
     },
     "output_type": "display_data"
    }
   ],
   "source": [
    "plt.figure(figsize = (15,5))\n",
    "plt.plot(contagios.loc[:'2020-03-14','CONTAGIOS'])\n",
    "plt.plot (pred_3['CONTAGIOS'])\n",
    "plt.plot (pred['CONTAGIOS'])"
   ]
  },
  {
   "cell_type": "markdown",
   "metadata": {},
   "source": [
    "Vemos que existe una diferencia bastante apreciable entre ambas predicciones (en lo que aparenta ser una cantidad fija), pero que ambas se alejan de la trayectoria que tomaron durante esos días el número real de contagios."
   ]
  },
  {
   "cell_type": "markdown",
   "metadata": {},
   "source": [
    "**Valor para la serie de contagios diarios:**"
   ]
  },
  {
   "cell_type": "markdown",
   "metadata": {},
   "source": [
    "Al igual que para la serie de contagios totales, el valor de más confianza para nuestra predicción en los contagios diarios es la media ponderada por número de días de cada observación, eliminando el dato del 12 de febrero:"
   ]
  },
  {
   "cell_type": "code",
   "execution_count": 31,
   "metadata": {},
   "outputs": [
    {
     "data": {
      "text/plain": [
       "0.43745505316704186"
      ]
     },
     "execution_count": 31,
     "metadata": {},
     "output_type": "execute_result"
    }
   ],
   "source": [
    "val_med_dif_3 = (train.loc['03/10/2020', 'LN_DIFER'] - train.loc['02/25/2020', 'LN_DIFER'])/\\\n",
    "(pd.to_datetime('03/10/2020') - pd.to_datetime('02/25/2020')).days\n",
    "\n",
    "val_med_dif_3"
   ]
  },
  {
   "cell_type": "code",
   "execution_count": 32,
   "metadata": {},
   "outputs": [],
   "source": [
    "orig_value = train.loc['2020-03-10', 'LN_DIFER']\n",
    "\n",
    "for_pred = np.full(shape = num_dias, fill_value = val_med_dif_3)\n",
    "for_pred = np.cumsum(for_pred) + orig_value\n",
    "\n",
    "pred_dif = pd.DataFrame(for_pred, columns = ['LN_CONTAGIOS_DIARIOS'], index = test.index[:num_dias])"
   ]
  },
  {
   "cell_type": "code",
   "execution_count": 33,
   "metadata": {},
   "outputs": [],
   "source": [
    "pred_dif['NUEVOS_CONTAGIOS_DIARIOS'] = np.round(np.exp(pred_dif['LN_CONTAGIOS_DIARIOS']))"
   ]
  },
  {
   "cell_type": "code",
   "execution_count": 34,
   "metadata": {},
   "outputs": [
    {
     "data": {
      "text/plain": [
       "FECHA\n",
       "2020-03-11     317.0\n",
       "2020-03-12     355.0\n",
       "2020-03-13     562.0\n",
       "2020-03-14    1329.0\n",
       "dtype: float64"
      ]
     },
     "execution_count": 34,
     "metadata": {},
     "output_type": "execute_result"
    }
   ],
   "source": [
    "pred_dif['NUEVOS_CONTAGIOS_DIARIOS']  -  test.loc[:'2020-03-14','DIFER']"
   ]
  },
  {
   "cell_type": "code",
   "execution_count": 35,
   "metadata": {},
   "outputs": [
    {
     "data": {
      "image/png": "[encoded data removed]",
      "text/plain": [
       "<Figure size 1080x360 with 1 Axes>"
      ]
     },
     "metadata": {
      "needs_background": "light"
     },
     "output_type": "display_data"
    }
   ],
   "source": [
    "plt.figure(figsize = (15,5))\n",
    "plt.plot(contagios.loc[:'2020-03-14','DIFER'])\n",
    "plt.plot (pred_dif['NUEVOS_CONTAGIOS_DIARIOS'] );"
   ]
  },
  {
   "cell_type": "markdown",
   "metadata": {},
   "source": [
    "De nuevo podemos observar cómo la gráfica se separa enormemente de los datos oficiales."
   ]
  },
  {
   "cell_type": "markdown",
   "metadata": {},
   "source": [
    "**Paso 3:**\n",
    "\n",
    "**Correcciones:**\n",
    "\n",
    "Tanto para la serie de contagios como para la de contagios diarios hemos podido observar que nuestra representación, lejos de ser lineal, presenta cierta forma parabólica (mucho más clara en la curva de contagios totales).\n",
    "\n",
    "Por lo tanto, el ajuste que podemos conseguir imponiendo un modelo con coeficientes lineales puede no ser el mejor.\n",
    "\n",
    "Aquí tenemos dos opciones: o bien pedimos el ajuste parabólico en el modelo (habría que buscar otras opciones, como scipy.optimize.curve_fit, dado que polyfit no permite ajustes de raíces), o bien linealizamos nuestros datos elevándolos al exponente adecuado para luego aplicar una regresión lineal.\n",
    "\n",
    "Dada la forma de la curva y el mayor grado de control que tenemos en la segunda opción, optamos por ella: Vamos, por tanto, a generar una nueva variable a predecir en la que, elevando el ln(contagios) al factor adecuado consigamos una variable que presente un comportamiento lineal.\n",
    "\n",
    "Posteriormente comprobaremos el valor de nuestro ajuste con el obtenidode tomar como datos para la regresión, los últimos datos de \"train\" y los de la predicción:"
   ]
  },
  {
   "cell_type": "code",
   "execution_count": 36,
   "metadata": {},
   "outputs": [
    {
     "data": {
      "image/png": "[encoded data removed]",
      "text/plain": [
       "<Figure size 1080x360 with 1 Axes>"
      ]
     },
     "metadata": {
      "needs_background": "light"
     },
     "output_type": "display_data"
    }
   ],
   "source": [
    "contagios['LN_CONTAGIOS'].plot(figsize=(15,5), style = 'o');"
   ]
  },
  {
   "cell_type": "markdown",
   "metadata": {},
   "source": [
    "Eliminamos el primer valor, claramente un outlier:"
   ]
  },
  {
   "cell_type": "code",
   "execution_count": 37,
   "metadata": {},
   "outputs": [],
   "source": [
    "contagios.drop(contagios.index[0], inplace = True)"
   ]
  },
  {
   "cell_type": "markdown",
   "metadata": {},
   "source": [
    "Podemos ver que, simplemente elevando al cuadrado los valores de la variable ln(contagios) obtenemos ya una variable con un comportamiento lineal:"
   ]
  },
  {
   "cell_type": "code",
   "execution_count": 38,
   "metadata": {},
   "outputs": [
    {
     "data": {
      "image/png": "[encoded data removed]",
      "text/plain": [
       "<Figure size 1080x360 with 1 Axes>"
      ]
     },
     "metadata": {
      "needs_background": "light"
     },
     "output_type": "display_data"
    }
   ],
   "source": [
    "contagios['LN_CONTAGIOS^2'] = contagios['LN_CONTAGIOS']**2\n",
    "contagios['LN_CONTAGIOS^2'].plot(figsize=(15,5), style = 'o');"
   ]
  },
  {
   "cell_type": "code",
   "execution_count": 39,
   "metadata": {},
   "outputs": [],
   "source": [
    "train['LN_CONTAGIOS^2'] = (train['LN_CONTAGIOS']**2).copy()\n",
    "train['LN_CONTAGIOS^2_DIFER'] = (train['LN_CONTAGIOS^2'].diff().fillna(train['LN_CONTAGIOS^2'])/train['DIFER_DIAS']).copy()\n",
    "train['LN_CONTAGIOS^2_DIFER'];"
   ]
  },
  {
   "cell_type": "code",
   "execution_count": 40,
   "metadata": {},
   "outputs": [
    {
     "data": {
      "text/plain": [
       "4.439328104086415"
      ]
     },
     "execution_count": 40,
     "metadata": {},
     "output_type": "execute_result"
    }
   ],
   "source": [
    "slope = (train.loc['03/10/2020', 'LN_CONTAGIOS^2'] - train.loc['02/25/2020', 'LN_CONTAGIOS^2'])/\\\n",
    "(pd.to_datetime('03/10/2020') - pd.to_datetime('02/25/2020')).days\n",
    "\n",
    "slope = 0.5 * slope + 0.5 * (train.iloc[-3:,-1].mean())\n",
    "slope"
   ]
  },
  {
   "cell_type": "code",
   "execution_count": 41,
   "metadata": {},
   "outputs": [
    {
     "data": {
      "text/html": [
       "<div>\n",
       "<style scoped>\n",
       "    .dataframe tbody tr th:only-of-type {\n",
       "        vertical-align: middle;\n",
       "    }\n",
       "\n",
       "    .dataframe tbody tr th {\n",
       "        vertical-align: top;\n",
       "    }\n",
       "\n",
       "    .dataframe thead th {\n",
       "        text-align: right;\n",
       "    }\n",
       "</style>\n",
       "<table border=\"1\" class=\"dataframe\">\n",
       "  <thead>\n",
       "    <tr style=\"text-align: right;\">\n",
       "      <th></th>\n",
       "      <th>LN_CONTAGIOS^2</th>\n",
       "    </tr>\n",
       "    <tr>\n",
       "      <th>FECHA</th>\n",
       "      <th></th>\n",
       "    </tr>\n",
       "  </thead>\n",
       "  <tbody>\n",
       "    <tr>\n",
       "      <th>2020-03-11</th>\n",
       "      <td>59.725067</td>\n",
       "    </tr>\n",
       "    <tr>\n",
       "      <th>2020-03-12</th>\n",
       "      <td>64.164395</td>\n",
       "    </tr>\n",
       "    <tr>\n",
       "      <th>2020-03-13</th>\n",
       "      <td>68.603723</td>\n",
       "    </tr>\n",
       "    <tr>\n",
       "      <th>2020-03-14</th>\n",
       "      <td>73.043051</td>\n",
       "    </tr>\n",
       "  </tbody>\n",
       "</table>\n",
       "</div>"
      ],
      "text/plain": [
       "            LN_CONTAGIOS^2\n",
       "FECHA                     \n",
       "2020-03-11       59.725067\n",
       "2020-03-12       64.164395\n",
       "2020-03-13       68.603723\n",
       "2020-03-14       73.043051"
      ]
     },
     "execution_count": 41,
     "metadata": {},
     "output_type": "execute_result"
    }
   ],
   "source": [
    "orig_value = train.loc['03/10/2020', 'LN_CONTAGIOS^2']\n",
    "\n",
    "for_pred = np.full(shape = num_dias, fill_value = slope)\n",
    "for_pred = np.cumsum(for_pred) + orig_value\n",
    "\n",
    "pred = pd.DataFrame(for_pred, columns = ['LN_CONTAGIOS^2'], index = test.index[:num_dias])\n",
    "pred"
   ]
  },
  {
   "cell_type": "code",
   "execution_count": 42,
   "metadata": {},
   "outputs": [
    {
     "data": {
      "text/plain": [
       "[<matplotlib.lines.Line2D at 0x23faa261400>]"
      ]
     },
     "execution_count": 42,
     "metadata": {},
     "output_type": "execute_result"
    },
    {
     "data": {
      "image/png": "[encoded data removed]",
      "text/plain": [
       "<Figure size 1296x360 with 1 Axes>"
      ]
     },
     "metadata": {
      "needs_background": "light"
     },
     "output_type": "display_data"
    }
   ],
   "source": [
    "plt.figure(figsize=(18,5))\n",
    "plt.plot(train.index, train['LN_CONTAGIOS^2'], 'o')\n",
    "plt.plot(pred.index, pred, 'o')"
   ]
  },
  {
   "cell_type": "code",
   "execution_count": 43,
   "metadata": {},
   "outputs": [
    {
     "data": {
      "text/plain": [
       "FECHA\n",
       "2020-03-11    0.061682\n",
       "2020-03-12    0.015852\n",
       "2020-03-13   -0.065233\n",
       "2020-03-14   -0.101866\n",
       "Name: CONTAGIOS, dtype: float64"
      ]
     },
     "execution_count": 43,
     "metadata": {},
     "output_type": "execute_result"
    }
   ],
   "source": [
    "pred['CONTAGIOS'] = round(np.exp((pred['LN_CONTAGIOS^2'])**(1/2)))\n",
    "(pred['CONTAGIOS'] - test.loc[:'03/14/2020', 'CONTAGIOS'])/test.loc[:'03/14/2020', 'CONTAGIOS']"
   ]
  },
  {
   "cell_type": "code",
   "execution_count": 44,
   "metadata": {},
   "outputs": [
    {
     "data": {
      "text/html": [
       "<div>\n",
       "<style scoped>\n",
       "    .dataframe tbody tr th:only-of-type {\n",
       "        vertical-align: middle;\n",
       "    }\n",
       "\n",
       "    .dataframe tbody tr th {\n",
       "        vertical-align: top;\n",
       "    }\n",
       "\n",
       "    .dataframe thead th {\n",
       "        text-align: right;\n",
       "    }\n",
       "</style>\n",
       "<table border=\"1\" class=\"dataframe\">\n",
       "  <thead>\n",
       "    <tr style=\"text-align: right;\">\n",
       "      <th></th>\n",
       "      <th>CHECK</th>\n",
       "      <th>REAL</th>\n",
       "    </tr>\n",
       "  </thead>\n",
       "  <tbody>\n",
       "    <tr>\n",
       "      <th>CHECK</th>\n",
       "      <td>1.000000</td>\n",
       "      <td>0.992233</td>\n",
       "    </tr>\n",
       "    <tr>\n",
       "      <th>REAL</th>\n",
       "      <td>0.992233</td>\n",
       "      <td>1.000000</td>\n",
       "    </tr>\n",
       "  </tbody>\n",
       "</table>\n",
       "</div>"
      ],
      "text/plain": [
       "          CHECK      REAL\n",
       "CHECK  1.000000  0.992233\n",
       "REAL   0.992233  1.000000"
      ]
     },
     "execution_count": 44,
     "metadata": {},
     "output_type": "execute_result"
    }
   ],
   "source": [
    "coefs = np.polyfit(np.array(train['DIFER_DIAS_2']), np.array(train['LN_CONTAGIOS^2']) , 1)\n",
    "\n",
    "# switch para elegir si emplear el propio ajuste de la regresión lineal para el término independiente,\n",
    "# o si, por el contrario, tomamos como referencia el último valor, y tomamos únicamente la pendiente:\n",
    "\n",
    "#se comprueba que el valor más fiable es el que arroja esta segunda opción:\n",
    "\n",
    "switch = False\n",
    "\n",
    "if switch:\n",
    "\n",
    "    days = np.array(range(28, 32))\n",
    "    for_pred_2 = days * coefs[0] + coefs[1]    \n",
    "\n",
    "else:\n",
    "    orig_value = train.loc['03/10/2020', 'LN_CONTAGIOS^2']\n",
    "    days = np.array(range(1,5))\n",
    "    for_pred_2 = days * coefs[0] + orig_value\n",
    "\n",
    "for_check = np.array(train['DIFER_DIAS_2']) * coefs[0] + coefs[1]   \n",
    "    \n",
    "n_prediction = pd.DataFrame(for_pred_2, columns = ['LN_CONTAGIOS^2'], index = test.index[:num_dias])\n",
    "                     \n",
    "for_check = pd.DataFrame(for_check, columns = ['CHECK'], index = train.index)\n",
    "\n",
    "for_check['REAL'] = train['LN_CONTAGIOS^2']\n",
    "for_check.corr()"
   ]
  },
  {
   "cell_type": "code",
   "execution_count": 45,
   "metadata": {},
   "outputs": [
    {
     "data": {
      "text/plain": [
       "[<matplotlib.lines.Line2D at 0x23faa303f28>]"
      ]
     },
     "execution_count": 45,
     "metadata": {},
     "output_type": "execute_result"
    },
    {
     "data": {
      "image/png": "[encoded data removed]",
      "text/plain": [
       "<Figure size 1296x360 with 1 Axes>"
      ]
     },
     "metadata": {
      "needs_background": "light"
     },
     "output_type": "display_data"
    }
   ],
   "source": [
    "plt.figure(figsize=(18,5))\n",
    "plt.plot(train.index, train['LN_CONTAGIOS^2'], 'o')\n",
    "plt.plot(n_prediction.index, n_prediction['LN_CONTAGIOS^2'], 'o')"
   ]
  },
  {
   "cell_type": "code",
   "execution_count": 46,
   "metadata": {
    "scrolled": false
   },
   "outputs": [
    {
     "data": {
      "text/html": [
       "<div>\n",
       "<style scoped>\n",
       "    .dataframe tbody tr th:only-of-type {\n",
       "        vertical-align: middle;\n",
       "    }\n",
       "\n",
       "    .dataframe tbody tr th {\n",
       "        vertical-align: top;\n",
       "    }\n",
       "\n",
       "    .dataframe thead th {\n",
       "        text-align: right;\n",
       "    }\n",
       "</style>\n",
       "<table border=\"1\" class=\"dataframe\">\n",
       "  <thead>\n",
       "    <tr style=\"text-align: right;\">\n",
       "      <th></th>\n",
       "      <th>LN_CONTAGIOS^2</th>\n",
       "      <th>PRED</th>\n",
       "      <th>REAL_DATA</th>\n",
       "      <th>ERROR_REL</th>\n",
       "    </tr>\n",
       "    <tr>\n",
       "      <th>FECHA</th>\n",
       "      <th></th>\n",
       "      <th></th>\n",
       "      <th></th>\n",
       "      <th></th>\n",
       "    </tr>\n",
       "  </thead>\n",
       "  <tbody>\n",
       "    <tr>\n",
       "      <th>2020-03-11</th>\n",
       "      <td>59.024254</td>\n",
       "      <td>2171.0</td>\n",
       "      <td>2140</td>\n",
       "      <td>0.014486</td>\n",
       "    </tr>\n",
       "    <tr>\n",
       "      <th>2020-03-12</th>\n",
       "      <td>62.762770</td>\n",
       "      <td>2758.0</td>\n",
       "      <td>2965</td>\n",
       "      <td>0.069815</td>\n",
       "    </tr>\n",
       "    <tr>\n",
       "      <th>2020-03-13</th>\n",
       "      <td>66.501285</td>\n",
       "      <td>3480.0</td>\n",
       "      <td>4231</td>\n",
       "      <td>0.177499</td>\n",
       "    </tr>\n",
       "    <tr>\n",
       "      <th>2020-03-14</th>\n",
       "      <td>70.239801</td>\n",
       "      <td>4363.0</td>\n",
       "      <td>5733</td>\n",
       "      <td>0.238967</td>\n",
       "    </tr>\n",
       "  </tbody>\n",
       "</table>\n",
       "</div>"
      ],
      "text/plain": [
       "            LN_CONTAGIOS^2    PRED  REAL_DATA  ERROR_REL\n",
       "FECHA                                                   \n",
       "2020-03-11       59.024254  2171.0       2140   0.014486\n",
       "2020-03-12       62.762770  2758.0       2965   0.069815\n",
       "2020-03-13       66.501285  3480.0       4231   0.177499\n",
       "2020-03-14       70.239801  4363.0       5733   0.238967"
      ]
     },
     "execution_count": 46,
     "metadata": {},
     "output_type": "execute_result"
    }
   ],
   "source": [
    "n_prediction['PRED'] = round(np.exp((n_prediction['LN_CONTAGIOS^2'])**(1/2)))\n",
    "n_prediction['REAL_DATA'] = test.loc[:'03/14/2020', 'CONTAGIOS']\n",
    "n_prediction['ERROR_REL'] = abs(n_prediction['PRED'] - n_prediction['REAL_DATA'])/test.loc[:'03/14/2020', 'CONTAGIOS']\n",
    "n_prediction"
   ]
  },
  {
   "cell_type": "code",
   "execution_count": 47,
   "metadata": {},
   "outputs": [
    {
     "data": {
      "text/plain": [
       "<matplotlib.legend.Legend at 0x23faa40dc50>"
      ]
     },
     "execution_count": 47,
     "metadata": {},
     "output_type": "execute_result"
    },
    {
     "data": {
      "image/png": "[encoded data removed]",
      "text/plain": [
       "<Figure size 1296x360 with 1 Axes>"
      ]
     },
     "metadata": {
      "needs_background": "light"
     },
     "output_type": "display_data"
    }
   ],
   "source": [
    "plt.figure(figsize=(18,5))\n",
    "plt.plot(train.index, train['CONTAGIOS'], 'o')\n",
    "plt.plot(n_prediction.index, n_prediction['PRED'], 'o')\n",
    "plt.plot(n_prediction.index, n_prediction['REAL_DATA'], 'o')\n",
    "\n",
    "plt.legend(['CONTAGIOS', 'PREDICCIÓN', 'EVOLUCIÓN REAL'])"
   ]
  },
  {
   "cell_type": "markdown",
   "metadata": {},
   "source": [
    "Como podemos ver, estos modelos, con la regresión lineal calculada sobre la linealización de los neperianos tienen una tasa de desvío mucho menor que los originales que hemos probado, lo que nos indica que esta es posiblemente la estrategia adecuada."
   ]
  },
  {
   "cell_type": "markdown",
   "metadata": {},
   "source": [
    "**CONCLUSIONES DE MODELOS PRELIMINARES:**\n",
    "\n",
    "1) El cambio en los criterios de hospitalización de varias comunidades autónomas españolas dificulta el trazado de la curva, al haber reducido artificialmente los resultados totales en cuanto a número de infectados.\n",
    "\n",
    "2) Ninguno de los métodos empleados parece arrojar muy buenos resultados. A pesar de que los últimos ajustes, en los que la correlación encontrada es elevada, encontrar partiendo de reusltados pasados la pendiente efectiva de la curva de los contagios resulta ser complicado por lo sensible del cálculo de su pendiente.\n",
    "\n",
    "3) Los métodos sin embargo sí consiguen capturar bien la evolución, si bien no a nivel numérico, sí a nivel conceptual.\n",
    "\n",
    "4) El método con el que nos quedaremos es el de emplear una pendiente que se calcule tanto a partir de la propia recta que hemos visto anteriormente, como con los últimos valores para contemplar en nuestra proyección la importancia de los últimos valores.\n",
    "\n",
    "Ahora, tras este análisis, estamos ya en posición de intentar hacer las mejores predicciones posibles:"
   ]
  },
  {
   "cell_type": "markdown",
   "metadata": {},
   "source": [
    "### MODELO FINAL:"
   ]
  },
  {
   "cell_type": "markdown",
   "metadata": {},
   "source": [
    "Vamos ahora a aplicar de nuevo un modelo de regresión lineal para nuestra serie, primero calculando la recta que realmente siguen los logartimos, para luego deshacer los cambios.\n",
    "\n",
    "Una vez tengamos nuestro modelo calcularemos el error que nos devuelve nuestro ajuste y haremos predicciones:"
   ]
  },
  {
   "cell_type": "code",
   "execution_count": 48,
   "metadata": {},
   "outputs": [],
   "source": [
    "def cols_para_calculos(df: 'DataFrame', columna_or: 'string', dates_in_index = True):\n",
    "    \n",
    "    if dates_in_index:\n",
    "        day_range = (df.index - df.index[0]).days\n",
    "        df.loc[:,'FECHA'] = day_range\n",
    "    else:\n",
    "        df['FECHA'] =(df.index - df.index[0])\n",
    "    \n",
    "    \n",
    "\n",
    "    df['PARA_CALCULOS'] = (df[columna_or]).apply(lambda x: -10 if x == 0 else np.log(x))\n",
    "    df['LOG_FECHA_0'] = np.array(np.log(df['FECHA']))\n",
    "    df['LOG_FECHA_1'] = np.array(df['FECHA'].shift(1).apply(lambda x: 0 if (x == 0) else np.log(x)))\n",
    "\n",
    "    df['DIF_FECHA'] = df['LOG_FECHA_0'] - df['LOG_FECHA_1']\n",
    "    df['RATIO'] = df['PARA_CALCULOS'].diff()/df['DIF_FECHA']\n",
    "\n",
    "    factor = df.loc[df.index[2]:,'RATIO'].mean()\n",
    "    \n",
    "    df['RECTA'] = df[columna_or]**(1/factor)\n",
    "    \n",
    "    return df, factor"
   ]
  },
  {
   "cell_type": "code",
   "execution_count": 49,
   "metadata": {},
   "outputs": [
    {
     "name": "stderr",
     "output_type": "stream",
     "text": [
      "C:\\ProgramData\\Anaconda3\\lib\\site-packages\\ipykernel_launcher.py:12: RuntimeWarning: divide by zero encountered in log\n",
      "  if sys.path[0] == '':\n"
     ]
    },
    {
     "data": {
      "text/plain": [
       "0.5272199497112161"
      ]
     },
     "execution_count": 49,
     "metadata": {},
     "output_type": "execute_result"
    }
   ],
   "source": [
    "df_contagios_pred = contagios[['CONTAGIOS', 'DIFER_DIAS', 'LN_CONTAGIOS']].copy()\n",
    "\n",
    "df_contagios_pred, factor = cols_para_calculos(df_contagios_pred, 'LN_CONTAGIOS')\n",
    "factor"
   ]
  },
  {
   "cell_type": "code",
   "execution_count": 50,
   "metadata": {},
   "outputs": [],
   "source": [
    "def ajuste_min_cuadrados(serie_x: 'Series', serie_y: 'Series', factor: 'float', col: 'string'):\n",
    "    \n",
    "    \n",
    "    # Añadimos en el polyfit unos pesos exponenciales sobre el factor de corrección, \n",
    "    # para que el modelo ajuste el peso de los errores según los que tendrían con la distribución original \n",
    "    # del valor en y, y no la propia recta:\n",
    "    \n",
    "    x_range = serie_x\n",
    "    coefs = np.polyfit(np.array(x_range), np.array(serie_y) , 1, w=np.exp(serie_y**factor))\n",
    "\n",
    "    arr_pred = x_range * coefs[0] + coefs[1]\n",
    "\n",
    "    df_pred = pd.DataFrame(arr_pred)\n",
    "    df_pred.rename({'FECHA':'PRED'}, axis=1, inplace = True)\n",
    "    df_pred['RECTA'] = serie_y\n",
    "    \n",
    "    \n",
    "    df_pred.plot(figsize=(18,5))\n",
    "    print(df_pred.corr())\n",
    "    \n",
    "    df_pred[col] = np.round(np.exp(df_pred['PRED']**factor).fillna(1))\n",
    "\n",
    "    return df_pred, coefs"
   ]
  },
  {
   "cell_type": "code",
   "execution_count": 51,
   "metadata": {},
   "outputs": [
    {
     "name": "stdout",
     "output_type": "stream",
     "text": [
      "           PRED     RECTA\n",
      "PRED   1.000000  0.997969\n",
      "RECTA  0.997969  1.000000\n"
     ]
    },
    {
     "data": {
      "image/png": "[encoded data removed]",
      "text/plain": [
       "<Figure size 1296x360 with 1 Axes>"
      ]
     },
     "metadata": {
      "needs_background": "light"
     },
     "output_type": "display_data"
    }
   ],
   "source": [
    "new_contagios_prediction, coefs = ajuste_min_cuadrados(df_contagios_pred['FECHA'], df_contagios_pred['RECTA'], factor, 'PRED_CONTAGIOS')"
   ]
  },
  {
   "cell_type": "code",
   "execution_count": 52,
   "metadata": {},
   "outputs": [
    {
     "data": {
      "text/plain": [
       "1.2165618867350532"
      ]
     },
     "execution_count": 52,
     "metadata": {},
     "output_type": "execute_result"
    }
   ],
   "source": [
    "df_contagios_pred['PRED_CONTAGIOS'] = new_contagios_prediction['PRED_CONTAGIOS']\n",
    "df_contagios_pred['ERROR_ABS'] = abs(df_contagios_pred['PRED_CONTAGIOS'] - df_contagios_pred['CONTAGIOS'])\n",
    "df_contagios_pred['ERROR_REL'] = (abs(df_contagios_pred['PRED_CONTAGIOS'] - df_contagios_pred['CONTAGIOS'])/df_contagios_pred['CONTAGIOS']).fillna(0)\n",
    "df_contagios_pred.loc[df_contagios_pred.index[1]:,'ERROR_REL'].mean()"
   ]
  },
  {
   "cell_type": "markdown",
   "metadata": {},
   "source": [
    "Como se puede observar, el ajuste es malo para las fechas iniciales, pero mejor según nos acercamos a las actuales, presentando un 21% de error medio, lo cual no sería un buen resultado.\n",
    "\n",
    "Sin embargo, esa distribución del error no es uniforme.\n",
    "\n",
    "Podemos ver que el error cometido del 15 de marzo en adelante es:"
   ]
  },
  {
   "cell_type": "code",
   "execution_count": 53,
   "metadata": {},
   "outputs": [
    {
     "data": {
      "text/plain": [
       "0.017807655943496814"
      ]
     },
     "execution_count": 53,
     "metadata": {},
     "output_type": "execute_result"
    }
   ],
   "source": [
    "df_contagios_pred.loc[pd.to_datetime('2020-03-15'):,'ERROR_REL'].mean()"
   ]
  },
  {
   "cell_type": "markdown",
   "metadata": {},
   "source": [
    "... un 1,7%, lo cual es muy buen valor."
   ]
  },
  {
   "cell_type": "code",
   "execution_count": 54,
   "metadata": {},
   "outputs": [],
   "source": [
    "def prediccion(day_num_of_reference, date_of_reference, coeficientes, factor):    \n",
    "\n",
    "    x_range_ext = np.array(range(day_num_of_reference + 1, day_num_of_reference + 6))\n",
    "    index = [date_of_reference + datetime.timedelta(int(x)) for x in x_range_ext]\n",
    "    arr_pred = x_range_ext * coeficientes[0] + coeficientes[1]\n",
    "\n",
    "    arr_pred = np.round(np.exp(arr_pred**factor))\n",
    "    arr_pred = pd.DataFrame(arr_pred, columns = ['PRED'], index = index)\n",
    "    return arr_pred"
   ]
  },
  {
   "cell_type": "code",
   "execution_count": 55,
   "metadata": {},
   "outputs": [
    {
     "data": {
      "text/html": [
       "<div>\n",
       "<style scoped>\n",
       "    .dataframe tbody tr th:only-of-type {\n",
       "        vertical-align: middle;\n",
       "    }\n",
       "\n",
       "    .dataframe tbody tr th {\n",
       "        vertical-align: top;\n",
       "    }\n",
       "\n",
       "    .dataframe thead th {\n",
       "        text-align: right;\n",
       "    }\n",
       "</style>\n",
       "<table border=\"1\" class=\"dataframe\">\n",
       "  <thead>\n",
       "    <tr style=\"text-align: right;\">\n",
       "      <th></th>\n",
       "      <th>PRED</th>\n",
       "    </tr>\n",
       "  </thead>\n",
       "  <tbody>\n",
       "    <tr>\n",
       "      <th>2020-03-24</th>\n",
       "      <td>40547.0</td>\n",
       "    </tr>\n",
       "    <tr>\n",
       "      <th>2020-03-25</th>\n",
       "      <td>48147.0</td>\n",
       "    </tr>\n",
       "    <tr>\n",
       "      <th>2020-03-26</th>\n",
       "      <td>57034.0</td>\n",
       "    </tr>\n",
       "    <tr>\n",
       "      <th>2020-03-27</th>\n",
       "      <td>67405.0</td>\n",
       "    </tr>\n",
       "    <tr>\n",
       "      <th>2020-03-28</th>\n",
       "      <td>79485.0</td>\n",
       "    </tr>\n",
       "  </tbody>\n",
       "</table>\n",
       "</div>"
      ],
      "text/plain": [
       "               PRED\n",
       "2020-03-24  40547.0\n",
       "2020-03-25  48147.0\n",
       "2020-03-26  57034.0\n",
       "2020-03-27  67405.0\n",
       "2020-03-28  79485.0"
      ]
     },
     "execution_count": 55,
     "metadata": {},
     "output_type": "execute_result"
    }
   ],
   "source": [
    "day_num_of_reference = df_contagios_pred['FECHA'][-1]\n",
    "date_of_reference = df_contagios_pred.index[0]\n",
    "arr_contagios_pred = prediccion(day_num_of_reference, date_of_reference, coefs, factor)\n",
    "arr_contagios_pred"
   ]
  },
  {
   "cell_type": "markdown",
   "metadata": {},
   "source": [
    "Provisionalmente aceptaremos estos datos como resultantes de una primera iteración.\n",
    "\n",
    "Sin embargo, podemos observar que extrapolar con los datos de contagios es complicado, en parte, debido a los cambios de criterio mencionados anteriormente."
   ]
  },
  {
   "cell_type": "markdown",
   "metadata": {},
   "source": [
    "## 2. MUERTOS"
   ]
  },
  {
   "cell_type": "markdown",
   "metadata": {},
   "source": [
    "Pasamos ahora a comprobar los de los muertos. Representamos a continuación la curva del total acumulado de muertos en España:"
   ]
  },
  {
   "cell_type": "code",
   "execution_count": 56,
   "metadata": {},
   "outputs": [
    {
     "data": {
      "image/png": "[encoded data removed]",
      "text/plain": [
       "<Figure size 1080x360 with 1 Axes>"
      ]
     },
     "metadata": {
      "needs_background": "light"
     },
     "output_type": "display_data"
    }
   ],
   "source": [
    "plt.figure(figsize=(15,5))\n",
    "plt.plot(muertos['MUERTOS'], '-', color='orange');"
   ]
  },
  {
   "cell_type": "markdown",
   "metadata": {},
   "source": [
    "A continuación, la evolución del ratio de muertos a infectados:"
   ]
  },
  {
   "cell_type": "code",
   "execution_count": 57,
   "metadata": {
    "scrolled": true
   },
   "outputs": [
    {
     "data": {
      "image/png": "[encoded data removed]",
      "text/plain": [
       "<Figure size 1080x360 with 1 Axes>"
      ]
     },
     "metadata": {
      "needs_background": "light"
     },
     "output_type": "display_data"
    }
   ],
   "source": [
    "datos['ratio'] = datos['MUERTOS']/datos['CONTAGIOS']\n",
    "datos['ratio'].plot(figsize=(15,5));"
   ]
  },
  {
   "cell_type": "markdown",
   "metadata": {},
   "source": [
    "Y el ratio de muertes provocadas por la enfermedad cada día:"
   ]
  },
  {
   "cell_type": "code",
   "execution_count": 58,
   "metadata": {},
   "outputs": [
    {
     "data": {
      "text/plain": [
       "<matplotlib.axes._subplots.AxesSubplot at 0x23faa1c3c50>"
      ]
     },
     "execution_count": 58,
     "metadata": {},
     "output_type": "execute_result"
    },
    {
     "data": {
      "image/png": "[encoded data removed]",
      "text/plain": [
       "<Figure size 1080x360 with 1 Axes>"
      ]
     },
     "metadata": {
      "needs_background": "light"
     },
     "output_type": "display_data"
    }
   ],
   "source": [
    "muertos['MUERTOS_DIARIOS'] = muertos['MUERTOS'].diff().fillna(0)/muertos['DIFER_DIAS']\n",
    "muertos['MUERTOS_DIARIOS'].plot(figsize = (15,5))"
   ]
  },
  {
   "cell_type": "markdown",
   "metadata": {},
   "source": [
    "Y, como en el caso de los contagios, la forma que presenta el logaritmo de las muertes acumuladas por la enfermedad, día tras día:"
   ]
  },
  {
   "cell_type": "code",
   "execution_count": 59,
   "metadata": {
    "scrolled": true
   },
   "outputs": [
    {
     "data": {
      "image/png": "[encoded data removed]",
      "text/plain": [
       "<Figure size 1080x360 with 1 Axes>"
      ]
     },
     "metadata": {
      "needs_background": "light"
     },
     "output_type": "display_data"
    }
   ],
   "source": [
    "muertos['LN_MUERTOS'] = muertos['MUERTOS'].apply(lambda x: 0 if x == 0 else np.log(x))\n",
    "muertos[muertos['LN_MUERTOS'] != 0]['LN_MUERTOS'].plot(figsize=(15,5));"
   ]
  },
  {
   "cell_type": "markdown",
   "metadata": {},
   "source": [
    "Vamos rápidamente a ajustar un modelo lineal a esta curva (que vemos que, como en el caso anterior, parece seguir una potencia menor que la unidad):"
   ]
  },
  {
   "cell_type": "code",
   "execution_count": 60,
   "metadata": {},
   "outputs": [],
   "source": [
    "date_list = [muertos.index[-1] + datetime.timedelta(days=x+1) for x in range(10)]"
   ]
  },
  {
   "cell_type": "code",
   "execution_count": 61,
   "metadata": {
    "scrolled": false
   },
   "outputs": [
    {
     "data": {
      "text/html": [
       "<div>\n",
       "<style scoped>\n",
       "    .dataframe tbody tr th:only-of-type {\n",
       "        vertical-align: middle;\n",
       "    }\n",
       "\n",
       "    .dataframe tbody tr th {\n",
       "        vertical-align: top;\n",
       "    }\n",
       "\n",
       "    .dataframe thead th {\n",
       "        text-align: right;\n",
       "    }\n",
       "</style>\n",
       "<table border=\"1\" class=\"dataframe\">\n",
       "  <thead>\n",
       "    <tr style=\"text-align: right;\">\n",
       "      <th></th>\n",
       "      <th>PRED</th>\n",
       "      <th>REAL</th>\n",
       "    </tr>\n",
       "  </thead>\n",
       "  <tbody>\n",
       "    <tr>\n",
       "      <th>PRED</th>\n",
       "      <td>1.000000</td>\n",
       "      <td>0.984825</td>\n",
       "    </tr>\n",
       "    <tr>\n",
       "      <th>REAL</th>\n",
       "      <td>0.984825</td>\n",
       "      <td>1.000000</td>\n",
       "    </tr>\n",
       "  </tbody>\n",
       "</table>\n",
       "</div>"
      ],
      "text/plain": [
       "          PRED      REAL\n",
       "PRED  1.000000  0.984825\n",
       "REAL  0.984825  1.000000"
      ]
     },
     "execution_count": 61,
     "metadata": {},
     "output_type": "execute_result"
    },
    {
     "data": {
      "image/png": "[encoded data removed]",
      "text/plain": [
       "<Figure size 1296x360 with 1 Axes>"
      ]
     },
     "metadata": {
      "needs_background": "light"
     },
     "output_type": "display_data"
    }
   ],
   "source": [
    "muertos_pol = muertos[muertos['MUERTOS'] != 0]\n",
    "day_range = (muertos_pol.index - muertos[muertos['MUERTOS']>0].index[0]).days\n",
    "\n",
    "coefs = np.polyfit(day_range, np.array(muertos_pol['LN_MUERTOS']) , 1, w=np.exp(np.array(muertos_pol['LN_MUERTOS'])))\n",
    "\n",
    "arr_muertos_pred = day_range * coefs[0] + coefs[1]\n",
    "    \n",
    "df_muertos_pred = pd.DataFrame(arr_muertos_pred, index = day_range)\n",
    "df_muertos_pred.rename({'FECHA':'PRED'}, axis=1, inplace = True)\n",
    "df_muertos_pred['REAL'] = muertos_pol.set_index(day_range)['LN_MUERTOS']\n",
    "df_muertos_pred.plot(figsize=(18,5));\n",
    "df_muertos_pred.corr()"
   ]
  },
  {
   "cell_type": "markdown",
   "metadata": {},
   "source": [
    "Pero, como decíamos, el comportamiento de esta curva de nuevo no es lineal, sino que más bien presenta una pequeña curvatura que indica un exponente menor que 1.\n",
    "\n",
    "Aplicaremos por lo tanto la linealización que empleamos anteriormente, para luego aplicar los métodos de regresión sobre la variable linealizada:"
   ]
  },
  {
   "cell_type": "code",
   "execution_count": 62,
   "metadata": {},
   "outputs": [],
   "source": [
    "df_muertos_pred.drop('PRED', axis = 1, inplace = True)"
   ]
  },
  {
   "cell_type": "code",
   "execution_count": 63,
   "metadata": {},
   "outputs": [
    {
     "name": "stderr",
     "output_type": "stream",
     "text": [
      "C:\\ProgramData\\Anaconda3\\lib\\site-packages\\ipykernel_launcher.py:12: RuntimeWarning: divide by zero encountered in log\n",
      "  if sys.path[0] == '':\n"
     ]
    }
   ],
   "source": [
    "df_muertos_pred, factor = cols_para_calculos(df_muertos_pred, 'REAL', dates_in_index = False)"
   ]
  },
  {
   "cell_type": "code",
   "execution_count": 65,
   "metadata": {},
   "outputs": [
    {
     "name": "stdout",
     "output_type": "stream",
     "text": [
      "           PRED     RECTA\n",
      "PRED   1.000000  0.998694\n",
      "RECTA  0.998694  1.000000\n"
     ]
    },
    {
     "data": {
      "image/png": "[encoded data removed]",
      "text/plain": [
       "<Figure size 1296x360 with 1 Axes>"
      ]
     },
     "metadata": {
      "needs_background": "light"
     },
     "output_type": "display_data"
    }
   ],
   "source": [
    "muertos_pol = muertos[muertos['MUERTOS'] != 0]\n",
    "\n",
    "other_prediction, coefs = ajuste_min_cuadrados(df_muertos_pred['FECHA'], df_muertos_pred['RECTA'], factor, 'PRED_MUERTES')"
   ]
  },
  {
   "cell_type": "markdown",
   "metadata": {},
   "source": [
    "Ahora que ya tenemos las predicciones, deshacemos:"
   ]
  },
  {
   "cell_type": "code",
   "execution_count": 66,
   "metadata": {},
   "outputs": [],
   "source": [
    "other_prediction['FECHA'] = muertos[muertos['MUERTOS'] != 0].index\n",
    "other_prediction.set_index('FECHA', inplace = True)"
   ]
  },
  {
   "cell_type": "markdown",
   "metadata": {},
   "source": [
    "Y, finalmente, tendremos ya el método ajustado y podemos insertarlo en nuestro DataFrame y calcular errores:"
   ]
  },
  {
   "cell_type": "code",
   "execution_count": 67,
   "metadata": {},
   "outputs": [
    {
     "data": {
      "text/html": [
       "<div>\n",
       "<style scoped>\n",
       "    .dataframe tbody tr th:only-of-type {\n",
       "        vertical-align: middle;\n",
       "    }\n",
       "\n",
       "    .dataframe tbody tr th {\n",
       "        vertical-align: top;\n",
       "    }\n",
       "\n",
       "    .dataframe thead th {\n",
       "        text-align: right;\n",
       "    }\n",
       "</style>\n",
       "<table border=\"1\" class=\"dataframe\">\n",
       "  <thead>\n",
       "    <tr style=\"text-align: right;\">\n",
       "      <th></th>\n",
       "      <th>MUERTOS</th>\n",
       "      <th>DIFER_DIAS</th>\n",
       "      <th>MUERTOS_DIARIOS</th>\n",
       "      <th>LN_MUERTOS</th>\n",
       "      <th>PRED</th>\n",
       "      <th>ERROR_ABS</th>\n",
       "      <th>ERROR_REL</th>\n",
       "    </tr>\n",
       "    <tr>\n",
       "      <th>FECHA</th>\n",
       "      <th></th>\n",
       "      <th></th>\n",
       "      <th></th>\n",
       "      <th></th>\n",
       "      <th></th>\n",
       "      <th></th>\n",
       "      <th></th>\n",
       "    </tr>\n",
       "  </thead>\n",
       "  <tbody>\n",
       "    <tr>\n",
       "      <th>2020-03-14</th>\n",
       "      <td>136</td>\n",
       "      <td>1</td>\n",
       "      <td>15.0</td>\n",
       "      <td>4.912655</td>\n",
       "      <td>187.0</td>\n",
       "      <td>51.0</td>\n",
       "      <td>0.375000</td>\n",
       "    </tr>\n",
       "    <tr>\n",
       "      <th>2020-03-15</th>\n",
       "      <td>288</td>\n",
       "      <td>1</td>\n",
       "      <td>152.0</td>\n",
       "      <td>5.662960</td>\n",
       "      <td>253.0</td>\n",
       "      <td>35.0</td>\n",
       "      <td>0.121528</td>\n",
       "    </tr>\n",
       "    <tr>\n",
       "      <th>2020-03-16</th>\n",
       "      <td>309</td>\n",
       "      <td>1</td>\n",
       "      <td>21.0</td>\n",
       "      <td>5.733341</td>\n",
       "      <td>339.0</td>\n",
       "      <td>30.0</td>\n",
       "      <td>0.097087</td>\n",
       "    </tr>\n",
       "    <tr>\n",
       "      <th>2020-03-17</th>\n",
       "      <td>491</td>\n",
       "      <td>1</td>\n",
       "      <td>182.0</td>\n",
       "      <td>6.196444</td>\n",
       "      <td>451.0</td>\n",
       "      <td>40.0</td>\n",
       "      <td>0.081466</td>\n",
       "    </tr>\n",
       "    <tr>\n",
       "      <th>2020-03-18</th>\n",
       "      <td>598</td>\n",
       "      <td>1</td>\n",
       "      <td>107.0</td>\n",
       "      <td>6.393591</td>\n",
       "      <td>596.0</td>\n",
       "      <td>2.0</td>\n",
       "      <td>0.003344</td>\n",
       "    </tr>\n",
       "    <tr>\n",
       "      <th>2020-03-19</th>\n",
       "      <td>767</td>\n",
       "      <td>1</td>\n",
       "      <td>169.0</td>\n",
       "      <td>6.642487</td>\n",
       "      <td>782.0</td>\n",
       "      <td>15.0</td>\n",
       "      <td>0.019557</td>\n",
       "    </tr>\n",
       "    <tr>\n",
       "      <th>2020-03-20</th>\n",
       "      <td>1002</td>\n",
       "      <td>1</td>\n",
       "      <td>235.0</td>\n",
       "      <td>6.909753</td>\n",
       "      <td>1020.0</td>\n",
       "      <td>18.0</td>\n",
       "      <td>0.017964</td>\n",
       "    </tr>\n",
       "    <tr>\n",
       "      <th>2020-03-21</th>\n",
       "      <td>1326</td>\n",
       "      <td>1</td>\n",
       "      <td>324.0</td>\n",
       "      <td>7.189922</td>\n",
       "      <td>1322.0</td>\n",
       "      <td>4.0</td>\n",
       "      <td>0.003017</td>\n",
       "    </tr>\n",
       "    <tr>\n",
       "      <th>2020-03-22</th>\n",
       "      <td>1720</td>\n",
       "      <td>1</td>\n",
       "      <td>394.0</td>\n",
       "      <td>7.450080</td>\n",
       "      <td>1705.0</td>\n",
       "      <td>15.0</td>\n",
       "      <td>0.008721</td>\n",
       "    </tr>\n",
       "    <tr>\n",
       "      <th>2020-03-23</th>\n",
       "      <td>2182</td>\n",
       "      <td>1</td>\n",
       "      <td>462.0</td>\n",
       "      <td>7.687997</td>\n",
       "      <td>2189.0</td>\n",
       "      <td>7.0</td>\n",
       "      <td>0.003208</td>\n",
       "    </tr>\n",
       "  </tbody>\n",
       "</table>\n",
       "</div>"
      ],
      "text/plain": [
       "            MUERTOS  DIFER_DIAS  MUERTOS_DIARIOS  LN_MUERTOS    PRED  \\\n",
       "FECHA                                                                  \n",
       "2020-03-14      136           1             15.0    4.912655   187.0   \n",
       "2020-03-15      288           1            152.0    5.662960   253.0   \n",
       "2020-03-16      309           1             21.0    5.733341   339.0   \n",
       "2020-03-17      491           1            182.0    6.196444   451.0   \n",
       "2020-03-18      598           1            107.0    6.393591   596.0   \n",
       "2020-03-19      767           1            169.0    6.642487   782.0   \n",
       "2020-03-20     1002           1            235.0    6.909753  1020.0   \n",
       "2020-03-21     1326           1            324.0    7.189922  1322.0   \n",
       "2020-03-22     1720           1            394.0    7.450080  1705.0   \n",
       "2020-03-23     2182           1            462.0    7.687997  2189.0   \n",
       "\n",
       "            ERROR_ABS  ERROR_REL  \n",
       "FECHA                             \n",
       "2020-03-14       51.0   0.375000  \n",
       "2020-03-15       35.0   0.121528  \n",
       "2020-03-16       30.0   0.097087  \n",
       "2020-03-17       40.0   0.081466  \n",
       "2020-03-18        2.0   0.003344  \n",
       "2020-03-19       15.0   0.019557  \n",
       "2020-03-20       18.0   0.017964  \n",
       "2020-03-21        4.0   0.003017  \n",
       "2020-03-22       15.0   0.008721  \n",
       "2020-03-23        7.0   0.003208  "
      ]
     },
     "execution_count": 67,
     "metadata": {},
     "output_type": "execute_result"
    }
   ],
   "source": [
    "muertos['PRED'] = other_prediction['PRED_MUERTES']\n",
    "muertos['PRED'].fillna(0, inplace = True)\n",
    "muertos['ERROR_ABS'] = abs(muertos['PRED'] - muertos['MUERTOS'])\n",
    "muertos['ERROR_REL'] = (abs(muertos['PRED'] - muertos['MUERTOS'])/muertos['MUERTOS']).fillna(0)\n",
    "muertos.tail(10)"
   ]
  },
  {
   "cell_type": "markdown",
   "metadata": {},
   "source": [
    "Como podemos ver, en este caso el ajuste es muy bueno. Vamos a extrapolar hacia el futuro, para predecir el total de muertos a lo largo de los próximos 5 días:"
   ]
  },
  {
   "cell_type": "code",
   "execution_count": 68,
   "metadata": {},
   "outputs": [
    {
     "data": {
      "text/html": [
       "<div>\n",
       "<style scoped>\n",
       "    .dataframe tbody tr th:only-of-type {\n",
       "        vertical-align: middle;\n",
       "    }\n",
       "\n",
       "    .dataframe tbody tr th {\n",
       "        vertical-align: top;\n",
       "    }\n",
       "\n",
       "    .dataframe thead th {\n",
       "        text-align: right;\n",
       "    }\n",
       "</style>\n",
       "<table border=\"1\" class=\"dataframe\">\n",
       "  <thead>\n",
       "    <tr style=\"text-align: right;\">\n",
       "      <th></th>\n",
       "      <th>PRED</th>\n",
       "    </tr>\n",
       "  </thead>\n",
       "  <tbody>\n",
       "    <tr>\n",
       "      <th>2020-03-24</th>\n",
       "      <td>2797.0</td>\n",
       "    </tr>\n",
       "    <tr>\n",
       "      <th>2020-03-25</th>\n",
       "      <td>3560.0</td>\n",
       "    </tr>\n",
       "    <tr>\n",
       "      <th>2020-03-26</th>\n",
       "      <td>4512.0</td>\n",
       "    </tr>\n",
       "    <tr>\n",
       "      <th>2020-03-27</th>\n",
       "      <td>5697.0</td>\n",
       "    </tr>\n",
       "    <tr>\n",
       "      <th>2020-03-28</th>\n",
       "      <td>7169.0</td>\n",
       "    </tr>\n",
       "  </tbody>\n",
       "</table>\n",
       "</div>"
      ],
      "text/plain": [
       "              PRED\n",
       "2020-03-24  2797.0\n",
       "2020-03-25  3560.0\n",
       "2020-03-26  4512.0\n",
       "2020-03-27  5697.0\n",
       "2020-03-28  7169.0"
      ]
     },
     "execution_count": 68,
     "metadata": {},
     "output_type": "execute_result"
    }
   ],
   "source": [
    "day_num_of_reference = df_muertos_pred.index[-1]\n",
    "date_of_reference = muertos[muertos['MUERTOS'] != 0].index[0]\n",
    "\n",
    "arr_muertos_pred = prediccion(day_num_of_reference, date_of_reference, coefs, factor)\n",
    "arr_muertos_pred"
   ]
  },
  {
   "cell_type": "markdown",
   "metadata": {},
   "source": [
    "Y, una vez teniendo ya la predicción de los muertos totales, podemos añadir al DataFrame y calcular también la diferencia diaria:\n",
    "\n",
    "Resaltar que, para el primer valor predicho de muertos diarios, el número puede estar ligeramente sobreestimado por la diferencia de 65 personas existente entre la predicción y el número real de muertos para la fecha del día de hoy (22/03/2020).\n",
    "\n",
    "El resto de valores sí deberían estar en la línea del comportamiento futuro.\n",
    "\n",
    "Como se puede ver, la evolución es ciertamente preocupante:"
   ]
  },
  {
   "cell_type": "code",
   "execution_count": 69,
   "metadata": {},
   "outputs": [
    {
     "data": {
      "text/html": [
       "<div>\n",
       "<style scoped>\n",
       "    .dataframe tbody tr th:only-of-type {\n",
       "        vertical-align: middle;\n",
       "    }\n",
       "\n",
       "    .dataframe tbody tr th {\n",
       "        vertical-align: top;\n",
       "    }\n",
       "\n",
       "    .dataframe thead th {\n",
       "        text-align: right;\n",
       "    }\n",
       "</style>\n",
       "<table border=\"1\" class=\"dataframe\">\n",
       "  <thead>\n",
       "    <tr style=\"text-align: right;\">\n",
       "      <th></th>\n",
       "      <th>MUERTOS</th>\n",
       "      <th>DIFER_DIAS</th>\n",
       "      <th>MUERTOS_DIARIOS</th>\n",
       "      <th>LN_MUERTOS</th>\n",
       "      <th>PRED</th>\n",
       "      <th>ERROR_ABS</th>\n",
       "      <th>ERROR_REL</th>\n",
       "    </tr>\n",
       "  </thead>\n",
       "  <tbody>\n",
       "    <tr>\n",
       "      <th>2020-03-19</th>\n",
       "      <td>767.0</td>\n",
       "      <td>1.0</td>\n",
       "      <td>169.0</td>\n",
       "      <td>6.642487</td>\n",
       "      <td>782.0</td>\n",
       "      <td>15.0</td>\n",
       "      <td>0.019557</td>\n",
       "    </tr>\n",
       "    <tr>\n",
       "      <th>2020-03-20</th>\n",
       "      <td>1002.0</td>\n",
       "      <td>1.0</td>\n",
       "      <td>235.0</td>\n",
       "      <td>6.909753</td>\n",
       "      <td>1020.0</td>\n",
       "      <td>18.0</td>\n",
       "      <td>0.017964</td>\n",
       "    </tr>\n",
       "    <tr>\n",
       "      <th>2020-03-21</th>\n",
       "      <td>1326.0</td>\n",
       "      <td>1.0</td>\n",
       "      <td>324.0</td>\n",
       "      <td>7.189922</td>\n",
       "      <td>1322.0</td>\n",
       "      <td>4.0</td>\n",
       "      <td>0.003017</td>\n",
       "    </tr>\n",
       "    <tr>\n",
       "      <th>2020-03-22</th>\n",
       "      <td>1720.0</td>\n",
       "      <td>1.0</td>\n",
       "      <td>394.0</td>\n",
       "      <td>7.450080</td>\n",
       "      <td>1705.0</td>\n",
       "      <td>15.0</td>\n",
       "      <td>0.008721</td>\n",
       "    </tr>\n",
       "    <tr>\n",
       "      <th>2020-03-23</th>\n",
       "      <td>2182.0</td>\n",
       "      <td>1.0</td>\n",
       "      <td>462.0</td>\n",
       "      <td>7.687997</td>\n",
       "      <td>2189.0</td>\n",
       "      <td>7.0</td>\n",
       "      <td>0.003208</td>\n",
       "    </tr>\n",
       "    <tr>\n",
       "      <th>2020-03-24</th>\n",
       "      <td>NaN</td>\n",
       "      <td>NaN</td>\n",
       "      <td>615.0</td>\n",
       "      <td>NaN</td>\n",
       "      <td>2797.0</td>\n",
       "      <td>NaN</td>\n",
       "      <td>NaN</td>\n",
       "    </tr>\n",
       "    <tr>\n",
       "      <th>2020-03-25</th>\n",
       "      <td>NaN</td>\n",
       "      <td>NaN</td>\n",
       "      <td>763.0</td>\n",
       "      <td>NaN</td>\n",
       "      <td>3560.0</td>\n",
       "      <td>NaN</td>\n",
       "      <td>NaN</td>\n",
       "    </tr>\n",
       "    <tr>\n",
       "      <th>2020-03-26</th>\n",
       "      <td>NaN</td>\n",
       "      <td>NaN</td>\n",
       "      <td>952.0</td>\n",
       "      <td>NaN</td>\n",
       "      <td>4512.0</td>\n",
       "      <td>NaN</td>\n",
       "      <td>NaN</td>\n",
       "    </tr>\n",
       "    <tr>\n",
       "      <th>2020-03-27</th>\n",
       "      <td>NaN</td>\n",
       "      <td>NaN</td>\n",
       "      <td>1185.0</td>\n",
       "      <td>NaN</td>\n",
       "      <td>5697.0</td>\n",
       "      <td>NaN</td>\n",
       "      <td>NaN</td>\n",
       "    </tr>\n",
       "    <tr>\n",
       "      <th>2020-03-28</th>\n",
       "      <td>NaN</td>\n",
       "      <td>NaN</td>\n",
       "      <td>1472.0</td>\n",
       "      <td>NaN</td>\n",
       "      <td>7169.0</td>\n",
       "      <td>NaN</td>\n",
       "      <td>NaN</td>\n",
       "    </tr>\n",
       "  </tbody>\n",
       "</table>\n",
       "</div>"
      ],
      "text/plain": [
       "            MUERTOS  DIFER_DIAS  MUERTOS_DIARIOS  LN_MUERTOS    PRED  \\\n",
       "2020-03-19    767.0         1.0            169.0    6.642487   782.0   \n",
       "2020-03-20   1002.0         1.0            235.0    6.909753  1020.0   \n",
       "2020-03-21   1326.0         1.0            324.0    7.189922  1322.0   \n",
       "2020-03-22   1720.0         1.0            394.0    7.450080  1705.0   \n",
       "2020-03-23   2182.0         1.0            462.0    7.687997  2189.0   \n",
       "2020-03-24      NaN         NaN            615.0         NaN  2797.0   \n",
       "2020-03-25      NaN         NaN            763.0         NaN  3560.0   \n",
       "2020-03-26      NaN         NaN            952.0         NaN  4512.0   \n",
       "2020-03-27      NaN         NaN           1185.0         NaN  5697.0   \n",
       "2020-03-28      NaN         NaN           1472.0         NaN  7169.0   \n",
       "\n",
       "            ERROR_ABS  ERROR_REL  \n",
       "2020-03-19       15.0   0.019557  \n",
       "2020-03-20       18.0   0.017964  \n",
       "2020-03-21        4.0   0.003017  \n",
       "2020-03-22       15.0   0.008721  \n",
       "2020-03-23        7.0   0.003208  \n",
       "2020-03-24        NaN        NaN  \n",
       "2020-03-25        NaN        NaN  \n",
       "2020-03-26        NaN        NaN  \n",
       "2020-03-27        NaN        NaN  \n",
       "2020-03-28        NaN        NaN  "
      ]
     },
     "execution_count": 69,
     "metadata": {},
     "output_type": "execute_result"
    }
   ],
   "source": [
    "muertos = muertos.append(arr_muertos_pred, sort = False)\n",
    "muertos.loc[muertos['MUERTOS_DIARIOS'].isna(), 'MUERTOS_DIARIOS'] = muertos.loc[muertos['MUERTOS_DIARIOS'].isna(), 'PRED'].diff()\n",
    "missing_date = muertos[muertos['MUERTOS_DIARIOS'].isna()].index\n",
    "muertos.loc[muertos['MUERTOS_DIARIOS'].isna(), 'MUERTOS_DIARIOS'] = muertos.loc[missing_date, 'PRED'] - muertos['MUERTOS'].shift(1)[missing_date]\n",
    "muertos.tail(10)"
   ]
  },
  {
   "cell_type": "markdown",
   "metadata": {},
   "source": [
    "Finalmente, dejamos el error relativo medio:"
   ]
  },
  {
   "cell_type": "code",
   "execution_count": 70,
   "metadata": {},
   "outputs": [
    {
     "data": {
      "text/plain": [
       "0.23057615012750565"
      ]
     },
     "execution_count": 70,
     "metadata": {},
     "output_type": "execute_result"
    }
   ],
   "source": [
    "muertos['ERROR_REL'].mean()"
   ]
  },
  {
   "cell_type": "markdown",
   "metadata": {},
   "source": [
    "Como podemos ver, el error relativo cometido en el ajuste es menor al 6%, lo que es un valor aceptable para una primera estimación y da bastante confianza para nuestras estimaciones."
   ]
  },
  {
   "cell_type": "markdown",
   "metadata": {},
   "source": [
    "## 3. PREDICCIONES<a id='a1'></a>"
   ]
  },
  {
   "cell_type": "markdown",
   "metadata": {},
   "source": [
    "**CONTAGIOS (total contagiados)**"
   ]
  },
  {
   "cell_type": "code",
   "execution_count": 73,
   "metadata": {
    "scrolled": false
   },
   "outputs": [
    {
     "data": {
      "text/html": [
       "<div>\n",
       "<style scoped>\n",
       "    .dataframe tbody tr th:only-of-type {\n",
       "        vertical-align: middle;\n",
       "    }\n",
       "\n",
       "    .dataframe tbody tr th {\n",
       "        vertical-align: top;\n",
       "    }\n",
       "\n",
       "    .dataframe thead th {\n",
       "        text-align: right;\n",
       "    }\n",
       "</style>\n",
       "<table border=\"1\" class=\"dataframe\">\n",
       "  <thead>\n",
       "    <tr style=\"text-align: right;\">\n",
       "      <th></th>\n",
       "      <th>PRED</th>\n",
       "    </tr>\n",
       "  </thead>\n",
       "  <tbody>\n",
       "    <tr>\n",
       "      <th>2020-03-24</th>\n",
       "      <td>40547.0</td>\n",
       "    </tr>\n",
       "    <tr>\n",
       "      <th>2020-03-25</th>\n",
       "      <td>48147.0</td>\n",
       "    </tr>\n",
       "    <tr>\n",
       "      <th>2020-03-26</th>\n",
       "      <td>57034.0</td>\n",
       "    </tr>\n",
       "    <tr>\n",
       "      <th>2020-03-27</th>\n",
       "      <td>67405.0</td>\n",
       "    </tr>\n",
       "    <tr>\n",
       "      <th>2020-03-28</th>\n",
       "      <td>79485.0</td>\n",
       "    </tr>\n",
       "  </tbody>\n",
       "</table>\n",
       "</div>"
      ],
      "text/plain": [
       "               PRED\n",
       "2020-03-24  40547.0\n",
       "2020-03-25  48147.0\n",
       "2020-03-26  57034.0\n",
       "2020-03-27  67405.0\n",
       "2020-03-28  79485.0"
      ]
     },
     "execution_count": 73,
     "metadata": {},
     "output_type": "execute_result"
    }
   ],
   "source": [
    "arr_contagios_pred"
   ]
  },
  {
   "cell_type": "markdown",
   "metadata": {},
   "source": [
    "**NOTA:**\n",
    "    \n",
    "Números poco fiables debido a cambios de criterio en la toma de datos (realización de la prueba, y por lo tanto, positivos), próxima versión basada en relación contagios/muertos a trabajar."
   ]
  },
  {
   "cell_type": "markdown",
   "metadata": {},
   "source": [
    "**MUERTOS (total muertos)**"
   ]
  },
  {
   "cell_type": "code",
   "execution_count": 74,
   "metadata": {
    "scrolled": true
   },
   "outputs": [
    {
     "data": {
      "text/html": [
       "<div>\n",
       "<style scoped>\n",
       "    .dataframe tbody tr th:only-of-type {\n",
       "        vertical-align: middle;\n",
       "    }\n",
       "\n",
       "    .dataframe tbody tr th {\n",
       "        vertical-align: top;\n",
       "    }\n",
       "\n",
       "    .dataframe thead th {\n",
       "        text-align: right;\n",
       "    }\n",
       "</style>\n",
       "<table border=\"1\" class=\"dataframe\">\n",
       "  <thead>\n",
       "    <tr style=\"text-align: right;\">\n",
       "      <th></th>\n",
       "      <th>PRED</th>\n",
       "    </tr>\n",
       "  </thead>\n",
       "  <tbody>\n",
       "    <tr>\n",
       "      <th>2020-03-24</th>\n",
       "      <td>2797.0</td>\n",
       "    </tr>\n",
       "    <tr>\n",
       "      <th>2020-03-25</th>\n",
       "      <td>3560.0</td>\n",
       "    </tr>\n",
       "    <tr>\n",
       "      <th>2020-03-26</th>\n",
       "      <td>4512.0</td>\n",
       "    </tr>\n",
       "    <tr>\n",
       "      <th>2020-03-27</th>\n",
       "      <td>5697.0</td>\n",
       "    </tr>\n",
       "    <tr>\n",
       "      <th>2020-03-28</th>\n",
       "      <td>7169.0</td>\n",
       "    </tr>\n",
       "  </tbody>\n",
       "</table>\n",
       "</div>"
      ],
      "text/plain": [
       "              PRED\n",
       "2020-03-24  2797.0\n",
       "2020-03-25  3560.0\n",
       "2020-03-26  4512.0\n",
       "2020-03-27  5697.0\n",
       "2020-03-28  7169.0"
      ]
     },
     "execution_count": 74,
     "metadata": {},
     "output_type": "execute_result"
    }
   ],
   "source": [
    "arr_muertos_pred"
   ]
  },
  {
   "cell_type": "markdown",
   "metadata": {},
   "source": [
    "**NOTA FINAL:**\n",
    "    \n",
    "Para el día 24 ya se dispone de los datos de contagios totales y defunciones en España. Estos son:\n",
    "    \n",
    "* 39673 contagiados\n",
    "\n",
    "* 2696 muertos\n",
    "\n",
    "Para el día 25:\n",
    "\n",
    "* 47610 contagiados\n",
    "\n",
    "* 3434 muertos\n",
    "\n",
    "Para el día 26:\n",
    "\n",
    "* 56188 contagiados\n",
    "\n",
    "* 4089 muertos\n",
    "\n",
    "Para el día 27:\n",
    "\n",
    "* 64059 contagiados\n",
    "\n",
    "* 4858 muertos\n",
    "\n",
    "Para el día 28:\n",
    "\n",
    "* 72248 contagiados\n",
    "\n",
    "* 5690 muertos\n",
    "\n",
    "Podemos ver que nuestras predicciones han ido bastante en la línea para el caso de los contagios, pero comenzaron desviándose bastante a la hora de predecir las muertes totales, y por lo tanto, la diferencia en tendencia ha provocado separaciones progresivas cada vez mayores."
   ]
  }
 ],
 "metadata": {
  "kernelspec": {
   "display_name": "Python 3",
   "language": "python",
   "name": "python3"
  },
  "language_info": {
   "codemirror_mode": {
    "name": "ipython",
    "version": 3
   },
   "file_extension": ".py",
   "mimetype": "text/x-python",
   "name": "python",
   "nbconvert_exporter": "python",
   "pygments_lexer": "ipython3",
   "version": "3.7.3"
  }
 },
 "nbformat": 4,
 "nbformat_minor": 2
}
