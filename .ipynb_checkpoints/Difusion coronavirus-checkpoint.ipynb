{
 "cells": [
  {
   "cell_type": "markdown",
   "metadata": {},
   "source": [
    "# DIFUSIÓN DEL CORONAVIRUS EN ESPAÑA:"
   ]
  },
  {
   "cell_type": "markdown",
   "metadata": {},
   "source": [
    "## 0. INTRODUCCIÓN"
   ]
  },
  {
   "cell_type": "markdown",
   "metadata": {},
   "source": [
    "Si se quieren ver directamente los resultados de los cálculos, y el pronóstico para los próximos 5 días, pinchar <a href='#a1'>**aquí**</a>."
   ]
  },
  {
   "cell_type": "markdown",
   "metadata": {},
   "source": [
    "Este es un pequeño ejercicio de extrapolación para la curva de contagios del coronavirus en España.\n",
    "\n",
    "Como fuente de los datos, a falta de una mejor, se toman los volcados en la siguiente página:\n",
    "\n",
    "https://www.rtve.es/noticias/20200316/mapa-del-coronavirus-espana/2004681.shtml\n",
    "\n",
    "Que recoge los datos que vuelca el Ministerio de Sanidad español. La hora de los contagios en el día de dicho informe puede variar, por lo que la diferencia entre un día y otro puede ser mayor o menor de 24 horas, pero a priori se asumirá que la hora del informe de todos los días es la misma, por falta de referencias.\n",
    "\n",
    "El modelo que emplearemos no será más que una sencilla aproximación por una exponencial, no se empleará el modelo SIR como primera aproximación, aunque este es sólo ligeramente más complejo.\n",
    "\n",
    "Un modelo de contagio (no asumiendo que cada persona ya contagiada no podría volver a ser contagiada, o asumiendo que la fracción de la población contagiada aún es lo suficientemente baja como para despreciar dichos efectos, lo que es válido para el comienzo de la progresión de la pandemia) respondería a una ecuación diferencial del estilo de:\n",
    "\n",
    "$y' = A y$\n",
    "\n",
    "Cuya solución es de la forma:\n",
    "\n",
    "$ y = K e^{c x}$\n",
    "\n",
    "O, lo que es lo mismo:\n",
    "\n",
    "$ y = H A^{b x}$\n",
    "\n",
    "Donde, para que ambas expresiones sean la misma, tendremos que:\n",
    "\n",
    "$b = \\frac{K}{H \\cdot ln(A)} c$\n",
    "\n",
    "Por lo tanto, tomando logaritmos tendremos:\n",
    "\n",
    "$ ln(y) = c x + K = b \\cdot ln(A) x + H$\n",
    "\n",
    "En donde tendremos ya una relación lineal.\n",
    "\n",
    "Nuestro enfoque, por lo tanto, será el de calcular los coeficientes de esta recta."
   ]
  },
  {
   "cell_type": "code",
   "execution_count": 1,
   "metadata": {},
   "outputs": [],
   "source": [
    "import pandas as pd\n",
    "import numpy as np\n",
    "import datetime\n",
    "import matplotlib.pyplot as plt\n",
    "import seaborn as sns\n",
    "%matplotlib inline"
   ]
  },
  {
   "cell_type": "code",
   "execution_count": 2,
   "metadata": {},
   "outputs": [],
   "source": [
    "ruta = 'Datos/Contagios medios coronavirus RTVE.csv'\n",
    "sep = ';'"
   ]
  },
  {
   "cell_type": "code",
   "execution_count": 3,
   "metadata": {},
   "outputs": [],
   "source": [
    "date_parser = lambda x: pd.datetime.strptime(x, '%d/%m/%Y')\n",
    "\n",
    "datos = pd.read_csv(ruta, sep = sep, index_col = 'FECHA', parse_dates = ['FECHA'], date_parser = date_parser)"
   ]
  },
  {
   "cell_type": "code",
   "execution_count": 4,
   "metadata": {},
   "outputs": [
    {
     "data": {
      "text/html": [
       "<div>\n",
       "<style scoped>\n",
       "    .dataframe tbody tr th:only-of-type {\n",
       "        vertical-align: middle;\n",
       "    }\n",
       "\n",
       "    .dataframe tbody tr th {\n",
       "        vertical-align: top;\n",
       "    }\n",
       "\n",
       "    .dataframe thead th {\n",
       "        text-align: right;\n",
       "    }\n",
       "</style>\n",
       "<table border=\"1\" class=\"dataframe\">\n",
       "  <thead>\n",
       "    <tr style=\"text-align: right;\">\n",
       "      <th></th>\n",
       "      <th>CONTAGIOS</th>\n",
       "      <th>MUERTOS</th>\n",
       "    </tr>\n",
       "    <tr>\n",
       "      <th>FECHA</th>\n",
       "      <th></th>\n",
       "      <th></th>\n",
       "    </tr>\n",
       "  </thead>\n",
       "  <tbody>\n",
       "    <tr>\n",
       "      <th>2020-02-12</th>\n",
       "      <td>2</td>\n",
       "      <td>0</td>\n",
       "    </tr>\n",
       "    <tr>\n",
       "      <th>2020-02-25</th>\n",
       "      <td>3</td>\n",
       "      <td>0</td>\n",
       "    </tr>\n",
       "    <tr>\n",
       "      <th>2020-02-26</th>\n",
       "      <td>7</td>\n",
       "      <td>0</td>\n",
       "    </tr>\n",
       "    <tr>\n",
       "      <th>2020-02-27</th>\n",
       "      <td>16</td>\n",
       "      <td>0</td>\n",
       "    </tr>\n",
       "    <tr>\n",
       "      <th>2020-02-28</th>\n",
       "      <td>31</td>\n",
       "      <td>0</td>\n",
       "    </tr>\n",
       "  </tbody>\n",
       "</table>\n",
       "</div>"
      ],
      "text/plain": [
       "            CONTAGIOS  MUERTOS\n",
       "FECHA                         \n",
       "2020-02-12          2        0\n",
       "2020-02-25          3        0\n",
       "2020-02-26          7        0\n",
       "2020-02-27         16        0\n",
       "2020-02-28         31        0"
      ]
     },
     "execution_count": 4,
     "metadata": {},
     "output_type": "execute_result"
    }
   ],
   "source": [
    "datos.head()"
   ]
  },
  {
   "cell_type": "code",
   "execution_count": 5,
   "metadata": {},
   "outputs": [],
   "source": [
    "datos['DIFER_DIAS'] = datos.index.to_series().diff().fillna(pd.Timedelta(seconds = 8660000)).apply(lambda x: x.days)"
   ]
  },
  {
   "cell_type": "code",
   "execution_count": 6,
   "metadata": {},
   "outputs": [],
   "source": [
    "contagios = pd.DataFrame(datos[['CONTAGIOS', 'DIFER_DIAS']])\n",
    "muertos = pd.DataFrame(datos[['MUERTOS', 'DIFER_DIAS']])"
   ]
  },
  {
   "cell_type": "markdown",
   "metadata": {},
   "source": [
    "Comparación entre la evolución de los contagios y los muertos, donde puede obsservarse el comportamiento comparado de ambas gráficas, y el retardo existente entre la evolución de los muertos por la infección y el número de infectados:\n",
    "\n",
    "Nótese cómo la pendiente de la gráfica de la evolución del número de muertos es mucho más empinada que la del número de contagiados."
   ]
  },
  {
   "cell_type": "code",
   "execution_count": 7,
   "metadata": {
    "scrolled": false
   },
   "outputs": [
    {
     "name": "stderr",
     "output_type": "stream",
     "text": [
      "C:\\ProgramData\\Anaconda3\\lib\\site-packages\\pandas\\plotting\\_converter.py:129: FutureWarning: Using an implicitly registered datetime converter for a matplotlib plotting method. The converter was registered by pandas on import. Future versions of pandas will require you to explicitly register matplotlib converters.\n",
      "\n",
      "To register the converters:\n",
      "\t>>> from pandas.plotting import register_matplotlib_converters\n",
      "\t>>> register_matplotlib_converters()\n",
      "  warnings.warn(msg, FutureWarning)\n"
     ]
    },
    {
     "data": {
      "image/png": "[encoded data removed]",
      "text/plain": [
       "<Figure size 1080x360 with 2 Axes>"
      ]
     },
     "metadata": {
      "needs_background": "light"
     },
     "output_type": "display_data"
    }
   ],
   "source": [
    "fig, ax1 = plt.subplots(figsize=(15,5))\n",
    "\n",
    "ax1.plot(contagios.index, contagios['CONTAGIOS'], '-');\n",
    "\n",
    "ax2 = ax1.twinx()\n",
    "ax2.plot(muertos.index, muertos['MUERTOS'], '-', color='r');"
   ]
  },
  {
   "cell_type": "markdown",
   "metadata": {},
   "source": [
    "## 1. CONTAGIOS"
   ]
  },
  {
   "cell_type": "markdown",
   "metadata": {},
   "source": [
    "Examinamos primero los datos de los contagios:"
   ]
  },
  {
   "cell_type": "code",
   "execution_count": 8,
   "metadata": {
    "scrolled": false
   },
   "outputs": [
    {
     "data": {
      "image/png": "[encoded data removed]",
      "text/plain": [
       "<Figure size 1080x360 with 1 Axes>"
      ]
     },
     "metadata": {
      "needs_background": "light"
     },
     "output_type": "display_data"
    }
   ],
   "source": [
    "plt.figure(figsize=(15,5))\n",
    "plt.plot(contagios.index, contagios['CONTAGIOS'], '-');"
   ]
  },
  {
   "cell_type": "markdown",
   "metadata": {},
   "source": [
    "Como podemos ver, tenemos una curva monótona creciente que, aparentemente, parece seguir la forma de una exponencial.\n",
    "\n",
    "Examinamos ahora la serie en diferencias. Como se sabe, si la serie original sigue una exponencial, la serie en diferencias debería seguir también una exponencial:"
   ]
  },
  {
   "cell_type": "code",
   "execution_count": 9,
   "metadata": {},
   "outputs": [
    {
     "data": {
      "text/plain": [
       "FECHA\n",
       "2020-02-12       2.0\n",
       "2020-02-25       1.0\n",
       "2020-02-26       4.0\n",
       "2020-02-27       9.0\n",
       "2020-02-28      15.0\n",
       "2020-03-03      83.0\n",
       "2020-03-04      83.0\n",
       "2020-03-05      40.0\n",
       "2020-03-06     128.0\n",
       "2020-03-09     839.0\n",
       "2020-03-10     491.0\n",
       "2020-03-11     445.0\n",
       "2020-03-12     825.0\n",
       "2020-03-13    1266.0\n",
       "2020-03-14    1502.0\n",
       "2020-03-15    2020.0\n",
       "2020-03-16    1438.0\n",
       "2020-03-17    1987.0\n",
       "2020-03-18    2538.0\n",
       "2020-03-19    3431.0\n",
       "2020-03-20    2833.0\n",
       "2020-03-21    4946.0\n",
       "2020-03-22    3646.0\n",
       "2020-03-23    4517.0\n",
       "Name: DIFER, dtype: float64"
      ]
     },
     "execution_count": 9,
     "metadata": {},
     "output_type": "execute_result"
    }
   ],
   "source": [
    "contagios['DIFER'] = contagios['CONTAGIOS'].diff(1).fillna(contagios['CONTAGIOS'])\n",
    "contagios['DIFER']"
   ]
  },
  {
   "cell_type": "code",
   "execution_count": 10,
   "metadata": {},
   "outputs": [
    {
     "data": {
      "image/png": "[encoded data removed]",
      "text/plain": [
       "<Figure size 1080x360 with 1 Axes>"
      ]
     },
     "metadata": {
      "needs_background": "light"
     },
     "output_type": "display_data"
    }
   ],
   "source": [
    "plt.figure(figsize=(15,5))\n",
    "plt.plot(contagios['DIFER'], '-');"
   ]
  },
  {
   "cell_type": "markdown",
   "metadata": {},
   "source": [
    "Como podemos observar, esto no sucede, teniendo la serie un pico en el día 9 de marzo. El problema es que la serie tiene huecos de días sin datos, de forma que en algunos casos hay más de un día entre observación y observación.\n",
    "\n",
    "Corregimos:"
   ]
  },
  {
   "cell_type": "code",
   "execution_count": 11,
   "metadata": {},
   "outputs": [],
   "source": [
    "# Sumamos 1 por cuestiones de estabilidad numérica a la hora de tomar logaritmos posteriormente:\n",
    "contagios['DIFER'] = contagios['CONTAGIOS'].diff(1).fillna(2)/contagios['DIFER_DIAS']"
   ]
  },
  {
   "cell_type": "code",
   "execution_count": 12,
   "metadata": {},
   "outputs": [
    {
     "data": {
      "image/png": "[encoded data removed]",
      "text/plain": [
       "<Figure size 1080x360 with 1 Axes>"
      ]
     },
     "metadata": {
      "needs_background": "light"
     },
     "output_type": "display_data"
    }
   ],
   "source": [
    "plt.figure(figsize=(15,5))\n",
    "plt.plot(contagios['DIFER'], '-');"
   ]
  },
  {
   "cell_type": "markdown",
   "metadata": {},
   "source": [
    "En cuanto al segundo pico de contagios, puede explicarse por lo siguiente:\n",
    "\n",
    "https://elpais.com/sociedad/2020-03-15/cataluna-y-madrid-dejan-de-hacer-pruebas-a-los-casos-leves.html\n",
    "\n",
    "https://www.redaccionmedica.com/secciones/sanidad-hoy/coronavirus-test-solo-pacientes-hospitalizados-personal-esencial-8816\n",
    "\n",
    "https://www.noticiasdenavarra.com/actualidad/sociedad/2020/03/16/navarra-cambia-protocolo-deteccion-coronavirus/1031165.html\n",
    "\n",
    "https://www.elmundo.es/ciencia-y-salud/salud/2020/03/13/5e6b4230fdddff878c8b4624.html\n",
    "\n",
    "Al cambiar los criterios con los que hacer las pruebas, se están dejando fuera, a partir del día 15, a un gran número de casos que habrían dado positivo según los criterios antiguos, pero que ahora se dejan fuera de los casos confirmados, según los nuevos.\n",
    "\n",
    "Si la decisión se trata de criterios de economía médica, intereses políticos o una mezcla de ambas, sólo puedo dejarlo a juicio del lector.\n",
    "\n",
    "A pesar de ello se puede ver que nada puede hacer ese cambio de criterio frente al contagio exponencial.\n",
    "\n",
    "Para nuestro esutio tomaremos primero solamente la primera parte de la curva, donde no se ha modificado aún el criterio para la realización de las pruebas, para no adulterar la evolución."
   ]
  },
  {
   "cell_type": "markdown",
   "metadata": {},
   "source": [
    "**Paso 1:**\n",
    "\n",
    "Comprobaciones sobre la serie."
   ]
  },
  {
   "cell_type": "code",
   "execution_count": 13,
   "metadata": {},
   "outputs": [],
   "source": [
    "contagios['LN_CONTAGIOS'] = contagios['CONTAGIOS'].apply(lambda x: np.log(x) if x>0 else 0)\n",
    "# Añadimos +1 por criterios de estabilidad con el logaritmo:\n",
    "contagios['LN_DIFER'] = contagios['DIFER'].apply(lambda x: np.log(x+1) if x>0 else 0)"
   ]
  },
  {
   "cell_type": "code",
   "execution_count": 14,
   "metadata": {},
   "outputs": [
    {
     "data": {
      "text/plain": [
       "<matplotlib.axes._subplots.AxesSubplot at 0x21dd7516c88>"
      ]
     },
     "execution_count": 14,
     "metadata": {},
     "output_type": "execute_result"
    },
    {
     "data": {
      "image/png": "[encoded data removed]",
      "text/plain": [
       "<Figure size 1080x360 with 1 Axes>"
      ]
     },
     "metadata": {
      "needs_background": "light"
     },
     "output_type": "display_data"
    }
   ],
   "source": [
    "contagios['LN_CONTAGIOS'].plot(figsize=(15,5), style = 'o')"
   ]
  },
  {
   "cell_type": "code",
   "execution_count": 15,
   "metadata": {},
   "outputs": [
    {
     "data": {
      "text/plain": [
       "<matplotlib.axes._subplots.AxesSubplot at 0x21dd74a40f0>"
      ]
     },
     "execution_count": 15,
     "metadata": {},
     "output_type": "execute_result"
    },
    {
     "data": {
      "image/png": "[encoded data removed]",
      "text/plain": [
       "<Figure size 1080x360 with 1 Axes>"
      ]
     },
     "metadata": {
      "needs_background": "light"
     },
     "output_type": "display_data"
    }
   ],
   "source": [
    "contagios['LN_DIFER'].plot(figsize=(15,5), style = 'o')"
   ]
  },
  {
   "cell_type": "markdown",
   "metadata": {},
   "source": [
    "Como podemos ver, ante nosotros no tenemos una recta, sino más bien un comportamiento más bien parabólico, característico de funciones como una raíz cuadrada.\n",
    "\n",
    "Esto son buenas noticias, porque nos indica que el virus no se está propagando siguiendo una exponencial, sino más bien una exponencial algo amortiguada.\n",
    "\n",
    "También podemos observar un comportamiento errático en la serie de las diferencias de los logaritmos de los contagios diarios.\n",
    "\n",
    "Vamos a examinar la serie de sus diferencias. Si el proceso fuese exponencial, estas deberían ser constantes:"
   ]
  },
  {
   "cell_type": "code",
   "execution_count": 16,
   "metadata": {},
   "outputs": [
    {
     "data": {
      "text/plain": [
       "0.3165578500756038"
      ]
     },
     "execution_count": 16,
     "metadata": {},
     "output_type": "execute_result"
    },
    {
     "data": {
      "image/png": "[encoded data removed]",
      "text/plain": [
       "<Figure size 1080x360 with 1 Axes>"
      ]
     },
     "metadata": {
      "needs_background": "light"
     },
     "output_type": "display_data"
    }
   ],
   "source": [
    "contagios['LN_DIFER_2']  = contagios['LN_DIFER'].diff(1).fillna(0)/contagios['DIFER_DIAS']\n",
    "contagios['LN_DIFER_2'].plot(figsize=(15,5), style = 'o')\n",
    "contagios['LN_DIFER_2'].mean()"
   ]
  },
  {
   "cell_type": "markdown",
   "metadata": {},
   "source": [
    "Podemos observar un comportamiento claramente errático, con una varianza elevada y valores oscilando alrededor de una zona central, pero con una amplia dispersión.\n",
    "\n",
    "Esto puede deberse a muchos factores relacionados con la toma de datos, con el hecho de que las horas de los informes emitidos por el Ministerio de Sanidad no siempre coincidan y con que la afluencia de la gente a hacerse las pruebas, así como los criterios para hacer las mismas han ido evolucionando según progresaba la enfermedad."
   ]
  },
  {
   "cell_type": "code",
   "execution_count": 17,
   "metadata": {},
   "outputs": [
    {
     "data": {
      "text/plain": [
       "(array([1., 6., 8., 6., 1., 2.]),\n",
       " array([-0.71724473, -0.34181562,  0.03361349,  0.4090426 ,  0.78447172,\n",
       "         1.15990083,  1.53532994]),\n",
       " <a list of 6 Patch objects>)"
      ]
     },
     "execution_count": 17,
     "metadata": {},
     "output_type": "execute_result"
    },
    {
     "data": {
      "image/png": "[encoded data removed]",
      "text/plain": [
       "<Figure size 1080x360 with 1 Axes>"
      ]
     },
     "metadata": {
      "needs_background": "light"
     },
     "output_type": "display_data"
    }
   ],
   "source": [
    "plt.figure(figsize=(15,5))\n",
    "plt.hist(contagios['LN_DIFER_2'], bins = 6)"
   ]
  },
  {
   "cell_type": "markdown",
   "metadata": {},
   "source": [
    "Como vemos, el máximo central se presenta, con 7 valores, para la zona entre 0,04 y 0,784."
   ]
  },
  {
   "cell_type": "code",
   "execution_count": 18,
   "metadata": {},
   "outputs": [],
   "source": [
    "contagios['LN_CONTAGIOS_DIFER'] = contagios['LN_CONTAGIOS'].diff(1).fillna(0)/contagios['DIFER_DIAS']"
   ]
  },
  {
   "cell_type": "markdown",
   "metadata": {},
   "source": [
    "**Paso 2:**\n",
    "    \n",
    "Vamos a ver si, descontando el último día, con un comportamiento que claramente ya no sigue la serie, podemos, tomando la serie hasta el día 10 de marzo, predecir los contagios para el resto de días, hasta el 14, primero manualmente y después empleando funciones de Python:"
   ]
  },
  {
   "cell_type": "code",
   "execution_count": 19,
   "metadata": {},
   "outputs": [],
   "source": [
    "train = contagios[:'03/10/2020']\n",
    "test = contagios['03/11/2020':]"
   ]
  },
  {
   "cell_type": "markdown",
   "metadata": {},
   "source": [
    "**Con la propia serie:**"
   ]
  },
  {
   "cell_type": "markdown",
   "metadata": {},
   "source": [
    "Media total:"
   ]
  },
  {
   "cell_type": "code",
   "execution_count": 20,
   "metadata": {},
   "outputs": [],
   "source": [
    "val_med_ser_1 = train['LN_CONTAGIOS_DIFER'].mean()"
   ]
  },
  {
   "cell_type": "markdown",
   "metadata": {},
   "source": [
    "No muy precisa por no estar ponderada por el número de días que el valor representa realmente, y por esta afectada por el dato espúreo del 12 de febrero."
   ]
  },
  {
   "cell_type": "markdown",
   "metadata": {},
   "source": [
    "Diferencia último - primero / número de días:"
   ]
  },
  {
   "cell_type": "code",
   "execution_count": 21,
   "metadata": {},
   "outputs": [],
   "source": [
    "val_med_ser_2 = (train.loc['03/10/2020', 'LN_CONTAGIOS'] - train.loc['02/12/2020', 'LN_CONTAGIOS'])/\\\n",
    "(pd.to_datetime('03/10/2020') - pd.to_datetime('02/12/2020')).days"
   ]
  },
  {
   "cell_type": "markdown",
   "metadata": {},
   "source": [
    "Sí recoge la ponderación (como veremos posteriormente).\n",
    "\n",
    "Muy afectado en valor por el dato espúreo del 12 de febrero, como veremos."
   ]
  },
  {
   "cell_type": "markdown",
   "metadata": {},
   "source": [
    "Diferencia último - segundo / número de días:"
   ]
  },
  {
   "cell_type": "code",
   "execution_count": 22,
   "metadata": {},
   "outputs": [],
   "source": [
    "val_med_ser_3 = (train.loc['03/10/2020', 'LN_CONTAGIOS'] - train.loc['02/25/2020', 'LN_CONTAGIOS'])/\\\n",
    "(pd.to_datetime('03/10/2020') - pd.to_datetime('02/25/2020')).days"
   ]
  },
  {
   "cell_type": "markdown",
   "metadata": {},
   "source": [
    "Ponderado y elimina el efecto del dato espúreo."
   ]
  },
  {
   "cell_type": "markdown",
   "metadata": {},
   "source": [
    "Media descartando el primer valor:"
   ]
  },
  {
   "cell_type": "code",
   "execution_count": 23,
   "metadata": {},
   "outputs": [],
   "source": [
    "val_med_ser_4 = train.loc['02/25/2020':,'LN_CONTAGIOS_DIFER'].mean()"
   ]
  },
  {
   "cell_type": "markdown",
   "metadata": {},
   "source": [
    "Elimina el problema del dato espúreo pero conserva el defecto de no ponderar.\n",
    "\n",
    "Resultados:"
   ]
  },
  {
   "cell_type": "code",
   "execution_count": 24,
   "metadata": {},
   "outputs": [
    {
     "name": "stdout",
     "output_type": "stream",
     "text": [
      "0.4177895824597764\n",
      "0.24971447552794834\n",
      "0.4526304093676029\n",
      "0.45956854070575404\n"
     ]
    }
   ],
   "source": [
    "print(val_med_ser_1)\n",
    "print(val_med_ser_2)\n",
    "print(val_med_ser_3)\n",
    "print(val_med_ser_4)"
   ]
  },
  {
   "cell_type": "markdown",
   "metadata": {},
   "source": [
    "Como vemos, el segundo valor es claramente menor que el resto, y no es representativo de la tendencia que lleva la serie realmente.\n",
    "\n",
    "Es esto lo que nos empuja a descartar el 12 de febrero como valor con el que computar valores para la serie."
   ]
  },
  {
   "cell_type": "markdown",
   "metadata": {},
   "source": [
    "**Con la derivada:**"
   ]
  },
  {
   "cell_type": "markdown",
   "metadata": {},
   "source": [
    "Hacemos lo análogo con la serie de contagios diarios, que se debería comportar como la derivada de la anterior:"
   ]
  },
  {
   "cell_type": "code",
   "execution_count": 25,
   "metadata": {},
   "outputs": [
    {
     "name": "stdout",
     "output_type": "stream",
     "text": [
      "0.4890947655708045\n",
      "0.22883985515541216\n",
      "0.43745505316704186\n",
      "0.538004242127885\n"
     ]
    }
   ],
   "source": [
    "val_med_dif_1 = train['LN_DIFER_2'].mean()\n",
    "\n",
    "val_med_dif_2 = (train.loc['03/10/2020', 'LN_DIFER'] - train.loc['02/12/2020', 'LN_DIFER'])/\\\n",
    "(pd.to_datetime('03/10/2020') - pd.to_datetime('02/12/2020')).days\n",
    "\n",
    "val_med_dif_3 = (train.loc['03/10/2020', 'LN_DIFER'] - train.loc['02/25/2020', 'LN_DIFER'])/\\\n",
    "(pd.to_datetime('03/10/2020') - pd.to_datetime('02/25/2020')).days\n",
    "\n",
    "val_med_dif_4 = train.loc['02/25/2020':,'LN_DIFER_2'].mean()\n",
    "\n",
    "print(val_med_dif_1)\n",
    "print(val_med_dif_2)\n",
    "print(val_med_dif_3)\n",
    "print(val_med_dif_4)"
   ]
  },
  {
   "cell_type": "markdown",
   "metadata": {},
   "source": [
    "Como podemos ver, para ambas series, la de contagios y la de diferencias (o nuevos contagios diarios), tomar el comienzo en el 12 de febrero nos da unos valores muy dispares, cuando los consideramos con el resto de los valores medios obtenidos.\n",
    "\n",
    "Vamos a ver ahora cóom ese valor medio coincide con el resultado de ponderar las diferencias de los logaritmos de cada serie por el número de días que consideramos que ese valor es válido:"
   ]
  },
  {
   "cell_type": "markdown",
   "metadata": {},
   "source": [
    "**Contagios:**"
   ]
  },
  {
   "cell_type": "markdown",
   "metadata": {},
   "source": [
    "Diferencias multiplicadas por el número de días del valor, divididas por el número de días totales del periodo, tomando como inicio el 12 de febrero y el análogo, pero tomando como fecha de inicio el 25 de febrero:"
   ]
  },
  {
   "cell_type": "code",
   "execution_count": 26,
   "metadata": {},
   "outputs": [
    {
     "name": "stdout",
     "output_type": "stream",
     "text": [
      "0.24971447552794834\n",
      "0.48159220280390036\n"
     ]
    },
    {
     "data": {
      "text/plain": [
       "True"
      ]
     },
     "execution_count": 26,
     "metadata": {},
     "output_type": "execute_result"
    }
   ],
   "source": [
    "val_med_ser_5 = (train['LN_CONTAGIOS_DIFER']*train['DIFER_DIAS']).sum()/\\\n",
    "(pd.to_datetime('03/10/2020') - pd.to_datetime('02/12/2020')).days\n",
    "\n",
    "val_med_ser_6 = (train.loc['02/25/2020':,'LN_CONTAGIOS_DIFER']*train.loc['02/25/2020':,'DIFER_DIAS']).sum()/\\\n",
    "(pd.to_datetime('03/10/2020') - pd.to_datetime('02/25/2020')).days\n",
    "\n",
    "print(val_med_ser_5)\n",
    "print(val_med_ser_6)\n",
    "\n",
    "val_med_ser_5 == val_med_ser_2"
   ]
  },
  {
   "cell_type": "markdown",
   "metadata": {},
   "source": [
    "Como vemos, este valor coincide con el segundo, como indicábamos más arriba."
   ]
  },
  {
   "cell_type": "markdown",
   "metadata": {},
   "source": [
    "**Diferencias (nuevos contagios diarios):**"
   ]
  },
  {
   "cell_type": "code",
   "execution_count": 27,
   "metadata": {},
   "outputs": [
    {
     "name": "stdout",
     "output_type": "stream",
     "text": [
      "0.22883985515541216\n",
      "0.441334006371152\n"
     ]
    },
    {
     "data": {
      "text/plain": [
       "True"
      ]
     },
     "execution_count": 27,
     "metadata": {},
     "output_type": "execute_result"
    }
   ],
   "source": [
    "val_med_dif_5 = (train['LN_DIFER_2']*train['DIFER_DIAS']).sum()/\\\n",
    "(pd.to_datetime('03/10/2020') - pd.to_datetime('02/12/2020')).days\n",
    "\n",
    "val_med_dif_6 = (train.loc['02/25/2020':,'LN_DIFER_2']*train.loc['02/25/2020':,'DIFER_DIAS']).sum()/\\\n",
    "(pd.to_datetime('03/10/2020') - pd.to_datetime('02/25/2020')).days\n",
    "\n",
    "print(val_med_dif_5)\n",
    "print(val_med_dif_6)\n",
    "\n",
    "val_med_dif_5 == val_med_dif_2"
   ]
  },
  {
   "cell_type": "markdown",
   "metadata": {},
   "source": [
    "**Valor para la serie de contagios:**"
   ]
  },
  {
   "cell_type": "markdown",
   "metadata": {},
   "source": [
    "Conclusiones:\n",
    "\n",
    "De los seis valores para el estimador medio nos quedamos con val_med_dif_3, por reunir las características de ser ponderado y eliminar el efecto del dato espúreo del 12 de febrero.\n",
    "\n",
    "Por lo tanto, con este valor podemos ahora construir nuestras predicciones:\n",
    "    \n",
    "    "
   ]
  },
  {
   "cell_type": "code",
   "execution_count": 28,
   "metadata": {},
   "outputs": [],
   "source": [
    "num_dias = (pd.to_datetime('2020-03-14') - pd.to_datetime('2020-03-10')).days\n",
    "\n",
    "orig_value = train.loc['2020-03-10', 'LN_CONTAGIOS']\n",
    "\n",
    "for_pred = np.full(shape = num_dias, fill_value = val_med_dif_3)\n",
    "for_pred = np.cumsum(for_pred) + orig_value\n",
    "\n",
    "pred = pd.DataFrame(for_pred, columns = ['LN_CONTAGIOS'], index = test.index[:num_dias])"
   ]
  },
  {
   "cell_type": "code",
   "execution_count": 29,
   "metadata": {},
   "outputs": [
    {
     "data": {
      "text/plain": [
       "FECHA\n",
       "2020-03-11    2625.0\n",
       "2020-03-12    4066.0\n",
       "2020-03-13    6297.0\n",
       "2020-03-14    9752.0\n",
       "Name: CONTAGIOS, dtype: float64"
      ]
     },
     "execution_count": 29,
     "metadata": {},
     "output_type": "execute_result"
    }
   ],
   "source": [
    "pred['CONTAGIOS'] = np.round(np.exp(pred['LN_CONTAGIOS']))\n",
    "pred['CONTAGIOS']"
   ]
  },
  {
   "cell_type": "code",
   "execution_count": 30,
   "metadata": {},
   "outputs": [
    {
     "data": {
      "text/plain": [
       "FECHA\n",
       "2020-03-11    0.226636\n",
       "2020-03-12    0.371332\n",
       "2020-03-13    0.488301\n",
       "2020-03-14    0.701029\n",
       "Name: CONTAGIOS, dtype: float64"
      ]
     },
     "execution_count": 30,
     "metadata": {},
     "output_type": "execute_result"
    }
   ],
   "source": [
    "error = abs(pred['CONTAGIOS'] - test.loc[:'2020-03-14','CONTAGIOS'])/test.loc[:'2020-03-14','CONTAGIOS']\n",
    "error"
   ]
  },
  {
   "cell_type": "code",
   "execution_count": 31,
   "metadata": {},
   "outputs": [
    {
     "data": {
      "text/plain": [
       "[<matplotlib.lines.Line2D at 0x21dd74389b0>]"
      ]
     },
     "execution_count": 31,
     "metadata": {},
     "output_type": "execute_result"
    },
    {
     "data": {
      "image/png": "[encoded data removed]",
      "text/plain": [
       "<Figure size 1080x360 with 1 Axes>"
      ]
     },
     "metadata": {
      "needs_background": "light"
     },
     "output_type": "display_data"
    }
   ],
   "source": [
    "plt.figure(figsize = (15,5))\n",
    "plt.plot(contagios.loc[:'2020-03-14','CONTAGIOS'], 'o')\n",
    "plt.plot (pred['CONTAGIOS'], 'o')"
   ]
  },
  {
   "cell_type": "markdown",
   "metadata": {},
   "source": [
    "Como podemos observar, el modelo claramente sobreestima el número de contagios totales, respecto a los datos oficiales, y se desvía progresivamente de dicha curva.\n",
    "\n",
    "Pasamos ahora a calcular el número de contagios empleando una regresión lineal en la serie de los logaritmos de contagios:"
   ]
  },
  {
   "cell_type": "code",
   "execution_count": 32,
   "metadata": {},
   "outputs": [
    {
     "data": {
      "text/plain": [
       "FECHA\n",
       "2020-03-11         NaN\n",
       "2020-03-12    0.117962\n",
       "2020-03-13    0.085295\n",
       "2020-03-14    0.142934\n",
       "Name: CONTAGIOS, dtype: float64"
      ]
     },
     "execution_count": 32,
     "metadata": {},
     "output_type": "execute_result"
    }
   ],
   "source": [
    "(pred['CONTAGIOS'] / test.loc[:'2020-03-14','CONTAGIOS']).pct_change()"
   ]
  },
  {
   "cell_type": "markdown",
   "metadata": {},
   "source": [
    "**Se ve una separación progresiva entre los datos de nuestra predicción y los datos reales que sigue una relación geométrica de razón 0,1**"
   ]
  },
  {
   "cell_type": "markdown",
   "metadata": {},
   "source": [
    "Vamos a comparar ahora los resultados obtenidos con nuestro método de ajuste \"a mano\" con los que saldrían de aplicar una regresión lineal para calcular los coeficientes de la recta de regresión sobre los logaritmos de los contagiados totales, día a día.\n",
    "\n",
    "Para ello comenzamos arreglando convenientemente nuestro dataframe:"
   ]
  },
  {
   "cell_type": "code",
   "execution_count": 33,
   "metadata": {
    "scrolled": true
   },
   "outputs": [
    {
     "name": "stderr",
     "output_type": "stream",
     "text": [
      "C:\\ProgramData\\Anaconda3\\lib\\site-packages\\ipykernel_launcher.py:1: SettingWithCopyWarning: \n",
      "A value is trying to be set on a copy of a slice from a DataFrame.\n",
      "Try using .loc[row_indexer,col_indexer] = value instead\n",
      "\n",
      "See the caveats in the documentation: http://pandas.pydata.org/pandas-docs/stable/indexing.html#indexing-view-versus-copy\n",
      "  \"\"\"Entry point for launching an IPython kernel.\n",
      "C:\\ProgramData\\Anaconda3\\lib\\site-packages\\pandas\\core\\frame.py:3940: SettingWithCopyWarning: \n",
      "A value is trying to be set on a copy of a slice from a DataFrame\n",
      "\n",
      "See the caveats in the documentation: http://pandas.pydata.org/pandas-docs/stable/indexing.html#indexing-view-versus-copy\n",
      "  errors=errors)\n",
      "C:\\ProgramData\\Anaconda3\\lib\\site-packages\\ipykernel_launcher.py:3: SettingWithCopyWarning: \n",
      "A value is trying to be set on a copy of a slice from a DataFrame.\n",
      "Try using .loc[row_indexer,col_indexer] = value instead\n",
      "\n",
      "See the caveats in the documentation: http://pandas.pydata.org/pandas-docs/stable/indexing.html#indexing-view-versus-copy\n",
      "  This is separate from the ipykernel package so we can avoid doing imports until\n"
     ]
    }
   ],
   "source": [
    "train['DIFER_DIAS_2'] = train.loc[:,'DIFER_DIAS'].copy()\n",
    "train.drop(train.index[0], inplace = True)\n",
    "train['DIFER_DIAS_2'] = train['DIFER_DIAS'].cumsum()"
   ]
  },
  {
   "cell_type": "code",
   "execution_count": 34,
   "metadata": {},
   "outputs": [
    {
     "data": {
      "text/plain": [
       "array([8.03943602, 8.46385843, 8.88828083, 9.31270324])"
      ]
     },
     "execution_count": 34,
     "metadata": {},
     "output_type": "execute_result"
    }
   ],
   "source": [
    "coefs = np.polyfit(np.array(train['DIFER_DIAS_2']), np.array(train['LN_CONTAGIOS']) , 1)\n",
    "\n",
    "days = np.array(range(28,32))\n",
    "\n",
    "prediction_2 = days * coefs[0] + coefs[1]\n",
    "\n",
    "prediction_2"
   ]
  },
  {
   "cell_type": "code",
   "execution_count": 35,
   "metadata": {},
   "outputs": [
    {
     "data": {
      "text/plain": [
       "array([[0.4244224]])"
      ]
     },
     "execution_count": 35,
     "metadata": {},
     "output_type": "execute_result"
    }
   ],
   "source": [
    "from sklearn.linear_model import LinearRegression\n",
    "lr_model = LinearRegression()\n",
    "lr_model = lr_model.fit(np.array(train['DIFER_DIAS_2']).reshape(-1, 1), np.array(train['LN_CONTAGIOS']).reshape(-1,1))\n",
    "\n",
    "lr_model.coef_"
   ]
  },
  {
   "cell_type": "markdown",
   "metadata": {},
   "source": [
    "Podemos ver la gran similitud entre este valor y el calculado por nosotros:"
   ]
  },
  {
   "cell_type": "code",
   "execution_count": 36,
   "metadata": {},
   "outputs": [
    {
     "data": {
      "text/plain": [
       "0.43745505316704186"
      ]
     },
     "execution_count": 36,
     "metadata": {},
     "output_type": "execute_result"
    }
   ],
   "source": [
    "val_med_dif_3"
   ]
  },
  {
   "cell_type": "markdown",
   "metadata": {},
   "source": [
    "Pasamos a realizar la predicción:"
   ]
  },
  {
   "cell_type": "code",
   "execution_count": 37,
   "metadata": {},
   "outputs": [
    {
     "data": {
      "text/html": [
       "<div>\n",
       "<style scoped>\n",
       "    .dataframe tbody tr th:only-of-type {\n",
       "        vertical-align: middle;\n",
       "    }\n",
       "\n",
       "    .dataframe tbody tr th {\n",
       "        vertical-align: top;\n",
       "    }\n",
       "\n",
       "    .dataframe thead th {\n",
       "        text-align: right;\n",
       "    }\n",
       "</style>\n",
       "<table border=\"1\" class=\"dataframe\">\n",
       "  <thead>\n",
       "    <tr style=\"text-align: right;\">\n",
       "      <th></th>\n",
       "      <th>LN_CONTAGIOS</th>\n",
       "      <th>CONTAGIOS</th>\n",
       "    </tr>\n",
       "    <tr>\n",
       "      <th>FECHA</th>\n",
       "      <th></th>\n",
       "      <th></th>\n",
       "    </tr>\n",
       "  </thead>\n",
       "  <tbody>\n",
       "    <tr>\n",
       "      <th>2020-03-11</th>\n",
       "      <td>8.039436</td>\n",
       "      <td>3101.0</td>\n",
       "    </tr>\n",
       "    <tr>\n",
       "      <th>2020-03-12</th>\n",
       "      <td>8.463858</td>\n",
       "      <td>4740.0</td>\n",
       "    </tr>\n",
       "    <tr>\n",
       "      <th>2020-03-13</th>\n",
       "      <td>8.888281</td>\n",
       "      <td>7247.0</td>\n",
       "    </tr>\n",
       "    <tr>\n",
       "      <th>2020-03-14</th>\n",
       "      <td>9.312703</td>\n",
       "      <td>11078.0</td>\n",
       "    </tr>\n",
       "  </tbody>\n",
       "</table>\n",
       "</div>"
      ],
      "text/plain": [
       "            LN_CONTAGIOS  CONTAGIOS\n",
       "FECHA                              \n",
       "2020-03-11      8.039436     3101.0\n",
       "2020-03-12      8.463858     4740.0\n",
       "2020-03-13      8.888281     7247.0\n",
       "2020-03-14      9.312703    11078.0"
      ]
     },
     "execution_count": 37,
     "metadata": {},
     "output_type": "execute_result"
    }
   ],
   "source": [
    "prediction_3 = lr_model.predict(np.array(range(28,32)).reshape(-1,1))\n",
    "pred_3 = pd.DataFrame(prediction_3, columns = ['LN_CONTAGIOS'], index = test.index[:num_dias])\n",
    "pred_3['CONTAGIOS'] = np.round(np.exp(pred_3['LN_CONTAGIOS']))\n",
    "pred_3"
   ]
  },
  {
   "cell_type": "markdown",
   "metadata": {},
   "source": [
    "Como podemos ver, los dos métodos, tanto polyfit como la regresión lineal de sklearn arrojan el mismo resultado (lo que es normal, teniendo en cuenta que el método que ambos emplean es el mismo). Las diferencias entre ambos son puramente numéricas:"
   ]
  },
  {
   "cell_type": "code",
   "execution_count": 38,
   "metadata": {},
   "outputs": [
    {
     "data": {
      "text/plain": [
       "array([[-4.41910809e-16, -6.29626613e-16, -5.99561447e-16,\n",
       "        -5.72236695e-16]])"
      ]
     },
     "execution_count": 38,
     "metadata": {},
     "output_type": "execute_result"
    }
   ],
   "source": [
    "(prediction_2 - np.transpose(prediction_3))/prediction_2"
   ]
  },
  {
   "cell_type": "markdown",
   "metadata": {},
   "source": [
    "Representando ahora los resultados de la interpolación lineal frente a nuestra primera estimación y los datos reales, tenemos:"
   ]
  },
  {
   "cell_type": "code",
   "execution_count": 39,
   "metadata": {},
   "outputs": [
    {
     "data": {
      "text/plain": [
       "[<matplotlib.lines.Line2D at 0x21dd7ac0ef0>]"
      ]
     },
     "execution_count": 39,
     "metadata": {},
     "output_type": "execute_result"
    },
    {
     "data": {
      "image/png": "[encoded data removed]",
      "text/plain": [
       "<Figure size 1080x360 with 1 Axes>"
      ]
     },
     "metadata": {
      "needs_background": "light"
     },
     "output_type": "display_data"
    }
   ],
   "source": [
    "plt.figure(figsize = (15,5))\n",
    "plt.plot(contagios.loc[:'2020-03-14','CONTAGIOS'])\n",
    "plt.plot (pred_3['CONTAGIOS'])\n",
    "plt.plot (pred['CONTAGIOS'])"
   ]
  },
  {
   "cell_type": "markdown",
   "metadata": {},
   "source": [
    "Vemos que existe una diferencia bastante apreciable entre ambas predicciones, pero que ambas se alejan de la trayectoria que tomaron durante esos días el número real de contagios."
   ]
  },
  {
   "cell_type": "markdown",
   "metadata": {},
   "source": [
    "**Valor para la serie de contagios diarios:**"
   ]
  },
  {
   "cell_type": "markdown",
   "metadata": {},
   "source": [
    "Al igual que para la serie de contagios totales, el valor de más confianza para nuestra predicción en los contagios diarios es val_med_dif_3."
   ]
  },
  {
   "cell_type": "code",
   "execution_count": 40,
   "metadata": {},
   "outputs": [
    {
     "data": {
      "text/plain": [
       "0.43745505316704186"
      ]
     },
     "execution_count": 40,
     "metadata": {},
     "output_type": "execute_result"
    }
   ],
   "source": [
    "val_med_dif_3"
   ]
  },
  {
   "cell_type": "code",
   "execution_count": 41,
   "metadata": {},
   "outputs": [],
   "source": [
    "orig_value = train.loc['2020-03-10', 'LN_DIFER']\n",
    "\n",
    "for_pred = np.full(shape = num_dias, fill_value = val_med_dif_3)\n",
    "for_pred = np.cumsum(for_pred) + orig_value\n",
    "\n",
    "pred_dif = pd.DataFrame(for_pred, columns = ['LN_CONTAGIOS_DIARIOS'], index = test.index[:num_dias])"
   ]
  },
  {
   "cell_type": "code",
   "execution_count": 42,
   "metadata": {},
   "outputs": [],
   "source": [
    "pred_dif['NUEVOS_CONTAGIOS_DIARIOS'] = np.round(np.exp(pred_dif['LN_CONTAGIOS_DIARIOS']))"
   ]
  },
  {
   "cell_type": "code",
   "execution_count": 43,
   "metadata": {},
   "outputs": [
    {
     "data": {
      "text/plain": [
       "FECHA\n",
       "2020-03-11     317.0\n",
       "2020-03-12     355.0\n",
       "2020-03-13     562.0\n",
       "2020-03-14    1329.0\n",
       "dtype: float64"
      ]
     },
     "execution_count": 43,
     "metadata": {},
     "output_type": "execute_result"
    }
   ],
   "source": [
    "pred_dif['NUEVOS_CONTAGIOS_DIARIOS']  -  test.loc[:'2020-03-14','DIFER']"
   ]
  },
  {
   "cell_type": "code",
   "execution_count": 44,
   "metadata": {},
   "outputs": [
    {
     "data": {
      "text/plain": [
       "FECHA\n",
       "2020-03-11    1.712360\n",
       "2020-03-12    1.430303\n",
       "2020-03-13    1.443918\n",
       "2020-03-14    1.884820\n",
       "dtype: float64"
      ]
     },
     "execution_count": 44,
     "metadata": {},
     "output_type": "execute_result"
    }
   ],
   "source": [
    "(pred_dif['NUEVOS_CONTAGIOS_DIARIOS']  /  test.loc[:'2020-03-14','DIFER'])"
   ]
  },
  {
   "cell_type": "markdown",
   "metadata": {},
   "source": [
    "**En cambio, para la serie de contagios diarios se observa que no existe esa diferencia en el exponente de la exponencial respecto de lo calculado.**"
   ]
  },
  {
   "cell_type": "code",
   "execution_count": 45,
   "metadata": {},
   "outputs": [
    {
     "data": {
      "image/png": "[encoded data removed]",
      "text/plain": [
       "<Figure size 1080x360 with 1 Axes>"
      ]
     },
     "metadata": {
      "needs_background": "light"
     },
     "output_type": "display_data"
    }
   ],
   "source": [
    "plt.figure(figsize = (15,5))\n",
    "plt.plot(contagios.loc[:'2020-03-14','DIFER'])\n",
    "plt.plot (pred_dif['NUEVOS_CONTAGIOS_DIARIOS'] );"
   ]
  },
  {
   "cell_type": "markdown",
   "metadata": {},
   "source": [
    "De nuevo podemos observar cómo la gráfica se separa enormemente de los datos oficiales."
   ]
  },
  {
   "cell_type": "markdown",
   "metadata": {},
   "source": [
    "**Corrección:**\n",
    "\n",
    "Para la serie de contagios hemos visto que existe una relación geométrica de razón aproximadamente 0.1 en la separación entre los valores de nuestras predicciones y los reales.\n",
    "\n",
    "Por lo tanto, vamos a corregir el coeficiente de la exponencial adecuadamente para forzar a nuestra curva a que se ajuste a los datos reales.\n",
    "\n",
    "Posteriormente comprobaremos el valor de nuestro ajuste con el obtenidode tomar como datos para la regresión, los últimos datos de \"train\" y los de la predicción:"
   ]
  },
  {
   "cell_type": "code",
   "execution_count": 46,
   "metadata": {},
   "outputs": [
    {
     "data": {
      "image/png": "[encoded data removed]",
      "text/plain": [
       "<Figure size 1080x360 with 1 Axes>"
      ]
     },
     "metadata": {
      "needs_background": "light"
     },
     "output_type": "display_data"
    }
   ],
   "source": [
    "contagios['LN_CONTAGIOS'].plot(figsize=(15,5), style = 'o');"
   ]
  },
  {
   "cell_type": "markdown",
   "metadata": {},
   "source": [
    "Eliminamos el primer valor, claramente un outlier:"
   ]
  },
  {
   "cell_type": "code",
   "execution_count": 47,
   "metadata": {},
   "outputs": [],
   "source": [
    "contagios.drop(contagios.index[0], inplace = True)"
   ]
  },
  {
   "cell_type": "markdown",
   "metadata": {},
   "source": [
    "Podemos ver que, para el resto"
   ]
  },
  {
   "cell_type": "code",
   "execution_count": 48,
   "metadata": {},
   "outputs": [
    {
     "data": {
      "image/png": "[encoded data removed]",
      "text/plain": [
       "<Figure size 1080x360 with 1 Axes>"
      ]
     },
     "metadata": {
      "needs_background": "light"
     },
     "output_type": "display_data"
    }
   ],
   "source": [
    "contagios['LN_CONTAGIOS^2'] = contagios['LN_CONTAGIOS']**2\n",
    "contagios['LN_CONTAGIOS^2'].plot(figsize=(15,5), style = 'o');"
   ]
  },
  {
   "cell_type": "code",
   "execution_count": 49,
   "metadata": {},
   "outputs": [
    {
     "name": "stderr",
     "output_type": "stream",
     "text": [
      "C:\\ProgramData\\Anaconda3\\lib\\site-packages\\ipykernel_launcher.py:1: SettingWithCopyWarning: \n",
      "A value is trying to be set on a copy of a slice from a DataFrame.\n",
      "Try using .loc[row_indexer,col_indexer] = value instead\n",
      "\n",
      "See the caveats in the documentation: http://pandas.pydata.org/pandas-docs/stable/indexing.html#indexing-view-versus-copy\n",
      "  \"\"\"Entry point for launching an IPython kernel.\n",
      "C:\\ProgramData\\Anaconda3\\lib\\site-packages\\ipykernel_launcher.py:2: SettingWithCopyWarning: \n",
      "A value is trying to be set on a copy of a slice from a DataFrame.\n",
      "Try using .loc[row_indexer,col_indexer] = value instead\n",
      "\n",
      "See the caveats in the documentation: http://pandas.pydata.org/pandas-docs/stable/indexing.html#indexing-view-versus-copy\n",
      "  \n"
     ]
    }
   ],
   "source": [
    "train['LN_CONTAGIOS^2'] = train['LN_CONTAGIOS']**2\n",
    "train['LN_CONTAGIOS^2_DIFER'] = train['LN_CONTAGIOS^2'].diff().fillna(train['LN_CONTAGIOS^2'])/train['DIFER_DIAS']\n",
    "train['LN_CONTAGIOS^2_DIFER'];"
   ]
  },
  {
   "cell_type": "code",
   "execution_count": 50,
   "metadata": {},
   "outputs": [
    {
     "data": {
      "text/plain": [
       "4.439328104086415"
      ]
     },
     "execution_count": 50,
     "metadata": {},
     "output_type": "execute_result"
    }
   ],
   "source": [
    "slope = (train.loc['03/10/2020', 'LN_CONTAGIOS^2'] - train.loc['02/25/2020', 'LN_CONTAGIOS^2'])/\\\n",
    "(pd.to_datetime('03/10/2020') - pd.to_datetime('02/25/2020')).days\n",
    "\n",
    "slope = 0.5 * slope + 0.5 * (train.iloc[-3:,-1].mean())\n",
    "slope"
   ]
  },
  {
   "cell_type": "code",
   "execution_count": 51,
   "metadata": {},
   "outputs": [
    {
     "data": {
      "text/html": [
       "<div>\n",
       "<style scoped>\n",
       "    .dataframe tbody tr th:only-of-type {\n",
       "        vertical-align: middle;\n",
       "    }\n",
       "\n",
       "    .dataframe tbody tr th {\n",
       "        vertical-align: top;\n",
       "    }\n",
       "\n",
       "    .dataframe thead th {\n",
       "        text-align: right;\n",
       "    }\n",
       "</style>\n",
       "<table border=\"1\" class=\"dataframe\">\n",
       "  <thead>\n",
       "    <tr style=\"text-align: right;\">\n",
       "      <th></th>\n",
       "      <th>LN_CONTAGIOS^2</th>\n",
       "    </tr>\n",
       "    <tr>\n",
       "      <th>FECHA</th>\n",
       "      <th></th>\n",
       "    </tr>\n",
       "  </thead>\n",
       "  <tbody>\n",
       "    <tr>\n",
       "      <th>2020-03-11</th>\n",
       "      <td>59.725067</td>\n",
       "    </tr>\n",
       "    <tr>\n",
       "      <th>2020-03-12</th>\n",
       "      <td>64.164395</td>\n",
       "    </tr>\n",
       "    <tr>\n",
       "      <th>2020-03-13</th>\n",
       "      <td>68.603723</td>\n",
       "    </tr>\n",
       "    <tr>\n",
       "      <th>2020-03-14</th>\n",
       "      <td>73.043051</td>\n",
       "    </tr>\n",
       "  </tbody>\n",
       "</table>\n",
       "</div>"
      ],
      "text/plain": [
       "            LN_CONTAGIOS^2\n",
       "FECHA                     \n",
       "2020-03-11       59.725067\n",
       "2020-03-12       64.164395\n",
       "2020-03-13       68.603723\n",
       "2020-03-14       73.043051"
      ]
     },
     "execution_count": 51,
     "metadata": {},
     "output_type": "execute_result"
    }
   ],
   "source": [
    "orig_value = train.loc['03/10/2020', 'LN_CONTAGIOS^2']\n",
    "\n",
    "for_pred = np.full(shape = num_dias, fill_value = slope)\n",
    "for_pred = np.cumsum(for_pred) + orig_value\n",
    "\n",
    "pred = pd.DataFrame(for_pred, columns = ['LN_CONTAGIOS^2'], index = test.index[:num_dias])\n",
    "pred"
   ]
  },
  {
   "cell_type": "code",
   "execution_count": 52,
   "metadata": {},
   "outputs": [
    {
     "data": {
      "text/plain": [
       "[<matplotlib.lines.Line2D at 0x21dd7e78908>]"
      ]
     },
     "execution_count": 52,
     "metadata": {},
     "output_type": "execute_result"
    },
    {
     "data": {
      "image/png": "[encoded data removed]",
      "text/plain": [
       "<Figure size 1296x360 with 1 Axes>"
      ]
     },
     "metadata": {
      "needs_background": "light"
     },
     "output_type": "display_data"
    }
   ],
   "source": [
    "plt.figure(figsize=(18,5))\n",
    "plt.plot(train.index, train['LN_CONTAGIOS^2'], 'o')\n",
    "plt.plot(pred.index, pred, 'o')"
   ]
  },
  {
   "cell_type": "code",
   "execution_count": 53,
   "metadata": {},
   "outputs": [
    {
     "data": {
      "text/plain": [
       "FECHA\n",
       "2020-03-11    0.061682\n",
       "2020-03-12    0.015852\n",
       "2020-03-13   -0.065233\n",
       "2020-03-14   -0.101866\n",
       "Name: CONTAGIOS, dtype: float64"
      ]
     },
     "execution_count": 53,
     "metadata": {},
     "output_type": "execute_result"
    }
   ],
   "source": [
    "pred['CONTAGIOS'] = round(np.exp((pred['LN_CONTAGIOS^2'])**(1/2)))\n",
    "(pred['CONTAGIOS'] - test.loc[:'03/14/2020', 'CONTAGIOS'])/test.loc[:'03/14/2020', 'CONTAGIOS']"
   ]
  },
  {
   "cell_type": "code",
   "execution_count": 54,
   "metadata": {},
   "outputs": [
    {
     "data": {
      "text/html": [
       "<div>\n",
       "<style scoped>\n",
       "    .dataframe tbody tr th:only-of-type {\n",
       "        vertical-align: middle;\n",
       "    }\n",
       "\n",
       "    .dataframe tbody tr th {\n",
       "        vertical-align: top;\n",
       "    }\n",
       "\n",
       "    .dataframe thead th {\n",
       "        text-align: right;\n",
       "    }\n",
       "</style>\n",
       "<table border=\"1\" class=\"dataframe\">\n",
       "  <thead>\n",
       "    <tr style=\"text-align: right;\">\n",
       "      <th></th>\n",
       "      <th>CHECK</th>\n",
       "      <th>REAL</th>\n",
       "    </tr>\n",
       "  </thead>\n",
       "  <tbody>\n",
       "    <tr>\n",
       "      <th>CHECK</th>\n",
       "      <td>1.000000</td>\n",
       "      <td>0.992233</td>\n",
       "    </tr>\n",
       "    <tr>\n",
       "      <th>REAL</th>\n",
       "      <td>0.992233</td>\n",
       "      <td>1.000000</td>\n",
       "    </tr>\n",
       "  </tbody>\n",
       "</table>\n",
       "</div>"
      ],
      "text/plain": [
       "          CHECK      REAL\n",
       "CHECK  1.000000  0.992233\n",
       "REAL   0.992233  1.000000"
      ]
     },
     "execution_count": 54,
     "metadata": {},
     "output_type": "execute_result"
    }
   ],
   "source": [
    "coefs = np.polyfit(np.array(train['DIFER_DIAS_2']), np.array(train['LN_CONTAGIOS^2']) , 1)\n",
    "\n",
    "# switch para elegir si emplear el propio ajuste de la regresión lineal para el término independiente,\n",
    "# o si, por el contrario, tomamos como referencia el último valor, y tomamos únicamente la pendiente:\n",
    "\n",
    "\n",
    "#se comprueba que el valor más fiable es el que arroja esta segunda opción:\n",
    "\n",
    "switch = False\n",
    "\n",
    "if switch:\n",
    "\n",
    "    days = np.array(range(28, 32))\n",
    "    for_pred_2 = days * coefs[0] + coefs[1]\n",
    "    \n",
    "\n",
    "else:\n",
    "    orig_value = train.loc['03/10/2020', 'LN_CONTAGIOS^2']\n",
    "    days = np.array(range(1,5))\n",
    "    for_pred_2 = days * coefs[0] + orig_value\n",
    "\n",
    "for_check = np.array(train['DIFER_DIAS_2']) * coefs[0] + coefs[1]   \n",
    "    \n",
    "n_prediction = pd.DataFrame(for_pred_2, columns = ['LN_CONTAGIOS^2'], index = test.index[:num_dias])\n",
    "                     \n",
    "for_check = pd.DataFrame(for_check, columns = ['CHECK'], index = train.index)\n",
    "\n",
    "for_check['REAL'] = train['LN_CONTAGIOS^2']\n",
    "for_check.corr()"
   ]
  },
  {
   "cell_type": "code",
   "execution_count": 55,
   "metadata": {},
   "outputs": [
    {
     "data": {
      "text/plain": [
       "[<matplotlib.lines.Line2D at 0x21dd7e254e0>]"
      ]
     },
     "execution_count": 55,
     "metadata": {},
     "output_type": "execute_result"
    },
    {
     "data": {
      "image/png": "[encoded data removed]",
      "text/plain": [
       "<Figure size 1296x360 with 1 Axes>"
      ]
     },
     "metadata": {
      "needs_background": "light"
     },
     "output_type": "display_data"
    }
   ],
   "source": [
    "plt.figure(figsize=(18,5))\n",
    "plt.plot(train.index, train['LN_CONTAGIOS^2'], 'o')\n",
    "plt.plot(n_prediction.index, n_prediction['LN_CONTAGIOS^2'], 'o')"
   ]
  },
  {
   "cell_type": "markdown",
   "metadata": {},
   "source": [
    "Como podemos ver, de nuevo el ajuste por mínimos cuadrados, empleando el polyfit, presenta un comportamiento anómalo (corregido, empleando simplemente la pendiente que nos devuelve el polyfit y empleando el último valor del train como referencia).\n",
    "\n",
    "Aún así, los resultados son peores que los obtenidos por la primera vía:"
   ]
  },
  {
   "cell_type": "code",
   "execution_count": 56,
   "metadata": {
    "scrolled": false
   },
   "outputs": [
    {
     "data": {
      "text/html": [
       "<div>\n",
       "<style scoped>\n",
       "    .dataframe tbody tr th:only-of-type {\n",
       "        vertical-align: middle;\n",
       "    }\n",
       "\n",
       "    .dataframe tbody tr th {\n",
       "        vertical-align: top;\n",
       "    }\n",
       "\n",
       "    .dataframe thead th {\n",
       "        text-align: right;\n",
       "    }\n",
       "</style>\n",
       "<table border=\"1\" class=\"dataframe\">\n",
       "  <thead>\n",
       "    <tr style=\"text-align: right;\">\n",
       "      <th></th>\n",
       "      <th>LN_CONTAGIOS^2</th>\n",
       "      <th>PRED</th>\n",
       "      <th>REAL_DATA</th>\n",
       "      <th>MAE</th>\n",
       "    </tr>\n",
       "    <tr>\n",
       "      <th>FECHA</th>\n",
       "      <th></th>\n",
       "      <th></th>\n",
       "      <th></th>\n",
       "      <th></th>\n",
       "    </tr>\n",
       "  </thead>\n",
       "  <tbody>\n",
       "    <tr>\n",
       "      <th>2020-03-11</th>\n",
       "      <td>59.024254</td>\n",
       "      <td>2171.0</td>\n",
       "      <td>2140</td>\n",
       "      <td>0.014486</td>\n",
       "    </tr>\n",
       "    <tr>\n",
       "      <th>2020-03-12</th>\n",
       "      <td>62.762770</td>\n",
       "      <td>2758.0</td>\n",
       "      <td>2965</td>\n",
       "      <td>-0.069815</td>\n",
       "    </tr>\n",
       "    <tr>\n",
       "      <th>2020-03-13</th>\n",
       "      <td>66.501285</td>\n",
       "      <td>3480.0</td>\n",
       "      <td>4231</td>\n",
       "      <td>-0.177499</td>\n",
       "    </tr>\n",
       "    <tr>\n",
       "      <th>2020-03-14</th>\n",
       "      <td>70.239801</td>\n",
       "      <td>4363.0</td>\n",
       "      <td>5733</td>\n",
       "      <td>-0.238967</td>\n",
       "    </tr>\n",
       "  </tbody>\n",
       "</table>\n",
       "</div>"
      ],
      "text/plain": [
       "            LN_CONTAGIOS^2    PRED  REAL_DATA       MAE\n",
       "FECHA                                                  \n",
       "2020-03-11       59.024254  2171.0       2140  0.014486\n",
       "2020-03-12       62.762770  2758.0       2965 -0.069815\n",
       "2020-03-13       66.501285  3480.0       4231 -0.177499\n",
       "2020-03-14       70.239801  4363.0       5733 -0.238967"
      ]
     },
     "execution_count": 56,
     "metadata": {},
     "output_type": "execute_result"
    }
   ],
   "source": [
    "n_prediction['PRED'] = round(np.exp((n_prediction['LN_CONTAGIOS^2'])**(1/2)))\n",
    "n_prediction['REAL_DATA'] = test.loc[:'03/14/2020', 'CONTAGIOS']\n",
    "n_prediction['MAE'] = (n_prediction['PRED'] - n_prediction['REAL_DATA'])/test.loc[:'03/14/2020', 'CONTAGIOS']\n",
    "n_prediction"
   ]
  },
  {
   "cell_type": "code",
   "execution_count": 57,
   "metadata": {},
   "outputs": [
    {
     "data": {
      "text/plain": [
       "<matplotlib.legend.Legend at 0x21dd7d900f0>"
      ]
     },
     "execution_count": 57,
     "metadata": {},
     "output_type": "execute_result"
    },
    {
     "data": {
      "image/png": "[encoded data removed]",
      "text/plain": [
       "<Figure size 1296x360 with 1 Axes>"
      ]
     },
     "metadata": {
      "needs_background": "light"
     },
     "output_type": "display_data"
    }
   ],
   "source": [
    "plt.figure(figsize=(18,5))\n",
    "plt.plot(train.index, train['CONTAGIOS'], 'o')\n",
    "plt.plot(n_prediction.index, n_prediction['PRED'], 'o')\n",
    "plt.plot(n_prediction.index, n_prediction['REAL_DATA'], 'o')\n",
    "\n",
    "plt.legend(['CONTAGIOS', 'PREDICCIÓN', 'EVOLUCIÓN REAL'])"
   ]
  },
  {
   "cell_type": "markdown",
   "metadata": {},
   "source": [
    "**CONCLUSIONES:**\n",
    "\n",
    "1) El cambio en los criterios de hospitalización de varias comunidades autónomas españolas dificulta el trazado de la curva, al haber reducido artificialmente los resultados totales en cuanto a número de infectados.\n",
    "\n",
    "2) Ninguno de los métodos empleados parece arrojar muy buenos resultados. A pesar de que los últimos ajustes, en los que la correlación encontrada es elevada, encontrar partiendo de reusltados pasados la pendiente efectiva de la curva de los contagios resulta ser complicado por lo sensible del cálculo de su pendiente.\n",
    "\n",
    "3) Los métodos sin embargo sí consiguen capturar bien la evolución, si bien no a nivel numérico, sí a nivel conceptual.\n",
    "\n",
    "4) El método con el que nos quedaremos es el de emplear una pendiente que se calcule tanto a partir de la propia recta que hemos visto anteriormente, como con los últimos valores para contemplar en nuestra proyección la importancia de los últimos valores."
   ]
  },
  {
   "cell_type": "markdown",
   "metadata": {},
   "source": [
    "### APROXIMACIÓN FINAL:"
   ]
  },
  {
   "cell_type": "markdown",
   "metadata": {},
   "source": [
    "Vamos ahora a aplicar de nuevo un modelo de regresión lineal para nuestra serie, primero calculando la recta que realmente siguen los logartimos, para luego deshacer los cambios.\n",
    "\n",
    "Una vez tengamos nuestro modelo calcularemos el error que nos devuelve nuestro ajuste y haremos predicciones:"
   ]
  },
  {
   "cell_type": "code",
   "execution_count": 58,
   "metadata": {},
   "outputs": [],
   "source": [
    "def cols_para_calculos(df: 'DataFrame', columna_or: 'string', dates_in_index = True):\n",
    "    \n",
    "    if dates_in_index:\n",
    "        day_range = (df.index - df.index[0]).days\n",
    "        df.loc[:,'FECHA'] = day_range\n",
    "    else:\n",
    "        df['FECHA'] =(df.index - df.index[0])\n",
    "    \n",
    "    \n",
    "\n",
    "    df['PARA_CALCULOS'] = (df[columna_or]).apply(lambda x: -10 if x == 0 else np.log(x))\n",
    "    df['LOG_FECHA_0'] = np.array(np.log(df['FECHA']))\n",
    "    df['LOG_FECHA_1'] = np.array(df['FECHA'].shift(1).apply(lambda x: 0 if (x == 0) else np.log(x)))\n",
    "\n",
    "    df['DIF_FECHA'] = df['LOG_FECHA_0'] - df['LOG_FECHA_1']\n",
    "    df['RATIO'] = df['PARA_CALCULOS'].diff()/df['DIF_FECHA']\n",
    "\n",
    "    factor = df.loc[df.index[2]:,'RATIO'].mean()\n",
    "    \n",
    "    df['RECTA'] = df[columna_or]**(1/factor)\n",
    "    \n",
    "    return df, factor"
   ]
  },
  {
   "cell_type": "code",
   "execution_count": 59,
   "metadata": {},
   "outputs": [
    {
     "name": "stderr",
     "output_type": "stream",
     "text": [
      "C:\\ProgramData\\Anaconda3\\lib\\site-packages\\pandas\\core\\indexing.py:362: SettingWithCopyWarning: \n",
      "A value is trying to be set on a copy of a slice from a DataFrame.\n",
      "Try using .loc[row_indexer,col_indexer] = value instead\n",
      "\n",
      "See the caveats in the documentation: http://pandas.pydata.org/pandas-docs/stable/indexing.html#indexing-view-versus-copy\n",
      "  self.obj[key] = _infer_fill_value(value)\n",
      "C:\\ProgramData\\Anaconda3\\lib\\site-packages\\pandas\\core\\indexing.py:543: SettingWithCopyWarning: \n",
      "A value is trying to be set on a copy of a slice from a DataFrame.\n",
      "Try using .loc[row_indexer,col_indexer] = value instead\n",
      "\n",
      "See the caveats in the documentation: http://pandas.pydata.org/pandas-docs/stable/indexing.html#indexing-view-versus-copy\n",
      "  self.obj[item] = s\n",
      "C:\\ProgramData\\Anaconda3\\lib\\site-packages\\ipykernel_launcher.py:11: SettingWithCopyWarning: \n",
      "A value is trying to be set on a copy of a slice from a DataFrame.\n",
      "Try using .loc[row_indexer,col_indexer] = value instead\n",
      "\n",
      "See the caveats in the documentation: http://pandas.pydata.org/pandas-docs/stable/indexing.html#indexing-view-versus-copy\n",
      "  # This is added back by InteractiveShellApp.init_path()\n",
      "C:\\ProgramData\\Anaconda3\\lib\\site-packages\\ipykernel_launcher.py:12: RuntimeWarning: divide by zero encountered in log\n",
      "  if sys.path[0] == '':\n",
      "C:\\ProgramData\\Anaconda3\\lib\\site-packages\\ipykernel_launcher.py:12: SettingWithCopyWarning: \n",
      "A value is trying to be set on a copy of a slice from a DataFrame.\n",
      "Try using .loc[row_indexer,col_indexer] = value instead\n",
      "\n",
      "See the caveats in the documentation: http://pandas.pydata.org/pandas-docs/stable/indexing.html#indexing-view-versus-copy\n",
      "  if sys.path[0] == '':\n",
      "C:\\ProgramData\\Anaconda3\\lib\\site-packages\\ipykernel_launcher.py:13: SettingWithCopyWarning: \n",
      "A value is trying to be set on a copy of a slice from a DataFrame.\n",
      "Try using .loc[row_indexer,col_indexer] = value instead\n",
      "\n",
      "See the caveats in the documentation: http://pandas.pydata.org/pandas-docs/stable/indexing.html#indexing-view-versus-copy\n",
      "  del sys.path[0]\n"
     ]
    },
    {
     "data": {
      "text/plain": [
       "0.5272199497112161"
      ]
     },
     "execution_count": 59,
     "metadata": {},
     "output_type": "execute_result"
    }
   ],
   "source": [
    "df_contagios_pred = contagios[['CONTAGIOS', 'DIFER_DIAS', 'LN_CONTAGIOS']]\n",
    "\n",
    "df_contagios_pred, factor = cols_para_calculos(df_contagios_pred, 'LN_CONTAGIOS')\n",
    "factor"
   ]
  },
  {
   "cell_type": "code",
   "execution_count": 60,
   "metadata": {},
   "outputs": [],
   "source": [
    "def ajuste_min_cuadrados(serie_x: 'Series', serie_y: 'Series', factor: 'float', col: 'string'):\n",
    "    \n",
    "    x_range = serie_x\n",
    "    coefs = np.polyfit(np.array(x_range), np.array(serie_y) , 1)\n",
    "\n",
    "    arr_pred = x_range * coefs[0] + coefs[1]\n",
    "\n",
    "    df_pred = pd.DataFrame(arr_pred)\n",
    "    df_pred.rename({'FECHA':'PRED'}, axis=1, inplace = True)\n",
    "    df_pred['RECTA'] = serie_y\n",
    "    \n",
    "    \n",
    "    df_pred.plot(figsize=(18,5))\n",
    "    print(df_pred.corr())\n",
    "    \n",
    "    df_pred[col] = np.round(np.exp(df_pred['PRED']**factor).fillna(1))\n",
    "\n",
    "    return df_pred, coefs"
   ]
  },
  {
   "cell_type": "code",
   "execution_count": 61,
   "metadata": {},
   "outputs": [
    {
     "name": "stdout",
     "output_type": "stream",
     "text": [
      "           PRED     RECTA\n",
      "PRED   1.000000  0.997969\n",
      "RECTA  0.997969  1.000000\n"
     ]
    },
    {
     "data": {
      "image/png": "[encoded data removed]",
      "text/plain": [
       "<Figure size 1296x360 with 1 Axes>"
      ]
     },
     "metadata": {
      "needs_background": "light"
     },
     "output_type": "display_data"
    }
   ],
   "source": [
    "new_contagios_prediction, coefs = ajuste_min_cuadrados(df_contagios_pred['FECHA'], df_contagios_pred['RECTA'], factor, 'PRED_CONTAGIOS')"
   ]
  },
  {
   "cell_type": "code",
   "execution_count": 62,
   "metadata": {},
   "outputs": [
    {
     "data": {
      "text/plain": [
       "0.15501362815029748"
      ]
     },
     "execution_count": 62,
     "metadata": {},
     "output_type": "execute_result"
    }
   ],
   "source": [
    "df_contagios_pred['PRED_CONTAGIOS'] = new_contagios_prediction['PRED_CONTAGIOS']\n",
    "df_contagios_pred['ERROR_ABS'] = abs(df_contagios_pred['PRED_CONTAGIOS'] - df_contagios_pred['CONTAGIOS'])\n",
    "df_contagios_pred['MAE'] = (abs(df_contagios_pred['PRED_CONTAGIOS'] - df_contagios_pred['CONTAGIOS'])/df_contagios_pred['CONTAGIOS']).fillna(0)\n",
    "df_contagios_pred.loc[df_contagios_pred.index[1]:,'MAE'].mean()"
   ]
  },
  {
   "cell_type": "markdown",
   "metadata": {},
   "source": [
    "Como vemos, tenemos un 15% de error, lo cual no es un buen resultado."
   ]
  },
  {
   "cell_type": "code",
   "execution_count": 63,
   "metadata": {},
   "outputs": [],
   "source": [
    "def prediccion(day_num_of_reference, date_of_reference, coeficientes, factor):    \n",
    "\n",
    "    x_range_ext = np.array(range(day_num_of_reference + 1, day_num_of_reference + 6))\n",
    "    index = [date_of_reference + datetime.timedelta(int(x)) for x in x_range_ext]\n",
    "    arr_pred = x_range_ext * coeficientes[0] + coeficientes[1]\n",
    "\n",
    "    arr_pred = np.round(np.exp(arr_pred**factor))\n",
    "    arr_pred = pd.DataFrame(arr_pred, columns = ['PRED'], index = index)\n",
    "    return arr_pred"
   ]
  },
  {
   "cell_type": "code",
   "execution_count": 64,
   "metadata": {},
   "outputs": [
    {
     "data": {
      "text/html": [
       "<div>\n",
       "<style scoped>\n",
       "    .dataframe tbody tr th:only-of-type {\n",
       "        vertical-align: middle;\n",
       "    }\n",
       "\n",
       "    .dataframe tbody tr th {\n",
       "        vertical-align: top;\n",
       "    }\n",
       "\n",
       "    .dataframe thead th {\n",
       "        text-align: right;\n",
       "    }\n",
       "</style>\n",
       "<table border=\"1\" class=\"dataframe\">\n",
       "  <thead>\n",
       "    <tr style=\"text-align: right;\">\n",
       "      <th></th>\n",
       "      <th>PRED</th>\n",
       "    </tr>\n",
       "  </thead>\n",
       "  <tbody>\n",
       "    <tr>\n",
       "      <th>2020-03-24</th>\n",
       "      <td>47222.0</td>\n",
       "    </tr>\n",
       "    <tr>\n",
       "      <th>2020-03-25</th>\n",
       "      <td>57831.0</td>\n",
       "    </tr>\n",
       "    <tr>\n",
       "      <th>2020-03-26</th>\n",
       "      <td>70591.0</td>\n",
       "    </tr>\n",
       "    <tr>\n",
       "      <th>2020-03-27</th>\n",
       "      <td>85896.0</td>\n",
       "    </tr>\n",
       "    <tr>\n",
       "      <th>2020-03-28</th>\n",
       "      <td>104207.0</td>\n",
       "    </tr>\n",
       "  </tbody>\n",
       "</table>\n",
       "</div>"
      ],
      "text/plain": [
       "                PRED\n",
       "2020-03-24   47222.0\n",
       "2020-03-25   57831.0\n",
       "2020-03-26   70591.0\n",
       "2020-03-27   85896.0\n",
       "2020-03-28  104207.0"
      ]
     },
     "execution_count": 64,
     "metadata": {},
     "output_type": "execute_result"
    }
   ],
   "source": [
    "day_num_of_reference = df_contagios_pred['FECHA'][-1]\n",
    "date_of_reference = df_contagios_pred.index[0]\n",
    "arr_contagios_pred = prediccion(day_num_of_reference, date_of_reference, coefs, factor)\n",
    "arr_contagios_pred"
   ]
  },
  {
   "cell_type": "markdown",
   "metadata": {},
   "source": [
    "Como vemos, el modelo termina ya en en un alto valor de infectados por encima de lo real, y tiende a sobreestimar el número de infectados.\n",
    "\n",
    "Restamos la diferencia que ya acarrea nuestro ajuste de nuestro número de infectados para obtener valores más ajustados a lo esperable:"
   ]
  },
  {
   "cell_type": "code",
   "execution_count": 65,
   "metadata": {},
   "outputs": [
    {
     "data": {
      "text/html": [
       "<div>\n",
       "<style scoped>\n",
       "    .dataframe tbody tr th:only-of-type {\n",
       "        vertical-align: middle;\n",
       "    }\n",
       "\n",
       "    .dataframe tbody tr th {\n",
       "        vertical-align: top;\n",
       "    }\n",
       "\n",
       "    .dataframe thead th {\n",
       "        text-align: right;\n",
       "    }\n",
       "</style>\n",
       "<table border=\"1\" class=\"dataframe\">\n",
       "  <thead>\n",
       "    <tr style=\"text-align: right;\">\n",
       "      <th></th>\n",
       "      <th>PRED</th>\n",
       "    </tr>\n",
       "  </thead>\n",
       "  <tbody>\n",
       "    <tr>\n",
       "      <th>2020-03-24</th>\n",
       "      <td>41887.0</td>\n",
       "    </tr>\n",
       "    <tr>\n",
       "      <th>2020-03-25</th>\n",
       "      <td>52496.0</td>\n",
       "    </tr>\n",
       "    <tr>\n",
       "      <th>2020-03-26</th>\n",
       "      <td>65256.0</td>\n",
       "    </tr>\n",
       "    <tr>\n",
       "      <th>2020-03-27</th>\n",
       "      <td>80561.0</td>\n",
       "    </tr>\n",
       "    <tr>\n",
       "      <th>2020-03-28</th>\n",
       "      <td>98872.0</td>\n",
       "    </tr>\n",
       "  </tbody>\n",
       "</table>\n",
       "</div>"
      ],
      "text/plain": [
       "               PRED\n",
       "2020-03-24  41887.0\n",
       "2020-03-25  52496.0\n",
       "2020-03-26  65256.0\n",
       "2020-03-27  80561.0\n",
       "2020-03-28  98872.0"
      ]
     },
     "execution_count": 65,
     "metadata": {},
     "output_type": "execute_result"
    }
   ],
   "source": [
    "arr_contagios_pred_corr = pd.DataFrame(arr_contagios_pred['PRED'] - df_contagios_pred['ERROR_ABS'][-1])\n",
    "arr_contagios_pred_corr"
   ]
  },
  {
   "cell_type": "markdown",
   "metadata": {},
   "source": [
    "Provisionalmente aceptaremos estos datos como resultantes de una primera iteración.\n",
    "\n",
    "Sin embargo, podemos observar que extrapolar con los datos de contagios es complicado, en parte, debido a los cambios de criterio mencionados anteriormente."
   ]
  },
  {
   "cell_type": "markdown",
   "metadata": {},
   "source": [
    "### MODELO FINAL:"
   ]
  },
  {
   "cell_type": "markdown",
   "metadata": {},
   "source": [
    "Por lo tanto, parece que para predecir los contagios lo más fácil es tomar los últimos valores de la serie, a partir del día 15 de marzo, desde los cuales se entiende que existe un criterio más o menos definido para hacer las pruebas.\n",
    "\n",
    "Se elimina la linealización de la curva del logaritmo: para esta zona es lo suficientemente plana como para considerarla recta y eliminamos las anomalías que se producen al elevar a números bajos, y la acumulación de errores en el proceso.\n",
    "    \n",
    "Por lo tanto, para esta parte del proceso contaremos con un factor de linealización de 1, a la hora de meter en el ajuste del polyfit."
   ]
  },
  {
   "cell_type": "code",
   "execution_count": 70,
   "metadata": {},
   "outputs": [],
   "source": [
    "short_contagios = pd.DataFrame(contagios.loc['2020-03-15':, 'LN_CONTAGIOS'])"
   ]
  },
  {
   "cell_type": "code",
   "execution_count": 71,
   "metadata": {},
   "outputs": [],
   "source": [
    "day_range = (short_contagios.index - short_contagios.index[0]).days\n",
    "short_contagios.loc[:,'FECHA'] = day_range"
   ]
  },
  {
   "cell_type": "code",
   "execution_count": 72,
   "metadata": {},
   "outputs": [
    {
     "name": "stdout",
     "output_type": "stream",
     "text": [
      "           PRED     RECTA\n",
      "PRED   1.000000  0.998416\n",
      "RECTA  0.998416  1.000000\n"
     ]
    },
    {
     "data": {
      "image/png": "[encoded data removed]",
      "text/plain": [
       "<Figure size 1296x360 with 1 Axes>"
      ]
     },
     "metadata": {
      "needs_background": "light"
     },
     "output_type": "display_data"
    }
   ],
   "source": [
    "ult_contagios_prediction, coefs = ajuste_min_cuadrados(short_contagios['FECHA'],  short_contagios['LN_CONTAGIOS'], 1, 'PRED_CONTAGIOS')"
   ]
  },
  {
   "cell_type": "markdown",
   "metadata": {},
   "source": [
    "Vemos que obtenemos un valor muy fuerte para nuestra correlación, del mismo orden que la obtenida más arriba, sin necesidad de linealizar el comportamiento del neperiano.\n",
    "\n",
    "Intentar hacerlo con estos valores no sólo no redundaría en un beneficio a la hora de aplicar mínimos cuadrados, sino en lo contrario: un acarreo de error numérico que desviaría nuestras predicciones."
   ]
  },
  {
   "cell_type": "code",
   "execution_count": 73,
   "metadata": {
    "scrolled": true
   },
   "outputs": [
    {
     "data": {
      "text/html": [
       "<div>\n",
       "<style scoped>\n",
       "    .dataframe tbody tr th:only-of-type {\n",
       "        vertical-align: middle;\n",
       "    }\n",
       "\n",
       "    .dataframe tbody tr th {\n",
       "        vertical-align: top;\n",
       "    }\n",
       "\n",
       "    .dataframe thead th {\n",
       "        text-align: right;\n",
       "    }\n",
       "</style>\n",
       "<table border=\"1\" class=\"dataframe\">\n",
       "  <thead>\n",
       "    <tr style=\"text-align: right;\">\n",
       "      <th></th>\n",
       "      <th>PRED</th>\n",
       "    </tr>\n",
       "  </thead>\n",
       "  <tbody>\n",
       "    <tr>\n",
       "      <th>2020-03-24</th>\n",
       "      <td>41787.0</td>\n",
       "    </tr>\n",
       "    <tr>\n",
       "      <th>2020-03-25</th>\n",
       "      <td>50352.0</td>\n",
       "    </tr>\n",
       "    <tr>\n",
       "      <th>2020-03-26</th>\n",
       "      <td>60673.0</td>\n",
       "    </tr>\n",
       "    <tr>\n",
       "      <th>2020-03-27</th>\n",
       "      <td>73109.0</td>\n",
       "    </tr>\n",
       "    <tr>\n",
       "      <th>2020-03-28</th>\n",
       "      <td>88094.0</td>\n",
       "    </tr>\n",
       "  </tbody>\n",
       "</table>\n",
       "</div>"
      ],
      "text/plain": [
       "               PRED\n",
       "2020-03-24  41787.0\n",
       "2020-03-25  50352.0\n",
       "2020-03-26  60673.0\n",
       "2020-03-27  73109.0\n",
       "2020-03-28  88094.0"
      ]
     },
     "execution_count": 73,
     "metadata": {},
     "output_type": "execute_result"
    }
   ],
   "source": [
    "day_num_of_reference = short_contagios['FECHA'][-1]\n",
    "date_of_reference = short_contagios.index[0]\n",
    "arr_contagios_pred_final = prediccion(day_num_of_reference, date_of_reference, coefs, 1)\n",
    "arr_contagios_pred_final"
   ]
  },
  {
   "cell_type": "markdown",
   "metadata": {},
   "source": [
    "Como es fácil ver, estos valores parecen mucho más sensatos que los obtenidos anteriormente.\n",
    "\n",
    "Serán estos los que consideremos finalmente como valor seguro para nuestra predicción."
   ]
  },
  {
   "cell_type": "markdown",
   "metadata": {},
   "source": [
    "## 2. MUERTOS"
   ]
  },
  {
   "cell_type": "markdown",
   "metadata": {},
   "source": [
    "Pasamos ahora a comprobar los de los muertos:"
   ]
  },
  {
   "cell_type": "code",
   "execution_count": 74,
   "metadata": {},
   "outputs": [
    {
     "data": {
      "image/png": "[encoded data removed]",
      "text/plain": [
       "<Figure size 1080x360 with 1 Axes>"
      ]
     },
     "metadata": {
      "needs_background": "light"
     },
     "output_type": "display_data"
    }
   ],
   "source": [
    "plt.figure(figsize=(15,5))\n",
    "plt.plot(muertos['MUERTOS'], '-', color='orange');"
   ]
  },
  {
   "cell_type": "code",
   "execution_count": 75,
   "metadata": {
    "scrolled": true
   },
   "outputs": [
    {
     "data": {
      "image/png": "[encoded data removed]",
      "text/plain": [
       "<Figure size 1080x360 with 1 Axes>"
      ]
     },
     "metadata": {
      "needs_background": "light"
     },
     "output_type": "display_data"
    }
   ],
   "source": [
    "datos['ratio'] = datos['MUERTOS']/datos['CONTAGIOS']\n",
    "\n",
    "datos['ratio'].plot(figsize=(15,5));"
   ]
  },
  {
   "cell_type": "code",
   "execution_count": 76,
   "metadata": {},
   "outputs": [
    {
     "data": {
      "text/plain": [
       "<matplotlib.axes._subplots.AxesSubplot at 0x21dd88a9f98>"
      ]
     },
     "execution_count": 76,
     "metadata": {},
     "output_type": "execute_result"
    },
    {
     "data": {
      "image/png": "[encoded data removed]",
      "text/plain": [
       "<Figure size 1080x360 with 1 Axes>"
      ]
     },
     "metadata": {
      "needs_background": "light"
     },
     "output_type": "display_data"
    }
   ],
   "source": [
    "muertos['MUERTOS_DIARIOS'] = muertos['MUERTOS'].diff().fillna(0)/muertos['DIFER_DIAS']\n",
    "muertos['MUERTOS_DIARIOS'].plot(figsize = (15,5))"
   ]
  },
  {
   "cell_type": "code",
   "execution_count": 77,
   "metadata": {},
   "outputs": [
    {
     "data": {
      "image/png": "[encoded data removed]",
      "text/plain": [
       "<Figure size 1080x360 with 1 Axes>"
      ]
     },
     "metadata": {
      "needs_background": "light"
     },
     "output_type": "display_data"
    }
   ],
   "source": [
    "muertos['LN_MUERTOS'] = muertos['MUERTOS'].apply(lambda x: 0 if x == 0 else np.log(x))\n",
    "muertos[muertos['LN_MUERTOS'] != 0]['LN_MUERTOS'].plot(figsize=(15,5));"
   ]
  },
  {
   "cell_type": "code",
   "execution_count": 78,
   "metadata": {},
   "outputs": [],
   "source": [
    "date_list = [muertos.index[-1] + datetime.timedelta(days=x+1) for x in range(10)]"
   ]
  },
  {
   "cell_type": "code",
   "execution_count": 79,
   "metadata": {
    "scrolled": false
   },
   "outputs": [
    {
     "data": {
      "text/html": [
       "<div>\n",
       "<style scoped>\n",
       "    .dataframe tbody tr th:only-of-type {\n",
       "        vertical-align: middle;\n",
       "    }\n",
       "\n",
       "    .dataframe tbody tr th {\n",
       "        vertical-align: top;\n",
       "    }\n",
       "\n",
       "    .dataframe thead th {\n",
       "        text-align: right;\n",
       "    }\n",
       "</style>\n",
       "<table border=\"1\" class=\"dataframe\">\n",
       "  <thead>\n",
       "    <tr style=\"text-align: right;\">\n",
       "      <th></th>\n",
       "      <th>PRED</th>\n",
       "      <th>REAL</th>\n",
       "    </tr>\n",
       "  </thead>\n",
       "  <tbody>\n",
       "    <tr>\n",
       "      <th>PRED</th>\n",
       "      <td>1.000000</td>\n",
       "      <td>0.984825</td>\n",
       "    </tr>\n",
       "    <tr>\n",
       "      <th>REAL</th>\n",
       "      <td>0.984825</td>\n",
       "      <td>1.000000</td>\n",
       "    </tr>\n",
       "  </tbody>\n",
       "</table>\n",
       "</div>"
      ],
      "text/plain": [
       "          PRED      REAL\n",
       "PRED  1.000000  0.984825\n",
       "REAL  0.984825  1.000000"
      ]
     },
     "execution_count": 79,
     "metadata": {},
     "output_type": "execute_result"
    },
    {
     "data": {
      "image/png": "[encoded data removed]",
      "text/plain": [
       "<Figure size 1296x360 with 1 Axes>"
      ]
     },
     "metadata": {
      "needs_background": "light"
     },
     "output_type": "display_data"
    }
   ],
   "source": [
    "muertos_pol = muertos[muertos['MUERTOS'] != 0]\n",
    "day_range = (muertos_pol.index - muertos[muertos['MUERTOS']>0].index[0]).days\n",
    "\n",
    "coefs = np.polyfit(day_range, np.array(muertos_pol['LN_MUERTOS']) , 1)\n",
    "\n",
    "arr_muertos_pred = day_range * coefs[0] + coefs[1]\n",
    "    \n",
    "df_muertos_pred = pd.DataFrame(arr_muertos_pred, index = day_range)\n",
    "df_muertos_pred.rename({'FECHA':'PRED'}, axis=1, inplace = True)\n",
    "df_muertos_pred['REAL'] = muertos_pol.set_index(day_range)['LN_MUERTOS']\n",
    "df_muertos_pred.plot(figsize=(18,5));\n",
    "df_muertos_pred.corr()"
   ]
  },
  {
   "cell_type": "markdown",
   "metadata": {},
   "source": [
    "Pero, como podemos ver, el comportamiento de esta curva de nuevo no es lineal, sino que más bien presenta una pequeña curvatura que indica un exponente menor que 1.\n",
    "\n",
    "Vamos a calcular dicho exponente:"
   ]
  },
  {
   "cell_type": "markdown",
   "metadata": {},
   "source": [
    "Ahora que ya tenemos el coeficiente, corregimos:"
   ]
  },
  {
   "cell_type": "code",
   "execution_count": 80,
   "metadata": {},
   "outputs": [],
   "source": [
    "df_muertos_pred.drop('PRED', axis = 1, inplace = True)"
   ]
  },
  {
   "cell_type": "code",
   "execution_count": 81,
   "metadata": {},
   "outputs": [
    {
     "name": "stderr",
     "output_type": "stream",
     "text": [
      "C:\\ProgramData\\Anaconda3\\lib\\site-packages\\ipykernel_launcher.py:12: RuntimeWarning: divide by zero encountered in log\n",
      "  if sys.path[0] == '':\n"
     ]
    }
   ],
   "source": [
    "df_muertos_pred, factor = cols_para_calculos(df_muertos_pred, 'REAL', dates_in_index = False)"
   ]
  },
  {
   "cell_type": "code",
   "execution_count": 82,
   "metadata": {},
   "outputs": [
    {
     "data": {
      "text/html": [
       "<div>\n",
       "<style scoped>\n",
       "    .dataframe tbody tr th:only-of-type {\n",
       "        vertical-align: middle;\n",
       "    }\n",
       "\n",
       "    .dataframe tbody tr th {\n",
       "        vertical-align: top;\n",
       "    }\n",
       "\n",
       "    .dataframe thead th {\n",
       "        text-align: right;\n",
       "    }\n",
       "</style>\n",
       "<table border=\"1\" class=\"dataframe\">\n",
       "  <thead>\n",
       "    <tr style=\"text-align: right;\">\n",
       "      <th></th>\n",
       "      <th>REAL</th>\n",
       "      <th>FECHA</th>\n",
       "      <th>PARA_CALCULOS</th>\n",
       "      <th>LOG_FECHA_0</th>\n",
       "      <th>LOG_FECHA_1</th>\n",
       "      <th>DIF_FECHA</th>\n",
       "      <th>RATIO</th>\n",
       "      <th>RECTA</th>\n",
       "    </tr>\n",
       "    <tr>\n",
       "      <th>FECHA</th>\n",
       "      <th></th>\n",
       "      <th></th>\n",
       "      <th></th>\n",
       "      <th></th>\n",
       "      <th></th>\n",
       "      <th></th>\n",
       "      <th></th>\n",
       "      <th></th>\n",
       "    </tr>\n",
       "  </thead>\n",
       "  <tbody>\n",
       "    <tr>\n",
       "      <th>0</th>\n",
       "      <td>0.000000</td>\n",
       "      <td>0</td>\n",
       "      <td>-10.000000</td>\n",
       "      <td>-inf</td>\n",
       "      <td>NaN</td>\n",
       "      <td>NaN</td>\n",
       "      <td>NaN</td>\n",
       "      <td>0.000000</td>\n",
       "    </tr>\n",
       "    <tr>\n",
       "      <th>1</th>\n",
       "      <td>1.098612</td>\n",
       "      <td>1</td>\n",
       "      <td>0.094048</td>\n",
       "      <td>0.000000</td>\n",
       "      <td>0.000000</td>\n",
       "      <td>0.000000</td>\n",
       "      <td>inf</td>\n",
       "      <td>1.158855</td>\n",
       "    </tr>\n",
       "    <tr>\n",
       "      <th>2</th>\n",
       "      <td>1.609438</td>\n",
       "      <td>2</td>\n",
       "      <td>0.475885</td>\n",
       "      <td>0.693147</td>\n",
       "      <td>0.000000</td>\n",
       "      <td>0.693147</td>\n",
       "      <td>0.550875</td>\n",
       "      <td>2.108574</td>\n",
       "    </tr>\n",
       "    <tr>\n",
       "      <th>5</th>\n",
       "      <td>3.332205</td>\n",
       "      <td>5</td>\n",
       "      <td>1.203634</td>\n",
       "      <td>1.609438</td>\n",
       "      <td>0.693147</td>\n",
       "      <td>0.916291</td>\n",
       "      <td>0.794234</td>\n",
       "      <td>6.598572</td>\n",
       "    </tr>\n",
       "    <tr>\n",
       "      <th>6</th>\n",
       "      <td>3.583519</td>\n",
       "      <td>6</td>\n",
       "      <td>1.276345</td>\n",
       "      <td>1.791759</td>\n",
       "      <td>1.609438</td>\n",
       "      <td>0.182322</td>\n",
       "      <td>0.398807</td>\n",
       "      <td>7.395247</td>\n",
       "    </tr>\n",
       "    <tr>\n",
       "      <th>7</th>\n",
       "      <td>3.871201</td>\n",
       "      <td>7</td>\n",
       "      <td>1.353565</td>\n",
       "      <td>1.945910</td>\n",
       "      <td>1.791759</td>\n",
       "      <td>0.154151</td>\n",
       "      <td>0.500935</td>\n",
       "      <td>8.346891</td>\n",
       "    </tr>\n",
       "    <tr>\n",
       "      <th>8</th>\n",
       "      <td>4.430817</td>\n",
       "      <td>8</td>\n",
       "      <td>1.488584</td>\n",
       "      <td>2.079442</td>\n",
       "      <td>1.945910</td>\n",
       "      <td>0.133531</td>\n",
       "      <td>1.011142</td>\n",
       "      <td>10.314486</td>\n",
       "    </tr>\n",
       "    <tr>\n",
       "      <th>9</th>\n",
       "      <td>4.795791</td>\n",
       "      <td>9</td>\n",
       "      <td>1.567739</td>\n",
       "      <td>2.197225</td>\n",
       "      <td>2.079442</td>\n",
       "      <td>0.117783</td>\n",
       "      <td>0.672038</td>\n",
       "      <td>11.677156</td>\n",
       "    </tr>\n",
       "    <tr>\n",
       "      <th>10</th>\n",
       "      <td>4.912655</td>\n",
       "      <td>10</td>\n",
       "      <td>1.591815</td>\n",
       "      <td>2.302585</td>\n",
       "      <td>2.197225</td>\n",
       "      <td>0.105361</td>\n",
       "      <td>0.228510</td>\n",
       "      <td>12.126300</td>\n",
       "    </tr>\n",
       "    <tr>\n",
       "      <th>11</th>\n",
       "      <td>5.662960</td>\n",
       "      <td>11</td>\n",
       "      <td>1.733947</td>\n",
       "      <td>2.397895</td>\n",
       "      <td>2.302585</td>\n",
       "      <td>0.095310</td>\n",
       "      <td>1.491260</td>\n",
       "      <td>15.152833</td>\n",
       "    </tr>\n",
       "    <tr>\n",
       "      <th>12</th>\n",
       "      <td>5.733341</td>\n",
       "      <td>12</td>\n",
       "      <td>1.746298</td>\n",
       "      <td>2.484907</td>\n",
       "      <td>2.397895</td>\n",
       "      <td>0.087011</td>\n",
       "      <td>0.141955</td>\n",
       "      <td>15.449095</td>\n",
       "    </tr>\n",
       "    <tr>\n",
       "      <th>13</th>\n",
       "      <td>6.196444</td>\n",
       "      <td>13</td>\n",
       "      <td>1.823976</td>\n",
       "      <td>2.564949</td>\n",
       "      <td>2.484907</td>\n",
       "      <td>0.080043</td>\n",
       "      <td>0.970446</td>\n",
       "      <td>17.449647</td>\n",
       "    </tr>\n",
       "    <tr>\n",
       "      <th>14</th>\n",
       "      <td>6.393591</td>\n",
       "      <td>14</td>\n",
       "      <td>1.855296</td>\n",
       "      <td>2.639057</td>\n",
       "      <td>2.564949</td>\n",
       "      <td>0.074108</td>\n",
       "      <td>0.422633</td>\n",
       "      <td>18.327786</td>\n",
       "    </tr>\n",
       "    <tr>\n",
       "      <th>15</th>\n",
       "      <td>6.642487</td>\n",
       "      <td>15</td>\n",
       "      <td>1.893486</td>\n",
       "      <td>2.708050</td>\n",
       "      <td>2.639057</td>\n",
       "      <td>0.068993</td>\n",
       "      <td>0.553541</td>\n",
       "      <td>19.458552</td>\n",
       "    </tr>\n",
       "    <tr>\n",
       "      <th>16</th>\n",
       "      <td>6.909753</td>\n",
       "      <td>16</td>\n",
       "      <td>1.932934</td>\n",
       "      <td>2.772589</td>\n",
       "      <td>2.708050</td>\n",
       "      <td>0.064539</td>\n",
       "      <td>0.611224</td>\n",
       "      <td>20.699836</td>\n",
       "    </tr>\n",
       "    <tr>\n",
       "      <th>17</th>\n",
       "      <td>7.189922</td>\n",
       "      <td>17</td>\n",
       "      <td>1.972680</td>\n",
       "      <td>2.833213</td>\n",
       "      <td>2.772589</td>\n",
       "      <td>0.060625</td>\n",
       "      <td>0.655615</td>\n",
       "      <td>22.030624</td>\n",
       "    </tr>\n",
       "    <tr>\n",
       "      <th>18</th>\n",
       "      <td>7.450080</td>\n",
       "      <td>18</td>\n",
       "      <td>2.008225</td>\n",
       "      <td>2.890372</td>\n",
       "      <td>2.833213</td>\n",
       "      <td>0.057158</td>\n",
       "      <td>0.621857</td>\n",
       "      <td>23.293023</td>\n",
       "    </tr>\n",
       "    <tr>\n",
       "      <th>19</th>\n",
       "      <td>7.687997</td>\n",
       "      <td>19</td>\n",
       "      <td>2.039660</td>\n",
       "      <td>2.944439</td>\n",
       "      <td>2.890372</td>\n",
       "      <td>0.054067</td>\n",
       "      <td>0.581417</td>\n",
       "      <td>24.469643</td>\n",
       "    </tr>\n",
       "  </tbody>\n",
       "</table>\n",
       "</div>"
      ],
      "text/plain": [
       "           REAL  FECHA  PARA_CALCULOS  LOG_FECHA_0  LOG_FECHA_1  DIF_FECHA  \\\n",
       "FECHA                                                                        \n",
       "0      0.000000      0     -10.000000         -inf          NaN        NaN   \n",
       "1      1.098612      1       0.094048     0.000000     0.000000   0.000000   \n",
       "2      1.609438      2       0.475885     0.693147     0.000000   0.693147   \n",
       "5      3.332205      5       1.203634     1.609438     0.693147   0.916291   \n",
       "6      3.583519      6       1.276345     1.791759     1.609438   0.182322   \n",
       "7      3.871201      7       1.353565     1.945910     1.791759   0.154151   \n",
       "8      4.430817      8       1.488584     2.079442     1.945910   0.133531   \n",
       "9      4.795791      9       1.567739     2.197225     2.079442   0.117783   \n",
       "10     4.912655     10       1.591815     2.302585     2.197225   0.105361   \n",
       "11     5.662960     11       1.733947     2.397895     2.302585   0.095310   \n",
       "12     5.733341     12       1.746298     2.484907     2.397895   0.087011   \n",
       "13     6.196444     13       1.823976     2.564949     2.484907   0.080043   \n",
       "14     6.393591     14       1.855296     2.639057     2.564949   0.074108   \n",
       "15     6.642487     15       1.893486     2.708050     2.639057   0.068993   \n",
       "16     6.909753     16       1.932934     2.772589     2.708050   0.064539   \n",
       "17     7.189922     17       1.972680     2.833213     2.772589   0.060625   \n",
       "18     7.450080     18       2.008225     2.890372     2.833213   0.057158   \n",
       "19     7.687997     19       2.039660     2.944439     2.890372   0.054067   \n",
       "\n",
       "          RATIO      RECTA  \n",
       "FECHA                       \n",
       "0           NaN   0.000000  \n",
       "1           inf   1.158855  \n",
       "2      0.550875   2.108574  \n",
       "5      0.794234   6.598572  \n",
       "6      0.398807   7.395247  \n",
       "7      0.500935   8.346891  \n",
       "8      1.011142  10.314486  \n",
       "9      0.672038  11.677156  \n",
       "10     0.228510  12.126300  \n",
       "11     1.491260  15.152833  \n",
       "12     0.141955  15.449095  \n",
       "13     0.970446  17.449647  \n",
       "14     0.422633  18.327786  \n",
       "15     0.553541  19.458552  \n",
       "16     0.611224  20.699836  \n",
       "17     0.655615  22.030624  \n",
       "18     0.621857  23.293023  \n",
       "19     0.581417  24.469643  "
      ]
     },
     "execution_count": 82,
     "metadata": {},
     "output_type": "execute_result"
    }
   ],
   "source": [
    "df_muertos_pred"
   ]
  },
  {
   "cell_type": "code",
   "execution_count": 83,
   "metadata": {},
   "outputs": [
    {
     "name": "stdout",
     "output_type": "stream",
     "text": [
      "           PRED     RECTA\n",
      "PRED   1.000000  0.998694\n",
      "RECTA  0.998694  1.000000\n"
     ]
    },
    {
     "data": {
      "image/png": "[encoded data removed]",
      "text/plain": [
       "<Figure size 1296x360 with 1 Axes>"
      ]
     },
     "metadata": {
      "needs_background": "light"
     },
     "output_type": "display_data"
    }
   ],
   "source": [
    "muertos_pol = muertos[muertos['MUERTOS'] != 0]\n",
    "\n",
    "other_prediction, coefs = ajuste_min_cuadrados(df_muertos_pred['FECHA'], df_muertos_pred['RECTA'], factor, 'PRED_MUERTES')"
   ]
  },
  {
   "cell_type": "markdown",
   "metadata": {},
   "source": [
    "Ahora que ya tenemos las predicciones, deshacemos:"
   ]
  },
  {
   "cell_type": "code",
   "execution_count": 84,
   "metadata": {},
   "outputs": [],
   "source": [
    "other_prediction['FECHA'] = muertos[muertos['MUERTOS'] != 0].index\n",
    "other_prediction.set_index('FECHA', inplace = True)"
   ]
  },
  {
   "cell_type": "markdown",
   "metadata": {},
   "source": [
    "Y, finalmente, tendremos ya el método ajustado y podemos insertarlo en nuestro DataFrame y calcular errores:"
   ]
  },
  {
   "cell_type": "code",
   "execution_count": 85,
   "metadata": {},
   "outputs": [
    {
     "data": {
      "text/html": [
       "<div>\n",
       "<style scoped>\n",
       "    .dataframe tbody tr th:only-of-type {\n",
       "        vertical-align: middle;\n",
       "    }\n",
       "\n",
       "    .dataframe tbody tr th {\n",
       "        vertical-align: top;\n",
       "    }\n",
       "\n",
       "    .dataframe thead th {\n",
       "        text-align: right;\n",
       "    }\n",
       "</style>\n",
       "<table border=\"1\" class=\"dataframe\">\n",
       "  <thead>\n",
       "    <tr style=\"text-align: right;\">\n",
       "      <th></th>\n",
       "      <th>MUERTOS</th>\n",
       "      <th>DIFER_DIAS</th>\n",
       "      <th>MUERTOS_DIARIOS</th>\n",
       "      <th>LN_MUERTOS</th>\n",
       "      <th>PRED</th>\n",
       "      <th>ERROR_ABS</th>\n",
       "      <th>MAE</th>\n",
       "    </tr>\n",
       "    <tr>\n",
       "      <th>FECHA</th>\n",
       "      <th></th>\n",
       "      <th></th>\n",
       "      <th></th>\n",
       "      <th></th>\n",
       "      <th></th>\n",
       "      <th></th>\n",
       "      <th></th>\n",
       "    </tr>\n",
       "  </thead>\n",
       "  <tbody>\n",
       "    <tr>\n",
       "      <th>2020-03-14</th>\n",
       "      <td>136</td>\n",
       "      <td>1</td>\n",
       "      <td>15.0</td>\n",
       "      <td>4.912655</td>\n",
       "      <td>166.0</td>\n",
       "      <td>30.0</td>\n",
       "      <td>0.220588</td>\n",
       "    </tr>\n",
       "    <tr>\n",
       "      <th>2020-03-15</th>\n",
       "      <td>288</td>\n",
       "      <td>1</td>\n",
       "      <td>152.0</td>\n",
       "      <td>5.662960</td>\n",
       "      <td>229.0</td>\n",
       "      <td>59.0</td>\n",
       "      <td>0.204861</td>\n",
       "    </tr>\n",
       "    <tr>\n",
       "      <th>2020-03-16</th>\n",
       "      <td>309</td>\n",
       "      <td>1</td>\n",
       "      <td>21.0</td>\n",
       "      <td>5.733341</td>\n",
       "      <td>314.0</td>\n",
       "      <td>5.0</td>\n",
       "      <td>0.016181</td>\n",
       "    </tr>\n",
       "    <tr>\n",
       "      <th>2020-03-17</th>\n",
       "      <td>491</td>\n",
       "      <td>1</td>\n",
       "      <td>182.0</td>\n",
       "      <td>6.196444</td>\n",
       "      <td>427.0</td>\n",
       "      <td>64.0</td>\n",
       "      <td>0.130346</td>\n",
       "    </tr>\n",
       "    <tr>\n",
       "      <th>2020-03-18</th>\n",
       "      <td>598</td>\n",
       "      <td>1</td>\n",
       "      <td>107.0</td>\n",
       "      <td>6.393591</td>\n",
       "      <td>574.0</td>\n",
       "      <td>24.0</td>\n",
       "      <td>0.040134</td>\n",
       "    </tr>\n",
       "    <tr>\n",
       "      <th>2020-03-19</th>\n",
       "      <td>767</td>\n",
       "      <td>1</td>\n",
       "      <td>169.0</td>\n",
       "      <td>6.642487</td>\n",
       "      <td>767.0</td>\n",
       "      <td>0.0</td>\n",
       "      <td>0.000000</td>\n",
       "    </tr>\n",
       "    <tr>\n",
       "      <th>2020-03-20</th>\n",
       "      <td>1002</td>\n",
       "      <td>1</td>\n",
       "      <td>235.0</td>\n",
       "      <td>6.909753</td>\n",
       "      <td>1018.0</td>\n",
       "      <td>16.0</td>\n",
       "      <td>0.015968</td>\n",
       "    </tr>\n",
       "    <tr>\n",
       "      <th>2020-03-21</th>\n",
       "      <td>1326</td>\n",
       "      <td>1</td>\n",
       "      <td>324.0</td>\n",
       "      <td>7.189922</td>\n",
       "      <td>1341.0</td>\n",
       "      <td>15.0</td>\n",
       "      <td>0.011312</td>\n",
       "    </tr>\n",
       "    <tr>\n",
       "      <th>2020-03-22</th>\n",
       "      <td>1720</td>\n",
       "      <td>1</td>\n",
       "      <td>394.0</td>\n",
       "      <td>7.450080</td>\n",
       "      <td>1758.0</td>\n",
       "      <td>38.0</td>\n",
       "      <td>0.022093</td>\n",
       "    </tr>\n",
       "    <tr>\n",
       "      <th>2020-03-23</th>\n",
       "      <td>2182</td>\n",
       "      <td>1</td>\n",
       "      <td>462.0</td>\n",
       "      <td>7.687997</td>\n",
       "      <td>2290.0</td>\n",
       "      <td>108.0</td>\n",
       "      <td>0.049496</td>\n",
       "    </tr>\n",
       "  </tbody>\n",
       "</table>\n",
       "</div>"
      ],
      "text/plain": [
       "            MUERTOS  DIFER_DIAS  MUERTOS_DIARIOS  LN_MUERTOS    PRED  \\\n",
       "FECHA                                                                  \n",
       "2020-03-14      136           1             15.0    4.912655   166.0   \n",
       "2020-03-15      288           1            152.0    5.662960   229.0   \n",
       "2020-03-16      309           1             21.0    5.733341   314.0   \n",
       "2020-03-17      491           1            182.0    6.196444   427.0   \n",
       "2020-03-18      598           1            107.0    6.393591   574.0   \n",
       "2020-03-19      767           1            169.0    6.642487   767.0   \n",
       "2020-03-20     1002           1            235.0    6.909753  1018.0   \n",
       "2020-03-21     1326           1            324.0    7.189922  1341.0   \n",
       "2020-03-22     1720           1            394.0    7.450080  1758.0   \n",
       "2020-03-23     2182           1            462.0    7.687997  2290.0   \n",
       "\n",
       "            ERROR_ABS       MAE  \n",
       "FECHA                            \n",
       "2020-03-14       30.0  0.220588  \n",
       "2020-03-15       59.0  0.204861  \n",
       "2020-03-16        5.0  0.016181  \n",
       "2020-03-17       64.0  0.130346  \n",
       "2020-03-18       24.0  0.040134  \n",
       "2020-03-19        0.0  0.000000  \n",
       "2020-03-20       16.0  0.015968  \n",
       "2020-03-21       15.0  0.011312  \n",
       "2020-03-22       38.0  0.022093  \n",
       "2020-03-23      108.0  0.049496  "
      ]
     },
     "execution_count": 85,
     "metadata": {},
     "output_type": "execute_result"
    }
   ],
   "source": [
    "muertos['PRED'] = other_prediction['PRED_MUERTES']\n",
    "muertos['PRED'].fillna(0, inplace = True)\n",
    "muertos['ERROR_ABS'] = abs(muertos['PRED'] - muertos['MUERTOS'])\n",
    "muertos['MAE'] = (abs(muertos['PRED'] - muertos['MUERTOS'])/muertos['MUERTOS']).fillna(0)\n",
    "muertos.tail(10)"
   ]
  },
  {
   "cell_type": "markdown",
   "metadata": {},
   "source": [
    "Como podemos ver, en este caso el ajuste es muy bueno. Vamos a extrapolar hacia el futuro, para predecir el total de muertos a lo largo de los próximos 5 días:"
   ]
  },
  {
   "cell_type": "code",
   "execution_count": 86,
   "metadata": {
    "scrolled": false
   },
   "outputs": [
    {
     "data": {
      "text/html": [
       "<div>\n",
       "<style scoped>\n",
       "    .dataframe tbody tr th:only-of-type {\n",
       "        vertical-align: middle;\n",
       "    }\n",
       "\n",
       "    .dataframe tbody tr th {\n",
       "        vertical-align: top;\n",
       "    }\n",
       "\n",
       "    .dataframe thead th {\n",
       "        text-align: right;\n",
       "    }\n",
       "</style>\n",
       "<table border=\"1\" class=\"dataframe\">\n",
       "  <thead>\n",
       "    <tr style=\"text-align: right;\">\n",
       "      <th></th>\n",
       "      <th>PRED</th>\n",
       "    </tr>\n",
       "  </thead>\n",
       "  <tbody>\n",
       "    <tr>\n",
       "      <th>2020-03-24</th>\n",
       "      <td>2970.0</td>\n",
       "    </tr>\n",
       "    <tr>\n",
       "      <th>2020-03-25</th>\n",
       "      <td>3833.0</td>\n",
       "    </tr>\n",
       "    <tr>\n",
       "      <th>2020-03-26</th>\n",
       "      <td>4924.0</td>\n",
       "    </tr>\n",
       "    <tr>\n",
       "      <th>2020-03-27</th>\n",
       "      <td>6301.0</td>\n",
       "    </tr>\n",
       "    <tr>\n",
       "      <th>2020-03-28</th>\n",
       "      <td>8031.0</td>\n",
       "    </tr>\n",
       "  </tbody>\n",
       "</table>\n",
       "</div>"
      ],
      "text/plain": [
       "              PRED\n",
       "2020-03-24  2970.0\n",
       "2020-03-25  3833.0\n",
       "2020-03-26  4924.0\n",
       "2020-03-27  6301.0\n",
       "2020-03-28  8031.0"
      ]
     },
     "execution_count": 86,
     "metadata": {},
     "output_type": "execute_result"
    }
   ],
   "source": [
    "day_ref = df_muertos_pred.index[-1]\n",
    "x_range_ext = np.array(range(day_ref + 1, day_ref + 6))\n",
    "index = [other_prediction.index[0] + datetime.timedelta(int(x)) for x in x_range_ext]\n",
    "\n",
    "arr_muertos_factor_pred = x_range_ext * coefs[0] + coefs[1]\n",
    "\n",
    "arr_muertos_pred = np.round(np.exp(arr_muertos_factor_pred**factor))\n",
    "arr_muertos_pred = pd.DataFrame(arr_muertos_pred, columns = ['PRED'], index = index)\n",
    "arr_muertos_pred"
   ]
  },
  {
   "cell_type": "code",
   "execution_count": 87,
   "metadata": {},
   "outputs": [
    {
     "data": {
      "text/html": [
       "<div>\n",
       "<style scoped>\n",
       "    .dataframe tbody tr th:only-of-type {\n",
       "        vertical-align: middle;\n",
       "    }\n",
       "\n",
       "    .dataframe tbody tr th {\n",
       "        vertical-align: top;\n",
       "    }\n",
       "\n",
       "    .dataframe thead th {\n",
       "        text-align: right;\n",
       "    }\n",
       "</style>\n",
       "<table border=\"1\" class=\"dataframe\">\n",
       "  <thead>\n",
       "    <tr style=\"text-align: right;\">\n",
       "      <th></th>\n",
       "      <th>REAL</th>\n",
       "      <th>FECHA</th>\n",
       "      <th>PARA_CALCULOS</th>\n",
       "      <th>LOG_FECHA_0</th>\n",
       "      <th>LOG_FECHA_1</th>\n",
       "      <th>DIF_FECHA</th>\n",
       "      <th>RATIO</th>\n",
       "      <th>RECTA</th>\n",
       "    </tr>\n",
       "    <tr>\n",
       "      <th>FECHA</th>\n",
       "      <th></th>\n",
       "      <th></th>\n",
       "      <th></th>\n",
       "      <th></th>\n",
       "      <th></th>\n",
       "      <th></th>\n",
       "      <th></th>\n",
       "      <th></th>\n",
       "    </tr>\n",
       "  </thead>\n",
       "  <tbody>\n",
       "    <tr>\n",
       "      <th>0</th>\n",
       "      <td>0.000000</td>\n",
       "      <td>0</td>\n",
       "      <td>-10.000000</td>\n",
       "      <td>-inf</td>\n",
       "      <td>NaN</td>\n",
       "      <td>NaN</td>\n",
       "      <td>NaN</td>\n",
       "      <td>0.000000</td>\n",
       "    </tr>\n",
       "    <tr>\n",
       "      <th>1</th>\n",
       "      <td>1.098612</td>\n",
       "      <td>1</td>\n",
       "      <td>0.094048</td>\n",
       "      <td>0.000000</td>\n",
       "      <td>0.000000</td>\n",
       "      <td>0.000000</td>\n",
       "      <td>inf</td>\n",
       "      <td>1.158855</td>\n",
       "    </tr>\n",
       "    <tr>\n",
       "      <th>2</th>\n",
       "      <td>1.609438</td>\n",
       "      <td>2</td>\n",
       "      <td>0.475885</td>\n",
       "      <td>0.693147</td>\n",
       "      <td>0.000000</td>\n",
       "      <td>0.693147</td>\n",
       "      <td>0.550875</td>\n",
       "      <td>2.108574</td>\n",
       "    </tr>\n",
       "    <tr>\n",
       "      <th>5</th>\n",
       "      <td>3.332205</td>\n",
       "      <td>5</td>\n",
       "      <td>1.203634</td>\n",
       "      <td>1.609438</td>\n",
       "      <td>0.693147</td>\n",
       "      <td>0.916291</td>\n",
       "      <td>0.794234</td>\n",
       "      <td>6.598572</td>\n",
       "    </tr>\n",
       "    <tr>\n",
       "      <th>6</th>\n",
       "      <td>3.583519</td>\n",
       "      <td>6</td>\n",
       "      <td>1.276345</td>\n",
       "      <td>1.791759</td>\n",
       "      <td>1.609438</td>\n",
       "      <td>0.182322</td>\n",
       "      <td>0.398807</td>\n",
       "      <td>7.395247</td>\n",
       "    </tr>\n",
       "    <tr>\n",
       "      <th>7</th>\n",
       "      <td>3.871201</td>\n",
       "      <td>7</td>\n",
       "      <td>1.353565</td>\n",
       "      <td>1.945910</td>\n",
       "      <td>1.791759</td>\n",
       "      <td>0.154151</td>\n",
       "      <td>0.500935</td>\n",
       "      <td>8.346891</td>\n",
       "    </tr>\n",
       "    <tr>\n",
       "      <th>8</th>\n",
       "      <td>4.430817</td>\n",
       "      <td>8</td>\n",
       "      <td>1.488584</td>\n",
       "      <td>2.079442</td>\n",
       "      <td>1.945910</td>\n",
       "      <td>0.133531</td>\n",
       "      <td>1.011142</td>\n",
       "      <td>10.314486</td>\n",
       "    </tr>\n",
       "    <tr>\n",
       "      <th>9</th>\n",
       "      <td>4.795791</td>\n",
       "      <td>9</td>\n",
       "      <td>1.567739</td>\n",
       "      <td>2.197225</td>\n",
       "      <td>2.079442</td>\n",
       "      <td>0.117783</td>\n",
       "      <td>0.672038</td>\n",
       "      <td>11.677156</td>\n",
       "    </tr>\n",
       "    <tr>\n",
       "      <th>10</th>\n",
       "      <td>4.912655</td>\n",
       "      <td>10</td>\n",
       "      <td>1.591815</td>\n",
       "      <td>2.302585</td>\n",
       "      <td>2.197225</td>\n",
       "      <td>0.105361</td>\n",
       "      <td>0.228510</td>\n",
       "      <td>12.126300</td>\n",
       "    </tr>\n",
       "    <tr>\n",
       "      <th>11</th>\n",
       "      <td>5.662960</td>\n",
       "      <td>11</td>\n",
       "      <td>1.733947</td>\n",
       "      <td>2.397895</td>\n",
       "      <td>2.302585</td>\n",
       "      <td>0.095310</td>\n",
       "      <td>1.491260</td>\n",
       "      <td>15.152833</td>\n",
       "    </tr>\n",
       "    <tr>\n",
       "      <th>12</th>\n",
       "      <td>5.733341</td>\n",
       "      <td>12</td>\n",
       "      <td>1.746298</td>\n",
       "      <td>2.484907</td>\n",
       "      <td>2.397895</td>\n",
       "      <td>0.087011</td>\n",
       "      <td>0.141955</td>\n",
       "      <td>15.449095</td>\n",
       "    </tr>\n",
       "    <tr>\n",
       "      <th>13</th>\n",
       "      <td>6.196444</td>\n",
       "      <td>13</td>\n",
       "      <td>1.823976</td>\n",
       "      <td>2.564949</td>\n",
       "      <td>2.484907</td>\n",
       "      <td>0.080043</td>\n",
       "      <td>0.970446</td>\n",
       "      <td>17.449647</td>\n",
       "    </tr>\n",
       "    <tr>\n",
       "      <th>14</th>\n",
       "      <td>6.393591</td>\n",
       "      <td>14</td>\n",
       "      <td>1.855296</td>\n",
       "      <td>2.639057</td>\n",
       "      <td>2.564949</td>\n",
       "      <td>0.074108</td>\n",
       "      <td>0.422633</td>\n",
       "      <td>18.327786</td>\n",
       "    </tr>\n",
       "    <tr>\n",
       "      <th>15</th>\n",
       "      <td>6.642487</td>\n",
       "      <td>15</td>\n",
       "      <td>1.893486</td>\n",
       "      <td>2.708050</td>\n",
       "      <td>2.639057</td>\n",
       "      <td>0.068993</td>\n",
       "      <td>0.553541</td>\n",
       "      <td>19.458552</td>\n",
       "    </tr>\n",
       "    <tr>\n",
       "      <th>16</th>\n",
       "      <td>6.909753</td>\n",
       "      <td>16</td>\n",
       "      <td>1.932934</td>\n",
       "      <td>2.772589</td>\n",
       "      <td>2.708050</td>\n",
       "      <td>0.064539</td>\n",
       "      <td>0.611224</td>\n",
       "      <td>20.699836</td>\n",
       "    </tr>\n",
       "    <tr>\n",
       "      <th>17</th>\n",
       "      <td>7.189922</td>\n",
       "      <td>17</td>\n",
       "      <td>1.972680</td>\n",
       "      <td>2.833213</td>\n",
       "      <td>2.772589</td>\n",
       "      <td>0.060625</td>\n",
       "      <td>0.655615</td>\n",
       "      <td>22.030624</td>\n",
       "    </tr>\n",
       "    <tr>\n",
       "      <th>18</th>\n",
       "      <td>7.450080</td>\n",
       "      <td>18</td>\n",
       "      <td>2.008225</td>\n",
       "      <td>2.890372</td>\n",
       "      <td>2.833213</td>\n",
       "      <td>0.057158</td>\n",
       "      <td>0.621857</td>\n",
       "      <td>23.293023</td>\n",
       "    </tr>\n",
       "    <tr>\n",
       "      <th>19</th>\n",
       "      <td>7.687997</td>\n",
       "      <td>19</td>\n",
       "      <td>2.039660</td>\n",
       "      <td>2.944439</td>\n",
       "      <td>2.890372</td>\n",
       "      <td>0.054067</td>\n",
       "      <td>0.581417</td>\n",
       "      <td>24.469643</td>\n",
       "    </tr>\n",
       "  </tbody>\n",
       "</table>\n",
       "</div>"
      ],
      "text/plain": [
       "           REAL  FECHA  PARA_CALCULOS  LOG_FECHA_0  LOG_FECHA_1  DIF_FECHA  \\\n",
       "FECHA                                                                        \n",
       "0      0.000000      0     -10.000000         -inf          NaN        NaN   \n",
       "1      1.098612      1       0.094048     0.000000     0.000000   0.000000   \n",
       "2      1.609438      2       0.475885     0.693147     0.000000   0.693147   \n",
       "5      3.332205      5       1.203634     1.609438     0.693147   0.916291   \n",
       "6      3.583519      6       1.276345     1.791759     1.609438   0.182322   \n",
       "7      3.871201      7       1.353565     1.945910     1.791759   0.154151   \n",
       "8      4.430817      8       1.488584     2.079442     1.945910   0.133531   \n",
       "9      4.795791      9       1.567739     2.197225     2.079442   0.117783   \n",
       "10     4.912655     10       1.591815     2.302585     2.197225   0.105361   \n",
       "11     5.662960     11       1.733947     2.397895     2.302585   0.095310   \n",
       "12     5.733341     12       1.746298     2.484907     2.397895   0.087011   \n",
       "13     6.196444     13       1.823976     2.564949     2.484907   0.080043   \n",
       "14     6.393591     14       1.855296     2.639057     2.564949   0.074108   \n",
       "15     6.642487     15       1.893486     2.708050     2.639057   0.068993   \n",
       "16     6.909753     16       1.932934     2.772589     2.708050   0.064539   \n",
       "17     7.189922     17       1.972680     2.833213     2.772589   0.060625   \n",
       "18     7.450080     18       2.008225     2.890372     2.833213   0.057158   \n",
       "19     7.687997     19       2.039660     2.944439     2.890372   0.054067   \n",
       "\n",
       "          RATIO      RECTA  \n",
       "FECHA                       \n",
       "0           NaN   0.000000  \n",
       "1           inf   1.158855  \n",
       "2      0.550875   2.108574  \n",
       "5      0.794234   6.598572  \n",
       "6      0.398807   7.395247  \n",
       "7      0.500935   8.346891  \n",
       "8      1.011142  10.314486  \n",
       "9      0.672038  11.677156  \n",
       "10     0.228510  12.126300  \n",
       "11     1.491260  15.152833  \n",
       "12     0.141955  15.449095  \n",
       "13     0.970446  17.449647  \n",
       "14     0.422633  18.327786  \n",
       "15     0.553541  19.458552  \n",
       "16     0.611224  20.699836  \n",
       "17     0.655615  22.030624  \n",
       "18     0.621857  23.293023  \n",
       "19     0.581417  24.469643  "
      ]
     },
     "execution_count": 87,
     "metadata": {},
     "output_type": "execute_result"
    }
   ],
   "source": [
    "df_muertos_pred"
   ]
  },
  {
   "cell_type": "code",
   "execution_count": 89,
   "metadata": {},
   "outputs": [
    {
     "data": {
      "text/html": [
       "<div>\n",
       "<style scoped>\n",
       "    .dataframe tbody tr th:only-of-type {\n",
       "        vertical-align: middle;\n",
       "    }\n",
       "\n",
       "    .dataframe tbody tr th {\n",
       "        vertical-align: top;\n",
       "    }\n",
       "\n",
       "    .dataframe thead th {\n",
       "        text-align: right;\n",
       "    }\n",
       "</style>\n",
       "<table border=\"1\" class=\"dataframe\">\n",
       "  <thead>\n",
       "    <tr style=\"text-align: right;\">\n",
       "      <th></th>\n",
       "      <th>PRED</th>\n",
       "    </tr>\n",
       "  </thead>\n",
       "  <tbody>\n",
       "    <tr>\n",
       "      <th>2020-03-24</th>\n",
       "      <td>2970.0</td>\n",
       "    </tr>\n",
       "    <tr>\n",
       "      <th>2020-03-25</th>\n",
       "      <td>3833.0</td>\n",
       "    </tr>\n",
       "    <tr>\n",
       "      <th>2020-03-26</th>\n",
       "      <td>4924.0</td>\n",
       "    </tr>\n",
       "    <tr>\n",
       "      <th>2020-03-27</th>\n",
       "      <td>6301.0</td>\n",
       "    </tr>\n",
       "    <tr>\n",
       "      <th>2020-03-28</th>\n",
       "      <td>8031.0</td>\n",
       "    </tr>\n",
       "  </tbody>\n",
       "</table>\n",
       "</div>"
      ],
      "text/plain": [
       "              PRED\n",
       "2020-03-24  2970.0\n",
       "2020-03-25  3833.0\n",
       "2020-03-26  4924.0\n",
       "2020-03-27  6301.0\n",
       "2020-03-28  8031.0"
      ]
     },
     "execution_count": 89,
     "metadata": {},
     "output_type": "execute_result"
    }
   ],
   "source": [
    "day_num_of_reference = df_muertos_pred.index[-1]\n",
    "date_of_reference = muertos[muertos['MUERTOS'] != 0].index[0]\n",
    "\n",
    "arr_muertos_pred = prediccion(day_num_of_reference, date_of_reference, coefs, factor)\n",
    "arr_muertos_pred"
   ]
  },
  {
   "cell_type": "markdown",
   "metadata": {},
   "source": [
    "Y, una vez teniendo ya la predicción de los muertos totales, podemos añadir al DataFrame y calcular también la diferencia diaria:\n",
    "\n",
    "Resaltar que, para el primer valor predicho de muertos diarios, el número puede estar ligeramente sobreestimado por la diferencia de 65 personas existente entre la predicción y el número real de muertos para la fecha del día de hoy (22/03/2020).\n",
    "\n",
    "El resto de valores sí deberían estar en la línea del comportamiento futuro.\n",
    "\n",
    "Como se puede ver, la evolución es ciertamente preocupante:"
   ]
  },
  {
   "cell_type": "code",
   "execution_count": 90,
   "metadata": {},
   "outputs": [
    {
     "data": {
      "text/html": [
       "<div>\n",
       "<style scoped>\n",
       "    .dataframe tbody tr th:only-of-type {\n",
       "        vertical-align: middle;\n",
       "    }\n",
       "\n",
       "    .dataframe tbody tr th {\n",
       "        vertical-align: top;\n",
       "    }\n",
       "\n",
       "    .dataframe thead th {\n",
       "        text-align: right;\n",
       "    }\n",
       "</style>\n",
       "<table border=\"1\" class=\"dataframe\">\n",
       "  <thead>\n",
       "    <tr style=\"text-align: right;\">\n",
       "      <th></th>\n",
       "      <th>MUERTOS</th>\n",
       "      <th>DIFER_DIAS</th>\n",
       "      <th>MUERTOS_DIARIOS</th>\n",
       "      <th>LN_MUERTOS</th>\n",
       "      <th>PRED</th>\n",
       "      <th>ERROR_ABS</th>\n",
       "      <th>MAE</th>\n",
       "    </tr>\n",
       "  </thead>\n",
       "  <tbody>\n",
       "    <tr>\n",
       "      <th>2020-03-19</th>\n",
       "      <td>767.0</td>\n",
       "      <td>1.0</td>\n",
       "      <td>169.0</td>\n",
       "      <td>6.642487</td>\n",
       "      <td>767.0</td>\n",
       "      <td>0.0</td>\n",
       "      <td>0.000000</td>\n",
       "    </tr>\n",
       "    <tr>\n",
       "      <th>2020-03-20</th>\n",
       "      <td>1002.0</td>\n",
       "      <td>1.0</td>\n",
       "      <td>235.0</td>\n",
       "      <td>6.909753</td>\n",
       "      <td>1018.0</td>\n",
       "      <td>16.0</td>\n",
       "      <td>0.015968</td>\n",
       "    </tr>\n",
       "    <tr>\n",
       "      <th>2020-03-21</th>\n",
       "      <td>1326.0</td>\n",
       "      <td>1.0</td>\n",
       "      <td>324.0</td>\n",
       "      <td>7.189922</td>\n",
       "      <td>1341.0</td>\n",
       "      <td>15.0</td>\n",
       "      <td>0.011312</td>\n",
       "    </tr>\n",
       "    <tr>\n",
       "      <th>2020-03-22</th>\n",
       "      <td>1720.0</td>\n",
       "      <td>1.0</td>\n",
       "      <td>394.0</td>\n",
       "      <td>7.450080</td>\n",
       "      <td>1758.0</td>\n",
       "      <td>38.0</td>\n",
       "      <td>0.022093</td>\n",
       "    </tr>\n",
       "    <tr>\n",
       "      <th>2020-03-23</th>\n",
       "      <td>2182.0</td>\n",
       "      <td>1.0</td>\n",
       "      <td>462.0</td>\n",
       "      <td>7.687997</td>\n",
       "      <td>2290.0</td>\n",
       "      <td>108.0</td>\n",
       "      <td>0.049496</td>\n",
       "    </tr>\n",
       "    <tr>\n",
       "      <th>2020-03-24</th>\n",
       "      <td>NaN</td>\n",
       "      <td>NaN</td>\n",
       "      <td>788.0</td>\n",
       "      <td>NaN</td>\n",
       "      <td>2970.0</td>\n",
       "      <td>NaN</td>\n",
       "      <td>NaN</td>\n",
       "    </tr>\n",
       "    <tr>\n",
       "      <th>2020-03-25</th>\n",
       "      <td>NaN</td>\n",
       "      <td>NaN</td>\n",
       "      <td>863.0</td>\n",
       "      <td>NaN</td>\n",
       "      <td>3833.0</td>\n",
       "      <td>NaN</td>\n",
       "      <td>NaN</td>\n",
       "    </tr>\n",
       "    <tr>\n",
       "      <th>2020-03-26</th>\n",
       "      <td>NaN</td>\n",
       "      <td>NaN</td>\n",
       "      <td>1091.0</td>\n",
       "      <td>NaN</td>\n",
       "      <td>4924.0</td>\n",
       "      <td>NaN</td>\n",
       "      <td>NaN</td>\n",
       "    </tr>\n",
       "    <tr>\n",
       "      <th>2020-03-27</th>\n",
       "      <td>NaN</td>\n",
       "      <td>NaN</td>\n",
       "      <td>1377.0</td>\n",
       "      <td>NaN</td>\n",
       "      <td>6301.0</td>\n",
       "      <td>NaN</td>\n",
       "      <td>NaN</td>\n",
       "    </tr>\n",
       "    <tr>\n",
       "      <th>2020-03-28</th>\n",
       "      <td>NaN</td>\n",
       "      <td>NaN</td>\n",
       "      <td>1730.0</td>\n",
       "      <td>NaN</td>\n",
       "      <td>8031.0</td>\n",
       "      <td>NaN</td>\n",
       "      <td>NaN</td>\n",
       "    </tr>\n",
       "  </tbody>\n",
       "</table>\n",
       "</div>"
      ],
      "text/plain": [
       "            MUERTOS  DIFER_DIAS  MUERTOS_DIARIOS  LN_MUERTOS    PRED  \\\n",
       "2020-03-19    767.0         1.0            169.0    6.642487   767.0   \n",
       "2020-03-20   1002.0         1.0            235.0    6.909753  1018.0   \n",
       "2020-03-21   1326.0         1.0            324.0    7.189922  1341.0   \n",
       "2020-03-22   1720.0         1.0            394.0    7.450080  1758.0   \n",
       "2020-03-23   2182.0         1.0            462.0    7.687997  2290.0   \n",
       "2020-03-24      NaN         NaN            788.0         NaN  2970.0   \n",
       "2020-03-25      NaN         NaN            863.0         NaN  3833.0   \n",
       "2020-03-26      NaN         NaN           1091.0         NaN  4924.0   \n",
       "2020-03-27      NaN         NaN           1377.0         NaN  6301.0   \n",
       "2020-03-28      NaN         NaN           1730.0         NaN  8031.0   \n",
       "\n",
       "            ERROR_ABS       MAE  \n",
       "2020-03-19        0.0  0.000000  \n",
       "2020-03-20       16.0  0.015968  \n",
       "2020-03-21       15.0  0.011312  \n",
       "2020-03-22       38.0  0.022093  \n",
       "2020-03-23      108.0  0.049496  \n",
       "2020-03-24        NaN       NaN  \n",
       "2020-03-25        NaN       NaN  \n",
       "2020-03-26        NaN       NaN  \n",
       "2020-03-27        NaN       NaN  \n",
       "2020-03-28        NaN       NaN  "
      ]
     },
     "execution_count": 90,
     "metadata": {},
     "output_type": "execute_result"
    }
   ],
   "source": [
    "muertos = muertos.append(arr_muertos_pred, sort = False)\n",
    "muertos.loc[muertos['MUERTOS_DIARIOS'].isna(), 'MUERTOS_DIARIOS'] = muertos.loc[muertos['MUERTOS_DIARIOS'].isna(), 'PRED'].diff()\n",
    "missing_date = muertos[muertos['MUERTOS_DIARIOS'].isna()].index\n",
    "muertos.loc[muertos['MUERTOS_DIARIOS'].isna(), 'MUERTOS_DIARIOS'] = muertos.loc[missing_date, 'PRED'] - muertos['MUERTOS'].shift(1)[missing_date]\n",
    "muertos.tail(10)"
   ]
  },
  {
   "cell_type": "markdown",
   "metadata": {},
   "source": [
    "Finalmente, dejamos el MAE medio:"
   ]
  },
  {
   "cell_type": "code",
   "execution_count": 91,
   "metadata": {},
   "outputs": [
    {
     "data": {
      "text/plain": [
       "0.0537474925993713"
      ]
     },
     "execution_count": 91,
     "metadata": {},
     "output_type": "execute_result"
    }
   ],
   "source": [
    "muertos['MAE'].mean()"
   ]
  },
  {
   "cell_type": "markdown",
   "metadata": {},
   "source": [
    "Como podemos ver, el error relativo cometido en el ajuste es menor al 6%, lo que es un valor aceptable para una primera estimación y da bastante confianza para nuestras estimaciones."
   ]
  },
  {
   "cell_type": "markdown",
   "metadata": {},
   "source": [
    "## 3. PREDICCIONES<a id='a1'></a>"
   ]
  },
  {
   "cell_type": "markdown",
   "metadata": {},
   "source": [
    "**CONTAGIOS (total contagiados)**"
   ]
  },
  {
   "cell_type": "code",
   "execution_count": 92,
   "metadata": {
    "scrolled": true
   },
   "outputs": [
    {
     "data": {
      "text/html": [
       "<div>\n",
       "<style scoped>\n",
       "    .dataframe tbody tr th:only-of-type {\n",
       "        vertical-align: middle;\n",
       "    }\n",
       "\n",
       "    .dataframe tbody tr th {\n",
       "        vertical-align: top;\n",
       "    }\n",
       "\n",
       "    .dataframe thead th {\n",
       "        text-align: right;\n",
       "    }\n",
       "</style>\n",
       "<table border=\"1\" class=\"dataframe\">\n",
       "  <thead>\n",
       "    <tr style=\"text-align: right;\">\n",
       "      <th></th>\n",
       "      <th>PRED</th>\n",
       "    </tr>\n",
       "  </thead>\n",
       "  <tbody>\n",
       "    <tr>\n",
       "      <th>2020-03-24</th>\n",
       "      <td>41787.0</td>\n",
       "    </tr>\n",
       "    <tr>\n",
       "      <th>2020-03-25</th>\n",
       "      <td>50352.0</td>\n",
       "    </tr>\n",
       "    <tr>\n",
       "      <th>2020-03-26</th>\n",
       "      <td>60673.0</td>\n",
       "    </tr>\n",
       "    <tr>\n",
       "      <th>2020-03-27</th>\n",
       "      <td>73109.0</td>\n",
       "    </tr>\n",
       "    <tr>\n",
       "      <th>2020-03-28</th>\n",
       "      <td>88094.0</td>\n",
       "    </tr>\n",
       "  </tbody>\n",
       "</table>\n",
       "</div>"
      ],
      "text/plain": [
       "               PRED\n",
       "2020-03-24  41787.0\n",
       "2020-03-25  50352.0\n",
       "2020-03-26  60673.0\n",
       "2020-03-27  73109.0\n",
       "2020-03-28  88094.0"
      ]
     },
     "execution_count": 92,
     "metadata": {},
     "output_type": "execute_result"
    }
   ],
   "source": [
    "arr_contagios_pred_final"
   ]
  },
  {
   "cell_type": "markdown",
   "metadata": {},
   "source": [
    "**NOTA:**\n",
    "    \n",
    "Números poco fiables debido a cambios de criterio en la toma de datos (realización de la prueba, y por lo tanto, positivos), próxima versión basada en relación contagios/muertos a trabajar.\n",
    "\n",
    "También pueden tomarse solamente los datos del 15/03/2020 en adelante para extrapolar, pues parece que los criterios son más o menos estables desde entonces."
   ]
  },
  {
   "cell_type": "markdown",
   "metadata": {},
   "source": [
    "**MUERTOS (total muertos)**"
   ]
  },
  {
   "cell_type": "code",
   "execution_count": 93,
   "metadata": {},
   "outputs": [
    {
     "data": {
      "text/html": [
       "<div>\n",
       "<style scoped>\n",
       "    .dataframe tbody tr th:only-of-type {\n",
       "        vertical-align: middle;\n",
       "    }\n",
       "\n",
       "    .dataframe tbody tr th {\n",
       "        vertical-align: top;\n",
       "    }\n",
       "\n",
       "    .dataframe thead th {\n",
       "        text-align: right;\n",
       "    }\n",
       "</style>\n",
       "<table border=\"1\" class=\"dataframe\">\n",
       "  <thead>\n",
       "    <tr style=\"text-align: right;\">\n",
       "      <th></th>\n",
       "      <th>PRED</th>\n",
       "    </tr>\n",
       "  </thead>\n",
       "  <tbody>\n",
       "    <tr>\n",
       "      <th>2020-03-24</th>\n",
       "      <td>2970.0</td>\n",
       "    </tr>\n",
       "    <tr>\n",
       "      <th>2020-03-25</th>\n",
       "      <td>3833.0</td>\n",
       "    </tr>\n",
       "    <tr>\n",
       "      <th>2020-03-26</th>\n",
       "      <td>4924.0</td>\n",
       "    </tr>\n",
       "    <tr>\n",
       "      <th>2020-03-27</th>\n",
       "      <td>6301.0</td>\n",
       "    </tr>\n",
       "    <tr>\n",
       "      <th>2020-03-28</th>\n",
       "      <td>8031.0</td>\n",
       "    </tr>\n",
       "  </tbody>\n",
       "</table>\n",
       "</div>"
      ],
      "text/plain": [
       "              PRED\n",
       "2020-03-24  2970.0\n",
       "2020-03-25  3833.0\n",
       "2020-03-26  4924.0\n",
       "2020-03-27  6301.0\n",
       "2020-03-28  8031.0"
      ]
     },
     "execution_count": 93,
     "metadata": {},
     "output_type": "execute_result"
    }
   ],
   "source": [
    "arr_muertos_pred"
   ]
  }
 ],
 "metadata": {
  "kernelspec": {
   "display_name": "Python 3",
   "language": "python",
   "name": "python3"
  },
  "language_info": {
   "codemirror_mode": {
    "name": "ipython",
    "version": 3
   },
   "file_extension": ".py",
   "mimetype": "text/x-python",
   "name": "python",
   "nbconvert_exporter": "python",
   "pygments_lexer": "ipython3",
   "version": "3.7.3"
  }
 },
 "nbformat": 4,
 "nbformat_minor": 2
}
