{
 "cells": [
  {
   "cell_type": "markdown",
   "metadata": {},
   "source": [
    "# DIFUSIÓN DEL CORONAVIRUS EN ESPAÑA:\n",
    "\n",
    "## (3ª predicción: corrección sobre 2ª con modelo de orden 2)"
   ]
  },
  {
   "cell_type": "markdown",
   "metadata": {},
   "source": [
    "## 0. INTRODUCCIÓN"
   ]
  },
  {
   "cell_type": "markdown",
   "metadata": {},
   "source": [
    "Si se quieren ver directamente los resultados de los cálculos, y el pronóstico para los próximos 5 días, pinchar <a href='#a1'>**--> aquí**</a>."
   ]
  },
  {
   "cell_type": "markdown",
   "metadata": {},
   "source": [
    "Este es un pequeño ejercicio de extrapolación para la curva de contagios del coronavirus en España.\n",
    "\n",
    "Como fuente de los datos, a falta de una mejor, se toman los volcados en la siguiente página:\n",
    "\n",
    "https://www.rtve.es/noticias/20200316/mapa-del-coronavirus-espana/2004681.shtml\n",
    "\n",
    "Que recoge los datos que vuelca el Ministerio de Sanidad español. La hora de los contagios en el día de dicho informe puede variar, por lo que la diferencia entre un día y otro puede ser mayor o menor de 24 horas, pero a priori se asumirá que la hora del informe de todos los días es la misma, por falta de referencias.\n",
    "\n",
    "El modelo que emplearemos no será más que una sencilla aproximación por una exponencial, no se empleará el modelo SIR como primera aproximación, aunque este es sólo ligeramente más complejo.\n",
    "\n",
    "Un modelo de contagio (no asumiendo que cada persona ya contagiada no podría volver a ser contagiada, o asumiendo que la fracción de la población contagiada aún es lo suficientemente baja como para despreciar dichos efectos, lo que es válido para el comienzo de la progresión de la pandemia) respondería a una ecuación diferencial del estilo de:\n",
    "\n",
    "$y' = c y$\n",
    "\n",
    "Cuya solución es de la forma:\n",
    "\n",
    "$ y = K e^{c x}$\n",
    "\n",
    "O, lo que es lo mismo:\n",
    "\n",
    "$ y = H A^{b x}$\n",
    "\n",
    "Donde, para que ambas expresiones sean la misma, tendremos que:\n",
    "\n",
    "$b = \\frac{K}{H \\cdot ln(A)} c$\n",
    "\n",
    "Por lo tanto, tomando logaritmos tendremos:\n",
    "\n",
    "$ ln(y) = c x + K = b \\cdot ln(A) x + H$\n",
    "\n",
    "En donde tendremos ya una relación lineal.\n",
    "\n",
    "Nuestro enfoque, por lo tanto, será el de calcular los coeficientes de esta recta."
   ]
  },
  {
   "cell_type": "code",
   "execution_count": 123,
   "metadata": {},
   "outputs": [],
   "source": [
    "import pandas as pd\n",
    "import numpy as np\n",
    "import datetime\n",
    "import matplotlib.pyplot as plt\n",
    "import seaborn as sns\n",
    "\n",
    "from sklearn.linear_model import LinearRegression\n",
    "\n",
    "%matplotlib inline"
   ]
  },
  {
   "cell_type": "code",
   "execution_count": 124,
   "metadata": {},
   "outputs": [
    {
     "data": {
      "text/html": [
       "<div>\n",
       "<style scoped>\n",
       "    .dataframe tbody tr th:only-of-type {\n",
       "        vertical-align: middle;\n",
       "    }\n",
       "\n",
       "    .dataframe tbody tr th {\n",
       "        vertical-align: top;\n",
       "    }\n",
       "\n",
       "    .dataframe thead th {\n",
       "        text-align: right;\n",
       "    }\n",
       "</style>\n",
       "<table border=\"1\" class=\"dataframe\">\n",
       "  <thead>\n",
       "    <tr style=\"text-align: right;\">\n",
       "      <th></th>\n",
       "      <th>CONTAGIOS</th>\n",
       "      <th>MUERTOS</th>\n",
       "    </tr>\n",
       "    <tr>\n",
       "      <th>FECHA</th>\n",
       "      <th></th>\n",
       "      <th></th>\n",
       "    </tr>\n",
       "  </thead>\n",
       "  <tbody>\n",
       "    <tr>\n",
       "      <th>2020-02-12</th>\n",
       "      <td>2</td>\n",
       "      <td>0</td>\n",
       "    </tr>\n",
       "    <tr>\n",
       "      <th>2020-02-25</th>\n",
       "      <td>3</td>\n",
       "      <td>0</td>\n",
       "    </tr>\n",
       "    <tr>\n",
       "      <th>2020-02-26</th>\n",
       "      <td>7</td>\n",
       "      <td>0</td>\n",
       "    </tr>\n",
       "    <tr>\n",
       "      <th>2020-02-27</th>\n",
       "      <td>16</td>\n",
       "      <td>0</td>\n",
       "    </tr>\n",
       "    <tr>\n",
       "      <th>2020-02-28</th>\n",
       "      <td>31</td>\n",
       "      <td>0</td>\n",
       "    </tr>\n",
       "  </tbody>\n",
       "</table>\n",
       "</div>"
      ],
      "text/plain": [
       "            CONTAGIOS  MUERTOS\n",
       "FECHA                         \n",
       "2020-02-12          2        0\n",
       "2020-02-25          3        0\n",
       "2020-02-26          7        0\n",
       "2020-02-27         16        0\n",
       "2020-02-28         31        0"
      ]
     },
     "execution_count": 124,
     "metadata": {},
     "output_type": "execute_result"
    }
   ],
   "source": [
    "ruta = 'Datos/Contagios medios coronavirus RTVE.csv'\n",
    "sep = ';'\n",
    "\n",
    "date_parser = lambda x: pd.datetime.strptime(x, '%d/%m/%Y')\n",
    "\n",
    "datos = pd.read_csv(ruta, sep = sep, index_col = 'FECHA', parse_dates = ['FECHA'], date_parser = date_parser)\n",
    "\n",
    "datos.head()"
   ]
  },
  {
   "cell_type": "code",
   "execution_count": 125,
   "metadata": {},
   "outputs": [],
   "source": [
    "datos['DIFER_DIAS'] = datos.index.to_series().diff().fillna(pd.Timedelta(seconds = 8660000)).apply(lambda x: x.days)"
   ]
  },
  {
   "cell_type": "code",
   "execution_count": 126,
   "metadata": {},
   "outputs": [
    {
     "data": {
      "image/png": "[encoded data removed]",
      "text/plain": [
       "<Figure size 1080x360 with 2 Axes>"
      ]
     },
     "metadata": {
      "needs_background": "light"
     },
     "output_type": "display_data"
    }
   ],
   "source": [
    "contagios = pd.DataFrame(datos[['CONTAGIOS', 'DIFER_DIAS']])\n",
    "muertos = pd.DataFrame(datos[['MUERTOS', 'DIFER_DIAS']])\n",
    "\n",
    "fig, ax1 = plt.subplots(figsize=(15,5))\n",
    "\n",
    "plt.title('Evolución de los contagios y las defunciones en España')\n",
    "\n",
    "ax1.plot(contagios.reset_index()['FECHA'], contagios['CONTAGIOS'], '-');\n",
    "ax1.legend(['Contagios totales'])\n",
    "ax1.set_ylabel(\"Nº de contagios\")\n",
    "ax1.set_xlabel(\"Fecha\")\n",
    "\n",
    "ax2 = ax1.twinx()\n",
    "\n",
    "ax2.plot(muertos.reset_index()['FECHA'], muertos['MUERTOS'], '-', color='r')\n",
    "ax2.legend(['Defunciones totales'], loc = 1)\n",
    "ax2.set_ylabel(\"Nº de defunciones\");"
   ]
  },
  {
   "cell_type": "markdown",
   "metadata": {},
   "source": [
    "Comparación entre la evolución de los contagios y los muertos, donde puede obsservarse el comportamiento comparado de ambas gráficas, y el retardo existente entre la evolución de los muertos por la infección y el número de infectados:\n",
    "\n",
    "Nótese cómo la pendiente de la gráfica de la evolución del número de muertos es mucho más empinada que la del número de contagiados.\n",
    "\n",
    "Queremos analizar ahora el decalaje existente entre ambas series. Para ello emplearemos dos métodos:\n",
    "\n",
    "En el primero haremos lo más evidente, que sería buscar, para cada día de la serie de los contagios, el día con un valor equivalente en la serie de defunciones y calcularemos su diferencia.\n",
    "\n",
    "Para encontrar dicho día equivalente lo que haremos es buscar, por un lado, el primer día de la serie de defunciones cuyo valor es superior al buscado, y por otro, el último día que es inferior, y tomaremos la media de ambos valores (debido que en algunos casos la diferencia entre ambos valores es relativamente elevada):"
   ]
  },
  {
   "cell_type": "code",
   "execution_count": 127,
   "metadata": {},
   "outputs": [
    {
     "data": {
      "text/plain": [
       "11.733333333333333"
      ]
     },
     "execution_count": 127,
     "metadata": {},
     "output_type": "execute_result"
    }
   ],
   "source": [
    "storage = np.array([])\n",
    "\n",
    "for element in contagios.iterrows():\n",
    "\n",
    "    try:\n",
    "        \n",
    "       for_mean = (muertos[muertos['MUERTOS'] > element[1][0]].index[0] - element[0]).days\n",
    "       for_mean += (muertos[muertos['MUERTOS'] < element[1][0]].index[-1] - element[0]).days\n",
    "        \n",
    "       storage = np.append(storage, for_mean/2)\n",
    "        \n",
    "    except IndexError:\n",
    "        continue\n",
    "        \n",
    "storage.mean()"
   ]
  },
  {
   "cell_type": "markdown",
   "metadata": {},
   "source": [
    "Podemos observar que el valor obtenido para el decalaje es de unos 11 días.\n",
    "\n",
    "Vamos a contrastar esto con un segundo método:\n",
    "    \n",
    "En este segundo método lo que haremos será desplazar la serie de contagios 1, 2, 3, ... n días (hasta 16) y comparar la diferencia relativa de ambas curvas, mediante un error absoluto medio.\n",
    "\n",
    "El desplazamiento que obtenga menor diferencia relativa será el que mejor coloque la curva de decesos sobre la de contagios:"
   ]
  },
  {
   "cell_type": "code",
   "execution_count": 128,
   "metadata": {},
   "outputs": [
    {
     "name": "stdout",
     "output_type": "stream",
     "text": [
      "1  días de decalaje, error:  0.957257505630955\n",
      "2  días de decalaje, error:  0.9427330383355891\n",
      "3  días de decalaje, error:  0.9221783999780573\n",
      "4  días de decalaje, error:  0.8927108042501711\n",
      "5  días de decalaje, error:  0.8566660695801454\n",
      "6  días de decalaje, error:  0.8096363740070792\n",
      "7  días de decalaje, error:  0.7352545221102122\n",
      "8  días de decalaje, error:  0.6417626358820625\n",
      "9  días de decalaje, error:  0.54267011034905\n",
      "10  días de decalaje, error:  0.4911488653733783\n",
      "11  días de decalaje, error:  0.4787775891750178\n",
      "12  días de decalaje, error:  0.5233639072253186\n",
      "13  días de decalaje, error:  0.6004964213156125\n",
      "14  días de decalaje, error:  0.6663521809580741\n",
      "15  días de decalaje, error:  0.7189359190126424\n"
     ]
    }
   ],
   "source": [
    "# Creamos un índice completo para nuestras fechas de interés:\n",
    "\n",
    "index_for_merge = pd.DataFrame(index = pd.date_range(pd.to_datetime('2020-02-12', format = '%Y-%m-%d'), pd.to_datetime('2020-03-24', format = '%Y-%m-%d')))\n",
    "\n",
    "# Creamos un dataframe con todas las fechas para ambas series, y rellenamos los NaN con el último dato inmediatamente anterior:\n",
    "\n",
    "contagios_full_index = pd.merge(index_for_merge, contagios, left_index= True, right_index= True, how='left') \n",
    "contagios_full_index.fillna(method = 'ffill', inplace = True)\n",
    "\n",
    "muertos_full_index = pd.merge(index_for_merge, muertos, left_index= True, right_index= True, how='left') \n",
    "muertos_full_index.fillna(method = 'ffill', inplace = True)\n",
    "\n",
    "# Calculamos la diferencia relativa entre ambas curvas:\n",
    "\n",
    "for x in range(1,16):\n",
    "\n",
    "    print(x, \" días de decalaje, error: \", \n",
    "          (abs(contagios_full_index['CONTAGIOS'] - muertos_full_index['MUERTOS'].shift(-x))/\n",
    "              (contagios_full_index['CONTAGIOS'] + muertos_full_index['MUERTOS'].shift(-x))).mean())"
   ]
  },
  {
   "cell_type": "markdown",
   "metadata": {},
   "source": [
    "Como podemos observar que el error relativo medio mínimo se encuentra de nuevo en los 11 días, un fuerte indicador de que el decalaje entre ambas curvas es esta cantidad.\n",
    "\n",
    "Finalmente, si representamos dicho decalaje de 11 días podemos ver cómo la curva de defunciones sigue el comportamiento de la curva de contagios casi a la perfección:"
   ]
  },
  {
   "cell_type": "code",
   "execution_count": 129,
   "metadata": {},
   "outputs": [
    {
     "data": {
      "image/png": "[encoded data removed]",
      "text/plain": [
       "<Figure size 1080x360 with 1 Axes>"
      ]
     },
     "metadata": {
      "needs_background": "light"
     },
     "output_type": "display_data"
    }
   ],
   "source": [
    "fig, ax1 = plt.subplots(figsize=(15,5))\n",
    "\n",
    "plt.title('Evolución de los contagios y las defunciones en España')\n",
    "\n",
    "ax1.set_ylim(ymax = 2400)\n",
    "\n",
    "ax1.plot(contagios.reset_index()['FECHA'], contagios['CONTAGIOS'], '-')\n",
    "ax1.plot(muertos.reset_index()['FECHA'] - datetime.timedelta(days = 11), muertos['MUERTOS'], '-', color='r')\n",
    "\n",
    "ax1.legend(['Contagios totales', 'Defunciones totales'], loc = 2)\n",
    "ax1.set_ylabel(\"Nº de contagios\")\n",
    "ax1.set_xlabel(\"Fecha\");"
   ]
  },
  {
   "cell_type": "markdown",
   "metadata": {},
   "source": [
    "## 1. CONTAGIOS"
   ]
  },
  {
   "cell_type": "markdown",
   "metadata": {},
   "source": [
    "**Paso 1:**\n",
    "\n",
    "**Comprobaciones sobre la serie:**\n",
    "\n",
    "Examinamos primero los datos de los contagios:"
   ]
  },
  {
   "cell_type": "code",
   "execution_count": 130,
   "metadata": {
    "scrolled": false
   },
   "outputs": [
    {
     "data": {
      "image/png": "[encoded data removed]",
      "text/plain": [
       "<Figure size 1080x360 with 1 Axes>"
      ]
     },
     "metadata": {
      "needs_background": "light"
     },
     "output_type": "display_data"
    }
   ],
   "source": [
    "plt.figure(figsize=(15,5))\n",
    "plt.plot(contagios.index, contagios['CONTAGIOS'], '-');"
   ]
  },
  {
   "cell_type": "markdown",
   "metadata": {},
   "source": [
    "Como podemos ver, tenemos una curva monótona creciente que, aparentemente, parece seguir la forma de una exponencial.\n",
    "\n",
    "Examinamos ahora la serie en diferencias. Como se sabe, si la serie original sigue una exponencial, la serie en diferencias debería seguir también una exponencial:"
   ]
  },
  {
   "cell_type": "code",
   "execution_count": 131,
   "metadata": {},
   "outputs": [],
   "source": [
    "# Sumamos 1 por cuestiones de estabilidad numérica a la hora de tomar logaritmos posteriormente:\n",
    "contagios['DIFER'] = contagios['CONTAGIOS'].diff(1).fillna(2)/contagios['DIFER_DIAS']"
   ]
  },
  {
   "cell_type": "code",
   "execution_count": 132,
   "metadata": {},
   "outputs": [
    {
     "data": {
      "image/png": "[encoded data removed]",
      "text/plain": [
       "<Figure size 1080x360 with 1 Axes>"
      ]
     },
     "metadata": {
      "needs_background": "light"
     },
     "output_type": "display_data"
    }
   ],
   "source": [
    "plt.figure(figsize=(15,5))\n",
    "plt.plot(contagios['DIFER'], '-');"
   ]
  },
  {
   "cell_type": "markdown",
   "metadata": {},
   "source": [
    "Vemos un primer pico en la series de los contagios, en el entorno del día 15 de marzo.\n",
    "\n",
    "Su aparición (y tal vez la de los siguientes) puede explicarse por lo siguiente:\n",
    "\n",
    "https://elpais.com/sociedad/2020-03-15/cataluna-y-madrid-dejan-de-hacer-pruebas-a-los-casos-leves.html\n",
    "\n",
    "https://www.redaccionmedica.com/secciones/sanidad-hoy/coronavirus-test-solo-pacientes-hospitalizados-personal-esencial-8816\n",
    "\n",
    "https://www.noticiasdenavarra.com/actualidad/sociedad/2020/03/16/navarra-cambia-protocolo-deteccion-coronavirus/1031165.html\n",
    "\n",
    "https://www.elmundo.es/ciencia-y-salud/salud/2020/03/13/5e6b4230fdddff878c8b4624.html\n",
    "\n",
    "Al cambiar los criterios con los que hacer las pruebas, se están dejando fuera, a partir del día 15, a un gran número de casos que habrían dado positivo según los criterios antiguos, pero que ahora se dejan fuera de los casos confirmados, según los nuevos.\n",
    "\n",
    "Si la decisión se trata de criterios de economía médica, intereses políticos o una mezcla de ambas, sólo puedo dejarlo a juicio del lector.\n",
    "\n",
    "A pesar de ello se puede ver que nada puede hacer ese cambio de criterio frente al contagio exponencial.\n",
    "\n",
    "Para nuestro esutio tomaremos primero solamente la primera parte de la curva, donde no se ha modificado aún el criterio para la realización de las pruebas, para no adulterar la evolución."
   ]
  },
  {
   "cell_type": "code",
   "execution_count": 133,
   "metadata": {},
   "outputs": [],
   "source": [
    "contagios['LN_CONTAGIOS'] = contagios['CONTAGIOS'].apply(lambda x: np.log(x) if x>0 else 0)\n",
    "# Añadimos +1 por criterios de estabilidad con el logaritmo:\n",
    "contagios['LN_DIFER'] = contagios['DIFER'].apply(lambda x: np.log(x+1) if x>0 else 0)"
   ]
  },
  {
   "cell_type": "code",
   "execution_count": 134,
   "metadata": {},
   "outputs": [
    {
     "data": {
      "text/plain": [
       "<matplotlib.axes._subplots.AxesSubplot at 0x1d43d5082e8>"
      ]
     },
     "execution_count": 134,
     "metadata": {},
     "output_type": "execute_result"
    },
    {
     "data": {
      "image/png": "[encoded data removed]",
      "text/plain": [
       "<Figure size 1080x360 with 1 Axes>"
      ]
     },
     "metadata": {
      "needs_background": "light"
     },
     "output_type": "display_data"
    }
   ],
   "source": [
    "contagios['LN_CONTAGIOS'].plot(figsize=(15,5), style = 'o')"
   ]
  },
  {
   "cell_type": "code",
   "execution_count": 135,
   "metadata": {},
   "outputs": [
    {
     "data": {
      "text/plain": [
       "<matplotlib.axes._subplots.AxesSubplot at 0x1d43d7760f0>"
      ]
     },
     "execution_count": 135,
     "metadata": {},
     "output_type": "execute_result"
    },
    {
     "data": {
      "image/png": "[encoded data removed]",
      "text/plain": [
       "<Figure size 1080x360 with 1 Axes>"
      ]
     },
     "metadata": {
      "needs_background": "light"
     },
     "output_type": "display_data"
    }
   ],
   "source": [
    "contagios['LN_DIFER'].plot(figsize=(15,5), style = 'o')"
   ]
  },
  {
   "cell_type": "markdown",
   "metadata": {},
   "source": [
    "Como podemos ver, ante nosotros no tenemos una recta, sino más bien un comportamiento más bien parabólico, característico de funciones como una raíz cuadrada.\n",
    "\n",
    "Esto son buenas noticias, porque nos indica que el virus no se está propagando siguiendo una exponencial, sino más bien una exponencial algo amortiguada.\n",
    "\n",
    "También podemos observar un comportamiento errático en la serie de las diferencias de los logaritmos de los contagios diarios.\n",
    "\n",
    "Vamos a examinar la serie de sus diferencias. Si el proceso fuese exponencial, estas deberían ser constantes:"
   ]
  },
  {
   "cell_type": "code",
   "execution_count": 136,
   "metadata": {
    "scrolled": true
   },
   "outputs": [
    {
     "data": {
      "text/plain": [
       "0.25630518425567744"
      ]
     },
     "execution_count": 136,
     "metadata": {},
     "output_type": "execute_result"
    },
    {
     "data": {
      "image/png": "[encoded data removed]",
      "text/plain": [
       "<Figure size 1080x360 with 1 Axes>"
      ]
     },
     "metadata": {
      "needs_background": "light"
     },
     "output_type": "display_data"
    }
   ],
   "source": [
    "contagios['LN_DIFER_2']  = contagios['LN_DIFER'].diff(1).fillna(0)/contagios['DIFER_DIAS']\n",
    "contagios['LN_DIFER_2'].plot(figsize=(15,5), style = 'o')\n",
    "contagios['LN_DIFER_2'].mean()"
   ]
  },
  {
   "cell_type": "markdown",
   "metadata": {},
   "source": [
    "Podemos observar un comportamiento claramente errático, con una varianza elevada y valores oscilando alrededor de una zona central, pero con una amplia dispersión.\n",
    "\n",
    "Esto puede deberse a muchos factores relacionados con la toma de datos, con el hecho de que las horas de los informes emitidos por el Ministerio de Sanidad no siempre coincidan y con que la afluencia de la gente a hacerse las pruebas, así como los criterios para hacer las mismas han ido evolucionando según progresaba la enfermedad."
   ]
  },
  {
   "cell_type": "code",
   "execution_count": 137,
   "metadata": {},
   "outputs": [
    {
     "data": {
      "text/plain": [
       "(array([ 1.,  9., 12.,  6.,  1.,  2.]),\n",
       " array([-0.71724473, -0.34181562,  0.03361349,  0.4090426 ,  0.78447172,\n",
       "         1.15990083,  1.53532994]),\n",
       " <a list of 6 Patch objects>)"
      ]
     },
     "execution_count": 137,
     "metadata": {},
     "output_type": "execute_result"
    },
    {
     "data": {
      "image/png": "[encoded data removed]",
      "text/plain": [
       "<Figure size 1080x360 with 1 Axes>"
      ]
     },
     "metadata": {
      "needs_background": "light"
     },
     "output_type": "display_data"
    }
   ],
   "source": [
    "plt.figure(figsize=(15,5))\n",
    "plt.hist(contagios['LN_DIFER_2'], bins = 6)"
   ]
  },
  {
   "cell_type": "markdown",
   "metadata": {},
   "source": [
    "Como vemos, el máximo central se presenta, con 8 valores, para la zona entre 0,04 y 0,784."
   ]
  },
  {
   "cell_type": "code",
   "execution_count": 138,
   "metadata": {},
   "outputs": [],
   "source": [
    "contagios['LN_CONTAGIOS_DIFER'] = contagios['LN_CONTAGIOS'].diff(1).fillna(0)/contagios['DIFER_DIAS']"
   ]
  },
  {
   "cell_type": "markdown",
   "metadata": {},
   "source": [
    "### MODELO FINAL:"
   ]
  },
  {
   "cell_type": "markdown",
   "metadata": {},
   "source": [
    "En los scripts anteriores hemos intentado realizar ajustes con modelos lineales, intentando linealizar la curva parabólica de los contagios.\n",
    "\n",
    "Vamos ahora intentar su ajuste con modelos de orden 2, sin \"aplanarla\" elevándola a un factor.\n",
    "\n",
    "Reajustaremos nuestras funciones convenientemente para ello, y lanzaremos modelos de orden 2.\n",
    "\n",
    "Una vez tengamos nuestro modelo calcularemos el error que nos devuelve nuestro ajuste y haremos predicciones:"
   ]
  },
  {
   "cell_type": "code",
   "execution_count": 139,
   "metadata": {},
   "outputs": [],
   "source": [
    "def cols_para_calculos(df: 'DataFrame', dates_in_index = True):\n",
    "    \n",
    "    if dates_in_index:\n",
    "        day_range = (df.index - df.index[0]).days\n",
    "        df.loc[:,'FECHA'] = day_range\n",
    "    else:\n",
    "        df['FECHA'] =(df.index - df.index[0])\n",
    "    \n",
    "    return df"
   ]
  },
  {
   "cell_type": "code",
   "execution_count": 140,
   "metadata": {},
   "outputs": [
    {
     "data": {
      "text/html": [
       "<div>\n",
       "<style scoped>\n",
       "    .dataframe tbody tr th:only-of-type {\n",
       "        vertical-align: middle;\n",
       "    }\n",
       "\n",
       "    .dataframe tbody tr th {\n",
       "        vertical-align: top;\n",
       "    }\n",
       "\n",
       "    .dataframe thead th {\n",
       "        text-align: right;\n",
       "    }\n",
       "</style>\n",
       "<table border=\"1\" class=\"dataframe\">\n",
       "  <thead>\n",
       "    <tr style=\"text-align: right;\">\n",
       "      <th></th>\n",
       "      <th>CONTAGIOS</th>\n",
       "      <th>DIFER_DIAS</th>\n",
       "      <th>DIFER</th>\n",
       "      <th>LN_CONTAGIOS</th>\n",
       "      <th>LN_DIFER</th>\n",
       "      <th>LN_DIFER_2</th>\n",
       "      <th>LN_CONTAGIOS_DIFER</th>\n",
       "    </tr>\n",
       "    <tr>\n",
       "      <th>FECHA</th>\n",
       "      <th></th>\n",
       "      <th></th>\n",
       "      <th></th>\n",
       "      <th></th>\n",
       "      <th></th>\n",
       "      <th></th>\n",
       "      <th></th>\n",
       "    </tr>\n",
       "  </thead>\n",
       "  <tbody>\n",
       "    <tr>\n",
       "      <th>2020-02-12</th>\n",
       "      <td>2</td>\n",
       "      <td>100</td>\n",
       "      <td>0.020000</td>\n",
       "      <td>0.693147</td>\n",
       "      <td>0.019803</td>\n",
       "      <td>0.000000</td>\n",
       "      <td>0.000000</td>\n",
       "    </tr>\n",
       "    <tr>\n",
       "      <th>2020-02-25</th>\n",
       "      <td>3</td>\n",
       "      <td>13</td>\n",
       "      <td>0.076923</td>\n",
       "      <td>1.098612</td>\n",
       "      <td>0.074108</td>\n",
       "      <td>0.004177</td>\n",
       "      <td>0.031190</td>\n",
       "    </tr>\n",
       "    <tr>\n",
       "      <th>2020-02-26</th>\n",
       "      <td>7</td>\n",
       "      <td>1</td>\n",
       "      <td>4.000000</td>\n",
       "      <td>1.945910</td>\n",
       "      <td>1.609438</td>\n",
       "      <td>1.535330</td>\n",
       "      <td>0.847298</td>\n",
       "    </tr>\n",
       "    <tr>\n",
       "      <th>2020-02-27</th>\n",
       "      <td>16</td>\n",
       "      <td>1</td>\n",
       "      <td>9.000000</td>\n",
       "      <td>2.772589</td>\n",
       "      <td>2.302585</td>\n",
       "      <td>0.693147</td>\n",
       "      <td>0.826679</td>\n",
       "    </tr>\n",
       "    <tr>\n",
       "      <th>2020-02-28</th>\n",
       "      <td>31</td>\n",
       "      <td>1</td>\n",
       "      <td>15.000000</td>\n",
       "      <td>3.433987</td>\n",
       "      <td>2.772589</td>\n",
       "      <td>0.470004</td>\n",
       "      <td>0.661398</td>\n",
       "    </tr>\n",
       "  </tbody>\n",
       "</table>\n",
       "</div>"
      ],
      "text/plain": [
       "            CONTAGIOS  DIFER_DIAS      DIFER  LN_CONTAGIOS  LN_DIFER  \\\n",
       "FECHA                                                                  \n",
       "2020-02-12          2         100   0.020000      0.693147  0.019803   \n",
       "2020-02-25          3          13   0.076923      1.098612  0.074108   \n",
       "2020-02-26          7           1   4.000000      1.945910  1.609438   \n",
       "2020-02-27         16           1   9.000000      2.772589  2.302585   \n",
       "2020-02-28         31           1  15.000000      3.433987  2.772589   \n",
       "\n",
       "            LN_DIFER_2  LN_CONTAGIOS_DIFER  \n",
       "FECHA                                       \n",
       "2020-02-12    0.000000            0.000000  \n",
       "2020-02-25    0.004177            0.031190  \n",
       "2020-02-26    1.535330            0.847298  \n",
       "2020-02-27    0.693147            0.826679  \n",
       "2020-02-28    0.470004            0.661398  "
      ]
     },
     "execution_count": 140,
     "metadata": {},
     "output_type": "execute_result"
    }
   ],
   "source": [
    "contagios.head()"
   ]
  },
  {
   "cell_type": "code",
   "execution_count": 141,
   "metadata": {},
   "outputs": [],
   "source": [
    "contagios.drop(contagios.index[[0]], inplace = True)\n",
    "df_contagios_pred = contagios[['CONTAGIOS', 'DIFER_DIAS', 'LN_CONTAGIOS', 'DIFER', 'LN_DIFER']].copy()\n",
    "df_contagios_pred = cols_para_calculos(df_contagios_pred)"
   ]
  },
  {
   "cell_type": "code",
   "execution_count": 142,
   "metadata": {},
   "outputs": [],
   "source": [
    "def ajuste_min_cuadrados(serie_x: 'Series', serie_y: 'Series', col: 'string'):\n",
    "    \n",
    "    \n",
    "    # Añadimos en el polyfit unos pesos exponenciales sobre el factor de corrección, \n",
    "    # para que el modelo ajuste el peso de los errores según los que tendrían con la distribución original \n",
    "    # del valor en y, y no la propia recta:\n",
    "    \n",
    "    x_range = serie_x\n",
    "    coefs = np.polyfit(np.array(x_range), np.array(serie_y) , deg = 2, w=np.exp(serie_y))\n",
    "\n",
    "    arr_pred =  x_range**2 * coefs[0] + x_range * coefs[1] + coefs[2]\n",
    "\n",
    "    df_pred = pd.DataFrame(arr_pred)\n",
    "    df_pred.rename({'FECHA':'PRED'}, axis=1, inplace = True)\n",
    "    df_pred['SERIE'] = serie_y\n",
    "    \n",
    "    \n",
    "    df_pred.plot(figsize=(18,5))\n",
    "    print(df_pred.corr())\n",
    "    \n",
    "    df_pred[col] = np.round(np.exp(df_pred['PRED']).fillna(1))\n",
    "\n",
    "    return df_pred, coefs"
   ]
  },
  {
   "cell_type": "code",
   "execution_count": 143,
   "metadata": {},
   "outputs": [
    {
     "name": "stdout",
     "output_type": "stream",
     "text": [
      "           PRED     SERIE\n",
      "PRED   1.000000  0.998374\n",
      "SERIE  0.998374  1.000000\n"
     ]
    },
    {
     "data": {
      "image/png": "[encoded data removed]",
      "text/plain": [
       "<Figure size 1296x360 with 1 Axes>"
      ]
     },
     "metadata": {
      "needs_background": "light"
     },
     "output_type": "display_data"
    }
   ],
   "source": [
    "new_contagios_prediction, coefs = ajuste_min_cuadrados(df_contagios_pred['FECHA'],\n",
    "                                                       df_contagios_pred['LN_CONTAGIOS'],\n",
    "                                                       'PRED_CONTAGIOS')"
   ]
  },
  {
   "cell_type": "code",
   "execution_count": 144,
   "metadata": {},
   "outputs": [
    {
     "data": {
      "text/plain": [
       "0.12251758300597576"
      ]
     },
     "execution_count": 144,
     "metadata": {},
     "output_type": "execute_result"
    }
   ],
   "source": [
    "df_contagios_pred['PRED_CONTAGIOS'] = new_contagios_prediction['PRED_CONTAGIOS']\n",
    "df_contagios_pred['ERROR_ABS'] = abs(df_contagios_pred['PRED_CONTAGIOS'] - df_contagios_pred['CONTAGIOS'])\n",
    "df_contagios_pred['ERROR_REL'] = (abs(df_contagios_pred['PRED_CONTAGIOS'] - df_contagios_pred['CONTAGIOS'])/df_contagios_pred['CONTAGIOS']).fillna(0)\n",
    "df_contagios_pred.loc[df_contagios_pred.index[1]:,'ERROR_REL'].mean()"
   ]
  },
  {
   "cell_type": "code",
   "execution_count": 145,
   "metadata": {},
   "outputs": [
    {
     "data": {
      "text/plain": [
       "0.03358470585450067"
      ]
     },
     "execution_count": 145,
     "metadata": {},
     "output_type": "execute_result"
    }
   ],
   "source": [
    "df_contagios_pred.loc[pd.to_datetime('2020-03-15'):,'ERROR_REL'].mean()"
   ]
  },
  {
   "cell_type": "code",
   "execution_count": 146,
   "metadata": {},
   "outputs": [],
   "source": [
    "def prediccion(day_num_of_reference, date_of_reference, coeficientes, entre=(1,6)):    \n",
    "\n",
    "    x_range_ext = np.array(range(day_num_of_reference + entre[0], day_num_of_reference + entre[1]))\n",
    "    index = [date_of_reference + datetime.timedelta(int(x)) for x in x_range_ext]\n",
    "    arr_pred = x_range_ext**2 * coeficientes[0] + x_range_ext * coeficientes[1] + coeficientes[2]\n",
    "\n",
    "    arr_pred = np.round(np.exp(arr_pred))\n",
    "    arr_pred = pd.DataFrame(arr_pred, columns = ['PRED'], index = index)\n",
    "    return arr_pred"
   ]
  },
  {
   "cell_type": "code",
   "execution_count": 147,
   "metadata": {},
   "outputs": [
    {
     "data": {
      "text/html": [
       "<div>\n",
       "<style scoped>\n",
       "    .dataframe tbody tr th:only-of-type {\n",
       "        vertical-align: middle;\n",
       "    }\n",
       "\n",
       "    .dataframe tbody tr th {\n",
       "        vertical-align: top;\n",
       "    }\n",
       "\n",
       "    .dataframe thead th {\n",
       "        text-align: right;\n",
       "    }\n",
       "</style>\n",
       "<table border=\"1\" class=\"dataframe\">\n",
       "  <thead>\n",
       "    <tr style=\"text-align: right;\">\n",
       "      <th></th>\n",
       "      <th>PRED</th>\n",
       "    </tr>\n",
       "  </thead>\n",
       "  <tbody>\n",
       "    <tr>\n",
       "      <th>2020-03-31</th>\n",
       "      <td>94708.0</td>\n",
       "    </tr>\n",
       "    <tr>\n",
       "      <th>2020-04-01</th>\n",
       "      <td>102301.0</td>\n",
       "    </tr>\n",
       "    <tr>\n",
       "      <th>2020-04-02</th>\n",
       "      <td>109362.0</td>\n",
       "    </tr>\n",
       "    <tr>\n",
       "      <th>2020-04-03</th>\n",
       "      <td>115702.0</td>\n",
       "    </tr>\n",
       "    <tr>\n",
       "      <th>2020-04-04</th>\n",
       "      <td>121144.0</td>\n",
       "    </tr>\n",
       "  </tbody>\n",
       "</table>\n",
       "</div>"
      ],
      "text/plain": [
       "                PRED\n",
       "2020-03-31   94708.0\n",
       "2020-04-01  102301.0\n",
       "2020-04-02  109362.0\n",
       "2020-04-03  115702.0\n",
       "2020-04-04  121144.0"
      ]
     },
     "execution_count": 147,
     "metadata": {},
     "output_type": "execute_result"
    }
   ],
   "source": [
    "day_num_of_reference = df_contagios_pred['FECHA'][-1]\n",
    "date_of_reference = df_contagios_pred.index[0]\n",
    "arr_contagios_pred = prediccion(day_num_of_reference, date_of_reference, coefs)\n",
    "arr_contagios_pred"
   ]
  },
  {
   "cell_type": "code",
   "execution_count": 148,
   "metadata": {
    "scrolled": true
   },
   "outputs": [
    {
     "data": {
      "text/html": [
       "<div>\n",
       "<style scoped>\n",
       "    .dataframe tbody tr th:only-of-type {\n",
       "        vertical-align: middle;\n",
       "    }\n",
       "\n",
       "    .dataframe tbody tr th {\n",
       "        vertical-align: top;\n",
       "    }\n",
       "\n",
       "    .dataframe thead th {\n",
       "        text-align: right;\n",
       "    }\n",
       "</style>\n",
       "<table border=\"1\" class=\"dataframe\">\n",
       "  <thead>\n",
       "    <tr style=\"text-align: right;\">\n",
       "      <th></th>\n",
       "      <th>PRED</th>\n",
       "    </tr>\n",
       "  </thead>\n",
       "  <tbody>\n",
       "    <tr>\n",
       "      <th>2020-03-31</th>\n",
       "      <td>9513.0</td>\n",
       "    </tr>\n",
       "    <tr>\n",
       "      <th>2020-04-01</th>\n",
       "      <td>7593.0</td>\n",
       "    </tr>\n",
       "    <tr>\n",
       "      <th>2020-04-02</th>\n",
       "      <td>7061.0</td>\n",
       "    </tr>\n",
       "    <tr>\n",
       "      <th>2020-04-03</th>\n",
       "      <td>6340.0</td>\n",
       "    </tr>\n",
       "    <tr>\n",
       "      <th>2020-04-04</th>\n",
       "      <td>5442.0</td>\n",
       "    </tr>\n",
       "  </tbody>\n",
       "</table>\n",
       "</div>"
      ],
      "text/plain": [
       "              PRED\n",
       "2020-03-31  9513.0\n",
       "2020-04-01  7593.0\n",
       "2020-04-02  7061.0\n",
       "2020-04-03  6340.0\n",
       "2020-04-04  5442.0"
      ]
     },
     "execution_count": 148,
     "metadata": {},
     "output_type": "execute_result"
    }
   ],
   "source": [
    "arr_contagios_pred.diff().fillna(arr_contagios_pred.iloc[0, 0] - df_contagios_pred.loc[df_contagios_pred.index[-1], 'CONTAGIOS'])"
   ]
  },
  {
   "cell_type": "markdown",
   "metadata": {},
   "source": [
    "Podemos ver que tenemos un primer dato de contagios diarios muy poco creíble.\n",
    "\n",
    "Resulta muy sospechoso que tengamos un valor de contagios de 9500 para el día 31 de marzo, cuando los días anterior y posterior presentarían valores en el orden de los 6000-7000.\n",
    "\n",
    "El problema es que el ajuste polinómico nos devuelve un valor ya algo desviado respecto al real actual, como podemos observar a continuación:"
   ]
  },
  {
   "cell_type": "code",
   "execution_count": 149,
   "metadata": {},
   "outputs": [
    {
     "data": {
      "text/plain": [
       "1577.0"
      ]
     },
     "execution_count": 149,
     "metadata": {},
     "output_type": "execute_result"
    }
   ],
   "source": [
    "arr_contagios_temp = prediccion(day_num_of_reference, date_of_reference, coefs, entre = (0,6))\n",
    "desfase = arr_contagios_temp.iloc[0,0] - df_contagios_pred.iloc[-1,0]\n",
    "desfase"
   ]
  },
  {
   "cell_type": "markdown",
   "metadata": {},
   "source": [
    "Una forma de mejorar nuestras predicciones es corregir este desfase de nuestros resultados (puesto que es un desfase que arrastra el método pero que sabemos que ya no es real):"
   ]
  },
  {
   "cell_type": "code",
   "execution_count": 150,
   "metadata": {},
   "outputs": [],
   "source": [
    "arr_contagios_pred = arr_contagios_pred - desfase"
   ]
  },
  {
   "cell_type": "code",
   "execution_count": 151,
   "metadata": {},
   "outputs": [
    {
     "data": {
      "text/html": [
       "<div>\n",
       "<style scoped>\n",
       "    .dataframe tbody tr th:only-of-type {\n",
       "        vertical-align: middle;\n",
       "    }\n",
       "\n",
       "    .dataframe tbody tr th {\n",
       "        vertical-align: top;\n",
       "    }\n",
       "\n",
       "    .dataframe thead th {\n",
       "        text-align: right;\n",
       "    }\n",
       "</style>\n",
       "<table border=\"1\" class=\"dataframe\">\n",
       "  <thead>\n",
       "    <tr style=\"text-align: right;\">\n",
       "      <th></th>\n",
       "      <th>PRED</th>\n",
       "    </tr>\n",
       "  </thead>\n",
       "  <tbody>\n",
       "    <tr>\n",
       "      <th>2020-03-31</th>\n",
       "      <td>93131.0</td>\n",
       "    </tr>\n",
       "    <tr>\n",
       "      <th>2020-04-01</th>\n",
       "      <td>100724.0</td>\n",
       "    </tr>\n",
       "    <tr>\n",
       "      <th>2020-04-02</th>\n",
       "      <td>107785.0</td>\n",
       "    </tr>\n",
       "    <tr>\n",
       "      <th>2020-04-03</th>\n",
       "      <td>114125.0</td>\n",
       "    </tr>\n",
       "    <tr>\n",
       "      <th>2020-04-04</th>\n",
       "      <td>119567.0</td>\n",
       "    </tr>\n",
       "  </tbody>\n",
       "</table>\n",
       "</div>"
      ],
      "text/plain": [
       "                PRED\n",
       "2020-03-31   93131.0\n",
       "2020-04-01  100724.0\n",
       "2020-04-02  107785.0\n",
       "2020-04-03  114125.0\n",
       "2020-04-04  119567.0"
      ]
     },
     "execution_count": 151,
     "metadata": {},
     "output_type": "execute_result"
    }
   ],
   "source": [
    "arr_contagios_pred"
   ]
  },
  {
   "cell_type": "markdown",
   "metadata": {},
   "source": [
    "Y ahora ya sí:"
   ]
  },
  {
   "cell_type": "code",
   "execution_count": 152,
   "metadata": {},
   "outputs": [
    {
     "data": {
      "text/html": [
       "<div>\n",
       "<style scoped>\n",
       "    .dataframe tbody tr th:only-of-type {\n",
       "        vertical-align: middle;\n",
       "    }\n",
       "\n",
       "    .dataframe tbody tr th {\n",
       "        vertical-align: top;\n",
       "    }\n",
       "\n",
       "    .dataframe thead th {\n",
       "        text-align: right;\n",
       "    }\n",
       "</style>\n",
       "<table border=\"1\" class=\"dataframe\">\n",
       "  <thead>\n",
       "    <tr style=\"text-align: right;\">\n",
       "      <th></th>\n",
       "      <th>PRED</th>\n",
       "    </tr>\n",
       "  </thead>\n",
       "  <tbody>\n",
       "    <tr>\n",
       "      <th>2020-03-31</th>\n",
       "      <td>7936.0</td>\n",
       "    </tr>\n",
       "    <tr>\n",
       "      <th>2020-04-01</th>\n",
       "      <td>7593.0</td>\n",
       "    </tr>\n",
       "    <tr>\n",
       "      <th>2020-04-02</th>\n",
       "      <td>7061.0</td>\n",
       "    </tr>\n",
       "    <tr>\n",
       "      <th>2020-04-03</th>\n",
       "      <td>6340.0</td>\n",
       "    </tr>\n",
       "    <tr>\n",
       "      <th>2020-04-04</th>\n",
       "      <td>5442.0</td>\n",
       "    </tr>\n",
       "  </tbody>\n",
       "</table>\n",
       "</div>"
      ],
      "text/plain": [
       "              PRED\n",
       "2020-03-31  7936.0\n",
       "2020-04-01  7593.0\n",
       "2020-04-02  7061.0\n",
       "2020-04-03  6340.0\n",
       "2020-04-04  5442.0"
      ]
     },
     "execution_count": 152,
     "metadata": {},
     "output_type": "execute_result"
    }
   ],
   "source": [
    "arr_contagios_pred.diff().fillna(arr_contagios_pred.iloc[0, 0] - df_contagios_pred.loc[df_contagios_pred.index[-1], 'CONTAGIOS'])"
   ]
  },
  {
   "cell_type": "markdown",
   "metadata": {},
   "source": [
    "Vamos por lo tanto a aplicar el mismo método a la serie de contagios diarios, y luego hacer su suma agregada para obtener los valores totales:"
   ]
  },
  {
   "cell_type": "code",
   "execution_count": 28,
   "metadata": {},
   "outputs": [
    {
     "name": "stdout",
     "output_type": "stream",
     "text": [
      "           PRED     SERIE\n",
      "PRED   1.000000  0.989484\n",
      "SERIE  0.989484  1.000000\n"
     ]
    },
    {
     "data": {
      "text/html": [
       "<div>\n",
       "<style scoped>\n",
       "    .dataframe tbody tr th:only-of-type {\n",
       "        vertical-align: middle;\n",
       "    }\n",
       "\n",
       "    .dataframe tbody tr th {\n",
       "        vertical-align: top;\n",
       "    }\n",
       "\n",
       "    .dataframe thead th {\n",
       "        text-align: right;\n",
       "    }\n",
       "</style>\n",
       "<table border=\"1\" class=\"dataframe\">\n",
       "  <thead>\n",
       "    <tr style=\"text-align: right;\">\n",
       "      <th></th>\n",
       "      <th>PRED</th>\n",
       "    </tr>\n",
       "  </thead>\n",
       "  <tbody>\n",
       "    <tr>\n",
       "      <th>2020-03-31</th>\n",
       "      <td>6813.0</td>\n",
       "    </tr>\n",
       "    <tr>\n",
       "      <th>2020-04-01</th>\n",
       "      <td>6286.0</td>\n",
       "    </tr>\n",
       "    <tr>\n",
       "      <th>2020-04-02</th>\n",
       "      <td>5680.0</td>\n",
       "    </tr>\n",
       "    <tr>\n",
       "      <th>2020-04-03</th>\n",
       "      <td>5025.0</td>\n",
       "    </tr>\n",
       "    <tr>\n",
       "      <th>2020-04-04</th>\n",
       "      <td>4354.0</td>\n",
       "    </tr>\n",
       "  </tbody>\n",
       "</table>\n",
       "</div>"
      ],
      "text/plain": [
       "              PRED\n",
       "2020-03-31  6813.0\n",
       "2020-04-01  6286.0\n",
       "2020-04-02  5680.0\n",
       "2020-04-03  5025.0\n",
       "2020-04-04  4354.0"
      ]
     },
     "execution_count": 28,
     "metadata": {},
     "output_type": "execute_result"
    },
    {
     "data": {
      "image/png": "[encoded data removed]",
      "text/plain": [
       "<Figure size 1296x360 with 1 Axes>"
      ]
     },
     "metadata": {
      "needs_background": "light"
     },
     "output_type": "display_data"
    }
   ],
   "source": [
    "new_contagios_prediction_2, coefs = ajuste_min_cuadrados(df_contagios_pred['FECHA'], \n",
    "                                                       df_contagios_pred['LN_DIFER'], \n",
    "                                                       'PRED_CONT_DIARIOS')\n",
    "\n",
    "df_contagios_pred['PRED_CONT_DIARIOS'] = new_contagios_prediction_2['PRED_CONT_DIARIOS']\n",
    "df_contagios_pred['ERROR_DIFER_ABS'] = abs(df_contagios_pred['PRED_CONT_DIARIOS'] - df_contagios_pred['DIFER'])\n",
    "df_contagios_pred['ERROR_DIFER_REL'] = (abs(df_contagios_pred['PRED_CONT_DIARIOS'] - df_contagios_pred['DIFER'])/df_contagios_pred['DIFER']).fillna(0)\n",
    "\n",
    "arr_contagios_diarios_pred = prediccion(day_num_of_reference, date_of_reference, coefs)\n",
    "arr_contagios_diarios_pred"
   ]
  },
  {
   "cell_type": "code",
   "execution_count": 30,
   "metadata": {},
   "outputs": [
    {
     "data": {
      "text/plain": [
       "0.03358470585450067"
      ]
     },
     "execution_count": 30,
     "metadata": {},
     "output_type": "execute_result"
    }
   ],
   "source": [
    "df_contagios_pred.loc[pd.to_datetime('2020-03-15'):,'ERROR_REL'].mean()"
   ]
  },
  {
   "cell_type": "code",
   "execution_count": 46,
   "metadata": {},
   "outputs": [
    {
     "data": {
      "text/html": [
       "<div>\n",
       "<style scoped>\n",
       "    .dataframe tbody tr th:only-of-type {\n",
       "        vertical-align: middle;\n",
       "    }\n",
       "\n",
       "    .dataframe tbody tr th {\n",
       "        vertical-align: top;\n",
       "    }\n",
       "\n",
       "    .dataframe thead th {\n",
       "        text-align: right;\n",
       "    }\n",
       "</style>\n",
       "<table border=\"1\" class=\"dataframe\">\n",
       "  <thead>\n",
       "    <tr style=\"text-align: right;\">\n",
       "      <th></th>\n",
       "      <th>PRED</th>\n",
       "    </tr>\n",
       "  </thead>\n",
       "  <tbody>\n",
       "    <tr>\n",
       "      <th>2020-03-31</th>\n",
       "      <td>92008.0</td>\n",
       "    </tr>\n",
       "    <tr>\n",
       "      <th>2020-04-01</th>\n",
       "      <td>98294.0</td>\n",
       "    </tr>\n",
       "    <tr>\n",
       "      <th>2020-04-02</th>\n",
       "      <td>103974.0</td>\n",
       "    </tr>\n",
       "    <tr>\n",
       "      <th>2020-04-03</th>\n",
       "      <td>108999.0</td>\n",
       "    </tr>\n",
       "    <tr>\n",
       "      <th>2020-04-04</th>\n",
       "      <td>113353.0</td>\n",
       "    </tr>\n",
       "  </tbody>\n",
       "</table>\n",
       "</div>"
      ],
      "text/plain": [
       "                PRED\n",
       "2020-03-31   92008.0\n",
       "2020-04-01   98294.0\n",
       "2020-04-02  103974.0\n",
       "2020-04-03  108999.0\n",
       "2020-04-04  113353.0"
      ]
     },
     "execution_count": 46,
     "metadata": {},
     "output_type": "execute_result"
    }
   ],
   "source": [
    "arr_contagios_pred_2 = arr_contagios_diarios_pred.cumsum() + df_contagios_pred.loc[df_contagios_pred.index[-1],'CONTAGIOS']\n",
    "arr_contagios_pred_2"
   ]
  },
  {
   "cell_type": "code",
   "execution_count": null,
   "metadata": {},
   "outputs": [],
   "source": []
  },
  {
   "cell_type": "markdown",
   "metadata": {},
   "source": [
    "## 2. MUERTOS"
   ]
  },
  {
   "cell_type": "markdown",
   "metadata": {},
   "source": [
    "Pasamos ahora a comprobar los de los muertos. Representamos a continuación la curva del total acumulado de muertos en España:"
   ]
  },
  {
   "cell_type": "code",
   "execution_count": null,
   "metadata": {},
   "outputs": [],
   "source": [
    "plt.figure(figsize=(15,5))\n",
    "plt.plot(muertos['MUERTOS'], '-', color='orange');"
   ]
  },
  {
   "cell_type": "markdown",
   "metadata": {},
   "source": [
    "A continuación, la evolución del ratio de muertos a infectados:"
   ]
  },
  {
   "cell_type": "code",
   "execution_count": null,
   "metadata": {
    "scrolled": true
   },
   "outputs": [],
   "source": [
    "datos['ratio'] = datos['MUERTOS']/datos['CONTAGIOS']\n",
    "datos['ratio'].plot(figsize=(15,5));"
   ]
  },
  {
   "cell_type": "markdown",
   "metadata": {},
   "source": [
    "Y el ratio de muertes provocadas por la enfermedad cada día:"
   ]
  },
  {
   "cell_type": "code",
   "execution_count": null,
   "metadata": {},
   "outputs": [],
   "source": [
    "muertos['MUERTOS_DIARIOS'] = muertos['MUERTOS'].diff().fillna(0)/muertos['DIFER_DIAS']\n",
    "muertos['MUERTOS_DIARIOS'].plot(figsize = (15,5))"
   ]
  },
  {
   "cell_type": "markdown",
   "metadata": {},
   "source": [
    "Y, como en el caso de los contagios, la forma que presenta el logaritmo de las muertes acumuladas por la enfermedad, día tras día:"
   ]
  },
  {
   "cell_type": "code",
   "execution_count": null,
   "metadata": {
    "scrolled": true
   },
   "outputs": [],
   "source": [
    "muertos['LN_MUERTOS'] = muertos['MUERTOS'].apply(lambda x: 0 if x == 0 else np.log(x))\n",
    "muertos[muertos['LN_MUERTOS'] != 0]['LN_MUERTOS'].plot(figsize=(15,5));"
   ]
  },
  {
   "cell_type": "markdown",
   "metadata": {},
   "source": [
    "Y pasamos ya al modelo:"
   ]
  },
  {
   "cell_type": "code",
   "execution_count": null,
   "metadata": {},
   "outputs": [],
   "source": [
    "date_list = [muertos.index[-1] + datetime.timedelta(days=x+1) for x in range(10)]"
   ]
  },
  {
   "cell_type": "code",
   "execution_count": null,
   "metadata": {},
   "outputs": [],
   "source": [
    "df_muertos_pred = muertos.loc[muertos['MUERTOS'] != 0, ['MUERTOS', 'DIFER_DIAS', 'LN_MUERTOS']].copy()\n",
    "\n",
    "df_muertos_pred = cols_para_calculos(df_muertos_pred)\n",
    "\n",
    "other_prediction, coefs = ajuste_min_cuadrados(df_muertos_pred['FECHA'], df_muertos_pred['LN_MUERTOS'], 'PRED_MUERTES')"
   ]
  },
  {
   "cell_type": "markdown",
   "metadata": {},
   "source": [
    "Ahora que ya tenemos las predicciones, deshacemos:"
   ]
  },
  {
   "cell_type": "code",
   "execution_count": null,
   "metadata": {},
   "outputs": [],
   "source": [
    "other_prediction['FECHA'] = muertos[muertos['MUERTOS'] != 0].index\n",
    "other_prediction.set_index('FECHA', inplace = True)"
   ]
  },
  {
   "cell_type": "markdown",
   "metadata": {},
   "source": [
    "Y, finalmente, tendremos ya el método ajustado y podemos insertarlo en nuestro DataFrame y calcular errores:"
   ]
  },
  {
   "cell_type": "code",
   "execution_count": null,
   "metadata": {},
   "outputs": [],
   "source": [
    "muertos['PRED'] = other_prediction['PRED_MUERTES']\n",
    "muertos['PRED'].fillna(0, inplace = True)\n",
    "muertos['ERROR_ABS'] = abs(muertos['PRED'] - muertos['MUERTOS'])\n",
    "muertos['ERROR_REL'] = (abs(muertos['PRED'] - muertos['MUERTOS'])/muertos['MUERTOS']).fillna(0)\n",
    "muertos.tail(10)"
   ]
  },
  {
   "cell_type": "markdown",
   "metadata": {},
   "source": [
    "Como podemos ver, en este caso el ajuste es muy bueno. Vamos a extrapolar hacia el futuro, para predecir el total de muertos a lo largo de los próximos 5 días:"
   ]
  },
  {
   "cell_type": "code",
   "execution_count": null,
   "metadata": {},
   "outputs": [],
   "source": [
    "day_num_of_reference = df_muertos_pred['FECHA'][-1]\n",
    "date_of_reference = muertos[muertos['MUERTOS'] != 0].index[0]\n",
    "\n",
    "arr_muertos_pred = prediccion(day_num_of_reference, date_of_reference, coefs)\n",
    "arr_muertos_pred"
   ]
  },
  {
   "cell_type": "markdown",
   "metadata": {},
   "source": [
    "Y, una vez teniendo ya la predicción de los muertos totales, podemos añadir al DataFrame y calcular también la diferencia diaria:\n",
    "\n",
    "Resaltar que, para el primer valor predicho de muertos diarios, el número puede estar ligeramente sobreestimado por la diferencia de 65 personas existente entre la predicción y el número real de muertos para la fecha del día de hoy (22/03/2020).\n",
    "\n",
    "El resto de valores sí deberían estar en la línea del comportamiento futuro.\n",
    "\n",
    "Como se puede ver, la evolución es ciertamente preocupante:"
   ]
  },
  {
   "cell_type": "code",
   "execution_count": null,
   "metadata": {},
   "outputs": [],
   "source": [
    "muertos = muertos.append(arr_muertos_pred, sort = False)\n",
    "muertos.loc[muertos['MUERTOS_DIARIOS'].isna(), 'MUERTOS_DIARIOS'] = muertos.loc[muertos['MUERTOS_DIARIOS'].isna(), 'PRED'].diff()\n",
    "missing_date = muertos[muertos['MUERTOS_DIARIOS'].isna()].index\n",
    "muertos.loc[muertos['MUERTOS_DIARIOS'].isna(), 'MUERTOS_DIARIOS'] = muertos.loc[missing_date, 'PRED'] - muertos['MUERTOS'].shift(1)[missing_date]\n",
    "muertos.tail(10)"
   ]
  },
  {
   "cell_type": "markdown",
   "metadata": {},
   "source": [
    "Finalmente, dejamos el error relativo medio:"
   ]
  },
  {
   "cell_type": "code",
   "execution_count": null,
   "metadata": {},
   "outputs": [],
   "source": [
    "muertos.loc[date_of_reference + datetime.timedelta(int(day_num_of_reference-10)):, 'ERROR_REL'].mean()"
   ]
  },
  {
   "cell_type": "markdown",
   "metadata": {},
   "source": [
    "Como podemos ver, el error relativo cometido en el ajuste en los últimos 10 días con datos es del 1,5%, lo que es un valor aceptable para una primera estimación y da bastante confianza para nuestras estimaciones."
   ]
  },
  {
   "cell_type": "markdown",
   "metadata": {},
   "source": [
    "## 3. PREDICCIONES<a id='a1'></a>"
   ]
  },
  {
   "cell_type": "markdown",
   "metadata": {},
   "source": [
    "Presentamos finalmente las predicciones, de seguir presentando la expansión del virus el comportamiento actual:"
   ]
  },
  {
   "cell_type": "markdown",
   "metadata": {},
   "source": [
    "**CONTAGIOS (total contagiados)**"
   ]
  },
  {
   "cell_type": "code",
   "execution_count": null,
   "metadata": {
    "scrolled": false
   },
   "outputs": [],
   "source": [
    "arr_contagios_pred"
   ]
  },
  {
   "cell_type": "markdown",
   "metadata": {},
   "source": [
    "**MUERTOS (total muertos)**"
   ]
  },
  {
   "cell_type": "code",
   "execution_count": null,
   "metadata": {
    "scrolled": true
   },
   "outputs": [],
   "source": [
    "arr_muertos_pred"
   ]
  }
 ],
 "metadata": {
  "kernelspec": {
   "display_name": "Python 3",
   "language": "python",
   "name": "python3"
  },
  "language_info": {
   "codemirror_mode": {
    "name": "ipython",
    "version": 3
   },
   "file_extension": ".py",
   "mimetype": "text/x-python",
   "name": "python",
   "nbconvert_exporter": "python",
   "pygments_lexer": "ipython3",
   "version": "3.7.3"
  }
 },
 "nbformat": 4,
 "nbformat_minor": 2
}
